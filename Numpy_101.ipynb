{
  "nbformat": 4,
  "nbformat_minor": 0,
  "metadata": {
    "colab": {
      "provenance": []
    },
    "kernelspec": {
      "name": "python3",
      "display_name": "Python 3"
    },
    "language_info": {
      "name": "python"
    }
  },
  "cells": [
    {
      "cell_type": "code",
      "execution_count": 53,
      "metadata": {
        "id": "vU25A-FZfGyN"
      },
      "outputs": [],
      "source": [
        "import numpy as np\n",
        "import pandas as pd"
      ]
    },
    {
      "cell_type": "code",
      "source": [
        "#create arraty\n",
        "arr = np.array([1,2,3])\n",
        "arr"
      ],
      "metadata": {
        "colab": {
          "base_uri": "https://localhost:8080/"
        },
        "id": "cSewOmiEfWDw",
        "outputId": "b0034c38-d8bd-435d-9120-0e9455d4eb91"
      },
      "execution_count": 54,
      "outputs": [
        {
          "output_type": "execute_result",
          "data": {
            "text/plain": [
              "array([1, 2, 3])"
            ]
          },
          "metadata": {},
          "execution_count": 54
        }
      ]
    },
    {
      "cell_type": "code",
      "source": [
        "arr[0]"
      ],
      "metadata": {
        "colab": {
          "base_uri": "https://localhost:8080/"
        },
        "id": "U9rdnq6VfdOx",
        "outputId": "da4516af-081e-42c4-8b7a-18bb81e4451d"
      },
      "execution_count": 55,
      "outputs": [
        {
          "output_type": "execute_result",
          "data": {
            "text/plain": [
              "1"
            ]
          },
          "metadata": {},
          "execution_count": 55
        }
      ]
    },
    {
      "cell_type": "code",
      "source": [
        "#2d array\n",
        "n = np.array([[1,2,3],[4,5,6]])\n",
        "print(n)"
      ],
      "metadata": {
        "colab": {
          "base_uri": "https://localhost:8080/"
        },
        "id": "5CGX5hy2flbb",
        "outputId": "76ffade9-954a-4e06-ca35-a855a0eca95f"
      },
      "execution_count": 56,
      "outputs": [
        {
          "output_type": "stream",
          "name": "stdout",
          "text": [
            "[[1 2 3]\n",
            " [4 5 6]]\n"
          ]
        }
      ]
    },
    {
      "cell_type": "markdown",
      "source": [
        "#**Array Dtype**"
      ],
      "metadata": {
        "id": "h386sbVLf7WD"
      }
    },
    {
      "cell_type": "code",
      "source": [
        "arr.dtype"
      ],
      "metadata": {
        "colab": {
          "base_uri": "https://localhost:8080/"
        },
        "id": "Fp2H-axNf6a7",
        "outputId": "8933be26-d629-4877-9a0d-e4c9c00bbe8b"
      },
      "execution_count": 57,
      "outputs": [
        {
          "output_type": "execute_result",
          "data": {
            "text/plain": [
              "dtype('int64')"
            ]
          },
          "metadata": {},
          "execution_count": 57
        }
      ]
    },
    {
      "cell_type": "code",
      "source": [
        "arr1 = np.array([\"stevany\", \"dinda\", \"gressce\"])\n",
        "arr1.dtype"
      ],
      "metadata": {
        "colab": {
          "base_uri": "https://localhost:8080/"
        },
        "id": "LD_ytluEg6Sa",
        "outputId": "4d0e65ec-8573-44e1-e324-416e01d171fa"
      },
      "execution_count": 58,
      "outputs": [
        {
          "output_type": "execute_result",
          "data": {
            "text/plain": [
              "dtype('<U7')"
            ]
          },
          "metadata": {},
          "execution_count": 58
        }
      ]
    },
    {
      "cell_type": "markdown",
      "source": [
        "Explicitly adding datatype"
      ],
      "metadata": {
        "id": "DpKsGlZLhXgf"
      }
    },
    {
      "cell_type": "code",
      "source": [
        "arr2 = np.array([\"stevany\", \"dinda\", \"gressce\"], dtype = 'S')\n",
        "arr2.dtype"
      ],
      "metadata": {
        "colab": {
          "base_uri": "https://localhost:8080/"
        },
        "id": "jI4dFrI9hM3x",
        "outputId": "f96082e7-4b60-435f-bc14-a5e42a544d14"
      },
      "execution_count": 59,
      "outputs": [
        {
          "output_type": "execute_result",
          "data": {
            "text/plain": [
              "dtype('S7')"
            ]
          },
          "metadata": {},
          "execution_count": 59
        }
      ]
    },
    {
      "cell_type": "markdown",
      "source": [
        "#**Array Converting**"
      ],
      "metadata": {
        "id": "5UH5e1Zg1yam"
      }
    },
    {
      "cell_type": "markdown",
      "source": [
        "list -> ndarray"
      ],
      "metadata": {
        "id": "ahqW9eJa16aQ"
      }
    },
    {
      "cell_type": "code",
      "source": [
        "x = [1, 2, 3, 4, 5]\n",
        "print(type(x))\n",
        "x = np.asarray(x)\n",
        "print(x.dtype)\n",
        "print(x)"
      ],
      "metadata": {
        "colab": {
          "base_uri": "https://localhost:8080/"
        },
        "id": "rGXPsErv19P_",
        "outputId": "8f784dff-aaf3-4f80-a1a6-5ba9d2f49b8c"
      },
      "execution_count": 60,
      "outputs": [
        {
          "output_type": "stream",
          "name": "stdout",
          "text": [
            "<class 'list'>\n",
            "int64\n",
            "[1 2 3 4 5]\n"
          ]
        }
      ]
    },
    {
      "cell_type": "code",
      "source": [
        "import numpy as np\n",
        "x = [1, 2, 3, 4, 5]\n",
        "print(type(x))\n",
        "x = np.asarray(x, dtype ='f')\n",
        "print(x.dtype)\n",
        "print(x)"
      ],
      "metadata": {
        "colab": {
          "base_uri": "https://localhost:8080/"
        },
        "id": "rlJQIzy32a9F",
        "outputId": "27cedb58-7530-40e6-f6a2-292c89b63394"
      },
      "execution_count": 61,
      "outputs": [
        {
          "output_type": "stream",
          "name": "stdout",
          "text": [
            "<class 'list'>\n",
            "float32\n",
            "[1. 2. 3. 4. 5.]\n"
          ]
        }
      ]
    },
    {
      "cell_type": "markdown",
      "source": [
        "#**Task #1**"
      ],
      "metadata": {
        "id": "954lbmWU3_3c"
      }
    },
    {
      "cell_type": "code",
      "source": [
        "A = (1, 2, 3, 4, 5)\n",
        "B = (6, 7, 8, 9, 10)\n",
        "C = [A + B]\n",
        "C = np.asarray(C)\n",
        "C"
      ],
      "metadata": {
        "colab": {
          "base_uri": "https://localhost:8080/"
        },
        "id": "mnA_oH5H4FI-",
        "outputId": "99153f5b-e0a3-4687-e70d-cb033a292e2b"
      },
      "execution_count": 62,
      "outputs": [
        {
          "output_type": "execute_result",
          "data": {
            "text/plain": [
              "array([[ 1,  2,  3,  4,  5,  6,  7,  8,  9, 10]])"
            ]
          },
          "metadata": {},
          "execution_count": 62
        }
      ]
    },
    {
      "cell_type": "markdown",
      "source": [
        "Create range using numpy function\n",
        "\n",
        "numpy.arrange(start, stop, step, dtype)"
      ],
      "metadata": {
        "id": "DAclg0Im5Vl3"
      }
    },
    {
      "cell_type": "code",
      "source": [
        "X = np.arange(1, 5, 1, dtype='i')\n",
        "X"
      ],
      "metadata": {
        "colab": {
          "base_uri": "https://localhost:8080/"
        },
        "id": "zNEYlJPr5fvi",
        "outputId": "9e55e5ea-1699-4f3c-abdd-e33f6b876b27"
      },
      "execution_count": 63,
      "outputs": [
        {
          "output_type": "execute_result",
          "data": {
            "text/plain": [
              "array([1, 2, 3, 4], dtype=int32)"
            ]
          },
          "metadata": {},
          "execution_count": 63
        }
      ]
    },
    {
      "cell_type": "code",
      "source": [
        "pd.DataFrame({'X': X})"
      ],
      "metadata": {
        "colab": {
          "base_uri": "https://localhost:8080/",
          "height": 175
        },
        "id": "oOon4F7z14ZD",
        "outputId": "612d17dd-f7b2-464f-ca7a-13d2ecfc40a6"
      },
      "execution_count": 64,
      "outputs": [
        {
          "output_type": "execute_result",
          "data": {
            "text/plain": [
              "   X\n",
              "0  1\n",
              "1  2\n",
              "2  3\n",
              "3  4"
            ],
            "text/html": [
              "\n",
              "  <div id=\"df-259abc8a-2439-4be0-8c58-af82aad23d9e\" class=\"colab-df-container\">\n",
              "    <div>\n",
              "<style scoped>\n",
              "    .dataframe tbody tr th:only-of-type {\n",
              "        vertical-align: middle;\n",
              "    }\n",
              "\n",
              "    .dataframe tbody tr th {\n",
              "        vertical-align: top;\n",
              "    }\n",
              "\n",
              "    .dataframe thead th {\n",
              "        text-align: right;\n",
              "    }\n",
              "</style>\n",
              "<table border=\"1\" class=\"dataframe\">\n",
              "  <thead>\n",
              "    <tr style=\"text-align: right;\">\n",
              "      <th></th>\n",
              "      <th>X</th>\n",
              "    </tr>\n",
              "  </thead>\n",
              "  <tbody>\n",
              "    <tr>\n",
              "      <th>0</th>\n",
              "      <td>1</td>\n",
              "    </tr>\n",
              "    <tr>\n",
              "      <th>1</th>\n",
              "      <td>2</td>\n",
              "    </tr>\n",
              "    <tr>\n",
              "      <th>2</th>\n",
              "      <td>3</td>\n",
              "    </tr>\n",
              "    <tr>\n",
              "      <th>3</th>\n",
              "      <td>4</td>\n",
              "    </tr>\n",
              "  </tbody>\n",
              "</table>\n",
              "</div>\n",
              "    <div class=\"colab-df-buttons\">\n",
              "\n",
              "  <div class=\"colab-df-container\">\n",
              "    <button class=\"colab-df-convert\" onclick=\"convertToInteractive('df-259abc8a-2439-4be0-8c58-af82aad23d9e')\"\n",
              "            title=\"Convert this dataframe to an interactive table.\"\n",
              "            style=\"display:none;\">\n",
              "\n",
              "  <svg xmlns=\"http://www.w3.org/2000/svg\" height=\"24px\" viewBox=\"0 -960 960 960\">\n",
              "    <path d=\"M120-120v-720h720v720H120Zm60-500h600v-160H180v160Zm220 220h160v-160H400v160Zm0 220h160v-160H400v160ZM180-400h160v-160H180v160Zm440 0h160v-160H620v160ZM180-180h160v-160H180v160Zm440 0h160v-160H620v160Z\"/>\n",
              "  </svg>\n",
              "    </button>\n",
              "\n",
              "  <style>\n",
              "    .colab-df-container {\n",
              "      display:flex;\n",
              "      gap: 12px;\n",
              "    }\n",
              "\n",
              "    .colab-df-convert {\n",
              "      background-color: #E8F0FE;\n",
              "      border: none;\n",
              "      border-radius: 50%;\n",
              "      cursor: pointer;\n",
              "      display: none;\n",
              "      fill: #1967D2;\n",
              "      height: 32px;\n",
              "      padding: 0 0 0 0;\n",
              "      width: 32px;\n",
              "    }\n",
              "\n",
              "    .colab-df-convert:hover {\n",
              "      background-color: #E2EBFA;\n",
              "      box-shadow: 0px 1px 2px rgba(60, 64, 67, 0.3), 0px 1px 3px 1px rgba(60, 64, 67, 0.15);\n",
              "      fill: #174EA6;\n",
              "    }\n",
              "\n",
              "    .colab-df-buttons div {\n",
              "      margin-bottom: 4px;\n",
              "    }\n",
              "\n",
              "    [theme=dark] .colab-df-convert {\n",
              "      background-color: #3B4455;\n",
              "      fill: #D2E3FC;\n",
              "    }\n",
              "\n",
              "    [theme=dark] .colab-df-convert:hover {\n",
              "      background-color: #434B5C;\n",
              "      box-shadow: 0px 1px 3px 1px rgba(0, 0, 0, 0.15);\n",
              "      filter: drop-shadow(0px 1px 2px rgba(0, 0, 0, 0.3));\n",
              "      fill: #FFFFFF;\n",
              "    }\n",
              "  </style>\n",
              "\n",
              "    <script>\n",
              "      const buttonEl =\n",
              "        document.querySelector('#df-259abc8a-2439-4be0-8c58-af82aad23d9e button.colab-df-convert');\n",
              "      buttonEl.style.display =\n",
              "        google.colab.kernel.accessAllowed ? 'block' : 'none';\n",
              "\n",
              "      async function convertToInteractive(key) {\n",
              "        const element = document.querySelector('#df-259abc8a-2439-4be0-8c58-af82aad23d9e');\n",
              "        const dataTable =\n",
              "          await google.colab.kernel.invokeFunction('convertToInteractive',\n",
              "                                                    [key], {});\n",
              "        if (!dataTable) return;\n",
              "\n",
              "        const docLinkHtml = 'Like what you see? Visit the ' +\n",
              "          '<a target=\"_blank\" href=https://colab.research.google.com/notebooks/data_table.ipynb>data table notebook</a>'\n",
              "          + ' to learn more about interactive tables.';\n",
              "        element.innerHTML = '';\n",
              "        dataTable['output_type'] = 'display_data';\n",
              "        await google.colab.output.renderOutput(dataTable, element);\n",
              "        const docLink = document.createElement('div');\n",
              "        docLink.innerHTML = docLinkHtml;\n",
              "        element.appendChild(docLink);\n",
              "      }\n",
              "    </script>\n",
              "  </div>\n",
              "\n",
              "\n",
              "<div id=\"df-2a94b8e2-b2be-4a9d-954b-0ec0a62aa69b\">\n",
              "  <button class=\"colab-df-quickchart\" onclick=\"quickchart('df-2a94b8e2-b2be-4a9d-954b-0ec0a62aa69b')\"\n",
              "            title=\"Suggest charts\"\n",
              "            style=\"display:none;\">\n",
              "\n",
              "<svg xmlns=\"http://www.w3.org/2000/svg\" height=\"24px\"viewBox=\"0 0 24 24\"\n",
              "     width=\"24px\">\n",
              "    <g>\n",
              "        <path d=\"M19 3H5c-1.1 0-2 .9-2 2v14c0 1.1.9 2 2 2h14c1.1 0 2-.9 2-2V5c0-1.1-.9-2-2-2zM9 17H7v-7h2v7zm4 0h-2V7h2v10zm4 0h-2v-4h2v4z\"/>\n",
              "    </g>\n",
              "</svg>\n",
              "  </button>\n",
              "\n",
              "<style>\n",
              "  .colab-df-quickchart {\n",
              "      --bg-color: #E8F0FE;\n",
              "      --fill-color: #1967D2;\n",
              "      --hover-bg-color: #E2EBFA;\n",
              "      --hover-fill-color: #174EA6;\n",
              "      --disabled-fill-color: #AAA;\n",
              "      --disabled-bg-color: #DDD;\n",
              "  }\n",
              "\n",
              "  [theme=dark] .colab-df-quickchart {\n",
              "      --bg-color: #3B4455;\n",
              "      --fill-color: #D2E3FC;\n",
              "      --hover-bg-color: #434B5C;\n",
              "      --hover-fill-color: #FFFFFF;\n",
              "      --disabled-bg-color: #3B4455;\n",
              "      --disabled-fill-color: #666;\n",
              "  }\n",
              "\n",
              "  .colab-df-quickchart {\n",
              "    background-color: var(--bg-color);\n",
              "    border: none;\n",
              "    border-radius: 50%;\n",
              "    cursor: pointer;\n",
              "    display: none;\n",
              "    fill: var(--fill-color);\n",
              "    height: 32px;\n",
              "    padding: 0;\n",
              "    width: 32px;\n",
              "  }\n",
              "\n",
              "  .colab-df-quickchart:hover {\n",
              "    background-color: var(--hover-bg-color);\n",
              "    box-shadow: 0 1px 2px rgba(60, 64, 67, 0.3), 0 1px 3px 1px rgba(60, 64, 67, 0.15);\n",
              "    fill: var(--button-hover-fill-color);\n",
              "  }\n",
              "\n",
              "  .colab-df-quickchart-complete:disabled,\n",
              "  .colab-df-quickchart-complete:disabled:hover {\n",
              "    background-color: var(--disabled-bg-color);\n",
              "    fill: var(--disabled-fill-color);\n",
              "    box-shadow: none;\n",
              "  }\n",
              "\n",
              "  .colab-df-spinner {\n",
              "    border: 2px solid var(--fill-color);\n",
              "    border-color: transparent;\n",
              "    border-bottom-color: var(--fill-color);\n",
              "    animation:\n",
              "      spin 1s steps(1) infinite;\n",
              "  }\n",
              "\n",
              "  @keyframes spin {\n",
              "    0% {\n",
              "      border-color: transparent;\n",
              "      border-bottom-color: var(--fill-color);\n",
              "      border-left-color: var(--fill-color);\n",
              "    }\n",
              "    20% {\n",
              "      border-color: transparent;\n",
              "      border-left-color: var(--fill-color);\n",
              "      border-top-color: var(--fill-color);\n",
              "    }\n",
              "    30% {\n",
              "      border-color: transparent;\n",
              "      border-left-color: var(--fill-color);\n",
              "      border-top-color: var(--fill-color);\n",
              "      border-right-color: var(--fill-color);\n",
              "    }\n",
              "    40% {\n",
              "      border-color: transparent;\n",
              "      border-right-color: var(--fill-color);\n",
              "      border-top-color: var(--fill-color);\n",
              "    }\n",
              "    60% {\n",
              "      border-color: transparent;\n",
              "      border-right-color: var(--fill-color);\n",
              "    }\n",
              "    80% {\n",
              "      border-color: transparent;\n",
              "      border-right-color: var(--fill-color);\n",
              "      border-bottom-color: var(--fill-color);\n",
              "    }\n",
              "    90% {\n",
              "      border-color: transparent;\n",
              "      border-bottom-color: var(--fill-color);\n",
              "    }\n",
              "  }\n",
              "</style>\n",
              "\n",
              "  <script>\n",
              "    async function quickchart(key) {\n",
              "      const quickchartButtonEl =\n",
              "        document.querySelector('#' + key + ' button');\n",
              "      quickchartButtonEl.disabled = true;  // To prevent multiple clicks.\n",
              "      quickchartButtonEl.classList.add('colab-df-spinner');\n",
              "      try {\n",
              "        const charts = await google.colab.kernel.invokeFunction(\n",
              "            'suggestCharts', [key], {});\n",
              "      } catch (error) {\n",
              "        console.error('Error during call to suggestCharts:', error);\n",
              "      }\n",
              "      quickchartButtonEl.classList.remove('colab-df-spinner');\n",
              "      quickchartButtonEl.classList.add('colab-df-quickchart-complete');\n",
              "    }\n",
              "    (() => {\n",
              "      let quickchartButtonEl =\n",
              "        document.querySelector('#df-2a94b8e2-b2be-4a9d-954b-0ec0a62aa69b button');\n",
              "      quickchartButtonEl.style.display =\n",
              "        google.colab.kernel.accessAllowed ? 'block' : 'none';\n",
              "    })();\n",
              "  </script>\n",
              "</div>\n",
              "\n",
              "    </div>\n",
              "  </div>\n"
            ],
            "application/vnd.google.colaboratory.intrinsic+json": {
              "type": "dataframe",
              "summary": "{\n  \"name\": \"pd\",\n  \"rows\": 4,\n  \"fields\": [\n    {\n      \"column\": \"X\",\n      \"properties\": {\n        \"dtype\": \"int32\",\n        \"num_unique_values\": 4,\n        \"samples\": [\n          2,\n          4,\n          1\n        ],\n        \"semantic_type\": \"\",\n        \"description\": \"\"\n      }\n    }\n  ]\n}"
            }
          },
          "metadata": {},
          "execution_count": 64
        }
      ]
    },
    {
      "cell_type": "markdown",
      "source": [
        "#**Operations in Array**"
      ],
      "metadata": {
        "id": "Q8f3M1576ywP"
      }
    },
    {
      "cell_type": "code",
      "source": [
        "#generating 1 array\n",
        "X = np.ones((3,4))\n",
        "X"
      ],
      "metadata": {
        "colab": {
          "base_uri": "https://localhost:8080/"
        },
        "id": "tRqCxcwx65ef",
        "outputId": "4b07810f-d7ff-43f1-9ebe-a388c06b1a2b"
      },
      "execution_count": 65,
      "outputs": [
        {
          "output_type": "execute_result",
          "data": {
            "text/plain": [
              "array([[1., 1., 1., 1.],\n",
              "       [1., 1., 1., 1.],\n",
              "       [1., 1., 1., 1.]])"
            ]
          },
          "metadata": {},
          "execution_count": 65
        }
      ]
    },
    {
      "cell_type": "code",
      "source": [
        "#generating array of 0\n",
        "x = np.zeros((5,7))\n",
        "x"
      ],
      "metadata": {
        "colab": {
          "base_uri": "https://localhost:8080/"
        },
        "id": "KOSMRdoB7KEH",
        "outputId": "d4e84540-7711-4bb0-ac19-899c142f1f78"
      },
      "execution_count": 66,
      "outputs": [
        {
          "output_type": "execute_result",
          "data": {
            "text/plain": [
              "array([[0., 0., 0., 0., 0., 0., 0.],\n",
              "       [0., 0., 0., 0., 0., 0., 0.],\n",
              "       [0., 0., 0., 0., 0., 0., 0.],\n",
              "       [0., 0., 0., 0., 0., 0., 0.],\n",
              "       [0., 0., 0., 0., 0., 0., 0.]])"
            ]
          },
          "metadata": {},
          "execution_count": 66
        }
      ]
    },
    {
      "cell_type": "code",
      "source": [
        "Y = np.full((3,4), 0.5)\n",
        "Y"
      ],
      "metadata": {
        "colab": {
          "base_uri": "https://localhost:8080/"
        },
        "id": "JaIVvwIo7XEy",
        "outputId": "cd4a9469-3eb2-4b20-b231-c9bd39f90f4c"
      },
      "execution_count": 67,
      "outputs": [
        {
          "output_type": "execute_result",
          "data": {
            "text/plain": [
              "array([[0.5, 0.5, 0.5, 0.5],\n",
              "       [0.5, 0.5, 0.5, 0.5],\n",
              "       [0.5, 0.5, 0.5, 0.5]])"
            ]
          },
          "metadata": {},
          "execution_count": 67
        }
      ]
    },
    {
      "cell_type": "code",
      "source": [
        "z = np.random.rand(5,3)\n",
        "print(z)"
      ],
      "metadata": {
        "colab": {
          "base_uri": "https://localhost:8080/"
        },
        "id": "EUXxrFLu7jEC",
        "outputId": "17be5111-e0ff-4625-d1af-41c7c5c172aa"
      },
      "execution_count": 68,
      "outputs": [
        {
          "output_type": "stream",
          "name": "stdout",
          "text": [
            "[[0.13122008 0.13143373 0.58230573]\n",
            " [0.85867262 0.86167659 0.55149367]\n",
            " [0.64171719 0.0532961  0.6750902 ]\n",
            " [0.25168579 0.55019747 0.03445977]\n",
            " [0.90231536 0.87509257 0.35557266]]\n"
          ]
        }
      ]
    },
    {
      "cell_type": "markdown",
      "source": [
        "#**Task #2**"
      ],
      "metadata": {
        "id": "Zpy3MAH67ysd"
      }
    },
    {
      "cell_type": "code",
      "source": [
        "j = np.random.rand(3,4)\n",
        "pd.DataFrame(j, columns = ['w','x', 'y', 'z'])"
      ],
      "metadata": {
        "colab": {
          "base_uri": "https://localhost:8080/",
          "height": 143
        },
        "id": "TTJaQ8m570ZC",
        "outputId": "73645994-bf4f-4123-a177-3d9a18c03710"
      },
      "execution_count": 69,
      "outputs": [
        {
          "output_type": "execute_result",
          "data": {
            "text/plain": [
              "          w         x         y         z\n",
              "0  0.642979  0.360450  0.044152  0.622703\n",
              "1  0.458665  0.968146  0.601283  0.486205\n",
              "2  0.030528  0.787812  0.293888  0.936823"
            ],
            "text/html": [
              "\n",
              "  <div id=\"df-0efc2420-77b1-4599-a38a-5af7582012bb\" class=\"colab-df-container\">\n",
              "    <div>\n",
              "<style scoped>\n",
              "    .dataframe tbody tr th:only-of-type {\n",
              "        vertical-align: middle;\n",
              "    }\n",
              "\n",
              "    .dataframe tbody tr th {\n",
              "        vertical-align: top;\n",
              "    }\n",
              "\n",
              "    .dataframe thead th {\n",
              "        text-align: right;\n",
              "    }\n",
              "</style>\n",
              "<table border=\"1\" class=\"dataframe\">\n",
              "  <thead>\n",
              "    <tr style=\"text-align: right;\">\n",
              "      <th></th>\n",
              "      <th>w</th>\n",
              "      <th>x</th>\n",
              "      <th>y</th>\n",
              "      <th>z</th>\n",
              "    </tr>\n",
              "  </thead>\n",
              "  <tbody>\n",
              "    <tr>\n",
              "      <th>0</th>\n",
              "      <td>0.642979</td>\n",
              "      <td>0.360450</td>\n",
              "      <td>0.044152</td>\n",
              "      <td>0.622703</td>\n",
              "    </tr>\n",
              "    <tr>\n",
              "      <th>1</th>\n",
              "      <td>0.458665</td>\n",
              "      <td>0.968146</td>\n",
              "      <td>0.601283</td>\n",
              "      <td>0.486205</td>\n",
              "    </tr>\n",
              "    <tr>\n",
              "      <th>2</th>\n",
              "      <td>0.030528</td>\n",
              "      <td>0.787812</td>\n",
              "      <td>0.293888</td>\n",
              "      <td>0.936823</td>\n",
              "    </tr>\n",
              "  </tbody>\n",
              "</table>\n",
              "</div>\n",
              "    <div class=\"colab-df-buttons\">\n",
              "\n",
              "  <div class=\"colab-df-container\">\n",
              "    <button class=\"colab-df-convert\" onclick=\"convertToInteractive('df-0efc2420-77b1-4599-a38a-5af7582012bb')\"\n",
              "            title=\"Convert this dataframe to an interactive table.\"\n",
              "            style=\"display:none;\">\n",
              "\n",
              "  <svg xmlns=\"http://www.w3.org/2000/svg\" height=\"24px\" viewBox=\"0 -960 960 960\">\n",
              "    <path d=\"M120-120v-720h720v720H120Zm60-500h600v-160H180v160Zm220 220h160v-160H400v160Zm0 220h160v-160H400v160ZM180-400h160v-160H180v160Zm440 0h160v-160H620v160ZM180-180h160v-160H180v160Zm440 0h160v-160H620v160Z\"/>\n",
              "  </svg>\n",
              "    </button>\n",
              "\n",
              "  <style>\n",
              "    .colab-df-container {\n",
              "      display:flex;\n",
              "      gap: 12px;\n",
              "    }\n",
              "\n",
              "    .colab-df-convert {\n",
              "      background-color: #E8F0FE;\n",
              "      border: none;\n",
              "      border-radius: 50%;\n",
              "      cursor: pointer;\n",
              "      display: none;\n",
              "      fill: #1967D2;\n",
              "      height: 32px;\n",
              "      padding: 0 0 0 0;\n",
              "      width: 32px;\n",
              "    }\n",
              "\n",
              "    .colab-df-convert:hover {\n",
              "      background-color: #E2EBFA;\n",
              "      box-shadow: 0px 1px 2px rgba(60, 64, 67, 0.3), 0px 1px 3px 1px rgba(60, 64, 67, 0.15);\n",
              "      fill: #174EA6;\n",
              "    }\n",
              "\n",
              "    .colab-df-buttons div {\n",
              "      margin-bottom: 4px;\n",
              "    }\n",
              "\n",
              "    [theme=dark] .colab-df-convert {\n",
              "      background-color: #3B4455;\n",
              "      fill: #D2E3FC;\n",
              "    }\n",
              "\n",
              "    [theme=dark] .colab-df-convert:hover {\n",
              "      background-color: #434B5C;\n",
              "      box-shadow: 0px 1px 3px 1px rgba(0, 0, 0, 0.15);\n",
              "      filter: drop-shadow(0px 1px 2px rgba(0, 0, 0, 0.3));\n",
              "      fill: #FFFFFF;\n",
              "    }\n",
              "  </style>\n",
              "\n",
              "    <script>\n",
              "      const buttonEl =\n",
              "        document.querySelector('#df-0efc2420-77b1-4599-a38a-5af7582012bb button.colab-df-convert');\n",
              "      buttonEl.style.display =\n",
              "        google.colab.kernel.accessAllowed ? 'block' : 'none';\n",
              "\n",
              "      async function convertToInteractive(key) {\n",
              "        const element = document.querySelector('#df-0efc2420-77b1-4599-a38a-5af7582012bb');\n",
              "        const dataTable =\n",
              "          await google.colab.kernel.invokeFunction('convertToInteractive',\n",
              "                                                    [key], {});\n",
              "        if (!dataTable) return;\n",
              "\n",
              "        const docLinkHtml = 'Like what you see? Visit the ' +\n",
              "          '<a target=\"_blank\" href=https://colab.research.google.com/notebooks/data_table.ipynb>data table notebook</a>'\n",
              "          + ' to learn more about interactive tables.';\n",
              "        element.innerHTML = '';\n",
              "        dataTable['output_type'] = 'display_data';\n",
              "        await google.colab.output.renderOutput(dataTable, element);\n",
              "        const docLink = document.createElement('div');\n",
              "        docLink.innerHTML = docLinkHtml;\n",
              "        element.appendChild(docLink);\n",
              "      }\n",
              "    </script>\n",
              "  </div>\n",
              "\n",
              "\n",
              "<div id=\"df-7b46a6de-a6e0-461b-bd60-83586e8f5e55\">\n",
              "  <button class=\"colab-df-quickchart\" onclick=\"quickchart('df-7b46a6de-a6e0-461b-bd60-83586e8f5e55')\"\n",
              "            title=\"Suggest charts\"\n",
              "            style=\"display:none;\">\n",
              "\n",
              "<svg xmlns=\"http://www.w3.org/2000/svg\" height=\"24px\"viewBox=\"0 0 24 24\"\n",
              "     width=\"24px\">\n",
              "    <g>\n",
              "        <path d=\"M19 3H5c-1.1 0-2 .9-2 2v14c0 1.1.9 2 2 2h14c1.1 0 2-.9 2-2V5c0-1.1-.9-2-2-2zM9 17H7v-7h2v7zm4 0h-2V7h2v10zm4 0h-2v-4h2v4z\"/>\n",
              "    </g>\n",
              "</svg>\n",
              "  </button>\n",
              "\n",
              "<style>\n",
              "  .colab-df-quickchart {\n",
              "      --bg-color: #E8F0FE;\n",
              "      --fill-color: #1967D2;\n",
              "      --hover-bg-color: #E2EBFA;\n",
              "      --hover-fill-color: #174EA6;\n",
              "      --disabled-fill-color: #AAA;\n",
              "      --disabled-bg-color: #DDD;\n",
              "  }\n",
              "\n",
              "  [theme=dark] .colab-df-quickchart {\n",
              "      --bg-color: #3B4455;\n",
              "      --fill-color: #D2E3FC;\n",
              "      --hover-bg-color: #434B5C;\n",
              "      --hover-fill-color: #FFFFFF;\n",
              "      --disabled-bg-color: #3B4455;\n",
              "      --disabled-fill-color: #666;\n",
              "  }\n",
              "\n",
              "  .colab-df-quickchart {\n",
              "    background-color: var(--bg-color);\n",
              "    border: none;\n",
              "    border-radius: 50%;\n",
              "    cursor: pointer;\n",
              "    display: none;\n",
              "    fill: var(--fill-color);\n",
              "    height: 32px;\n",
              "    padding: 0;\n",
              "    width: 32px;\n",
              "  }\n",
              "\n",
              "  .colab-df-quickchart:hover {\n",
              "    background-color: var(--hover-bg-color);\n",
              "    box-shadow: 0 1px 2px rgba(60, 64, 67, 0.3), 0 1px 3px 1px rgba(60, 64, 67, 0.15);\n",
              "    fill: var(--button-hover-fill-color);\n",
              "  }\n",
              "\n",
              "  .colab-df-quickchart-complete:disabled,\n",
              "  .colab-df-quickchart-complete:disabled:hover {\n",
              "    background-color: var(--disabled-bg-color);\n",
              "    fill: var(--disabled-fill-color);\n",
              "    box-shadow: none;\n",
              "  }\n",
              "\n",
              "  .colab-df-spinner {\n",
              "    border: 2px solid var(--fill-color);\n",
              "    border-color: transparent;\n",
              "    border-bottom-color: var(--fill-color);\n",
              "    animation:\n",
              "      spin 1s steps(1) infinite;\n",
              "  }\n",
              "\n",
              "  @keyframes spin {\n",
              "    0% {\n",
              "      border-color: transparent;\n",
              "      border-bottom-color: var(--fill-color);\n",
              "      border-left-color: var(--fill-color);\n",
              "    }\n",
              "    20% {\n",
              "      border-color: transparent;\n",
              "      border-left-color: var(--fill-color);\n",
              "      border-top-color: var(--fill-color);\n",
              "    }\n",
              "    30% {\n",
              "      border-color: transparent;\n",
              "      border-left-color: var(--fill-color);\n",
              "      border-top-color: var(--fill-color);\n",
              "      border-right-color: var(--fill-color);\n",
              "    }\n",
              "    40% {\n",
              "      border-color: transparent;\n",
              "      border-right-color: var(--fill-color);\n",
              "      border-top-color: var(--fill-color);\n",
              "    }\n",
              "    60% {\n",
              "      border-color: transparent;\n",
              "      border-right-color: var(--fill-color);\n",
              "    }\n",
              "    80% {\n",
              "      border-color: transparent;\n",
              "      border-right-color: var(--fill-color);\n",
              "      border-bottom-color: var(--fill-color);\n",
              "    }\n",
              "    90% {\n",
              "      border-color: transparent;\n",
              "      border-bottom-color: var(--fill-color);\n",
              "    }\n",
              "  }\n",
              "</style>\n",
              "\n",
              "  <script>\n",
              "    async function quickchart(key) {\n",
              "      const quickchartButtonEl =\n",
              "        document.querySelector('#' + key + ' button');\n",
              "      quickchartButtonEl.disabled = true;  // To prevent multiple clicks.\n",
              "      quickchartButtonEl.classList.add('colab-df-spinner');\n",
              "      try {\n",
              "        const charts = await google.colab.kernel.invokeFunction(\n",
              "            'suggestCharts', [key], {});\n",
              "      } catch (error) {\n",
              "        console.error('Error during call to suggestCharts:', error);\n",
              "      }\n",
              "      quickchartButtonEl.classList.remove('colab-df-spinner');\n",
              "      quickchartButtonEl.classList.add('colab-df-quickchart-complete');\n",
              "    }\n",
              "    (() => {\n",
              "      let quickchartButtonEl =\n",
              "        document.querySelector('#df-7b46a6de-a6e0-461b-bd60-83586e8f5e55 button');\n",
              "      quickchartButtonEl.style.display =\n",
              "        google.colab.kernel.accessAllowed ? 'block' : 'none';\n",
              "    })();\n",
              "  </script>\n",
              "</div>\n",
              "\n",
              "    </div>\n",
              "  </div>\n"
            ],
            "application/vnd.google.colaboratory.intrinsic+json": {
              "type": "dataframe",
              "summary": "{\n  \"name\": \"pd\",\n  \"rows\": 3,\n  \"fields\": [\n    {\n      \"column\": \"w\",\n      \"properties\": {\n        \"dtype\": \"number\",\n        \"std\": 0.31421063853324915,\n        \"min\": 0.030527970650105707,\n        \"max\": 0.6429794021394474,\n        \"num_unique_values\": 3,\n        \"samples\": [\n          0.6429794021394474,\n          0.458665167201174,\n          0.030527970650105707\n        ],\n        \"semantic_type\": \"\",\n        \"description\": \"\"\n      }\n    },\n    {\n      \"column\": \"x\",\n      \"properties\": {\n        \"dtype\": \"number\",\n        \"std\": 0.31210387842942233,\n        \"min\": 0.3604498328976149,\n        \"max\": 0.9681456314403415,\n        \"num_unique_values\": 3,\n        \"samples\": [\n          0.3604498328976149,\n          0.9681456314403415,\n          0.7878123269228019\n        ],\n        \"semantic_type\": \"\",\n        \"description\": \"\"\n      }\n    },\n    {\n      \"column\": \"y\",\n      \"properties\": {\n        \"dtype\": \"number\",\n        \"std\": 0.27906227043553655,\n        \"min\": 0.044151899071836476,\n        \"max\": 0.6012827744986291,\n        \"num_unique_values\": 3,\n        \"samples\": [\n          0.044151899071836476,\n          0.6012827744986291,\n          0.29388778464612786\n        ],\n        \"semantic_type\": \"\",\n        \"description\": \"\"\n      }\n    },\n    {\n      \"column\": \"z\",\n      \"properties\": {\n        \"dtype\": \"number\",\n        \"std\": 0.23107010706011968,\n        \"min\": 0.48620474470985886,\n        \"max\": 0.9368232621021981,\n        \"num_unique_values\": 3,\n        \"samples\": [\n          0.6227029851274779,\n          0.48620474470985886,\n          0.9368232621021981\n        ],\n        \"semantic_type\": \"\",\n        \"description\": \"\"\n      }\n    }\n  ]\n}"
            }
          },
          "metadata": {},
          "execution_count": 69
        }
      ]
    },
    {
      "cell_type": "code",
      "source": [
        "X = np.ones((5,6))\n",
        "pd.DataFrame(X, columns = ['u', 'v', 'w','x', 'y', 'z'], dtype = 'i')"
      ],
      "metadata": {
        "colab": {
          "base_uri": "https://localhost:8080/",
          "height": 206
        },
        "id": "Yi6YYsPT8x6U",
        "outputId": "d4c72190-a46b-4df7-f675-2454571aa238"
      },
      "execution_count": 70,
      "outputs": [
        {
          "output_type": "execute_result",
          "data": {
            "text/plain": [
              "   u  v  w  x  y  z\n",
              "0  1  1  1  1  1  1\n",
              "1  1  1  1  1  1  1\n",
              "2  1  1  1  1  1  1\n",
              "3  1  1  1  1  1  1\n",
              "4  1  1  1  1  1  1"
            ],
            "text/html": [
              "\n",
              "  <div id=\"df-b4c5d7b6-d233-45df-a04c-219a96260ac2\" class=\"colab-df-container\">\n",
              "    <div>\n",
              "<style scoped>\n",
              "    .dataframe tbody tr th:only-of-type {\n",
              "        vertical-align: middle;\n",
              "    }\n",
              "\n",
              "    .dataframe tbody tr th {\n",
              "        vertical-align: top;\n",
              "    }\n",
              "\n",
              "    .dataframe thead th {\n",
              "        text-align: right;\n",
              "    }\n",
              "</style>\n",
              "<table border=\"1\" class=\"dataframe\">\n",
              "  <thead>\n",
              "    <tr style=\"text-align: right;\">\n",
              "      <th></th>\n",
              "      <th>u</th>\n",
              "      <th>v</th>\n",
              "      <th>w</th>\n",
              "      <th>x</th>\n",
              "      <th>y</th>\n",
              "      <th>z</th>\n",
              "    </tr>\n",
              "  </thead>\n",
              "  <tbody>\n",
              "    <tr>\n",
              "      <th>0</th>\n",
              "      <td>1</td>\n",
              "      <td>1</td>\n",
              "      <td>1</td>\n",
              "      <td>1</td>\n",
              "      <td>1</td>\n",
              "      <td>1</td>\n",
              "    </tr>\n",
              "    <tr>\n",
              "      <th>1</th>\n",
              "      <td>1</td>\n",
              "      <td>1</td>\n",
              "      <td>1</td>\n",
              "      <td>1</td>\n",
              "      <td>1</td>\n",
              "      <td>1</td>\n",
              "    </tr>\n",
              "    <tr>\n",
              "      <th>2</th>\n",
              "      <td>1</td>\n",
              "      <td>1</td>\n",
              "      <td>1</td>\n",
              "      <td>1</td>\n",
              "      <td>1</td>\n",
              "      <td>1</td>\n",
              "    </tr>\n",
              "    <tr>\n",
              "      <th>3</th>\n",
              "      <td>1</td>\n",
              "      <td>1</td>\n",
              "      <td>1</td>\n",
              "      <td>1</td>\n",
              "      <td>1</td>\n",
              "      <td>1</td>\n",
              "    </tr>\n",
              "    <tr>\n",
              "      <th>4</th>\n",
              "      <td>1</td>\n",
              "      <td>1</td>\n",
              "      <td>1</td>\n",
              "      <td>1</td>\n",
              "      <td>1</td>\n",
              "      <td>1</td>\n",
              "    </tr>\n",
              "  </tbody>\n",
              "</table>\n",
              "</div>\n",
              "    <div class=\"colab-df-buttons\">\n",
              "\n",
              "  <div class=\"colab-df-container\">\n",
              "    <button class=\"colab-df-convert\" onclick=\"convertToInteractive('df-b4c5d7b6-d233-45df-a04c-219a96260ac2')\"\n",
              "            title=\"Convert this dataframe to an interactive table.\"\n",
              "            style=\"display:none;\">\n",
              "\n",
              "  <svg xmlns=\"http://www.w3.org/2000/svg\" height=\"24px\" viewBox=\"0 -960 960 960\">\n",
              "    <path d=\"M120-120v-720h720v720H120Zm60-500h600v-160H180v160Zm220 220h160v-160H400v160Zm0 220h160v-160H400v160ZM180-400h160v-160H180v160Zm440 0h160v-160H620v160ZM180-180h160v-160H180v160Zm440 0h160v-160H620v160Z\"/>\n",
              "  </svg>\n",
              "    </button>\n",
              "\n",
              "  <style>\n",
              "    .colab-df-container {\n",
              "      display:flex;\n",
              "      gap: 12px;\n",
              "    }\n",
              "\n",
              "    .colab-df-convert {\n",
              "      background-color: #E8F0FE;\n",
              "      border: none;\n",
              "      border-radius: 50%;\n",
              "      cursor: pointer;\n",
              "      display: none;\n",
              "      fill: #1967D2;\n",
              "      height: 32px;\n",
              "      padding: 0 0 0 0;\n",
              "      width: 32px;\n",
              "    }\n",
              "\n",
              "    .colab-df-convert:hover {\n",
              "      background-color: #E2EBFA;\n",
              "      box-shadow: 0px 1px 2px rgba(60, 64, 67, 0.3), 0px 1px 3px 1px rgba(60, 64, 67, 0.15);\n",
              "      fill: #174EA6;\n",
              "    }\n",
              "\n",
              "    .colab-df-buttons div {\n",
              "      margin-bottom: 4px;\n",
              "    }\n",
              "\n",
              "    [theme=dark] .colab-df-convert {\n",
              "      background-color: #3B4455;\n",
              "      fill: #D2E3FC;\n",
              "    }\n",
              "\n",
              "    [theme=dark] .colab-df-convert:hover {\n",
              "      background-color: #434B5C;\n",
              "      box-shadow: 0px 1px 3px 1px rgba(0, 0, 0, 0.15);\n",
              "      filter: drop-shadow(0px 1px 2px rgba(0, 0, 0, 0.3));\n",
              "      fill: #FFFFFF;\n",
              "    }\n",
              "  </style>\n",
              "\n",
              "    <script>\n",
              "      const buttonEl =\n",
              "        document.querySelector('#df-b4c5d7b6-d233-45df-a04c-219a96260ac2 button.colab-df-convert');\n",
              "      buttonEl.style.display =\n",
              "        google.colab.kernel.accessAllowed ? 'block' : 'none';\n",
              "\n",
              "      async function convertToInteractive(key) {\n",
              "        const element = document.querySelector('#df-b4c5d7b6-d233-45df-a04c-219a96260ac2');\n",
              "        const dataTable =\n",
              "          await google.colab.kernel.invokeFunction('convertToInteractive',\n",
              "                                                    [key], {});\n",
              "        if (!dataTable) return;\n",
              "\n",
              "        const docLinkHtml = 'Like what you see? Visit the ' +\n",
              "          '<a target=\"_blank\" href=https://colab.research.google.com/notebooks/data_table.ipynb>data table notebook</a>'\n",
              "          + ' to learn more about interactive tables.';\n",
              "        element.innerHTML = '';\n",
              "        dataTable['output_type'] = 'display_data';\n",
              "        await google.colab.output.renderOutput(dataTable, element);\n",
              "        const docLink = document.createElement('div');\n",
              "        docLink.innerHTML = docLinkHtml;\n",
              "        element.appendChild(docLink);\n",
              "      }\n",
              "    </script>\n",
              "  </div>\n",
              "\n",
              "\n",
              "<div id=\"df-41156064-4213-4755-9a75-3facf15d57ab\">\n",
              "  <button class=\"colab-df-quickchart\" onclick=\"quickchart('df-41156064-4213-4755-9a75-3facf15d57ab')\"\n",
              "            title=\"Suggest charts\"\n",
              "            style=\"display:none;\">\n",
              "\n",
              "<svg xmlns=\"http://www.w3.org/2000/svg\" height=\"24px\"viewBox=\"0 0 24 24\"\n",
              "     width=\"24px\">\n",
              "    <g>\n",
              "        <path d=\"M19 3H5c-1.1 0-2 .9-2 2v14c0 1.1.9 2 2 2h14c1.1 0 2-.9 2-2V5c0-1.1-.9-2-2-2zM9 17H7v-7h2v7zm4 0h-2V7h2v10zm4 0h-2v-4h2v4z\"/>\n",
              "    </g>\n",
              "</svg>\n",
              "  </button>\n",
              "\n",
              "<style>\n",
              "  .colab-df-quickchart {\n",
              "      --bg-color: #E8F0FE;\n",
              "      --fill-color: #1967D2;\n",
              "      --hover-bg-color: #E2EBFA;\n",
              "      --hover-fill-color: #174EA6;\n",
              "      --disabled-fill-color: #AAA;\n",
              "      --disabled-bg-color: #DDD;\n",
              "  }\n",
              "\n",
              "  [theme=dark] .colab-df-quickchart {\n",
              "      --bg-color: #3B4455;\n",
              "      --fill-color: #D2E3FC;\n",
              "      --hover-bg-color: #434B5C;\n",
              "      --hover-fill-color: #FFFFFF;\n",
              "      --disabled-bg-color: #3B4455;\n",
              "      --disabled-fill-color: #666;\n",
              "  }\n",
              "\n",
              "  .colab-df-quickchart {\n",
              "    background-color: var(--bg-color);\n",
              "    border: none;\n",
              "    border-radius: 50%;\n",
              "    cursor: pointer;\n",
              "    display: none;\n",
              "    fill: var(--fill-color);\n",
              "    height: 32px;\n",
              "    padding: 0;\n",
              "    width: 32px;\n",
              "  }\n",
              "\n",
              "  .colab-df-quickchart:hover {\n",
              "    background-color: var(--hover-bg-color);\n",
              "    box-shadow: 0 1px 2px rgba(60, 64, 67, 0.3), 0 1px 3px 1px rgba(60, 64, 67, 0.15);\n",
              "    fill: var(--button-hover-fill-color);\n",
              "  }\n",
              "\n",
              "  .colab-df-quickchart-complete:disabled,\n",
              "  .colab-df-quickchart-complete:disabled:hover {\n",
              "    background-color: var(--disabled-bg-color);\n",
              "    fill: var(--disabled-fill-color);\n",
              "    box-shadow: none;\n",
              "  }\n",
              "\n",
              "  .colab-df-spinner {\n",
              "    border: 2px solid var(--fill-color);\n",
              "    border-color: transparent;\n",
              "    border-bottom-color: var(--fill-color);\n",
              "    animation:\n",
              "      spin 1s steps(1) infinite;\n",
              "  }\n",
              "\n",
              "  @keyframes spin {\n",
              "    0% {\n",
              "      border-color: transparent;\n",
              "      border-bottom-color: var(--fill-color);\n",
              "      border-left-color: var(--fill-color);\n",
              "    }\n",
              "    20% {\n",
              "      border-color: transparent;\n",
              "      border-left-color: var(--fill-color);\n",
              "      border-top-color: var(--fill-color);\n",
              "    }\n",
              "    30% {\n",
              "      border-color: transparent;\n",
              "      border-left-color: var(--fill-color);\n",
              "      border-top-color: var(--fill-color);\n",
              "      border-right-color: var(--fill-color);\n",
              "    }\n",
              "    40% {\n",
              "      border-color: transparent;\n",
              "      border-right-color: var(--fill-color);\n",
              "      border-top-color: var(--fill-color);\n",
              "    }\n",
              "    60% {\n",
              "      border-color: transparent;\n",
              "      border-right-color: var(--fill-color);\n",
              "    }\n",
              "    80% {\n",
              "      border-color: transparent;\n",
              "      border-right-color: var(--fill-color);\n",
              "      border-bottom-color: var(--fill-color);\n",
              "    }\n",
              "    90% {\n",
              "      border-color: transparent;\n",
              "      border-bottom-color: var(--fill-color);\n",
              "    }\n",
              "  }\n",
              "</style>\n",
              "\n",
              "  <script>\n",
              "    async function quickchart(key) {\n",
              "      const quickchartButtonEl =\n",
              "        document.querySelector('#' + key + ' button');\n",
              "      quickchartButtonEl.disabled = true;  // To prevent multiple clicks.\n",
              "      quickchartButtonEl.classList.add('colab-df-spinner');\n",
              "      try {\n",
              "        const charts = await google.colab.kernel.invokeFunction(\n",
              "            'suggestCharts', [key], {});\n",
              "      } catch (error) {\n",
              "        console.error('Error during call to suggestCharts:', error);\n",
              "      }\n",
              "      quickchartButtonEl.classList.remove('colab-df-spinner');\n",
              "      quickchartButtonEl.classList.add('colab-df-quickchart-complete');\n",
              "    }\n",
              "    (() => {\n",
              "      let quickchartButtonEl =\n",
              "        document.querySelector('#df-41156064-4213-4755-9a75-3facf15d57ab button');\n",
              "      quickchartButtonEl.style.display =\n",
              "        google.colab.kernel.accessAllowed ? 'block' : 'none';\n",
              "    })();\n",
              "  </script>\n",
              "</div>\n",
              "\n",
              "    </div>\n",
              "  </div>\n"
            ],
            "application/vnd.google.colaboratory.intrinsic+json": {
              "type": "dataframe",
              "summary": "{\n  \"name\": \"pd\",\n  \"rows\": 5,\n  \"fields\": [\n    {\n      \"column\": \"u\",\n      \"properties\": {\n        \"dtype\": \"int32\",\n        \"num_unique_values\": 1,\n        \"samples\": [\n          1\n        ],\n        \"semantic_type\": \"\",\n        \"description\": \"\"\n      }\n    },\n    {\n      \"column\": \"v\",\n      \"properties\": {\n        \"dtype\": \"int32\",\n        \"num_unique_values\": 1,\n        \"samples\": [\n          1\n        ],\n        \"semantic_type\": \"\",\n        \"description\": \"\"\n      }\n    },\n    {\n      \"column\": \"w\",\n      \"properties\": {\n        \"dtype\": \"int32\",\n        \"num_unique_values\": 1,\n        \"samples\": [\n          1\n        ],\n        \"semantic_type\": \"\",\n        \"description\": \"\"\n      }\n    },\n    {\n      \"column\": \"x\",\n      \"properties\": {\n        \"dtype\": \"int32\",\n        \"num_unique_values\": 1,\n        \"samples\": [\n          1\n        ],\n        \"semantic_type\": \"\",\n        \"description\": \"\"\n      }\n    },\n    {\n      \"column\": \"y\",\n      \"properties\": {\n        \"dtype\": \"int32\",\n        \"num_unique_values\": 1,\n        \"samples\": [\n          1\n        ],\n        \"semantic_type\": \"\",\n        \"description\": \"\"\n      }\n    },\n    {\n      \"column\": \"z\",\n      \"properties\": {\n        \"dtype\": \"int32\",\n        \"num_unique_values\": 1,\n        \"samples\": [\n          1\n        ],\n        \"semantic_type\": \"\",\n        \"description\": \"\"\n      }\n    }\n  ]\n}"
            }
          },
          "metadata": {},
          "execution_count": 70
        }
      ]
    },
    {
      "cell_type": "code",
      "source": [
        "Y = np.zeros((5,6))\n",
        "pd.DataFrame(Y, columns = ['u', 'v', 'w','x', 'y', 'z'], dtype = 'i')"
      ],
      "metadata": {
        "colab": {
          "base_uri": "https://localhost:8080/",
          "height": 206
        },
        "id": "6qvQnHlM9lXv",
        "outputId": "0953595a-abb1-449f-88eb-7bc918f36eba"
      },
      "execution_count": 71,
      "outputs": [
        {
          "output_type": "execute_result",
          "data": {
            "text/plain": [
              "   u  v  w  x  y  z\n",
              "0  0  0  0  0  0  0\n",
              "1  0  0  0  0  0  0\n",
              "2  0  0  0  0  0  0\n",
              "3  0  0  0  0  0  0\n",
              "4  0  0  0  0  0  0"
            ],
            "text/html": [
              "\n",
              "  <div id=\"df-7a6169fb-2e7f-4f6f-a4df-6020018e88f4\" class=\"colab-df-container\">\n",
              "    <div>\n",
              "<style scoped>\n",
              "    .dataframe tbody tr th:only-of-type {\n",
              "        vertical-align: middle;\n",
              "    }\n",
              "\n",
              "    .dataframe tbody tr th {\n",
              "        vertical-align: top;\n",
              "    }\n",
              "\n",
              "    .dataframe thead th {\n",
              "        text-align: right;\n",
              "    }\n",
              "</style>\n",
              "<table border=\"1\" class=\"dataframe\">\n",
              "  <thead>\n",
              "    <tr style=\"text-align: right;\">\n",
              "      <th></th>\n",
              "      <th>u</th>\n",
              "      <th>v</th>\n",
              "      <th>w</th>\n",
              "      <th>x</th>\n",
              "      <th>y</th>\n",
              "      <th>z</th>\n",
              "    </tr>\n",
              "  </thead>\n",
              "  <tbody>\n",
              "    <tr>\n",
              "      <th>0</th>\n",
              "      <td>0</td>\n",
              "      <td>0</td>\n",
              "      <td>0</td>\n",
              "      <td>0</td>\n",
              "      <td>0</td>\n",
              "      <td>0</td>\n",
              "    </tr>\n",
              "    <tr>\n",
              "      <th>1</th>\n",
              "      <td>0</td>\n",
              "      <td>0</td>\n",
              "      <td>0</td>\n",
              "      <td>0</td>\n",
              "      <td>0</td>\n",
              "      <td>0</td>\n",
              "    </tr>\n",
              "    <tr>\n",
              "      <th>2</th>\n",
              "      <td>0</td>\n",
              "      <td>0</td>\n",
              "      <td>0</td>\n",
              "      <td>0</td>\n",
              "      <td>0</td>\n",
              "      <td>0</td>\n",
              "    </tr>\n",
              "    <tr>\n",
              "      <th>3</th>\n",
              "      <td>0</td>\n",
              "      <td>0</td>\n",
              "      <td>0</td>\n",
              "      <td>0</td>\n",
              "      <td>0</td>\n",
              "      <td>0</td>\n",
              "    </tr>\n",
              "    <tr>\n",
              "      <th>4</th>\n",
              "      <td>0</td>\n",
              "      <td>0</td>\n",
              "      <td>0</td>\n",
              "      <td>0</td>\n",
              "      <td>0</td>\n",
              "      <td>0</td>\n",
              "    </tr>\n",
              "  </tbody>\n",
              "</table>\n",
              "</div>\n",
              "    <div class=\"colab-df-buttons\">\n",
              "\n",
              "  <div class=\"colab-df-container\">\n",
              "    <button class=\"colab-df-convert\" onclick=\"convertToInteractive('df-7a6169fb-2e7f-4f6f-a4df-6020018e88f4')\"\n",
              "            title=\"Convert this dataframe to an interactive table.\"\n",
              "            style=\"display:none;\">\n",
              "\n",
              "  <svg xmlns=\"http://www.w3.org/2000/svg\" height=\"24px\" viewBox=\"0 -960 960 960\">\n",
              "    <path d=\"M120-120v-720h720v720H120Zm60-500h600v-160H180v160Zm220 220h160v-160H400v160Zm0 220h160v-160H400v160ZM180-400h160v-160H180v160Zm440 0h160v-160H620v160ZM180-180h160v-160H180v160Zm440 0h160v-160H620v160Z\"/>\n",
              "  </svg>\n",
              "    </button>\n",
              "\n",
              "  <style>\n",
              "    .colab-df-container {\n",
              "      display:flex;\n",
              "      gap: 12px;\n",
              "    }\n",
              "\n",
              "    .colab-df-convert {\n",
              "      background-color: #E8F0FE;\n",
              "      border: none;\n",
              "      border-radius: 50%;\n",
              "      cursor: pointer;\n",
              "      display: none;\n",
              "      fill: #1967D2;\n",
              "      height: 32px;\n",
              "      padding: 0 0 0 0;\n",
              "      width: 32px;\n",
              "    }\n",
              "\n",
              "    .colab-df-convert:hover {\n",
              "      background-color: #E2EBFA;\n",
              "      box-shadow: 0px 1px 2px rgba(60, 64, 67, 0.3), 0px 1px 3px 1px rgba(60, 64, 67, 0.15);\n",
              "      fill: #174EA6;\n",
              "    }\n",
              "\n",
              "    .colab-df-buttons div {\n",
              "      margin-bottom: 4px;\n",
              "    }\n",
              "\n",
              "    [theme=dark] .colab-df-convert {\n",
              "      background-color: #3B4455;\n",
              "      fill: #D2E3FC;\n",
              "    }\n",
              "\n",
              "    [theme=dark] .colab-df-convert:hover {\n",
              "      background-color: #434B5C;\n",
              "      box-shadow: 0px 1px 3px 1px rgba(0, 0, 0, 0.15);\n",
              "      filter: drop-shadow(0px 1px 2px rgba(0, 0, 0, 0.3));\n",
              "      fill: #FFFFFF;\n",
              "    }\n",
              "  </style>\n",
              "\n",
              "    <script>\n",
              "      const buttonEl =\n",
              "        document.querySelector('#df-7a6169fb-2e7f-4f6f-a4df-6020018e88f4 button.colab-df-convert');\n",
              "      buttonEl.style.display =\n",
              "        google.colab.kernel.accessAllowed ? 'block' : 'none';\n",
              "\n",
              "      async function convertToInteractive(key) {\n",
              "        const element = document.querySelector('#df-7a6169fb-2e7f-4f6f-a4df-6020018e88f4');\n",
              "        const dataTable =\n",
              "          await google.colab.kernel.invokeFunction('convertToInteractive',\n",
              "                                                    [key], {});\n",
              "        if (!dataTable) return;\n",
              "\n",
              "        const docLinkHtml = 'Like what you see? Visit the ' +\n",
              "          '<a target=\"_blank\" href=https://colab.research.google.com/notebooks/data_table.ipynb>data table notebook</a>'\n",
              "          + ' to learn more about interactive tables.';\n",
              "        element.innerHTML = '';\n",
              "        dataTable['output_type'] = 'display_data';\n",
              "        await google.colab.output.renderOutput(dataTable, element);\n",
              "        const docLink = document.createElement('div');\n",
              "        docLink.innerHTML = docLinkHtml;\n",
              "        element.appendChild(docLink);\n",
              "      }\n",
              "    </script>\n",
              "  </div>\n",
              "\n",
              "\n",
              "<div id=\"df-06be1f50-7777-4df3-bb4f-dbfcbb765511\">\n",
              "  <button class=\"colab-df-quickchart\" onclick=\"quickchart('df-06be1f50-7777-4df3-bb4f-dbfcbb765511')\"\n",
              "            title=\"Suggest charts\"\n",
              "            style=\"display:none;\">\n",
              "\n",
              "<svg xmlns=\"http://www.w3.org/2000/svg\" height=\"24px\"viewBox=\"0 0 24 24\"\n",
              "     width=\"24px\">\n",
              "    <g>\n",
              "        <path d=\"M19 3H5c-1.1 0-2 .9-2 2v14c0 1.1.9 2 2 2h14c1.1 0 2-.9 2-2V5c0-1.1-.9-2-2-2zM9 17H7v-7h2v7zm4 0h-2V7h2v10zm4 0h-2v-4h2v4z\"/>\n",
              "    </g>\n",
              "</svg>\n",
              "  </button>\n",
              "\n",
              "<style>\n",
              "  .colab-df-quickchart {\n",
              "      --bg-color: #E8F0FE;\n",
              "      --fill-color: #1967D2;\n",
              "      --hover-bg-color: #E2EBFA;\n",
              "      --hover-fill-color: #174EA6;\n",
              "      --disabled-fill-color: #AAA;\n",
              "      --disabled-bg-color: #DDD;\n",
              "  }\n",
              "\n",
              "  [theme=dark] .colab-df-quickchart {\n",
              "      --bg-color: #3B4455;\n",
              "      --fill-color: #D2E3FC;\n",
              "      --hover-bg-color: #434B5C;\n",
              "      --hover-fill-color: #FFFFFF;\n",
              "      --disabled-bg-color: #3B4455;\n",
              "      --disabled-fill-color: #666;\n",
              "  }\n",
              "\n",
              "  .colab-df-quickchart {\n",
              "    background-color: var(--bg-color);\n",
              "    border: none;\n",
              "    border-radius: 50%;\n",
              "    cursor: pointer;\n",
              "    display: none;\n",
              "    fill: var(--fill-color);\n",
              "    height: 32px;\n",
              "    padding: 0;\n",
              "    width: 32px;\n",
              "  }\n",
              "\n",
              "  .colab-df-quickchart:hover {\n",
              "    background-color: var(--hover-bg-color);\n",
              "    box-shadow: 0 1px 2px rgba(60, 64, 67, 0.3), 0 1px 3px 1px rgba(60, 64, 67, 0.15);\n",
              "    fill: var(--button-hover-fill-color);\n",
              "  }\n",
              "\n",
              "  .colab-df-quickchart-complete:disabled,\n",
              "  .colab-df-quickchart-complete:disabled:hover {\n",
              "    background-color: var(--disabled-bg-color);\n",
              "    fill: var(--disabled-fill-color);\n",
              "    box-shadow: none;\n",
              "  }\n",
              "\n",
              "  .colab-df-spinner {\n",
              "    border: 2px solid var(--fill-color);\n",
              "    border-color: transparent;\n",
              "    border-bottom-color: var(--fill-color);\n",
              "    animation:\n",
              "      spin 1s steps(1) infinite;\n",
              "  }\n",
              "\n",
              "  @keyframes spin {\n",
              "    0% {\n",
              "      border-color: transparent;\n",
              "      border-bottom-color: var(--fill-color);\n",
              "      border-left-color: var(--fill-color);\n",
              "    }\n",
              "    20% {\n",
              "      border-color: transparent;\n",
              "      border-left-color: var(--fill-color);\n",
              "      border-top-color: var(--fill-color);\n",
              "    }\n",
              "    30% {\n",
              "      border-color: transparent;\n",
              "      border-left-color: var(--fill-color);\n",
              "      border-top-color: var(--fill-color);\n",
              "      border-right-color: var(--fill-color);\n",
              "    }\n",
              "    40% {\n",
              "      border-color: transparent;\n",
              "      border-right-color: var(--fill-color);\n",
              "      border-top-color: var(--fill-color);\n",
              "    }\n",
              "    60% {\n",
              "      border-color: transparent;\n",
              "      border-right-color: var(--fill-color);\n",
              "    }\n",
              "    80% {\n",
              "      border-color: transparent;\n",
              "      border-right-color: var(--fill-color);\n",
              "      border-bottom-color: var(--fill-color);\n",
              "    }\n",
              "    90% {\n",
              "      border-color: transparent;\n",
              "      border-bottom-color: var(--fill-color);\n",
              "    }\n",
              "  }\n",
              "</style>\n",
              "\n",
              "  <script>\n",
              "    async function quickchart(key) {\n",
              "      const quickchartButtonEl =\n",
              "        document.querySelector('#' + key + ' button');\n",
              "      quickchartButtonEl.disabled = true;  // To prevent multiple clicks.\n",
              "      quickchartButtonEl.classList.add('colab-df-spinner');\n",
              "      try {\n",
              "        const charts = await google.colab.kernel.invokeFunction(\n",
              "            'suggestCharts', [key], {});\n",
              "      } catch (error) {\n",
              "        console.error('Error during call to suggestCharts:', error);\n",
              "      }\n",
              "      quickchartButtonEl.classList.remove('colab-df-spinner');\n",
              "      quickchartButtonEl.classList.add('colab-df-quickchart-complete');\n",
              "    }\n",
              "    (() => {\n",
              "      let quickchartButtonEl =\n",
              "        document.querySelector('#df-06be1f50-7777-4df3-bb4f-dbfcbb765511 button');\n",
              "      quickchartButtonEl.style.display =\n",
              "        google.colab.kernel.accessAllowed ? 'block' : 'none';\n",
              "    })();\n",
              "  </script>\n",
              "</div>\n",
              "\n",
              "    </div>\n",
              "  </div>\n"
            ],
            "application/vnd.google.colaboratory.intrinsic+json": {
              "type": "dataframe",
              "summary": "{\n  \"name\": \"pd\",\n  \"rows\": 5,\n  \"fields\": [\n    {\n      \"column\": \"u\",\n      \"properties\": {\n        \"dtype\": \"int32\",\n        \"num_unique_values\": 1,\n        \"samples\": [\n          0\n        ],\n        \"semantic_type\": \"\",\n        \"description\": \"\"\n      }\n    },\n    {\n      \"column\": \"v\",\n      \"properties\": {\n        \"dtype\": \"int32\",\n        \"num_unique_values\": 1,\n        \"samples\": [\n          0\n        ],\n        \"semantic_type\": \"\",\n        \"description\": \"\"\n      }\n    },\n    {\n      \"column\": \"w\",\n      \"properties\": {\n        \"dtype\": \"int32\",\n        \"num_unique_values\": 1,\n        \"samples\": [\n          0\n        ],\n        \"semantic_type\": \"\",\n        \"description\": \"\"\n      }\n    },\n    {\n      \"column\": \"x\",\n      \"properties\": {\n        \"dtype\": \"int32\",\n        \"num_unique_values\": 1,\n        \"samples\": [\n          0\n        ],\n        \"semantic_type\": \"\",\n        \"description\": \"\"\n      }\n    },\n    {\n      \"column\": \"y\",\n      \"properties\": {\n        \"dtype\": \"int32\",\n        \"num_unique_values\": 1,\n        \"samples\": [\n          0\n        ],\n        \"semantic_type\": \"\",\n        \"description\": \"\"\n      }\n    },\n    {\n      \"column\": \"z\",\n      \"properties\": {\n        \"dtype\": \"int32\",\n        \"num_unique_values\": 1,\n        \"samples\": [\n          0\n        ],\n        \"semantic_type\": \"\",\n        \"description\": \"\"\n      }\n    }\n  ]\n}"
            }
          },
          "metadata": {},
          "execution_count": 71
        }
      ]
    },
    {
      "cell_type": "code",
      "source": [
        "# Convert X and Y to DataFrames before concatenation\n",
        "df_X = pd.DataFrame(X, columns = ['u', 'v', 'w','x', 'y', 'z'], dtype = 'i')\n",
        "df_Y = pd.DataFrame(Y, columns = ['u', 'v', 'w','x', 'y', 'z'], dtype = 'i')\n",
        "\n",
        "# Concatenate the DataFrames\n",
        "concatenated_df = pd.concat([df_X, df_Y], axis=0, ignore_index=True) # axis=0 for row-wise concatenation\n",
        "\n",
        "# Display the concatenated DataFrame\n",
        "concatenated_df"
      ],
      "metadata": {
        "colab": {
          "base_uri": "https://localhost:8080/",
          "height": 363
        },
        "id": "vsPxvHhh-Xuj",
        "outputId": "0d95bc87-52f6-4dc5-d375-cbaa1b3fcc4e"
      },
      "execution_count": 72,
      "outputs": [
        {
          "output_type": "execute_result",
          "data": {
            "text/plain": [
              "   u  v  w  x  y  z\n",
              "0  1  1  1  1  1  1\n",
              "1  1  1  1  1  1  1\n",
              "2  1  1  1  1  1  1\n",
              "3  1  1  1  1  1  1\n",
              "4  1  1  1  1  1  1\n",
              "5  0  0  0  0  0  0\n",
              "6  0  0  0  0  0  0\n",
              "7  0  0  0  0  0  0\n",
              "8  0  0  0  0  0  0\n",
              "9  0  0  0  0  0  0"
            ],
            "text/html": [
              "\n",
              "  <div id=\"df-19ea34cf-deed-4e34-b858-ecb8969c7652\" class=\"colab-df-container\">\n",
              "    <div>\n",
              "<style scoped>\n",
              "    .dataframe tbody tr th:only-of-type {\n",
              "        vertical-align: middle;\n",
              "    }\n",
              "\n",
              "    .dataframe tbody tr th {\n",
              "        vertical-align: top;\n",
              "    }\n",
              "\n",
              "    .dataframe thead th {\n",
              "        text-align: right;\n",
              "    }\n",
              "</style>\n",
              "<table border=\"1\" class=\"dataframe\">\n",
              "  <thead>\n",
              "    <tr style=\"text-align: right;\">\n",
              "      <th></th>\n",
              "      <th>u</th>\n",
              "      <th>v</th>\n",
              "      <th>w</th>\n",
              "      <th>x</th>\n",
              "      <th>y</th>\n",
              "      <th>z</th>\n",
              "    </tr>\n",
              "  </thead>\n",
              "  <tbody>\n",
              "    <tr>\n",
              "      <th>0</th>\n",
              "      <td>1</td>\n",
              "      <td>1</td>\n",
              "      <td>1</td>\n",
              "      <td>1</td>\n",
              "      <td>1</td>\n",
              "      <td>1</td>\n",
              "    </tr>\n",
              "    <tr>\n",
              "      <th>1</th>\n",
              "      <td>1</td>\n",
              "      <td>1</td>\n",
              "      <td>1</td>\n",
              "      <td>1</td>\n",
              "      <td>1</td>\n",
              "      <td>1</td>\n",
              "    </tr>\n",
              "    <tr>\n",
              "      <th>2</th>\n",
              "      <td>1</td>\n",
              "      <td>1</td>\n",
              "      <td>1</td>\n",
              "      <td>1</td>\n",
              "      <td>1</td>\n",
              "      <td>1</td>\n",
              "    </tr>\n",
              "    <tr>\n",
              "      <th>3</th>\n",
              "      <td>1</td>\n",
              "      <td>1</td>\n",
              "      <td>1</td>\n",
              "      <td>1</td>\n",
              "      <td>1</td>\n",
              "      <td>1</td>\n",
              "    </tr>\n",
              "    <tr>\n",
              "      <th>4</th>\n",
              "      <td>1</td>\n",
              "      <td>1</td>\n",
              "      <td>1</td>\n",
              "      <td>1</td>\n",
              "      <td>1</td>\n",
              "      <td>1</td>\n",
              "    </tr>\n",
              "    <tr>\n",
              "      <th>5</th>\n",
              "      <td>0</td>\n",
              "      <td>0</td>\n",
              "      <td>0</td>\n",
              "      <td>0</td>\n",
              "      <td>0</td>\n",
              "      <td>0</td>\n",
              "    </tr>\n",
              "    <tr>\n",
              "      <th>6</th>\n",
              "      <td>0</td>\n",
              "      <td>0</td>\n",
              "      <td>0</td>\n",
              "      <td>0</td>\n",
              "      <td>0</td>\n",
              "      <td>0</td>\n",
              "    </tr>\n",
              "    <tr>\n",
              "      <th>7</th>\n",
              "      <td>0</td>\n",
              "      <td>0</td>\n",
              "      <td>0</td>\n",
              "      <td>0</td>\n",
              "      <td>0</td>\n",
              "      <td>0</td>\n",
              "    </tr>\n",
              "    <tr>\n",
              "      <th>8</th>\n",
              "      <td>0</td>\n",
              "      <td>0</td>\n",
              "      <td>0</td>\n",
              "      <td>0</td>\n",
              "      <td>0</td>\n",
              "      <td>0</td>\n",
              "    </tr>\n",
              "    <tr>\n",
              "      <th>9</th>\n",
              "      <td>0</td>\n",
              "      <td>0</td>\n",
              "      <td>0</td>\n",
              "      <td>0</td>\n",
              "      <td>0</td>\n",
              "      <td>0</td>\n",
              "    </tr>\n",
              "  </tbody>\n",
              "</table>\n",
              "</div>\n",
              "    <div class=\"colab-df-buttons\">\n",
              "\n",
              "  <div class=\"colab-df-container\">\n",
              "    <button class=\"colab-df-convert\" onclick=\"convertToInteractive('df-19ea34cf-deed-4e34-b858-ecb8969c7652')\"\n",
              "            title=\"Convert this dataframe to an interactive table.\"\n",
              "            style=\"display:none;\">\n",
              "\n",
              "  <svg xmlns=\"http://www.w3.org/2000/svg\" height=\"24px\" viewBox=\"0 -960 960 960\">\n",
              "    <path d=\"M120-120v-720h720v720H120Zm60-500h600v-160H180v160Zm220 220h160v-160H400v160Zm0 220h160v-160H400v160ZM180-400h160v-160H180v160Zm440 0h160v-160H620v160ZM180-180h160v-160H180v160Zm440 0h160v-160H620v160Z\"/>\n",
              "  </svg>\n",
              "    </button>\n",
              "\n",
              "  <style>\n",
              "    .colab-df-container {\n",
              "      display:flex;\n",
              "      gap: 12px;\n",
              "    }\n",
              "\n",
              "    .colab-df-convert {\n",
              "      background-color: #E8F0FE;\n",
              "      border: none;\n",
              "      border-radius: 50%;\n",
              "      cursor: pointer;\n",
              "      display: none;\n",
              "      fill: #1967D2;\n",
              "      height: 32px;\n",
              "      padding: 0 0 0 0;\n",
              "      width: 32px;\n",
              "    }\n",
              "\n",
              "    .colab-df-convert:hover {\n",
              "      background-color: #E2EBFA;\n",
              "      box-shadow: 0px 1px 2px rgba(60, 64, 67, 0.3), 0px 1px 3px 1px rgba(60, 64, 67, 0.15);\n",
              "      fill: #174EA6;\n",
              "    }\n",
              "\n",
              "    .colab-df-buttons div {\n",
              "      margin-bottom: 4px;\n",
              "    }\n",
              "\n",
              "    [theme=dark] .colab-df-convert {\n",
              "      background-color: #3B4455;\n",
              "      fill: #D2E3FC;\n",
              "    }\n",
              "\n",
              "    [theme=dark] .colab-df-convert:hover {\n",
              "      background-color: #434B5C;\n",
              "      box-shadow: 0px 1px 3px 1px rgba(0, 0, 0, 0.15);\n",
              "      filter: drop-shadow(0px 1px 2px rgba(0, 0, 0, 0.3));\n",
              "      fill: #FFFFFF;\n",
              "    }\n",
              "  </style>\n",
              "\n",
              "    <script>\n",
              "      const buttonEl =\n",
              "        document.querySelector('#df-19ea34cf-deed-4e34-b858-ecb8969c7652 button.colab-df-convert');\n",
              "      buttonEl.style.display =\n",
              "        google.colab.kernel.accessAllowed ? 'block' : 'none';\n",
              "\n",
              "      async function convertToInteractive(key) {\n",
              "        const element = document.querySelector('#df-19ea34cf-deed-4e34-b858-ecb8969c7652');\n",
              "        const dataTable =\n",
              "          await google.colab.kernel.invokeFunction('convertToInteractive',\n",
              "                                                    [key], {});\n",
              "        if (!dataTable) return;\n",
              "\n",
              "        const docLinkHtml = 'Like what you see? Visit the ' +\n",
              "          '<a target=\"_blank\" href=https://colab.research.google.com/notebooks/data_table.ipynb>data table notebook</a>'\n",
              "          + ' to learn more about interactive tables.';\n",
              "        element.innerHTML = '';\n",
              "        dataTable['output_type'] = 'display_data';\n",
              "        await google.colab.output.renderOutput(dataTable, element);\n",
              "        const docLink = document.createElement('div');\n",
              "        docLink.innerHTML = docLinkHtml;\n",
              "        element.appendChild(docLink);\n",
              "      }\n",
              "    </script>\n",
              "  </div>\n",
              "\n",
              "\n",
              "<div id=\"df-58ab752b-311b-4b4b-b345-a54c871b81e9\">\n",
              "  <button class=\"colab-df-quickchart\" onclick=\"quickchart('df-58ab752b-311b-4b4b-b345-a54c871b81e9')\"\n",
              "            title=\"Suggest charts\"\n",
              "            style=\"display:none;\">\n",
              "\n",
              "<svg xmlns=\"http://www.w3.org/2000/svg\" height=\"24px\"viewBox=\"0 0 24 24\"\n",
              "     width=\"24px\">\n",
              "    <g>\n",
              "        <path d=\"M19 3H5c-1.1 0-2 .9-2 2v14c0 1.1.9 2 2 2h14c1.1 0 2-.9 2-2V5c0-1.1-.9-2-2-2zM9 17H7v-7h2v7zm4 0h-2V7h2v10zm4 0h-2v-4h2v4z\"/>\n",
              "    </g>\n",
              "</svg>\n",
              "  </button>\n",
              "\n",
              "<style>\n",
              "  .colab-df-quickchart {\n",
              "      --bg-color: #E8F0FE;\n",
              "      --fill-color: #1967D2;\n",
              "      --hover-bg-color: #E2EBFA;\n",
              "      --hover-fill-color: #174EA6;\n",
              "      --disabled-fill-color: #AAA;\n",
              "      --disabled-bg-color: #DDD;\n",
              "  }\n",
              "\n",
              "  [theme=dark] .colab-df-quickchart {\n",
              "      --bg-color: #3B4455;\n",
              "      --fill-color: #D2E3FC;\n",
              "      --hover-bg-color: #434B5C;\n",
              "      --hover-fill-color: #FFFFFF;\n",
              "      --disabled-bg-color: #3B4455;\n",
              "      --disabled-fill-color: #666;\n",
              "  }\n",
              "\n",
              "  .colab-df-quickchart {\n",
              "    background-color: var(--bg-color);\n",
              "    border: none;\n",
              "    border-radius: 50%;\n",
              "    cursor: pointer;\n",
              "    display: none;\n",
              "    fill: var(--fill-color);\n",
              "    height: 32px;\n",
              "    padding: 0;\n",
              "    width: 32px;\n",
              "  }\n",
              "\n",
              "  .colab-df-quickchart:hover {\n",
              "    background-color: var(--hover-bg-color);\n",
              "    box-shadow: 0 1px 2px rgba(60, 64, 67, 0.3), 0 1px 3px 1px rgba(60, 64, 67, 0.15);\n",
              "    fill: var(--button-hover-fill-color);\n",
              "  }\n",
              "\n",
              "  .colab-df-quickchart-complete:disabled,\n",
              "  .colab-df-quickchart-complete:disabled:hover {\n",
              "    background-color: var(--disabled-bg-color);\n",
              "    fill: var(--disabled-fill-color);\n",
              "    box-shadow: none;\n",
              "  }\n",
              "\n",
              "  .colab-df-spinner {\n",
              "    border: 2px solid var(--fill-color);\n",
              "    border-color: transparent;\n",
              "    border-bottom-color: var(--fill-color);\n",
              "    animation:\n",
              "      spin 1s steps(1) infinite;\n",
              "  }\n",
              "\n",
              "  @keyframes spin {\n",
              "    0% {\n",
              "      border-color: transparent;\n",
              "      border-bottom-color: var(--fill-color);\n",
              "      border-left-color: var(--fill-color);\n",
              "    }\n",
              "    20% {\n",
              "      border-color: transparent;\n",
              "      border-left-color: var(--fill-color);\n",
              "      border-top-color: var(--fill-color);\n",
              "    }\n",
              "    30% {\n",
              "      border-color: transparent;\n",
              "      border-left-color: var(--fill-color);\n",
              "      border-top-color: var(--fill-color);\n",
              "      border-right-color: var(--fill-color);\n",
              "    }\n",
              "    40% {\n",
              "      border-color: transparent;\n",
              "      border-right-color: var(--fill-color);\n",
              "      border-top-color: var(--fill-color);\n",
              "    }\n",
              "    60% {\n",
              "      border-color: transparent;\n",
              "      border-right-color: var(--fill-color);\n",
              "    }\n",
              "    80% {\n",
              "      border-color: transparent;\n",
              "      border-right-color: var(--fill-color);\n",
              "      border-bottom-color: var(--fill-color);\n",
              "    }\n",
              "    90% {\n",
              "      border-color: transparent;\n",
              "      border-bottom-color: var(--fill-color);\n",
              "    }\n",
              "  }\n",
              "</style>\n",
              "\n",
              "  <script>\n",
              "    async function quickchart(key) {\n",
              "      const quickchartButtonEl =\n",
              "        document.querySelector('#' + key + ' button');\n",
              "      quickchartButtonEl.disabled = true;  // To prevent multiple clicks.\n",
              "      quickchartButtonEl.classList.add('colab-df-spinner');\n",
              "      try {\n",
              "        const charts = await google.colab.kernel.invokeFunction(\n",
              "            'suggestCharts', [key], {});\n",
              "      } catch (error) {\n",
              "        console.error('Error during call to suggestCharts:', error);\n",
              "      }\n",
              "      quickchartButtonEl.classList.remove('colab-df-spinner');\n",
              "      quickchartButtonEl.classList.add('colab-df-quickchart-complete');\n",
              "    }\n",
              "    (() => {\n",
              "      let quickchartButtonEl =\n",
              "        document.querySelector('#df-58ab752b-311b-4b4b-b345-a54c871b81e9 button');\n",
              "      quickchartButtonEl.style.display =\n",
              "        google.colab.kernel.accessAllowed ? 'block' : 'none';\n",
              "    })();\n",
              "  </script>\n",
              "</div>\n",
              "\n",
              "  <div id=\"id_48598daf-d543-4b99-bc3c-a44fc81a8657\">\n",
              "    <style>\n",
              "      .colab-df-generate {\n",
              "        background-color: #E8F0FE;\n",
              "        border: none;\n",
              "        border-radius: 50%;\n",
              "        cursor: pointer;\n",
              "        display: none;\n",
              "        fill: #1967D2;\n",
              "        height: 32px;\n",
              "        padding: 0 0 0 0;\n",
              "        width: 32px;\n",
              "      }\n",
              "\n",
              "      .colab-df-generate:hover {\n",
              "        background-color: #E2EBFA;\n",
              "        box-shadow: 0px 1px 2px rgba(60, 64, 67, 0.3), 0px 1px 3px 1px rgba(60, 64, 67, 0.15);\n",
              "        fill: #174EA6;\n",
              "      }\n",
              "\n",
              "      [theme=dark] .colab-df-generate {\n",
              "        background-color: #3B4455;\n",
              "        fill: #D2E3FC;\n",
              "      }\n",
              "\n",
              "      [theme=dark] .colab-df-generate:hover {\n",
              "        background-color: #434B5C;\n",
              "        box-shadow: 0px 1px 3px 1px rgba(0, 0, 0, 0.15);\n",
              "        filter: drop-shadow(0px 1px 2px rgba(0, 0, 0, 0.3));\n",
              "        fill: #FFFFFF;\n",
              "      }\n",
              "    </style>\n",
              "    <button class=\"colab-df-generate\" onclick=\"generateWithVariable('concatenated_df')\"\n",
              "            title=\"Generate code using this dataframe.\"\n",
              "            style=\"display:none;\">\n",
              "\n",
              "  <svg xmlns=\"http://www.w3.org/2000/svg\" height=\"24px\"viewBox=\"0 0 24 24\"\n",
              "       width=\"24px\">\n",
              "    <path d=\"M7,19H8.4L18.45,9,17,7.55,7,17.6ZM5,21V16.75L18.45,3.32a2,2,0,0,1,2.83,0l1.4,1.43a1.91,1.91,0,0,1,.58,1.4,1.91,1.91,0,0,1-.58,1.4L9.25,21ZM18.45,9,17,7.55Zm-12,3A5.31,5.31,0,0,0,4.9,8.1,5.31,5.31,0,0,0,1,6.5,5.31,5.31,0,0,0,4.9,4.9,5.31,5.31,0,0,0,6.5,1,5.31,5.31,0,0,0,8.1,4.9,5.31,5.31,0,0,0,12,6.5,5.46,5.46,0,0,0,6.5,12Z\"/>\n",
              "  </svg>\n",
              "    </button>\n",
              "    <script>\n",
              "      (() => {\n",
              "      const buttonEl =\n",
              "        document.querySelector('#id_48598daf-d543-4b99-bc3c-a44fc81a8657 button.colab-df-generate');\n",
              "      buttonEl.style.display =\n",
              "        google.colab.kernel.accessAllowed ? 'block' : 'none';\n",
              "\n",
              "      buttonEl.onclick = () => {\n",
              "        google.colab.notebook.generateWithVariable('concatenated_df');\n",
              "      }\n",
              "      })();\n",
              "    </script>\n",
              "  </div>\n",
              "\n",
              "    </div>\n",
              "  </div>\n"
            ],
            "application/vnd.google.colaboratory.intrinsic+json": {
              "type": "dataframe",
              "variable_name": "concatenated_df",
              "summary": "{\n  \"name\": \"concatenated_df\",\n  \"rows\": 10,\n  \"fields\": [\n    {\n      \"column\": \"u\",\n      \"properties\": {\n        \"dtype\": \"int32\",\n        \"num_unique_values\": 2,\n        \"samples\": [\n          0,\n          1\n        ],\n        \"semantic_type\": \"\",\n        \"description\": \"\"\n      }\n    },\n    {\n      \"column\": \"v\",\n      \"properties\": {\n        \"dtype\": \"int32\",\n        \"num_unique_values\": 2,\n        \"samples\": [\n          0,\n          1\n        ],\n        \"semantic_type\": \"\",\n        \"description\": \"\"\n      }\n    },\n    {\n      \"column\": \"w\",\n      \"properties\": {\n        \"dtype\": \"int32\",\n        \"num_unique_values\": 2,\n        \"samples\": [\n          0,\n          1\n        ],\n        \"semantic_type\": \"\",\n        \"description\": \"\"\n      }\n    },\n    {\n      \"column\": \"x\",\n      \"properties\": {\n        \"dtype\": \"int32\",\n        \"num_unique_values\": 2,\n        \"samples\": [\n          0,\n          1\n        ],\n        \"semantic_type\": \"\",\n        \"description\": \"\"\n      }\n    },\n    {\n      \"column\": \"y\",\n      \"properties\": {\n        \"dtype\": \"int32\",\n        \"num_unique_values\": 2,\n        \"samples\": [\n          0,\n          1\n        ],\n        \"semantic_type\": \"\",\n        \"description\": \"\"\n      }\n    },\n    {\n      \"column\": \"z\",\n      \"properties\": {\n        \"dtype\": \"int32\",\n        \"num_unique_values\": 2,\n        \"samples\": [\n          0,\n          1\n        ],\n        \"semantic_type\": \"\",\n        \"description\": \"\"\n      }\n    }\n  ]\n}"
            }
          },
          "metadata": {},
          "execution_count": 72
        }
      ]
    },
    {
      "cell_type": "markdown",
      "source": [
        "#**Slicing and Indexing**"
      ],
      "metadata": {
        "id": "8iLjVvlW_ljx"
      }
    },
    {
      "cell_type": "markdown",
      "source": [
        "![screenshot-1736995605541.png](data:image/png;base64,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![screenshot-1736995605541.png](data:image/png;base64,iVBORw0KGgoAAAANSUhEUgAAApYAAAFKCAYAAACn5h/DAAAAAXNSR0IArs4c6QAAIABJREFUeF7sXQecXGX1PW9629lesimbHkpCh4TeQVAEQg1dIfQOoSkqIILSm6FX9U8TBQlSFClSRUpISEJ6Nm37zu7slFdm/pz7vTc7u9lkNwWNOvP7LWx2Xr1fO9+5956rZbPZLAqfAVog31TaWs5xjlnb9wO8VeGwggUKFihYoGCBggU2MwtwhcsAWAlg16tvQntJJQyXGxlNg4YsipOduGT/3XDqbjuhGEAIWWhZ8L8wNKBRN/DQCy/hiOOOwsKv5mPcuDF45oWXMGn33TBv7hxM2nlHfPLB3/H9gw8C79XQGseLL76IQ484As+/+gaWLFmCs0+cghFDqvHHP72KnSdNwutvvIFjj56Ml555GuecciKKslkENMANwKVpWLJ4MY479jjMmTMXpmUiY1li1UwmC03TkEEWLpcLGs/R3HC53PB6+KPBpfH5+QIZuDTA7/chGo5A13WYpgnLsuACz1VrvmFZyGSzsDJZ+Y7H8VyfzwcrYyHN8/idbUeLl6btNBc0uGC6PNCGDMOkwyfj0B+egVf+/gEm7rE33vv7e9hrl4lwWQbqFy/E1ttuC09xCR59/DH8cMrxCAX8eP6FF7HXfgfgqWeexuGHH4GvvpiJHXfYAX/800uYPPlI/P2dt7HPnnsg1tyKhobVGDx0CJoaG5BOJLDX3nvjj6/8GXXDh6O6vAzJRAKtba0YMWIEPnr/Q4zbYWc88vJrKLXSePGiMzAh4pP27uujFYDlQEetY0D+nx3oXwUcC0B1oC1UOK5ggYIFChbYOAsU5tv+7JcPLCdecQNaisqga4Rw6lNqJDDt4L0EWJYACNrAMgMNpga0pnQ8/vs/4PgTjkNEA+IpHU+88AfsvNc++MfMmdhhhx3w1Refo27IUMQ7u7Djjtvj9Vdfw/httsXHn89ETXUVGpcswjGTJ+OlGa9gl10n4c+vvopTTjwBzz31JM794SkIAwgIcrTgygI3XH897r7rbgF5mQxhZBZEkdlsBl6PBy6CSU0TcOlxueF2ueFxafD73YiEAwj6vPB5XIhEQqgoK0PA58OqFStgGIa8c3G0GB2dnWhqboFumgIcaadUOi3H+L1elJWWIKWn0NLahpRhwrAAIwuY2SwyWYUpCC4FWJZWoHrbHbDHSadgfnsc/uJyLKlfiUk774z58+YhmzHh9fkQiBahsbEBW4wagWAwiM+/nIVBg4di5uzZGDFyJJobGjFkyBB8vWABtthiHJYtXoxRw4fD0NNob21DZWkJagfVoLq6Gh/+4x9oaG1HcWkJPMhi1IiRWLJsGULBMFatWI6Sqhp8umgJKs0U/jztXGxT5BfAXACW/Y2YdX7fG5kXgOVGmbNwcsECBQsULLDZWaAALPtrknxgOenKnyNWWiXAUhjLbBYlyU5cRmC56w7CWAaQgYvASdNgAugyTLzy17/hoIMORNgFdCaS+PPf38OeBx2A5197E3O+/hpj6objsEO/g9dffR1LFi3CxJ12xG677Yy/vvUBtttmG8z78gvUDR2KpcuXY7sdtsc7776L3Sbugg/ffQcH77MPqouL4LNfZO7s2Tjh+ClYvHixgEphGN0EcWRYCXc1+DxeeN0eBIMB+Lxe+NweFIVDqK6pQFVlGWoqyhEK+jGopgrlpaWId3ZAT6WE1TMNXQArf76cNRturxcrVzcimUrDymYQCoUwuHYQotEo2mMxLK2vR1NrDK2xTqStLNKGhYzmgmFmBFhmXB5kXT5g0GAMPfhQmFW1SPsj0OEGiVPTMOD1eoTb4vXJBbtJCRMua27Q1GRLCWg9Hg/cbsJEviUZXNW/6ajWeK6uY9jQIehKJtHY0gLN44VGYK1lbcyoib0E7bjd0F1uVKY68fJlZ2NCuMBY9jdWNuL7tU1Em2qC2lTX2YhXLJy6GVlgoP1hbREu/6oN0WZkssKjFCxQsMAms0APYHnVjWgvrVSgx+USdrA40YHLDiJjub0wlv5sVgFLEoiacqM7PJdmM3umpkF3AV0Avl68HHNmzcaRhx0ML0+ysvC76SSGuI/Jjfb2H/J6vEPWtBD0uKGndYT8Pjnwnrvuxg033IBEIiEMJd23dGn7vGQqs/B5PAj6AwgG/IhEwggFgyiORFBZUYbKilIURyPy79pB1aiurgKylhwb8HqFsTN1He2tzUin0qhfXg+X24OvFyxGZyKBhqZGjBk7FjWDagXktbS0YsHipWhsjaF+ZQNWNjSiK6XDyrpA+EZAmHW5YfHNAxG4Ju6K2l33QKs3BMMTEGBJN77LpUFzacjSTU/Mnte6fEcCRyujgCrd+nTNE1q63S75jj+0QcbQ5f9wuWDxb26PHMe/EXdKOwmY1eH2EvC6UJ2K408Xn6lc4XLdNT8FV/hGD7cCsNxoExYusB4WWF9g2TsuuAAs18PYhUMLFihYoJcFegDLa36BtuIK5QpnjGAWKEnGMe07e+OkidsIYxm0QQ0BkANqCJAIegQp8e+MTSSjqQGfzp6LqooqDK4uE2BJQIkMgRBZRv7ac9NM5tFJFRGHclbFVSpAZOL4447Dm2++KbGRclzWgpYhOPRi6OAa+D1uBlsKWKyoKEdJcRQueeYsPG4ydqa4jpOJLoRCQWE1x44ahRHD61BTVSkuco3udctER0dMAF1DcytSugHdNBAqKoLm9gojGevoQkNjC9riSTS3xTBvwQIsWlKPzkQKupkV1pducc3lg+HyAltsjRGHfA/NoSgSngAsISjV+7s8ClGK0902iYBrm8XMMo7U47btLFbMxYEKgUwXvElXfhaaxyWsprjjxebq+AwvzftZJlweMp/AoFQnXrr4TGyzeQDLbxuAfVvjv7+FvL/vv63nKlz3f8MCvfvX2v7tWKPH3tX+Y/45BWD5v9FvCm+5YRYozOd9263bLg6wXMHknWt+gdbiChjigmXyCVBMYHnwvjhl4njbFU63qzPv9LSvAoQ2uNTI2imM5ABEBXWcv3TzlE6ijIJBNriSZJwM3PZz8Luli5dg8pFHoaWlBZFwGJmMBY8LMNNJlEaDmLjztqgoLRZgyPsE/F6kkglhMKuqqqDrabS1t6G5qRmtra1IJLuEeWQcZjQcFkZzuwkTUFVWhmCArmELbq8bumHJu6RNA7HOBFpiccQ6k1i+shGJtImulIGOOEFmE1Y3NWNVQ7Mwl4y3VJDWDdPtAyprMOqIoxCrqkW7xwcrazuzmUhEBjFnVrqu83hcoRt7A0vl/hd7ETjbjKVQwG4FJBWwdNlUZfexIEvq8QjjXJOIYcYlZ2GbPl3h6px/IWNZAJYbNtEVzvrftsCmApbODFQAlv/b/anw9mu3QO/wkcJY6bZVT2BJ0MSs8N1+dBNaouUCLDPkuTQNkVQXTt9jF5y1786osJNoCFt6Q0thxHJwRv2SP9v1hRiEkeujAR1YlAOltsv8r6/9FRedfz48breATvp3yVBmzSRGDK3BPnvujEjAC4+mCeCMxdpRHC1CXV2dJPLEu7rQ2tomP7FYTBhIutnJijIhx9BTSHXFseXYsdh6y3EoKysWytQwLSTSacS6ElixqhHzF9cLqFyyfBW6kgZcHr9Ed/J5CUJj8YTEmjKpRzdVlnnKTXd4GIGdJiI6aQ/EghFYLi9M+yUZJ5pvo4zQmQ48zAqD2pOxHAiwZDu5lZFt1KoYy3xg2YEZl5y5uQDLwoRWsEDBAhtvgYEyKnm719yUXlgoN97+hSv8d1mgN0zpPb4KY6Z3e9NCBJarCCx//Es7K9wliSP8BM00tiwJ4YoTj8MOUR+KbHd2d954N4jsAYycOMk83ZX81lHsZd/AMh+0KleueLxx322348mHHxHXN13ZBJaRkB8Rvws7TNgCu2y/JUJeDR6RJcqiK9GFUaNHCStJSi+dTqOzMy4/8XgX4l0JSYohN+umPBEyaGlqgpFMYOIuO2P4yDoEAgG0tXegvTOO1c0tWLi0HkvrV6OptUNc3smUDs3ltZlJF4xMFrqVQTJtIG2a6EokYZkWdDK4/jBQNwrV3/keOopKYLh9MF0MO4AkIOXso3zWeUCTwJKMJWWQGHKgoL3DWDIvXqIFDF0Z1WEsJaGJxytgKdiS12YCj5txtBpqEusCljawLcgN/XdNk4W3+W+3wPoCy+497H+7ZQrvV7DA+lugACzX12aOK5yM5e4/+iWai8hYarA0JoYA5OLCZgpjy6PYd+uxGFFRDq/mFpaPn3x3bJYKkpJQY4MeO96SYKi3xLYcQ5YvLy5Trpe7LjEQ5YWy8GaBVGMTHrv1VtTPnQMj2QUjlRTwWBT2oyIawl6TdsDYuhroyRiDMcUNXllZiZpBg5BIJYV19Hq9kvySSulY3dCIZsoJpXVhQAN+H9wulVS0euVyVFVVom54nWSDxzrjMDMaVjQ0YcnylYh1JBBPpAREBoNhuN1eZDIaNLcHnV1JYTbJWCbSOiwrI4DWouxQpBhW7VBUHngI2iIlSLoILJVtNLfKtJfPWoClxvhRQZDdwFLiXO1Ts4yxpD3dtg6nxKs6VLJqkx6MJYCaZAFYru+Y+Q86fqAA4z/olQqPWrBAwQIFC/zbLFBwhQ/E9L2BZWO4VFg0SubwO0YBejIGPJYBn5VGgNniYBJJPt+ooiNziSYS80cGznFmC2Ts5RzPf7puJpnnqehO6kFa8DAxJ5OBr7UV9W/+FZ72FmSMJGDq4h72ahYqioPYenQdxgyrRl1tJcJBr2hDFhVFJTM6ldZF6Nzt8SIYCsPj9WHlytVoaW5GvDMOvmlpSbFIE9F13tS4Gp2dHXC5XUikdLQzSae5DS2xDkRLyiUhx7KYde1GRUUVIpEiiaNM6yY6uhJoaouhubUdzW3tghGLi4uRME0kNA/MQUNRfdChaPBHkHR5ofNdRXNTZYXTZS/anHT120CT2fkiAk8G0uUEItho0gbvcp6uq3YhqykfNQaE5ZR/SsYVMpYBl1exrNWMsbx0bTGW9uahwFgOZChtjscUgOXm2CqFZypYoGCB/2QLFObV/lovH1jues1NaImUSYylrXZo40FqVxLsmKIP6WSBKyBpYxbJ2bGTTljxxu1CJpuRKjgOsOHxKsM7P+nETunJZ0AlcYUXzMJLYGmaCLY0YcWrMxCOtcFlJuHKGNTXAYwUBpUV4ZD998B+u++EkJfxkpqAQ7fLg0QyLSyiyZBMlws+fxAerx/Nzc2Itbejo71d5HfKy0pQUVaKyopyeU8mBlVUVggzOWf+Ynwxax6aWtsRiZYKMC0roxZmUECjYZhIJNJI6SasrIb2eAKNLa1YsXI10rqBaGkpXMEgVnV0ITt0OIr33B/tRaVIMMZSgKASc3dM41QScrAhbZbRDYmxtKFeXrPSj24HFpimApU5nN6z/xOyC2C1TGg+AkugKhHDny8/dy0xlgVgudbxozKmNm1szbdxze79xcbUAdrwiXRj3qm/u67t+7X/3d5praUiUn/3628y7f39xrz7+t7rP/34zdFWm64/bLor9Wznjb3uhp2/YWf9p/fQwvOvjwXYR5wYy4lXsfJOOQwR785fM1XMn5RBFB3F/GJ13b1MSj0K08aYQZeASuXbzoualOv0XI8V8KQgex5IFSmiDAh/QpYFz+qVaPnLawh1tcOV7AD0BGAZiAa92Gp0HQ7/zr7YcmQtIgEXvC5g2dKl8PsD6EqkMX/hUjQ0tYrrOlQUxdJlK5BMJoUZDAcD8HtdqB1UhXFjRmBQdSVSiQQCAT9Ky0sBlxfvf/wZ3v77x8i4/KgeNASRoihKS0vFHnSfd3V2obWtHV2JlOhWGhmgpa0DS+tXiExRuDiK4ppBmN/YjOyQ4Yjuvg9aQ1FJ6GEJSIUo881k29vGLRIyQNBItjJf6FIQvv03ms4gsHRiLB2kbjOcvJHSiBJgSYF0uswJLF+ddl5BIH2gg+bbXAB7X3tT3WvjF4INv8LGvEN/d10fYKmO/dcCy4H2qf/E4xS7sP5P7vSHjekX63/XDTujv/438Ktuuit9O8CSVx14Y35bbzNwexaO3NwtkA8sd73mRtGxNOCRrHCZiW2dRYnlE3eyqvxiQ8Dc6ylNSWIt5bJ1XLu9Jx+ZT3ISOXYspg001VVVKUTqW5LhdGcsBDIW/K3NaHn7L/CsXg5/IgaPngAFjWory7DV6GE4eJ/dMGpIBcI+YlkLS5YsRlFRsWRsNzXHsHBxPfQMUFJWiS9mzsK8eV/Lo9VUVyIU8KBuWC1GjxwmckVGOoVwOISaQTUwsxo++udMzHjtLegZH0aP2xq1g4cglWJSji7AMtbWjrY2ur7bhA31BcPiQqemJdweVNUORrCqCl81NSMwbitYo7dCiy8E3eURYClVgyR0QH360vIUIXWCQT60MJTOR8VRkvGkuLtKArLXT5n4u38IpCVFyTTgoStcA6qTHXj5krMKwDK/Q/fu4Ar0O2pY+UN600yx61pkN2QB3tin2tDzB/KsPY9x7tTdmTfVwpl/n/y79L18bugbr3t67+/tNvfF4V/9fN9OK3S/RW5i7AWiBnrfgR7X224bep5znW/3/P5Hx7+6HxTu959vAfYqOrRVVvjNaC4qU8AyF6fnCKHThapkarpj+Hq9P13fFivEMBZQ6VEqzGgzcj1IOaV3KXGDNrhSawEZOBVnyCu4qFVpmYimuuCa/xU6Z34Kb8NyBI2kCJ6PqhuCQRXFOPSAPTGsOioZ4q6shRXLl0PzeFBaVsUoURiWC51dOrqSurioWRKScZRFkRAiYT8GD6pEaUkEHlcWbS2NKC8rxYRttkFKtzBr3kK88dYHWLqiHYOGjSIdi8rqKsybOxttrS0SHkB0x0o7zLYuq6hC2rSwaOlyePxBjN5iawRrB2NmLAbXqNFojZaj0xeEYSfhiIXs2Mke4JIiRnaIAYElk4MklrLHgqWAI93llmlIBR/HpZ6jZ+za5SqxCsjqpsRYEqDWJGN4+eKzRCC97xz9f6mO5bc7oGgQ5ycfyjjY2zGAEh/lpyfD1ROUbPyE/G0Aj41/qp46YQNpkYEAyr6v4zytgu5rsiYbtqT2AJV51NraOZkNu8+6bOP0s+5oIXV0TqvtWwilGEhbDeyY/u2x4W3ePQb76qt99YKBPXP/R3UDS3tRsk/p/23zt53rw+1t3Hn/GmDZPc+t/5v1b/PCEf+bFsgHlrtf+0s0RcqQonI2wZL9IVAUoEfgsg5gydU4QzerzcDZpGfP9cLGkxmiIzJvqvyOnXSi3Cu5LHJV8xDubAZFRgqVnW2I/fNDpGb+EyOKAohGQigK+TG4pgz77bEzBpWFEPbTFc4Yy0a0tMUwtG4EMhk3zIwLHXEdSYqZd3Qi1tGBZCoh4LQ0GkFJcRgetwKVDatXYI/dd0PtkMESn7l42Wp88sU8fDm3HklTgz8cQd3IEfhy5ufoincI+LNMxldmJEGouLQcbp9fMsjDpZUYv+NEmOUVWOR2obWoGG3+ELo0Dyza2d48E1g61XLE7HZcgCAcJvMILalJMpITpkARdRXmpxhPMpECUOVPebOo2JzZ5zawNLhB8EpyuWSF25V3/uOAZf8LQvcRTkdn3Ee+cj8XeoauUn6A6Lw38HSWoBxJb6vRd08XA3chdZ+jGqcbwOYTyxsyETkwuNuV4ND/Pa/Wv8XWffeNPb+vp8mvI9obuvcE9usEcpsUqPV+z/7+veaTOf2NwFIVxLLDVAClh7ZezscN6RO9e5ti3RWMWJdd80fAxsK8NftL73Ho1O/lGPy27dJ7lGzcGO6rTTbt+Ni4Vv9vAozfxhZ8461buMLaLdAXsExnXRIrmP9RMjWmMHJrZSw5Y9nAksya9Ibey66o4bikPKPSW1TgUoXrqLrXyhWsyh2q+tUZBI00KvQuBOoXoXTpPOwxahgaV9TDA0vKRe6yw3iUhD0Sc+llScNsFnPnzcfgIcOkpGIiqUBlivqSTLKxLJiMW8xaCPm9KCuNimt75YplSCY6sf8B+0mcKLUqFy1ZhY8//Qoz5y1DR9KCP1IkII/38TMJxrKQSrGMoyGspccfgOb1o351M0oHD8e2e+2P+gywKlqEVS4XOpkNzupGipRVwFAYS/V7bhSxdrhtB0mUooyQy45/ZalI50i7OlGGmpy8jkgX2YyxhLk6ZTLtMAQjo0o6upQrfO0C6fYTbQ5Z4X0t1PmK/DmAaC/aqmt1T/RSOgnAwqYWdLA+qKbBnQWiHjfGlBXDb5ufx6XsY3l9ErkBIFePNK951B0GCGhyHdtucxNAkor6tsuA9wnZ91n/5dxZMp0u5AzdPkaf3ck2bFIc+MLpwBPakDbl+zpLnQOqHDBBm/YFhNcNgPKBk7qH8+PYLx+orB/8772Q9bZn/3ZwAOWKjk6sTqZFyJYb6UAmg3FVFYgwpOVfBC57MnW9Gem++ogzsrqf0GlH/r83C7u2vtS9zVHvyvam5djvv17VgJSbrjENbstCVSSMoZFQbhyKa2WAY2ugfbm71b4toNJ/vxjos26a4/Lfc/1GwKa5/6a6yqbc7GyqZypcZ10WyAeWu11LgfRyYSzXAJZkLDNKWHttwFLIR6lXTW+xqkXd14c9XDKf84ClUwrSUSWSzTXjLKU8I+djE8VGAoPjrdjRjKGiqw2rly1CdXkJ6gZXY9TwwSgJe0UwPeDzwefzY1VjI1auakTdsJFoj3VKfW9qWFLTkgwsnzccCqC4KCxZ78lEXFjInXfZERWV5WBOe0c8ia8X1OPTL7/GrK+XoS2eRlFZhdQQLyoKS01yn9cj1yJjSWDJrPCkmUV9Yxuqxm6NEZP2xtxECq2lpWjgGuv2wuRbMVPdjk1VTGTvLbW93mYIuFVJR4XAGWeg7KOYzqyKnTRMiW3VJCOfYQg2MZHLwu9mLN1eHzJaFtXJdZV0/LcByzW5BYIGdi0uSh32/5MEiKxI5AKibgXM+OMAQYmlsHkagsoYgGl33ocFKR0pSgRkMphQU4mbTjtJ6pXyEwfweWsnHn7+eXSl09hl/FY4bd+9UGqDPlWFkz8b5rrlokyQ1QngrSX1eP6Nv0qHPHSvPfC9rcfJc3htcDzwqSv/mdYGKgd+tY09Mp+Vot35rgkA7aai3ku8bqm0ELbbioCju9br+jnkeC/2Dadf8H78EKjz+vxxAOaalPy6Ftv86Wtt7Z0Hbu1D+H5kvtnGfOd7//ASZsyei4THJ6x4GSzcdeF5GBUObkA7b2jL9O4fvQFQPgRccxHnNOS8D9+J45A250cA4DomeucrbtzY5vy0APjBtdehKxSBpbkRsEwcvutEnLnfnojmXWvTQaHNDfBtaDtuyHlrgsv/PGsUgOWGtPy/8xxnXhaBdImx7C7pmFuhbGFtCnATWCrWbM3ZhBtyxvnxQ5cwwU3O1etcw5YcEmBJiR2e5FSFcRKchY2zwafcRoM/m0HUTGOEHsOR5V5Em+vRUL8QNeXF4g6vGzoIZcURFIVDkg3O7HWvP4j5CxahubkVFZXViq1M6zBNCx6PWxJv/D6PlHPMWgY+++QTDK8bgrHjRiMDC1Y2KzW/61c047Mv52HmnIVY2dQOf7gIvmAAJcVFKC0tRiQUFJbVzFrQzQzaOrrQ3JnCylgCIyfthaWuIFLVtWjy+dDp8iDjcqlscGEsbfAnFXhsrOLITlIrk3azlPC8YiJVNR2eJZn3tjucGJLA0uMm26wp25PxzItvlZhXCWlQsbI8TulYnr05yQ11dyxnQWOXEmAC4Ok/v4EP58zFyrY2wOOFmzEbmaywHmNqa3DQbhOx54StZIEK2gCD9iQL2frNonbBXdMxxzCRdHslK2yHqnLcfvLxKLfbo163cMqNNyMZKYKOLCKmjkPHjsLFR022GcV8nrQ3Y9n/lM0FmSzlPxsaMe2hR9HhDSCraQglk/jRsUfiwC3HCTDujkTpb3pw7pl/7023JPd3997fO/3aAZSLOuOY/sxz+GrZMmg+vwoGTiYxbvAQTD1qMrauKhPAQTDtQPX1eXqHGZy1ajUuvvVWpP1B4T/9uoFDttsWl5x0vLBgygHTe9Lq7075tu2fR1aDjvs+TcAXNyn3vvI6nps9D51ev+xeq7IGHjj/bIz2efOea32tvL7H5y/Mvc/ti7Hs2ZdoTwL3V7+YhXt/+zskPW5YLN3VaxEQWRAHbdrmdq4eNg08ccN1KPZ5pX7wadffhLZwFKbmRsg0cNTEnXHR3pNkA5dbeNb3Ndd6fP/jcpPdajO7kLPAc97p7eHp3nBtZg+9xuMUgOXm3kI9plc7pya/VjizwnVxMPecbyR+0lAxlmsmkCjCQVg7wwaWXp/MOzkfly1NIVnjdsa3igdUVWKEQSSDKcBJJfRYdKsTQLk88GUsFFkGxmbiOKbSi5rO1Yg11iPscyEU9IlMUEk0gmg0Cr8/iEAwBJfbK7GES5bW46vZc4SxDIfD8Pt8orMpydWZDNrbWtHUsAoVpaUYv9WW8PpcUgmHRB+Td1pjSXzx1df44JMvsGxlI7KaB26fD9HiMIbXDUNROCxMIeWVqJfZ0BLD6o4UYi4fOooq0FJRCwwbiTaXR7w/xBG5QZ4HLJVd7dhTKWOZx1jSPraL37G/yiRXGphiUwJLzvl2NR4h7JxqO3bHpD4ngaVkhdvA8uVLzt5cssK7F3IVAUFAqKEJwKNvvIWXP/gYRjAEnR3Glg6Qrme7Fd1ZCz7TQJGl4+bLLsFWAZ8ATE6gBDoCLO+5H7PSOpIeD8LZLLavLMPtJ01BmT3x/m3BYvzk+T+g1e+XzhgxdNQZKTxyzVXCJrIUlb0X6DNPXNbTdbjwODwIch998208+uEn6AiGZAAUpVP43qjhuPzoIxCxgVb+ZNL3NXuDSmdV7w8w9ZymBrrsDiR73QF63AT85h//xFNv/BUJnx+mI4DL/s1yWrZA7bH77IkzdttFbCuxrus5gzpA/bPmVlz46+mIB8NSjzZiGPhBVYQMAAAgAElEQVTumFG49OjDZUMguWm92mVg770m47O2R8y/HjcPBJZ3v/wanv/qa3QQVMNCVcbAg+edjbF+Xw5YbmqX75rPt3ZgmcuY7HFSz3fmWKSX4M8LluC2p59F3OdHmgyDfU43f6DQpCMnJ5mHZAk0DWV6Ck9cfgkqvS4Zz6defxNaw8USIhCyDBy1y064ZO9dZRzmY9P17A59vsVARoPK8epuwb7VC/q+0sa03/qc219/7et7LqFdeWE3NJAT3kM2nxu6/ueZjWmFTXFuAVhuCit+69fI64DOhkZlhd8kGcv5WeE59yzBCpkuusIl83jNjS7ZsAxdk6y9zeQQ+5AcuHF0FDNZESB3eehXVOykgEsBnKw+41ZlDR2CgV5L1gU3dWyJBI4uc2ELTxKJlpXIGAkBVbWDalBSHBVgSTd4KByBLxgSXyir5HR0xrF44SIsWrQI8c5OWCStkkzecaG6qhI1lZUoK4kiGgkjEPSL3JBuGWiLdSLWlcbi+lV4/+PPMXveAiTShsgu+YN+RIvC2HKLcQgFQ2IXZp03t8exrD2OlZYLHeWDYIzeGq3BYqS8fuh5gVWMHxVXv8gzue3SjN0kmGBMOyQgYzIMwSmByZhMp8KO+puLtch1Q8Ayc4Lkb3QRd+cBye9MrmI78vl5MHUsZ1x+7uYGLAm8NWH22r4BhVc//ht8uroJcW8AlscrUgHuTEYAIzuPZbseDVLgDJplnEIyjpumno6dqivEHcpu6QDLL9MGUl4vgmQsK8tx50nHC1PCLjenI44zbrtTGEsaKKinsX1JFDefc5aAVF8u9aE7GWJ9BiyBJd/rzQWLccMzz6HTH5C+HtFTuPjQ7+D722+Ti7Vc93V7s29qUc930Q900eqPxxvodfgEDrv8SVMTrnz0SbR4fdA5oLOAj3plZPOkGgDlG7LSTjdMOQb7jhwuDPPAmVplHbYrNw2ftLTh3OkPojMSFTdtsWHg8DGjcPkR3xVGlItp78+6IGN/wKIvm/QGlgwBUMByPmJeL9xaVoDlw+efjTHryVh2B5+vS5jffgLpBipQ3QleH1gfzYeK3Wewf3ZoGl5avBy3PPM8OgIBCSXhRsCdZWk2VXvX+eTH4MjkngVKjTSenHYJqtxqo3jK9TehJVwC3U3GUsfRBJZ7TRJgORAg2N/79OjTA47VXBt0G/jmor/n2pjvewL4tffnfPtxE/vPVatx3T33Iu3zy8LAUnZXn3kmJg6tlTEnM8eAbbQxb7Ch5xaA5YZa7t91Xj6w3P3HN4nckJ51S6xgjw/nDZNxkXTZqnkr98kv70hGjH5eriXi5u5j/bNrYasYy74mfPvaTllDTYOHdcGzJkakWnH68BJMLPEg1b4KbU2rJBGnproapaUliEQiUl2HwNLr98Pr88MwLKn5nejqQiLehWQigUQ8LuCW7nDGSHpIGkXCCPr9iIRDCEQiyFi6lGVsbI5h8fLV+GL2XMz8ap6UePQHA6gZVA2v1y3VeyKRsADajOZGPGWhJePCEssF75bboaliCJq9YZgeH0xCRZulpei5CJ87tnTsJfW+1VqsfoS+tfUrncWCLJ3jM7ePEzbYFkhXqLT7Y3vpYDFWlm51r7RjZSKG1666YHMBlt3PS4DCnfYT7/4dD7/7AToCEWRcbngIGi0DAT2F4eXliIbDqG9sRFMqjXgghDRd4xoQNHRU6Uk8dM00DLbZMMZ2XXj3/ZilG0j5/PAbBnasrsCdJx2HCvvWvOdf5i3AA//3tMQsjKiuws/OOkNc5dzd98xpyy2l9i/2rsCZrJ2/OnS93U4EPgQdT771Dl56622hsPfeYQecc9ihAnAd5k7i1/oYQPljT4WbqEi37iHZc2l2+pCjfyryAHkXEXeBLUugAnZzESxq0cm9Xf/TFBcyAodzbr0dS9wq9sPLmqypFPYdvxVCgQD+8vlMdGou6B4PAnoaE0ujuGXqD1Bix1z2f5fuIxxg+c/Wdpw7/SF0hhm3pyFqpHHYqJG4/MjDhA3lhiBvxsr9yt2sY4u1AxqnYoEt7tvLHt327L6Cw1je9fLreH4OGcugbIiqMzoeuoDA0rOGKzyPL7Ptbl8v117rYsx6t9Q630auvz4Ajgz0iwvrcdtzL6Dd54PpccNnZWRzVpwx4M9YKhuR/aVXcDcnsLCh46EfXYUij0u07U65/hdoLSpDGhoiliHA8uK9JkkfkEgfR3uuzx7oZHl2iy3n92faUUR7uYFZy/nynHa/79nfbGUIO1a226r548s5Yx02dlxRAvDVeMtdIe87J9jfkffIf5a1byYGOiKziEPDB81t+PH0+2V+ZBNFv5EwufaHp2HP6nIZG2p+UO6tzfNTAJabZ7us/al6AkulY0lgyTXc+ShWja5ZlbyTP0a6x7PtCidQymTA5JB8V7iTnCMjQoAlseeaq3SuZwur6cwfQMjngTvZiaFdTZg6vBSTSr1Ita6E3tWOdDqNkpISVFSUS31wfyCEcDgi4E/WDZcbum7AMAwBlclEUrLXyVrSNU9w6fV4pKSj1+2WjPWOjpgk7yRSaTS1dmLZigbMXbQYHYmUAMtl9fUoLSvG2DGjUV5eKnMU57GkbqE5lsCSjhTmmxowdgJWl9aizReByfjK/FRQTsTU/SRAtBd9Wd/zkng4G5EMcGSccouBXa0ofy0SRtkOL3DYYglGcATrJZyB7ZOFl+1jl3R8+dLNUCCdAIVA8Ly77sVXJlSMGkGlqePUfffGkTtuIy5jx83d+A1zee1DT2JRLI60V7Ga0XQCk3faARcesI8wVmQ/L7h7Or7SM0h4vJI0wBjLO09WwJLLFAEBwSV/CG4Z7+gAHpVk0v2RBcxmzXrHMPEoYXTsZ1TQTx3P3xkzSlcpf/jhu5BZYzwgnyM/+zZfkkXGj/3j3FM2E3nAt3e2cT6kclzVjuSSAzDy3dD5x/Nazs9Alh3arZ7A4bqfo6WoBGm4EP1GLuHaM6di1xI6pYEF37z35bfdg1a3V1ziwzMm7r/8ItkAqCMG/iGwZF/5rC2Gc379IDrDRbA0CLD83sjhmDb5cFk8OfQ4+HJKDL3c7vlZz45N+N7sX8KMs6atrevVlz2d6/I7nueoC9wz43Vxhcc8fjCfsTpj2MDSvQawdLLanWdxEmQc+ztJXQKnHPmMvGx4h9FiO+W3mwOOaCun7wg5kLeJ6S8EgYlvLy5ajluf/b0Ay4zbhYBh4szJR+A7Iwf3227s106CHGMsCSxbIiUijxExDRw9UQHL4mzWUbXIpXQ5z8zxmJ+R7ryn47lwxidbStlChdP0bnOe5/w93x7O+byeiuLSpB0duaj8fpE/rvsaFw4Uyh9v+bn2Tpa8miOcqiE205w3vp22c/oir8t25E9+e+eexw6log0Yz8YQhvfa4/jx/Q+ik8lSGSYr6PjJD07D3uVR2cjmj++BjPGBj85NdWRvdmrzfMpN9bb/DddZE1iWQ4d7DYF0eVcm5giwdDQXe3tl6NpVMZQqeaeXhRyCTe0oc3Wtc5VmbI1LbpwYmsPNnOhdaoBXy8Cf0VHb2YDThxZj11IvYisWQDMSAhhZYrGivAxF0ShCoSL4AwF4/T6YliUgioBL13UkEgmYhgGDSTzptDwv70+WMhwMIhbrwLw5c0WKqHZIrdQaX93YiuWrm7C8sQm1Q4ch1pnABx9+KHGVI0fUYdTI4cJY8jqJtIklK5uxuMvA1xkPrJFbYlVxDWJ+rndke/PAtF3NyNGe7GkuW4KIyU5MJZJ4U/7NzkIQBtJ2dYt0pZMVrhhRAkuVPGVXgXTZG3E7eYc5LyTKqrtimHHZZgYs+dgEKAu/CVg95+Zb0BiMIOFywZsxsfPgWtxx7JFrxOTJ8WQkb7oNbf4gCOqDpoFRAR8euOAcAW5kXS665wHMTls2sHQYy2NzjCXdqgR9BCtcCGhuAj66jJwEk3xw5wBRMpCtFiTbi/EVZQGPTNpO5jPPdRYbNqVzHv/PjyM3RCDLZnWYOCcDl8/hSCLxGZlM0ZwBunRTdn3Vfk8OAPMavfdszr35XgSzDAtoSxkyyCpCfnHzE9RxyuY9VXfrjsfi8zlgZG0Tn9NuXwOYesPNaAsXy/WrTB2PXXUJaux344Zh2uO/wectMdlQDTZ13H/FJaiz7bU+E6sDLD/NMZbdwPKw0SNw+RHfl77iJHDx3VQYuHo3/p3PzXZg/2hKmzJpRIN+VGkK8Dsu+u7lTMEO9g8nSYnt35I2oRsmysIBFNsH3z/jDTzPrHB/UNzGVZaOB4Wx7AaW+RsU53otdD+ndJlEoyGftC3fg23L53ba14mhy28zAiMnjs4BXU5/4ns6QMnpU06yWP77KQt1830ElnSF/+rp59AZDMJird1UCpdPORbfrxucy/jOn8Sc6znAhfdjvyVjeeJ1N6K1qHQNYFlqV4RwGAsnhpb9ljbmc8SSatREAz6UaD3HpyNp5Gz4eCR/eB3awgFgtAev1WxlRf0h4PGg0ueRceDYw+lbBGdNuomUaSHo9aDCVjVwYqHXHBdZCeVxzud8osab3bdCfpRx85PXTkptgkA2a2fdazIP8T1oP84fHP+Ot6M5C8QSaXjcblQGPGJ/53mcjQ3P5zv+I57GtfdNlz7Iu5AhvuaM07FbcVD6lJPk2HvjvD7jsHBswQL5FhgQsHRc0iLAbYMjp7x13t5BMpf54zCWzrzkePPysp0FWBIQMbnQeSB78XPTa2BnTEvWs1sj1IU/a6K6owEnVQexd1UIWscqdDSuENBVXlaGsrJScYX7A0FxgTPzmawogaWXySrM8o7HYegG9HQapqELa6meWT3F+++9h7feehu7774Hxm0xDh1dCaxY1YgvZn0lMkLfPexwrGpsxt/few/pVBLVVRXYbrttUVqifArxhI7Fq1vxdSyJRd4IrNFbY3VRFWK+kOQUZOkGdyoNUficLm6pVNRLINHR8gQ38FkFLO2qRIrd7K6trgIr1bUkZ5z13PNCAWWFEBaLdlVZ4aziw7lblXQ8c3PKCleIuEvTMCup48Lb7kBLqAhJtxseS8d3xm+FGw7aX2KxHEaQHS+puWR3fvp1P0fMF0BaIxC1EEkn8dR1PxGAR8byQhtYMnlHYiyrysQVTlc3uwAXkKvuvEtc5dTY8xoGDtx2PKYceECOYWLfdIDhl43NeOa11zB3xUok4RaWgE3JRWBwtAiHTJqI7+2wTW7ydoDbvIYm3PLEb5CSGqmMe7JwxmHfwy7jxsgCyAX45w8/hhWdXXIv/m3S1lvh8IP2w4yPP8Gr776HNt2U79i2IS2LnUePwLlHH4Uqe3F0xqYDnHjNj5bU4zevvo5lbe0wbXqcGfWja2tx7kknomHlKjz5/HPIEshrGgaFg/jJ1B/KwtWbCe09kfDfBPjzvwEPZ914C5qDEVkYq/QUHr7qEgy1T1hNV/mdv8YyKyvVD8a4NUy/5Hx5bifma6DTdH/A8jIbWNIG89racOvDjyLtVRGX7nQK1105DR1GBo8/8yxmLV+BpCrYIO77QeEwphx8IPbfYkwP2SK2l2FnStPtf9fvnsNXy5cjyfJbVgYhtxvVpaU4+bjj8LdP/okXP58pKgQ+TUOloeOBC87EGL9HAAzbyJHyIeB/+q9v4Z2ZX6JNN5Cm1ANjU10air0e7DJmNE497BDZBDnghyDxwT+8iI/nL0BKNMQ0KVV20amnYpuKUjmOH7b9W/MW4Hcvz4DhckuGOrOx995uG5xw0IECRNcFLDm2/rh4OW595nnE/H4ZK1EjhcuOnoyjRtah2HZfKzzai1HKi2mia3bFN5vAk/tgLBljWWKH+jjMHJ+7MQv835/fwMdzv0a7rsMge5zNwudyocTnw+7jt8JJB+3Xw7PgMMa3Pf4U5re1ywaAY2i3nXbC9/fcFb//21t48/OZaEvrsDSX9ENurHYbvxWmfu9QAXIEZo+/9Ao+mvs1Oi1LQB2VOcIasM922+L0gw/IgUMnNthZUHk/2uz377yPNz/9HM3JFFJOlYtsBsVeL3YYNQKnHPY91HpcOYk0Z7Py0B9fxEcLl0qSFGeIIZUVuOjE4/H+rDl4/m9/Q0O8C3pWufoDWhYThg7F2UcdiWFBlRRGIH7DI49hUTyJJrcXK5NppD0+mfT9GQOVPh8qkRWvzqUnHI+tGde1AclzAx2nheP+tyyQDyx3/RGTd5gV7hYdy/zEHbGKaYg+pR0EYyebdNsrByxtxpKsu5RodD52URhmOwuzyRjLnDC47d2RutcUD2d5SBty8rBsBgEXUBlvxpFlPhw0pARlVjuy8RY0rl4ljKOTvBMMhiQ5hcCSzKnX44PH4xVwRTc3XeEmxcxNU1zMBJft7e1YvXo1Zs2ajZLiUkycOFHeb9HiJZi3YBG+nD0Xw0aMwvY77oKZs7/CzC+/FEA6uHYQttt2AkKhkNTqbu1MYElTDPO7DKwoqYExcgus9peg0xsUtlcJv6sSjDyfSTkiuyQhON3b/e564Vl4XJoSc5fF0N5W5uZutdEVbEmBdDKiNl7oQR4oVScVr2kyA1/JG7Gk458uPhPbRvz50uw9BoH27xBIJ0BZ/s3PGb+4BStYqojJD1kTQ71uTD/3LIxymCQJq7CEYieoa+WCTDpWLAJ4LU6iXlkUFLC8H1+mTVmEg5YpWeF3nXx8Lit8STqD026+GZ2hsIiN0k137A7b4uyDDxDQw30Q70N269EPPsGzb7+DLpdbZT0LVaziLMU1zcxnPYVdRwzD1VMUK+q47j9taMblDz6GLrIIWgbhNOWGjsa+Y0fJwkCm4dz7HsSCeEISHLiEbDFkCCLhMP4xexYyPi90SYdXnBtjT716GluURHHnOVNRmcew8t15vaf+8QWefP0vwtYyRs7pIPK8mSwiHjfGb70V/vnlTOmQBNUjQkH8+sJzBPStjdFQG0IVt0KAL4zUT25AU7RE7FJkpHHFSSdh/9oKAVG/mvEXvD1nnrDQjL07ZecdMHW/PQW8+fLizwYyFfcHLMlYkhkiAP9HWwzX3PtrdPlDKtYn0YWzp07Fb559FjE9LZuRrGQ7M/6E7QdE9TTOP/QgHL7d+BxbyPclaJidNHHN3fehOZuF4fPltB0ZuyLtTzatrAz1bTGZUL1ZTdjbBy88K8dYsm0IKBfpGVz96+lYkUpLe1OGR7Wtctx6MlmRxqj1eXHVCcdhx6pysRfPX/BNfM7Fv7oFrdyA8T6ZDOoCPjx44Tm5ft1MsH/XfainkK/mQsA0MdwN3HrpJRjmdeXY8L5szvcVV7gAy9+jI8AemkUklcTlx0zG5FHDc27uNc/P9TJ5FwJLusJPsoElQyWKLFNc4QSWkkRHe2o8Fvh4RaO431enDVheLwwnWNyOLWG/9ZgGhgQDuOX8s1HnUcy700ZXP/AIPm2LSZ93ZyxM2HIrpBJxLFq6VPqqJJLZsZjuDOA3DWxfNxhTjz8GP7vvEazujEvyWVbGi8q2JNCLmCZ2HTYEV59wTA7oO5tGgjqC56vufwQL2mMwPD5YdsUQITBcLM6QhccwJJnp4qMOxz4j6qQ9eQ3a+pZnX8BfFi1BwuuXvlRdVoqxw4fj7x98AIMJcVwANBWXpmUsiVUeGQrgxgvPRZ1LAcsLpj+CObE4kt/0mZSm3JBO0pw7Y8r8VJzswq9+eComDq6WzUXvLPGBjMHCMQUL9LaAAyzXpWPJcwRkWqYwgCwp6DBs+clkIknUwxXuzCk95f7oSGfCDQW/HQAlW9xcnoK94ZUscU6vLkmu4Xgu7mzB3lEXDh1RibpMG3xdzVi9ol6ys6NFERQXFyMUCMFjZz37vH74fEHbhUz3ugU9zVEHGCzDaJK9TCEWi2F1QyM6O+MYNqROYjYN00AyncaCRUvw2RdfwuMPAy4vFixeIjGbTBYaXjdUwCXjNNO6gca2Dixp7sSCNLC6djiSQ0ah1R9FwqPUaxRYl0LqUlXIyb1Qnh9lr3y1DhVTrbK5HcZSubqdWusEVkrZkvGTMs9wHszP5LCr8KiLA1nDFrpnScdUJ15mScewb/MAlk6H4o6fQPDKhx/DR22dIteSyVqIZCyM8flw2ncOxm6jh+fiLPNjnvI7uSzNWSCtqZhNAstZuomkx4ugZWH7ylLcdbKSG+IivdAATvjVLWgPMyjWLcDixG0n4LwD95F78UPQ+9sPPsbD77wn7Kjl8kgMntc07bR8TVgQgheXkUbUTGHPEXW47rhjZNEjy/RxYysufuQpxCgnoGVQlOrCzyYfiQPHjBAAQ9fZ1Acew7wEmQaVyeU3dAGQMtCYEOD2wNRcSFOnilIMGUtkXS75zoE4crsJuQWW3f31+Qvx8+dfREcwLOwNqTB/VtVLpc25iSP4IYuZ8ZDRysJPJjPgxcPnThU3dn4cZr6NHWDJvzEZg+32y2dfwGtL69Hl8QkgqvB4cPGU4/D8Cy9gTnschtcrzNqYbwbtHef8UOIrxVX5LQFLMl8fdsRxxX33ozNYJKyd3zLhV+q70Lkr87hlM8FFm+3HN45aJkbCxK8vvxDVtjuS9iNT+YNb78EqzS3SVeJqNU2ZpCRDmpd1uVRYgUs5pAksq/OAJRdxts3Sb1yy5998O1Z5fEh4qcuaETu4mWnHpnLTrcpNhAfhjInBGRM3nXc2tgoyblOB3Eff/QBPvP+RbFT4KTVSuP7Yydi9bqg8w/Mff4L73vgbkuGIgIuoruOcA/bFUduPF6avr6x5p41zwHLRCtz67POI+fy2YkISFx13DA6rGyygyPnk85XsM7w27cJn7bIZSwdYOjGWx9gxlnwW2pJj7J/Nbbj+kSfQ4PEjQeaOi0HGgidLhzEEILOdyK5zXhiWNXHvZRdgkM28cfN3xcNP4KNYJzrILrBtTBOBrAWNLh6GM7CN3GwnVgXxwMt+z/rBxcVobu+0fT1Z2ahybPB+FjM+TQMVhoELjjgMh48bhYgdk8l+RlB56e33YFEWiLu9MhXz2dnf+Q8+Nyt/8VpB08QgK42fnz0VOxYXiVeAwPLmF/6EV5csk+dmf/JpgEfX4aJbSp5DgyXjVY1Zzj1RPYXDd9wOFx24j7T5xdMfwbwOAks/UqKcoTYqXEzppfBaOkpSCfzy9FOxS20BWBbg4aazQD6wpNwQK+8YmpNk0n0fcaHalXccFjKf8BBAsw5gmT/nEFARWGpcL21iSSW1quQ5lTTuxDPbjBxZuWwWUSOBIXo7Dh07GPsMjiKabMOyOV8i7AZKIn5UlpUiTMaSJA+TcrzMDKdgOl2/ij2lW5nsqngI6Vnhj2Ggo7MTsVgnKsoq5Nh4Ig6fP4DVDU345LMvkNIzMLOUFEohbRiorKxAbU0Ngn6vhJJ1xruworkdS9uSWGB5EBuzNWKVg9Hpi4gXwom2zrGWNpaWN3QSh52ESsdt7cRi2y5zpfupqu1ISUInSl0Ao6EyzvsAltwIEFSTLSaIIKNrubIYlOrAyxed9e8Glt07EKejcHHhAv7BygZc85v/Q6PXJ4wSqV4CHk7INZEgdt16S+y+9dYYX1Gak5VZQ/g3k4HucnUDS9b29NoC6cJYKmBJ9muhkcUJv7oVMWYXuzyIGjpO2GZrnGsDS07Y876JpZx2z3QstbJIE6AwNtBIY89xozCsugorW9vx3pez0e7xIi3shAJ8d009HRPKy6TJPmlssYFluE9gSXB2xgOPYW5XEikCVJYDtAyE9TR2Gl6HcXXDkDZMvP35F6i3gIS4EpRs0faREG4/+/RcxieZ34vuuhfzjSxS1Oe0LIS4oLmAPbbdBkXBABauWoUP5i9G0h9ESuQasgiYClg+dO5UWazXDiztHZHYUJN2YwLPqb+6A00uryx+Uo2Agz6blX/zXUb7fbj29NMwNhxQbE3eoJcstAF8BspYShhAZxem3TsdHYEwDJcHbtNA2DJQ63Vj4vitUByKYHFDI95buBBd0t888FqmtN20447Gd0cMlbami/TJ9z4StYKYPyCAz5cxZXOw17YTUFtailUtLfj7nHnocLmFLSNbRNaxxjLx0AVnYbSPLLSK67zyqafxj5UNSHh9snkMmWkMixZhj622gtftwWcLF2Jm/XIkAmFxdbO+7d6jRuDGyYqN5VghmDn9tnuwgnJOFP/ne+kJ3Hv1FQJeL7vlTqx2e2UMBTNZjCkK444zT5V27RaQVwbvPRq7geVKAZYd/gBMl3K57zB6FMZWlAtI72YZup0lfI6xkTAO3WkHAZgOm5fvCi9i8g6zwveeJO/DMUaG9cIHH8dX32wG2LfZ9xjWMq66CjuNGysT7odfzcWi1lbR1WS1iLBh4Pvbb4dL9t9TNlUE3ASWHxJYMtAeGkKWieJUHLuMHYMRgwahLZHEXz/7HDHNhYTLiyzvlbWk9GYgmcC2I4Zjy7ph0C0Lb385C6uSKSS8XjESWcI964bi5uMmCzjnW3ND+PM/zMBb8xeIl4XLWEA3MDgcwt7bjEfA58FnCxZi1oqVAtC5mQsalD0rw12nHi/PzVjSXxJYLl6CGIGl5oLf1FGcTmL8kFqMHzES6W+qdTH8YVFbDHFmYrrUMSN8Hjxwwdky9v/47vtYoZtYkk7j3dlzoHsDApTJyu665RYYFvAimurC4btNwvCS4lwM6gCGXeGQggXWaQEFLLNYCQ27XUu5oXJw262yl+15xnGh2gLpTnJk7ns7QbE3sFTsXO/iykofOQcsHRZPAJUiT/JrWyvcpDZaXFt9WRMRswtD3SZ2KQtjGNIw6xdjbHkENSENNSVhBIN2mUWq09AV7qUr3Kcy0bnB4xzI984wKYY/qsQjGcdkMoVgIIjOjjha2lpRWlYuFXs+/3I2Wto6oFtZpNI6upIJRIuLMXRILQJ+L9KpFNrbO7G8tROL29Oo90XRteU2aI6WIekLQXdRWN6JuHdJNR0pQiKkhM0Ai52Z1NQjcFUlCduVipQ2neak8RsAACAASURBVC0kL5Ud1RwuRS/IWHL2zI9bzYFWQlHGYTITPStC96pWeAyvXPxvr7yzJrBU3UEtDk/P/AoPzXgFnR4vdK/fZpPoqjThM9IIGybqioux7/bb4pDdJqKcICwXrK/KOnJB42J1ERnLAQJLsoHFpoETtp2Acw/YW8APAcr1L7+GGbO+QjIYFjAUTSUlTumAYTWySNPt+kVbJ37y0KOIeTwwtKwwn4cMG4JpU46TCfyfjS246OEnJFOTjdg3Y/ko5nWlJM5KstxNHRccezS+Uzck57rkO51x1/1YnYG49Rg3V5WI4+Frr8QwG3T8ccFi/IqAIEQW1oWwZWJUURg3nXFajomUGLyGVtz8+JOyUDPr12+aGBPwDQhYOnEcnDgIDMgO/2bOAjz859eQcHnkvuJeziqJml2GDcEVk78vbjsnYcnJcheGZ4CC6esDLB3GUgFLt7BOY0qi+MXpJ+ckqdhPnp0zHw/9aQYSdHUQGKQSOHqXHTFtvz3F7owRPf3nt2BFMCSlGsn+UOD+xjNPx/blRQKgaIMvutL4+UMPowFuYYx8ZCwtlRU+0sd4XGBuPIGpd96LznBUWCgCsYlDanD1cUfLZoeDny7hR999H8989ImwT5xASxNdeOS8szAhGhHQxWNeWbIctz79HNr9AZngis00jv3+YVi8tB7vf/45Ur6AMHUl6RR+dOrJ2K+2ss/Y2XUBy1ueeQ4dfj8MuoTIelFKSnRlu90t+dqZRYaOvWqr8ZPTTs6x9dzo9I6xPMYGlvQKsA1emTsfN/5xhrwLFyj22cO3nYAzD9xHnpl349xw6x/+hL8tWoyUm5WMNFSkU/i/Ky+WUBDa5MpHnsCH7QpY0k4lpiH9bv/hapPAscqN4pW33YkWt0/CaPj8lDQ7YdeJOGHXncRTwbbic19138NYoqel/3hNC2OCfjxy7hniDud8NT9t4dRb70B7MKwy500TE8pK8dMfnCDPxPYkG/vMJ5/jkb+9g6QvCCYVlCbiuO+MU2WDzOe+5fcv4fWlirEkqxO1DEzdfx8cbXsieC+O/Wsf/y2+bIsh6fLAk82gLJ3E/eedhS0iFHFW93q/ows/nf4AEgz0B8e/gZ+eNRW7FqkCEjL+shlhMh2BpgJuKlhgYywwEGApm1gCHnr6OJ/kS3LZN3fgI2MnxX2bq31tFwG2wZITvkQwJ251Mp22q5bAR4CVXQdb7inAqDsczO2iR8VEMN2F8lQCZfE21JlJ7De6FmPCGQyKuBEJB6SyDkElXeKMs+TvAk5dbgGSBMfU6jSp7SuhKi753TBMmEYGLS2taGhoQElpGVxuH2bNmYvG5jYkUinEOruQSCXh8/sxavRIKSPJbHMCy2WtcSxJAI3RSsTHjUdLpFjYSvGWOiEuBNu2lJLFeEeOZ5Zi7BX2TjuSZVR4U3lA8hM1nXPERpzXJEGYtcLzEqJsYGnnhEvbZAxle3rYatOd+NOFZ2JCyOsoHq3Rnf4tMZYOc+JkaX+wbDnuf+llLGYhdibnMGZJMqEysqgxNo8LHHfqR+65K46btJMszHQM0rSs4EOww8o7swVY+qSk45qu8DzGkuKmRhonbDcBZx+wnwBLLmbH3nY3lrvcsggx83yPQdW4bsoxueQBdluyDrf++a947dPPoHvIMumos0zc/9NrBXh82ticc4UrYJnowxXeDSx9po6twkHccbbS1HSSXMh4/fK1v+HVWV+hy+0RFqks0YV7pl2K8QGPAJwf/XEG3py/WBgU7hkrjBSum/pDTCopzrn3Jcv8G9B09h33YWkWSLnpKnYYyzPXyVhymaeYD7sh3W0OiL/3vY/wx48/kbi/DHdW2SxCGQs7DxuCayd/T67pxMNxMaXNCBRpH0d+iSwfXQ+qk6+5AXGAZbeOZZFUCBAdSzsrnIsn3++DWCeumv4A2n1BYRDJ/l550hQcOrg6B7B43BLGt956N1YRELONDR17DB2M2487UgDvLAM47+ZbJVyC7u6QYWCv0SPw0yMPzWWg0+58n9tffg0vz/saCW8AbkvJDTErvM7nlme6/9U38OzM2YizDi2FxPU0nrjiItTmtTHBTwPjEu+6F40apz8XookErj3sEBy+9TgBSE4BgMunP4IvEml0cdLLqtAMTjwGd9Aa4xkN7D14EH50/FHSj5wEonUtIjnGcvFy3Pbs74Vp4/hjqwiLLbvAvIB6TW0zONkU6ynsV1uNn508RcYP7dIjeYfufVOHAMu9Jkl/IFv/k8d/i/ea2hDne2QsDPF58OAFZ8pGiFO5k+TCMIJTfnU7YnRNuTwIdcTw63OmYkJFqdj3amEs48LqEQSPL43igVOVh4LP7qgBnHnbPVj4DcBMsiwbQ0qMFJ698lKJLXY2Chz7v/rjK3h14SJhoT2WhdpsBo9fej5qNHWtJ9/5AI988DE6AkHZdJYYaUy/5AKM4hxg35MglWPthw88gcXJtMhj0U7n7LoLjttjkoyf2/7wJ7y6cCniPh+0jCmxkC9dPU3CMdgHnXCB338xC3e9/hfEqZMq/SKOe6b+ADtVlNihB8C7zW342cOPosNPYKmBDPG1PzgF+1UUC7B0Yqe7s9sdD4Qz7vqDGGuOy55ndDPY6u+9krv6u3zh+/84CyhgCYmndlzhZCx7lnTM2kyXqjGtgGV3qomKj+yOw+T3LHkocZQKGSrZNbv0oFPX2u1TkcLs6+KadipqkZXL74qSQa5i2Pl//srNGXMLStMJDIm3Yt9BRdi9zIXBXhPhkA+hoF/p47pd8Pm8NtBVI4eAUjKnBdB54HYr4GmYFhLJlNQWb21tQyqVkmO74iksX7kKnV0JJNJpNLW0iSvcF/CjrLxMMsLJdra1d2J1wsRKLYSO6mFoHTYKrQEVqkfhdA4npVtuVy4iecjkHcZICrBUWqACqPMyeuXNCYCd5B97aIqJhMFUGeISriDfObqYDptpzw/2tUXv0uOR9VcYy8vO/Xe7wtc+bhxNPwf4/OmzL/HqRx+jvj0mQfVkDiw34ZJKZKFQcyiVwITKMtx8xmmyeDoLr7jXhLFk8o5yhecDSy7Oi3Ku8LAsxMx8nbLdBJx1wP6yMKzMACfcfhcaPF61UKdTOHP3ifjB7ruqmtd2jGBS0/BJQys++HoedIZ86DoqTAvHHLCfsBYElhc98iRiZDbIaK4FWNIVzhhLMpHb+H2467yzZFEkJ0U2jYvwrX95Gy9+9gU6pCpRBiWJLtw97VJsF/DIYjf1sd9iJvU93W4EDB2j3RlMv+h8WaQVr6GkTWifc267Gws0l4BUf8YUuaaHz+kfWDoTiVOC87rHn8I/VjciIYyT0gN0XMZ06V0+5ThhXmlT2v3RGa/g1c9nSn12gvXzT5iCfcaMQSBXPWbjgaViLKdLnKnI+KSTuPrEKfje0FoUsQdls0hobmGmzr7tbiwBRdx9CBgGJtZU4Z6TjpFFeEZ9A2588rdIhCIyGRWlk7jp7DOxuy3fQkDFOE2yRXex8s7crwX4eDKwgeVZGOrziBv8snum44tUWjZL3ixQZpl4/LLzcwu+s8FiO5//0GNYyuQbJrykUjh+izG47LDvCBhz5JRmxrpw1l33Il4UFQabkxw/jNnk5osxdfdfdD62CPrkvIFUOsoHlrc+85xkhXPcMW6QYI1ucI/tnlLPawOTLJNc0thr6GD8+JQT5X7cKDrAsjlcLCEJZNAcgXQCXSZ/XXTnrzHPyMg4ZcWmnYfX4cdHfVfs4khEsd9ws3j8jb+CHi6CS/PIBm3aIQfgkG22lr5/jQ0sGdrA62xXGsVDp52AcuHuVNgGYxovuu8hfJHSxSXOMm81lo5nrrgkt6HivQgsb3/pVbzw9XwBqoyBrTYNPH7phajxqM3Ljx95Cu+3tovuriQFWEaP9nSenX3j8t8+j6+a28SjUaQn8f3hdbj06CMEfN9OV/iipXIfV8ZARTKOGddcKcDSkSPj/d6uX4Erf/e0FJDgCClOJnDvGT/AzhXFubCNt5ta8NOHH0OMKg3s96aOn552Cg6oLMmFy/SEe98GsMwHnwVg+R+HFNfzgfOB5e4/pkA6XeFumI4IpYAWlQwn1V9yAul5+44cCKQ8hs0yMokub67JuXeFgdOk4ozLq7QuVcwgP3nqt+qLXMAPgRdLuVrUdSSOIDgkq59OYFBXKyaGgUMqvahzJ1EWDSASVNqVbo9L6mJL3KHgVZeAOZFN4qaTG12vD6aZwcJFi7F8+Up0xFTMNstDEmQuW7Zc3OGiSatpaG2PCbBkjKjX5xOZI+Kadio7WB40hsuRHjoaK0sq0OEnbrCTaRwXt1PkgFqdFEgXKsYxomz1VSs6CZBiGlbL6ZWWmwOfqiymZNrL+u1UR7Kv4VQ6cvqGAHUFPquSHXh12nmbX+Wd3LOyT5ER0zSZcLlYcEL9urkVr33wIWYurcfSjjh0fxAJGth2G5Np3KmqHNefdrK4qWg6AZasvCNZ4f0By+4KLlO2G48zD9hf2J1FaQOn3Hk3WglOMllEkwncdPyxOGDE0JzWJRuOz8tFyxF1ZgM5CRJspo/zgCWDXXmd6yYfiYPGjJAFQSXvPIo58QQMn1dYs21tYMnM2b6AZScXO5ZJ7Irjjksuwk5hnzzDUXfch3qXiq8Lk0EaXIXrpxwrGbiONiaBJRfps26/G/OzmiQ3kQEeLcCynxjLLNkwlWBCofqLH3wM82Kdcg12ZYJZ7vDiZJmZiWdZqLAs3PTD0zC+vFhAJ2Vs3l5aLxI7dOH+6AenYa/aGqnnvq7KOOvvCp8uYJ5jKx9YRrKWAI2E5hLgkw8sGc+7c3Ul7j3pGFnU7//4M/zmnb+jw+OXZIqydAIPXXMZxjLW1o4TdYDl3TNex7OsvCPA0mEszxIGjizkeb+8DUu9PsRFQB3CEjMOkBm7eZtL6G6CfS8Mt0dtaFJJHFBVjhtPmSIbGvZv2pFg9foXZ+Cv8xdI4ghd1iLNY1oosTI4drdJOHv3nWzReKc617oZp76AJduRAulH7b2XyDGxf6pNrh0AbtMNTCopc7swvKw0J6PluMJbIyVIgYk3Zg5Ysj/OM7O4+PY7sMLllfhKygoxMSpENoGTXB4jarq9dqiFiqymfM4PJm2Pk/baQ7H1NrBkvXo+iwMsOSfwER1gefGvH8bnyTQ6yTJYBqqMJJ676vIewJIM9G1/eg0vzJuHTp8fHpMA1MSjl1yAQR7FtF5613TMNbIKEJIBsUyEJGTACfRQMxtBP1llxmhbyAjDvnd5Ga477WRpx9t//yJeW1wv1yHzXE5gefUVOXc6+z3nwXeWr8S0p/5PhdRkgZJUygaW0R7A8icElozRBcN70j2A5ZqYoT8GsvcZ/R2ft6j1q4a7ngimcPhmaYG+gKWRJ5DuSA4J9CEYtPUPnaxwxiYSHUrtaq7/dvYyk0OUQHfe5oRajQzHIYFhmCBjKeosgnO6K84IppIKYarij7h35RdlQoGf4i5Xa1ZJMoYtEMfhNUFMCGcxKOJFNOiGRre5xyMg0s1QFamMmIVlZqXEo8l/c8Pa0Ym5c7/GqhWrkU4bCPhV5R5KCHUlklhevwKGlVXJmdmsMJdp05S1kkLs4XAYCd1ApwU0uQJorRqG9JCRWO0Po8sbtF35jqvbAYEE6zbbKJncPbuHEwYg1cAcNtLtUlJMApCVvR3rupmsSJ1R2tNWtpArCj2sqgJJc9AFz5LNBPUsBJLswIxL/+0xlmuODUfg2FZZUoDZ7k58aacmNV2oHy5biefffBuzGxpFf5KLqcfQUZrqwjUnHo+D64aK+4xgrZuxpCu8p9xQT8aSwJLZs2lM2X48ph6wn0zU877J0Jr66wfRxkL0GSgQd+pJ2HNwdS6u03kblczADmvvtrirsVmSj/oBlgR5ZxJYdiWk9CEZSwLLO3OMpRoPXMxueeMtYSwZG0lgGU104c5LL8b2QY8sPofdfAcaKBrvdktyz+SxozDt+4fmNPj4vBsDLNkRdSiGbvrrb+LpL2ahnZp50ODTU7jg6CNQHIng9iefQodGaSYF6odrWfzogvNR6gUuv/NeLM0wuz2L8nQSd152Mbb2eVBkU/LSl/uYQjcEWDLWlK4IMqfXnDgF380xlugXWPIZ7v/HZ3jy7XfRRTDI63TF8Pi1V2KkCLwzSBw5xvKeV97As1/NQ4wAQRhLCqSfhcE+r8Rqnn2TktOirIxAI9OET7L1mflvv7BSvlWB7/bgZiLLXtWVuOG0k8TFTKacc2IHNMzjpuTWO9Hu8kJnDBAnSstC6TcJWw9ccQHGiei/YuyUTQcGLF9ashy3PE3G0ic778g3+moXHnUkjhw1TPpSvpfJ+d0R91ZjN5vLCmeMJYFlWnP3YCy5+aIrf9o996LRFxD9T8aFisairbrglEhU2FUtDk4hUvbvU3bbEVP23rMHsOzNWPYGlpdMfwSfJVKSbEUQmA8s2S6cb8hs3vkygSU3Cj64DQs1WQuPXXyBMJYi6fSLW7CSE7+drUnVBW6kRLjdqXlpr190GQnkYuiGaWBSeSl+9sPTZLa4/YWX8OqiZYoZJbBMxPHKNVfkKoTxeegyf2f5Kkx76neIh4tkgi9OJnsAS47Jd5pasCawPBkHVJauRSbKYZy7s0rXjV4GAizzr1BgLDdLNLgJH6pPYKm5YYnmjYp/zK2TJB4I1Oxa185MIiLmjpvVzl5WlXfy+psIgKsSsAzJIQDVqKxhb2BU0k7evQQ9qfVYJYg6xIVEYkqSyv+zdx1wUlXX+5tedmd7o/cuIIKi2AuaaIw9JrHEiD0WQP2rSUy3xRK7YknsGkVjwRKNMTZAI9Kld4GFZdv08mbm73fuuzOzyzaagNmXn1l25817955777nfPeU7vIVJm/mJMLpF6/CDEgcOLHGipxcodgHMk6VFkWDMalMJeuFwFOFgBJs2b8GK1WtQW9+IQDAoYLOhrhF2qwOV5VUCSCOxqADQDRuqxbqatjvg8nokQdCgkYbhfaRHs9lEPzZaHaj1FqGxR380Flei0elB3O5COmUiokycqeqndFGswASMOclSQkOk+is6lGCQslMoO4fFVt2j/mLZGliaRgMJUTPPjMIhmjQEWErlnYgfb0y8cM/isWRbaZkkECQw4kXFTFca/9NEvjwV8D8dz/bEzC8w9ZPpaHAocnNyUPZ32THlFxdLzJ7wWN77MBbGk4jY7GIBUa5wxWO5NbC0iav7p6OG48LxR4rFcUUkgvPvfRD1bkUwkgWWFSawlBwptWVnyJ7VAKoScVaxknxeU4srH3sy4wqnC09bLPke9r01YElLo8d8tgaWr7P+tmmxZJzV3ZMnYT+PXQDjSYwXdLiEUoWWkVMG9sU1P1RuRbpHpWSUabG89K77sDQNiSGj9Uxc4e1khXN8OE7MBJ/wh1tQ7VU0CMys3aesBHeee6bI5vX5i/H4tHdQ63IjwQSrb+pHdystxo9OOw33TpkicYjchPtYknj0mqskvi2XxqYlvbc9wJIWSwLLong0AywLzHrOmg6nLYvlQ//9Uuq8B+1uAYCFoQD+euP/oT9Jw02VpmuFE1i+9NVis6QjpPLOlMsvQneXU1y+F990Gza6fZIEJHHCiRjoAKG1WBSoebJmpqG+OF48aIypqsCNE36emXdcC3Ww4LlFSzHlzXcQtDkVGTrdu8kk8hNxXPvjM/CDnpWZUn7bAixfW7XOJEhXdOr5sRiu/tFpOLVvz0zlnZbGSIEqVYuaB8HmBOm5rnA+eWE0icn33Idqu1PKs9po9eNcMBJwCk2QynwUUJkLjNPMwI7htIPG4MzxRwvw0jGWBJauVAoji3ziCm8NWGqLZXk8gpdvuEbCRXKBJUMbXiawJH0Ra78nDQGWlXYVw33pbXdgnd0jrALWdBKeNEsost0q+UAOSBkXXRaM0yo+orQEN1w8QfTQXS8zK1y5wtsGltW49ulnxWLJMeGhkq7wA8qLRF9xXX9YU4ffMpGQlnrek7FYKmDZEizM5RHcekzbA5I7EaF0PmqvlIAYscy1rl3hCXKpNimzoYCOlHQ0gWXzzjbhWyTsY/JOzk1iuyS4JBjTIMhBL42stCagMpOgklS114TMW+uPTMUfZeF0WNKwxyMoD9fhEEccR1bkYVihDWXOFJwOxlfaBURpmp76Bj82fL0RGzZuwpy5C7G5phZ9evfDfqNGw+f1Ic+Th9qaWnhY3tHvR01tLdZvrMbm2jqs2bgRfQYMkJA4JvHwwMl+ktMyYnOhxulGqEsv1HbrgxpXPuI2F5JWZTAgECb1oLJgMcbTKpnoOkbSZvJVi5wzW4h5GDett6pCjw7SaXrokwxzIyEgV9sxFZoxMY42+OjkHZPnc4+svMNNNGS1YuJf7kM1i7yzpidSKPmGauW2a6+WuEmWOtcZjJxD3LDWfpN4cd4td6DW7UWMWZKJGLqnk3jh2omSWEPFP/H+KRJjSe7BvBSBJemGzmwRWDJJwkcey1HMRj1SLJZrEwn87C/3o9ZJkm0rvKEgbjz5BzhxiKrOwsB/+sAIIAkuJH7CnL66hKDisazJ0A1xQjUHluKWbmax1DGWzYGljrHMBZb3iMXSIYDv3Cl/w6JQBEmbTQjJx5YU4vbzzxWZ6CSgTPLOnfdiGU9gJrCkK7w9uiF2j/JfGDNw+e13SsUdJr3kJ5OYfPopOK1XF3kPY9Se/PhzPPnxpwi5VeayHJR4yrRaYVgdAn4OrSzFH879SRNXfWvadVuApaIbelCBeVp3cmIsFbC0itWVwOfiO+/FGjPGUrvCHzj7DAEyLy5dgbtfeQ0hd564A/ich26YjGFm2UXew7FnfwksX6bFkifQtHKFT7n8YvRwOcXC9Ys/341VVicitFimUyi3W/GXyydkyLLV+V4doLSy5u9Swz6VRhk51czPNJXP2bfcjnqXV067TJriNxkD6TQM9HLYMOWqiyU5KEsz1DGLZS6wlDq40Siu/dHpOKVvz60sX1kQZUI/E1SxolYusGQbWWJQx1iyTavSwFV33SfyZ7Y3LYjjhg3BRccdsZVcms8LkUsyjTybsqBf30qM5VbA8uHHMTsUzXGFR/HS9VeLK1wDS45nxmJpsgFUphSwrLKrutxXP/AQFkSTAghJXO5LGXhw8hUCjHUkUyaHwNThlD7bXZwC8kxy89unvo5/rl6LAL0vSLVhsWwbWFIGTN75zSOPo9HN8m+5wLIEBbRimEKUuda8alKLC68TWO6VaO9bbPQ2A0vGWGZoc5o2VFENU9MTWDbNTOadmvibrAas160sltnQymy1GQWoUkZcNh4VU0l3rmn11JY8JudIUnACRaEGDE804sgKL8aWONHVmYTLQR5LG2wOu1ggmZxDnsqGhkYgbUOcseERZlLb0b1LNxT7iuB2uhH0B1BSXIpoIo6vN6zH+upNWLVuHRYtX4kBQ4egoLgQy1aukEQeI5kWK6jf6sB6pwexXgNQXdYFjW4f0gIq9aHazMuWdZzVtdoSSZkSqKoMHy0sUw60apqgNAsszXu1ThB5sTKSWctd3pNzQJbQL3VAIEG6JGFZ97CSjhkzrRkrduH9D2NpMCKuYLqUePK/74ZrJJaN9kIBlma4BYENM9B+dutd2OR0I0qXYSSMPg4rnr9mooAUWgEn3q+Sdxj/1xxYEvCtyuGxZPUTXzwqwPLiY46UTY2A78w778cGZufarPDEIjh16GBc/YPjMrWc2SRaCj5ZtwGffrVIJTokDRQnYjjvxBPkzDarZjMmPkaC9Hw5qbQHLJnQMsLlwL2/uMRM3sm6wv/87gd4Y+78JhbLe6+eJMk77NNVz7+MGes3CtgmnOtKcHPNlUJH5DUtSVI6j9nQf7kPS1MQ+ais8I4AyzQCsGB+NI6Jd92DGrcXPJ3mJZO44uQf4Kf9e4klj6qBMYC3v/0e3maZQzd5uGhRU0HcHE8mlxCof2/wwEyN7rb0oY41m91GrXCdFa6TdzSwZIwlXeE6eYdB2xpYXnTHPVhrYea/A95kCgdIjOXpAg5mx1ICoIN5HDurkKhfduIJOGNg7wxFEIElrcn3v/M+Xl6wWKiyyI+ogWUvl0uyxq9/+K+YFYxK4hUBImmnnr1+olhrNRgxvQ1mDWklDR5SMvXr02nEGPzNWNVXp+HtZcsRoEXNpNNgKIYojiRQmIhjwuHjcNbY0RmqGe1ZUtmDWmEp161yM1vMyju5FksmLcVwzRmn4dR+LOnY+qVBJu9oD1iyTwTcV9z7ABZynTKpKZVG7zwPHrz4Z2JpVITrJhWGOa90aVNdI51APMtjGRQLYksWS4Jx3jfp4ccwO5QbYxnF1OuvbmKxFGD55jt4ZfEysVhK8o4Ay8vRza6s/n965gV8UF2DeqsDdpsFhYkYnrzmSnQ3gbw+BOikRP2T/eF460pMt5kWyxDppVKJZsAyW1L0Y9MV3pLFkiBducLrhPpMktZoVTdi+PU5Z+HYqnIUKlZlZcFpHpD1LQKRzld9tyTQmitc6lpnXNlmxjeBi1j/9Ge5NkkVQiN8i+0ASyl6wH1E4sqztI05r1PAkuDTSvqcbOqiOMLNrHTRgQRMqSTywo3oE63Hfm4Dx/coRF8v4LWn4WQRERKxE8waCSFCZ/sU37sViXgayQSDLVmP3AIjnkSSwMtK4JmQJJ1AOCy8ues2bUJ9MIhIPAbDkobT40EgFEGjP4Q62FGdV4B0/8HYkF+CoNMLG/9H+j4zqUZAvBkqRZDNrHnGbLKKnJTQFDBuVbGXmVAEVd9bkqcyFsut56AC4gmx7oqnJVeYmdvNJCxDyX6PA5a6nRQUAcjd//5YKoaw6g47zwSBY/YZimuPHy/WNsUgpSy8VKCLU8CkO+5GHfmdmAGdTKCXJY2nJ10hrjpuvFfdP0Usa0wKUMCydVc4eSwVsByBS0xgyfdc8thTmNfgR9zlkmzvPnYL7rrqMuFCaI7STQAAIABJREFUpOVB0w3d+NyL+HL1WsQZj5ZKYiCtUdddLe3+smYTJj3+LBqE9LptYMkqNXQbj3Q7cc9l2axw9p5xX39+7z9o7gqnxXI/jyplef/HM/HC9JkIOZV90h0J4idHHIYJ4/YXcMGLGyyBJbPC13PyW+05dENtJ+9wY6ILeXkKuOCPN6HeV4QYgalhoKfDjseuuEiszBwrvoexhb998R+Y/fUGxUvKxBm6H1IpDPHl4fELfpYpSdkeTfq2WCxbA5aMsSwQJ01rFsukygo/6zQZO1ZUueim21DryRfKKfJh9iQdzpWXSD+prgh0CJD++OxLmLlxkwB1cnhqYNnH5ZJ73pj7Fe56+z2hp+GiZXLVifsMxhUnHCcHGZ1cxX4yhOLfX8xDo78epxx1eJMYWR6sZofjuPL2O9GYn4+U3QFvwsCQ/v2wqa4Gm+obEbM5ZUwr42FJ7hrmdqhQA7OKlw5izTpDlILPAktdK9wpbnryx05i5Z3ezKpv+9IVeDj+PABqHktaLGnVO23/0UI3RIcuAfe9097GPxYtQYPNCRutmvEozh53AM459KBMOAzfqGl3Xn3vfXTv0gWH7DNUnqF1yLVNLJZM3ils2RXeArDUFku2XWeFNweWFcz6nnQFetgV88F7S1fi5lffQJ3TLcreZ8RxYEUpfnPOTwR86zoZet5+MmceVq9Zg5+ddKJ8rrl7b81xhaus8FBOjKUClrkxlgSNUlEpxxWuyfw/2lyLGx99XHhsmWRHC/H/nf1THFtZJnOIczoblfbdAjidvdk9EsgFlofceBtq8ovFI8UYy6wFUbJpMpncFquyIDaN1t4aWGZLGKq+ESvJ8VdiLJlA4pTn6HNSTmizIg8XEMgqio5szKEZN5jFSnxeGt54CFWROgxJB/D9CjdGFDuR77DAbbeKxVLZ70jArhJZFIx0IOiPIBFjhS86q23C8RiLxIW4nMCSsfLM2/ZHo1i+di2WrFiBqGHAU5CP/MJCBCNxRGMG/DYnUt17ot5XLDHpYasT1mQaRjQKa8oQXk3JTKfhgBZY9o96RDyAViRtLN9Mdhgbkha73GMIliTQNInNCbJbKUjSUWBJJN/UYtmIaZN2e+WdXEip/k2gQj7BS265ExucLsUbhzS8yYSUAZxw2mnoU1IgSpGWgi9Xr8ODL70MP2MTmNmZTokb+8j+ffC7U08SwKdKOj6CBbGE6Qon3VC2VnhujKU/3ycueImx3Hc4Lht/tGxY3NxfWbQUd7/yqnKp2u3wxOPoW1SA6yf8DGUW1Z7n3/033pkzV1x5vIriMZw/dn+cfdRh8vuszZsx6a8Elt52gaVO3tGucB0KkKEbagFY0mK5n9su1tEFkYRk2W52exG12QXAsT7zaQePww/HjZFNpSaRxk2PPIavwxHh+KTLTCyWHicevfSCtks6plOScU7AePmd92CVzYl62h9JHM441i7l+MVZZ4q1iWBqQTCKKS9NxaoGv2Q5S8lzKSGZwoTjxuP8of3F8kfJ6SiY1tTjjgBLSd45+6c4vnuXJsCSwOeiO+/NWCxzXeGcRwTzv3v2BXy4fpOyXFlS8KYMjKyswqSzz8xUT3no5dcxa+UqqajDRDBxhX9TEeeRyy+WqkO8KLMf//5WcL5xbHhPvhGXajZXnnMWykjvRtAfT+Nvr7yGxatWIWnEMeHkk/Dj4YNlTlIGPBT84uHHsTgQVBQ9pBYKBHDfb67HlpiBP9x9D2odHrnXl0rg6EED8KsTj8/IuS0Az00iWyt8qtANsZwg+d5+ePhhGNOjmxzitEtKj1Vu0DxleFCvbjLX2Odzfn8T6nzF4q7PdYUTXHGOfLmlDtc8/gQ2cbNhnGUqKTHTY/r1w4RTf4gSnswJUkMG7n/maWyqrYX1m5Knf7rqSuxflC8ATko6mgTptFg6jAT2LSnEY+edvXWMZRuu8CbAUifvNHOF97JzA1FUST+56TZscXmQICimd+Ub/toqhx03XHwhuriVK4/r7Zlp0/DlwoUSRP+zE47HOaNHSrt5SLjt5dfx9qqWk3ekepWlKbBsyWLJuSoVp74hUL/uwYeFyYLrjVWiuns9uO3iCTL+XJeaWaC99bZ7YErnW/c2CWhgyfUw9oab0FBUDpZvFQuaGXMtWd/8d0IRpAs4Mi/tvZTQjHRKWSxZeU+SF5uFYlgYv22VsCSpvGNaIjO1sQVEKZetGKLI8WiCKQFOZslH5V7OupO5J3mMMIrCWzDMFsGxPmCgK4mqIi/cDpNuSDLLFYhl9RlW4iG4DIWYzBNDWkgsCC2tSMVTiMXiiCXiwiscTRjYsLkGK77+Gms2bBA+2+Kycrjy8gRUxo006mIJCRuzV3ZFjZGGP5YQT0kyFoMlSSYOokQrXB4PHG4PfMUlcHg8zC5CyuUSj1uAZSRtTgRtbsRsLtEdpP5LGykF5IlJhcsya0jI6HDtCufYZDwaTeUvB4UkrZ9JCQ3QWeEElsN3f61w3Vj1Mw6ruKhem7sAD7z9rpSRI+UKs51oCfOYFCr8nQAw5XJKAgQpbziBaN3MDzTiqT/+Vly+nLKq8s4UoRtSMZZNgWVTV3ieIH4NLH8x/mhRvpo779opj2EBy805XCqLLJWEMxoWl72FpKg2u7yDU5kArSwew/O/vCZTk/y/mzdj4uPPbJW8w1rhmm6oraxwlxk8K67lNoAlNypagO5/5194Zd58+B2KV5KciaR5scSiKsbR4RRAwvKRjI8kKCCP5QCPE490AFjSussNkSU4f/3k00JCTn5RuhNcyYSUkSMQ4eTke2iFjdtUbW5NdMta2gTg911+KYblOVW2cyvZ4Hritwws0yg04jihb29ce8pJYpXJ1gpXdEPNYyzJY5lrsWwteUcfLpbFE7j4znukMkyc9VKTBjwsaRWJwGNWfogTUDpZGlKdIlmCVQPLAS7WrlYg4t1V63D3i1PRYKNMVK1wAkNXLCIhFKL8HE4pycdFazfiUmHlLxdOwJAuFXKQ+WD1Ovz2ub8jJLyoFolVPWXYEFx4/Hixgt387AuYXl0j2cqWpIG8cBB3XnA+DqwqN2OD1Ym7paspsHwZAVpbSeuVTMFDSh22U7tlcmK/NbBk+8mu8NfrrkG5yyE0S+f+4WbU5hNYWpsAS4assL0MI5jywSd4ecZMhD1usc4RgLnSadhDIXjMtcW5KpWp6Eo2EvAFG/Hc725EkcMuYLjDwNLMCs/SDWVjLDsCLHvbLRlC8v9Ub8bvH/urlOBkeU2KxJVKwx2PCpURxzDBOeHxIm4kwPpOBQE/bjvvHOzbr494X259+XW80wqwZF+bZ4W3BiwJ0pcnk7jojzejzlck/LTcmsk96vzGullmJHDJ8cfj5LFjtirtubeBmc727jkSyAWWB95wE2oLyoR/N6W5EGnhEzCYRsowJAs6LbGOOvA4m60t95jJiwQuGjDmJpiJu9xgCcU0rA5SEql4Yc15qWuOU7cqMMVqOUx8IaWRGQaSVpVr5EqlZC8XYBmtwxBLGEd4DPSzJ9CtvFD4LF1O5X8QzGWyFikdapUqO/GogUBjCH5/AEn+HokjTt5Ks8xjYyiE9ZtqUBsIIMKyiQzX8Xph455iJJFIWrChphYNRgJpstC4vYItHGK0MZBKxgV0M1a0oKgIRSWlKGBFH6dTDudJO/dzO+IuLxosDtRaaPCxIUR2GmIlUh1pN7i03wTVJuE6xaDkaqi9QQNLOQ1koKeSMS2WtBbblUyFbuiay3Y3sGwKKmVczeQXgqI3FyzCw6++joDbixAjeWVS2JBOCC26Ck41N2+eF9yJGLzBAG67/FKMqigVCxI3qxpaLO9/GPMj5LF0msCyGPee82OJwSRIWRFP4Sy6E/PIbG/ZClhS0DFYZHO84i/3YV3cQNBiR1pqESdlgpEEVjLVkilxt5cZcfzh0osxusiXKSP32eYaXGUCS13S8fenn4pj+vUW62rzrHCWtBvhdAjdkCJ9V8GlBJbaFa4ySEk3FARd4aM9Duk7J5kkLk15HEv9IYTsbsRZa14shcoV4bDThJ8WGQi4MYGlirFs22IpPGNSdUcBgkfe/xBv/HcW6iw2iXV1OAmWGG+iYvY4XrLQGQ9j8o0JiTr5u5IGulrSuPfqK9DPzArXCSwtqU0NLGfV1uMXDz+GAOMeOW50Kffvi2tOVvW0deUdWm62BVjS1Z2XSmN0eSkeOOdHKtnBokIQnvvvF3jqvX+rSjR2BSDYR0qSNEQeKlHydyIlQIB0GBUpQyyWA11OsU7pWMCpM7/A4+++h7AnX0japXqDKF9Vt1WdpS1yqMqPhvHTIw7H+YcdJO+kVeDCW+/EJmZR01qfSqE4FsFLv7xaDjKc+7TCnn/HvdhstSMmJ/EEhhfk4Y5LLxTSbR7UJNO6hSxhDSxfX71e0Q05nELpReCo5pAKZZDvmmHPWbWjEhRLYlE8c/VEdHFYxbqaBZZ0hScyrnC2l5fml3zozX/ijXnzhAeUISW0anCOq0u1l0TtBJXeoB/Xnv0THDeov4A8ro1rm1gslSv8sZ+ftRVBuqYbygDLeBRTb1DJOwSWHL+tk3eyMZYMh+EhSI/n67Pn4qFpbyPsyROvBcfTJtmaytWnNkeLZI37ImGcMGokJp7wPWk333OrSTdES2tH6IZygeV9E87D2Ipi0SOKKQC49YW/4/21G4QGjFYjzisehlnp6YrxR+PU/UZmeXj3HHzS2ZK9UAI6apczXSyW1xFYloqxSBsR1MZtEp8nDCEVp66UjScDB6QIt7l3KPqcJjxFonBysAPrVfNXxj7qIEv9M4evMvOZ3lhE76n/1P9IXZSGm8wlUT/KYvXok2jAsRVedE1HUFrgRZ7bAY+bJOh2aZa4pDMURorXMh5Lwt8QwJYttcJlGQqEhTCdycnkuoySozISQygel2pqBN2MuaQsUmkLQuGYWDRp4BL5MLzM4xa9y7hOurLtdhsKigpRXlGB8opKePLyJBQgkUwKJya5Qw27S7LL/Q4vNsSTWG8kxYIZtzkRJeWQrrwjyTymKJrIlWZX6ZyZBGTeJPeYstM0ThSGFSiP+PHP6ydieD4RWXN8p/T2t1DSseUXc96RaJrgck0iiUdefQOfL1kqlks4ibiVcpY5Q647FpM3EhjapQrX/fxsFfNIy49Jrk4FO/nu+7AkHBd+P1bpGVFZhtt/fo7EN/Fxa+NJnHfLrQh6vOK+9CZiOH2/fXHR944VtyNtkLwvbJKB3zP1NUxfskzoiwiYVAYWFKlzwkAPXx5+d8lFoEVDu5u4ac6qrsa1jzyBIF3hSEp5wV+ecTqOGtRfwCc3l8semILlgaBYhzxJA4M9Ltx11RVmfKkCG7LZvfMvvD17jrJG0JUaCeOOayZjRL4nUzKRVi3SAd3x3FT8d/kqJMQ9S4BugdNmQyIWwbHHjMf0L77A5ngCSYKPdNq0WE4Q8CHl+1pUdGr8OF6siU05f7R8Ne7/+4tCik7+TC4aOU1KPWLAYsThtVhw1KGHomuXbnjiueckSYufeRIx9M3z4L7JV2ViM3MMYU1awLGgNWteTR0mPfAQwl4Vs8px+/7gQZh06imZii9f1DfgV/c9IDJX8YwxXHfuWRjfqyc4CrRYEoAKcfmtd2BD2qJch4aB/bpW4a7zzsrwavKd7Oers2bh8WlvI+72yHyhDFha0BKLYczAgTjuuGNx+0MPgBZdXiXflNS8/8rL0M/jyRDmE7TQcjlrSwPufPJpkX9EymdlS2gJH6JhoMLlxqSzf4pRFSVyGGL/H/3gQ7z8yQxJUGEyEasVnff97+HMkYOb1NV+6IOP8drMz6VcJ+ubMxRgwgnfx8n7j1YxkprjrAlsU7qGa/CdZatw9wsvgmTj8SbWTTNI04wNl9lgnmr1KZilDZ+4ZjKqHDY55Ez4ze/R6C0QsOhJJXDKgQfgsiMPyyQBcVOiXAgO/716LR56aSrCFjsiabX+NDAT3k/G8vp8uPGiC9DX48hQPnFt3DDlMXzJWtpS7jSJfUpL8MCF58kaYhM1LdS1ZItgrV6RjYESI45nb7xBYn21xZJjdP9rb2LaosUIMmwhmUJZOoUpV09EDycrEan5rUHokmgCf3z4EWwIhmE4VLyzBMqbGxe9BmVOBy477RSM69VNDgG8hIj9pVekDGtYEhfVWP3jN7+SduvKO2z7p2vWiYcg4s1DOmWRqmN3XnwBRleWiR7hWGi2gMn3Poj1kRii3M8JdK0sRpDAZeOPwSljRgkQleSinKIEeyGu6WzybpZAc2B5wP/9CY0lVUhQP4oeNLkUxX1KwwaziVV9b4mX5IHVdM0KmTltEqQkkrhITTekNEuGxUAsZox15JetUspQ7xmqPeb/62o/svcp9znvFU7fFGmGILrRhRS86SR88SCKIrUY6kljbLELvlijxDaybnh+nhd5HreASxpmnMJtqRJcuNcxYScSiWLz5hrUbqmX2uFco6S6I61QIByRWMq6YAjhOF3fLDRiA3N+6CZvaAzAHwhJIo4nzyuxlLTYGikjY5EtKipCt+7d0aVrFTzePLjdbgiJPPUWPYIpIJakDrDBDzvWBqNocHmxNhxDnfzNCgvj+yVDXlt5m/J8psgzKu5zZbXUVmXZ0UTnK2uCkYir8ssW02IplXdcuw9Ybu3Z1ztTlqdSV9yhpWjxmnVYsno11m6oRjxhwOV0oKqsFAN79cLQPn1QbtblzWaPcjOyCGj41xezUZdSrihuBOUeF44ZPkyUqlhmUmm8PmOG8OcxS42n+iEVFdi3Ty/TVaRYKjXROd1WG6MGvly8BEtWrYQ/FILX5UKvrl0xZthQ9CzyyaZNJa8D5LnBVEcieH/OfETNElXkGRw3aKBUKKFyZ1vfnTMPW2IxpFj4PpVElcuJI0fuK20lgORgc9P4Ys1aLNu4SdVv5kkraeCoMaNR6XTIe2maJojkM7lprW0MYcacOVizYaO4Bfr36oH9DzwQTrsFV9/zENanLALoCdKH+Lx45OLzMxtsawBP6zJaEKkC+C5u7Es3bsL8ZUuxdmO1lK/yejzoWVWJIf36YUDXSrGSUO5fLl2B6vp6WRC01HlSSQwqLcXoQQMzCqKld+us2o3hCP41ey4Mp0ssfI6Ugb5FhThg4CABcGxXdTyO/3z5JeJWVRHImUzgwGFD0aegQGTKS4O8d2Z8jiCrDnADTrPqQh6O2WeIuKgl884sU8l+VicNTJ87D4uXrxDi2+5VXXDw6DHoV1qIaBL46IsvJFxDW6iOGzMKJQQmJpjTAdccS86nFfV+zFmyBKvXfY1QOAy324W+PXtg+IAB6FdWkkkC4TzhIWXazJmSlc9MfJvVBrfFgvFj9hXgqZNFdJb6+7NmI2zW2qV1uMztxJGj9hMLeJYwvenORFnx+ysbAvh8EVkOKBcFehXpd9aCqEFltnaD0j6sPnPS2ANkvHnIef2jj5Fws2a7RdbYwC5VGN2zp7i6VSa6srRy3Hg/5+2KzVswf9lyrFrPUmhx5Hk9sub3HTgQPQvyxaXPcWQUF98vyS3z5mMjq2GIpRMod7twnLne2TKuRUmKmjUH1bE4knK4SctB7qSDxmbojXifxH6uWIUltbXC9MDnsdLSsaNHocCqXOGqIIJqN+cGx3NtIIh5S5Zixdp1aAwE4Ha60LtbV4waPAR9K0oy2fk6Y5zf+3zxEqyu94usbVaLxLCeeuBYOSSJscecq1/7A/hw4UJFhM/xNgwcPXIEung9mXKdOvGL3oRZy1fhy0WLsKWhAU67A4N7dMcxI0egpy9P5qNQIuWm1O5mkLJ7Xp/x87Xy+va04O5p9Z70VkqQa4YWy4NuuAV1heUCLEVv6EtXfkmqGEvRJxnLoXnQNXVLkuBGSikqA07WcZsdCwJL1r5m5RpFrK54HU38oyp2CbDkq1RtcAGWDC9ieAh1UTwGUs8VpA0Upg1091gxtNSD4lgDCiL1cCXCQNqQ7xYVFsDjccPrdotXzuP1Csi005CSTMNht0tMZSQcRTAYQpIxjWmSqUcQisTQGAyj3h9CbWMQdf4g/MGI0BSGE3Fs2lKPWNxALGFIf/Py8zMg2iD/JCxSwad7jx7o3r07iooK4fF6RD4sJWlnO0i7xLhUJuzAimAsiZnzFsJRVoVoQYmUnGbIWtTtkSRUZfA166+bnidN9SQwnpnoutKOSTGkgL3iCyX4V8DSgioSpE++GCPyCSxbvna5xbLZtrRVVF3uCYgbvwYv/Lc2xlKpU7VqMEngJRPHnJjcNvV3uUEoln31HbUZqb/xP240mn+Sf+c9KpFEBQCrS/2LAIPP05yVAoxMEKnboorNqUv3RSt7zU+os2Z1TKHe8HQ7dAUTndCi6Uw1QbzuG/+u26xorFVJTMYyEuixPFSeLdtX8RyYfZZqP7fcKRyIdEszJuzQ3r1w8xknZ2h0OqJSc0FBrmy05NguLVPTsCVyl2w2U0bsB8dFg3El8a0vLU9d7jNXnjrbVQi6c8ZILEc5ctIyFaUjpSkVwORP/V4+QwC9KU/+PWs5UlYq/W62Wf/H+/iclsa5ufVXK2MCotzniRfCnNuUHeeh6pOK3SQQ0c/n+3S/NW8q/6bBju4X36XnqSo40Daw1N/P7Ut2dTUdl+bbsp5jmjeTbeVzcue2lLM0xyS7wtS45bad7dfrXq8JJZNs4QQdmqHXBt+j16Wss7TyPGgA2/w+9ia3Pbqfut1af+i1xnaryKrsHFXk9mouad2Q224+X+sHDea42el1oOegsh2o9mg9pdcMZdPSvNfrS7en+XqkfmNf9PjzubrcbG4fWlhu/yN/0lqlpe5qt+n/iCi2s5u5wHLcr29DrU+5wpXFUl0Zb6uhKu8oNzcPq8pyJmFAUi0mhbRkUtsELOmKVRYz2FLCq8y61XLQlTwHBiSZLlcm1vAZDC1Kp8XTwEplLlonxSKaVBXPWE6XBoniAhRbkqh02zGkshjWhvVoWL0YfcsK4EglkIhHkYjH4HK5pOwijSUFhQXwej1SkcftYjlXC5z0CtIdnTAEYMaZkJMwEAgEUdcYQGMgjC10lTcEsLmuAaFIQlzkDcEQVq37Gk6XF0YyJVZan4+VtdLKjc4KNzYb+vUfgJ69egmodHvcYq1kmyhHF0OtxFWvKvgwnnL9hmrMXbgYvoqucFR2xxebG7AkGEGDJ0+8UCRdZ5iMmEPNUpqiIxmqoAFkM0+Vlr3orjhLN9sE2FdFVFa4St5p+drlwLIjc1dvNhr8aWWpv8vGawLirHLMVRBU2kpxa2WtN1ft4s0FsLmbm97YTSrSnOaqE1Zum3Lbo9vRXBW19p7mSj0XLGggo5+Va+bXYCx3Q9cbnV7gBJVPzfgvps+Zi8kXXYBKm+JB5HN0XNgdb/wTH361GDGXW7LqS4wYLvvB8Th9yECxumZDq9uHl7l9zJW5bn9uX3M3yly558qvrTnSmjyVzFTMjsr+ywLX3DER669pbVLPylrM9BxRc6BpJVWTVtcEder5WjKq7braUlObXusgTh9WsgeQ3H7rMVURyKoHqg5N9rjD+7PzNdseLaPcdZOdS6aMMpPXVMh6A8g5ELW05bYEJHU7WlqfueOl78ttc/OxZh/1OsvtR+5cUm6ZbJyoBna6v/yZuV8899lW8zDRfA1l9IlpQZUg/5w5JK9rBiibr4rm81K3Rfc1O7+1fTerYXL7qWWk9VtmYzYdfKrt2THLfW72XnVPS2sgO69aPrx1RD9/t+7pBJY7Op5632Fs97hf3WIm7zB2PAssdXJN2izpqOMnNbDMXU8ELbSY0RVMe52eqdpipirLmOTdNrNcYyotfI/0YJGLkXV/GP7GeOwCpFHEEpJMXjUSqCgsRLHLhfI8NyryXXCn4qj0uVHhtWPWh/9EOliLffr2hNsGCRsLh0JCHUT3t9vlQnFJCYrpbXQ6xGpJL6rTpDNKGkkYBt3iMUS/4XpuaPSjoTGITbX1aPCHsamuUayWkbghSTz0xNKiyXKRccOAr6AQvsICJBIxyXondi4vL8ewfYahrLwcdodDrJX0bBHoUjoOl1OsqQSWBN3hcBjLli3H+o2bUNmtFwy3D5G8YiwOhPH5lnpsYflfh1sSd0U7mvyWYkgRcnoqO3JZ5qIApUMFsAuwzFqeK01gOWL3Z4Vv/1TOBSNNn6I/yd1WlAUvu+FlCaHbb0FzhaOnfvtAq/1n77w7cuWhrTGzNm3C1Y8+gZjLA9Ikjx44EMP69EG+x4Pqulp8OHsOln1TmYZxmtxovUkD3dMJ3H3NZPSxKPLmptvX9rc3N4ZrV8ZzNa/+0laLVTtyYVBurFnuuOdC0qaQKkPw34EYtVyi2UycUJOooFxopmu8KqWsict3FQxovp6a/67Xj876bk4zlFH62VBLafeuWiUtzaFdMa92xrxteU62psGaQ/bWoGuufsu9p/n3m6+AXTUi268b9oxvdsptR8chF1iypCOzwsViKbW4dca30mUwjIzFUoHN7NsluZMxiya4ocWS8f/Ksqld3erfwmOZTkryMg1udhKqMzadb00m4GTMJFJCDTiqdy+U2m2I1NaidvMm+NwuVBUWotDthD1NSp8oenWpgMeSwCvP/hWFTmCf/n3gcViRiEXFEkn3ts5Wp6WwoLBQLJelZSUCKhVTkupMLJYQUElrJcs/1tQ2oK4hAH8oivpAGPXBCCLxBLY0+AVwCtckXeppoKi4RIAjE3b4n8fjxeDBg9G7Tx8pEUlgmZfvFYslraYMGRCA63SKtZJgdPOmTVi4cCHKyitRWFQCw+aGtbAUX9X68UVDAAsbggi4vIhaCNzVHkd5ah7L1oClqiRJ04YF6f8dYKnAUPZSirQ9dd36omoOMHbldtnxpd06sFbuRrq+fjnlUXxUUw+/RxFxSzyVeA3oNrAiKUk2dqSSKYlzK/zG3P+rH5+Ow/v0MpOWtm5lwEddAAAgAElEQVTPd29bamuDz/1sV/e8PWjX1oh3fN60dmd7T2+tda3Blvaet/Na3NqTdvV47XgPtv8JrR16tv+Jnd/slMCOSqA5sNziK5UY8KaVd8xa4cI9qarY5B4/+QxhqtA8ltyz7ARbOlmQsZTmnm56nUgcyXKMrPXNss/uNJlZkiiwplFgS6PK48Q+3apQ6XahMj8PiMdQXb1RwGJ5UTGcNitsljQKfV6UFxfAEo/gmUcfQKnXgVFD+sNpVf6seCyGQKMfhmFIgQ/pbzINt8eDLl26iNWSLnHtJ4nFE1KikTH4m2vq0OAPocEfRIiUROEoGsNRVG+plSSehmBEsV+ITKwoKS2TfhNU0hVeUVGBUaNGobi4SLLEFaD0ioUyn7GYNoYGMCnJJhbLeCyOL7/8Uu7p0rWbSsCx2rHFH8G8r6uR6tkH/1m5Bl/DhYBNcS4zv4TuDcZUSuIUZW5aLAX1mOUvJSSTLDh8ZjxhxsoCVdEA3ph4Eb6jFku9PJpubbnAUk49HaqPu2OQdEcXalvf7wiwpDXy1henYkHNFsl0ZjIDo+pUr3ja42K0wJ1KSZWgi085Gd8b2FeyUHWMaEvn+O/Wlr29lqOdPbp7J7DUc6G91u9sabUcOKDf0nSz2vnv3hOeuOuh+57Qy8427D0SyAWWdIXXF1UgnhZCvkwnxPPC/SepakwTnAhoNC/JEDdp6VRJRwUs6dpWG5dJD0QQxX2cvMzkTLYCrnQSeRag1OlA13wvehb7UJnnRomDVfAScKcMFNJd7HSoTHRaOG02hIIhAYslRYUozPciGQ3ibw/ei67F+RgxsDc8drIpqOo9BGyJhCI8ZzWdeCIp7nECOlow8wlcaTW1MjEmLQmH4UgMtfUN4goPhmNIJCGUQ5vr6rGl0Y9EyiK/k/Ccz3R7PSgsLFY5AvGYWCj79u+HESOGC6Ck+5tgUr0vX1zhzBqnlZIXQwc2Vldj0aLFGD58uABN/o2JQStXr8Paej+6jRmLGV9vwn/WbkSjM18KzKRIoM6qQQSWCUaJE49q8G+iBj1WMogWQBPdW9LoEgv+LwDLpgtyaxvm3rNgt6Wl2pahM1pJEP/h/K/w8Zy5WLp+I4KJhJR+4mnEY7eizO3G2GFDcMKhh6A74zXMhIqWtub/FRlui7y/K/fufTAl12rXfBT+F4Dld2XmdfbjuyABvRr5kzGWB/6SwLJcqHRygSUtYgSXBI105wrdEJN1mglBZyZLDDWTfCRzUZVcJDMD6YHczOyOR+BKJVBot6Aqz4v+5WUoddrhSsVR7HLAa7Mg32mFlxVu8vPgsFqEMoj0dKFIWOiAaIlkeCEzvUsK8xELNOKx++5C1xIfRgzoDS8r7jCG04xDTBhJxBIxSdAhqKRlstHvR5RMFAZpgSywO52ScR2JskxjXH5GpAJPCpGY4rIMx+JoDEWEAJ0/SXbuD/pRxko8LjeMJEFrEl26dcWQoUNQVVUlFkqCS4JNgkpffr7EfCaSqnY5rZYutxuffPKJfN63bz+T6Byoq6vHypWrYXF70XP4vlgWjOGpT79AjcMLv92NhJ1JQOS7peufROyU/dY8orkhXVJBybSyVkX9mDZ5j6i8s/1Lals3wm29f/tbtnu/mbtAdZY5s0hJ37I5nsLmQEBlPqdTKPJ60c3rEre3zpSXMF6V3Nri9b8ix907it/+2/e+cW3Jlp4rt++WXf3bnxGdb+yUQMcloIElE8VUScebpaQjK+9IQqq4rRUvlySJSBa3ShphRjG/n421VK7nVFy5Y8kXabWkYE8nhYLPa7VI/H+B3YYKrxPlXhcq8jwoczmknLCF1fCScRTne6XCHF3kXqcDBb48VFZUCMF44zeFFUKRiEmOS/OlFXkeDwq9HoQaavHklAfQvbQAg3p2gddhgd2muJgJ3AgoE0lDgUjTKkmwSQAZCoURDEUQDIcFTDIzm5/Fk8zsZoZ3WgBlgmTosTii8SRSFhtYkae8qkpoiZikQ0shQSXBN0Flt+7dUFjELHS6v5m044Yv3yfAkhZGBXQTKjY1ncbbb7+NA8cdhDyvsmzSyrp82TIhbq/s2g3lPXoj7CnAUx/MwKzqegQLixG0uZC0sbSzFUkCS6Ebojc8q0tVfKlOGrQgTbohqTpnRUW4EW9fu9sr73R80u7YnXvflrlj/c1+W7smNHULf9eZsDpLlX9T1DNt089sT5t2RTLF9rSj8zudEuiUQKcEOiWwayWg2QcILA+4XtUKF2BpumhVDJ9ZZYcJPLR08VIcgVkOB8kOSTI1GbZUWurc5yEJH+mAPC70Li3GoG5V6FlajCpfHvJYAStlIFi3BbXr1yNQX4eqyjKUlhQL0IuEQyhlbKLTgR7dWUIljXq/H42NfskvEK5Mh0ssmQVuNyKNdXj8wXvRpTg/AywdAiwF/gqAoyuc/ZLicsmUgEdaLlk5xx8gP2UAoXBUyjQy29tiscFCVzO5dhMJhElBFIkhkYKATKfHI0k20WgUXbt1V/XPrVZJ4OnRowd8BT4UlxQJqCRQJMDM8+Yhnxnh6bQJLElWbkVtXT1mzpyJY44dL8CZ927evBnLli4VSqKysgrkFRbDUViODxcsw98/mon64jI0uvMRtruQtjuRjCqLJcRiKZYo9R9d43JAUCUdwXaaRPeVkUAnsNy1S2zve/r/Lvze+8aqs8WdEuiUQKcE9jQJaEOGLunoL6mUUsgsiCCXlINVYFLApuawNGnftCWMAM6WSkglMy89a1agf1khhnWvwoCKUnT1eVFI9zaLMNgscNuscNosiEVCWL9mHZYvW4qyilL07dtH4gpramoEZDqdDpSVlQnQagz4UVtbByPBksxW2JxOIT/PczgQ2FKDqc8/BUcqiuH9esFtS8OhKvUKoCKwpMWS1kpaIAks+ZPxltGYgVA4IsAyHItlrJYOh8uMV7RKhZ26YADVW+qQV1giWeJjxo6VWEwSnRcWFsIfCKCkpESSeUpKSyTju6ysNMNb6c0zLZdOlxDE02JJayLv/3L2HCSMBEaPGSOV5fj3pcuWoa62FgMH9Jf+WmxOeApKUN0YxV+n/RNrLA5sdnrg9/oQsTrEuqpqhVvMcuGK/i1zAGAGu9ASJcwYWKvUCn9j0kU5lXe29irtETyWO2fhdEKmnSPHJsVWdtojOx/UKYFOCXRKoFMCe78EtEeMMZYH0WJZXCF0Q6xkpmx9pLNR4IRgR7KKTRe4rprDJBk7E20SMfiSCfT0ujFuYD/s07UCXX1ueFJxONIJOCwpWFJJOKw2cZWzIherSm34egPmzp0Lqz2NwUMGwWZzoKGhQQBSQYFyJZeWliIWi0nZRVoZ2TKH04WSwkJ4SMYei+Ctf7yE9auWYt9BfZHntMJlY6IPuR7JT2kIiTkBpXI9w3R5pxGJMJ4yhmAkhFA0gkRCVcyx2Z1isSRKoyu8uq5OrJZ5haWwuTwYvf8BWLJsOfr27ovaujqJjyR41Ak6jEutqCiXeEpaLT15Hvk3gSRlySQfiV1NpfHRxx9j8JAh6Na1mxgVyWe5YMEC6XufXr0lFpTcovkFxUhZHJj67gf4cmMNajz52OjKg9/hQUxCGEyXt1TW0ZCS+RnmXE0pSiiWx2RGO4Hlm5MvyckK7wSWe/+q/jZ60InRvw0pd76jUwKdEuiUwB4tgZb4XTWwZMLowTfchNq8IhhWm1SA06TmGqEweYdJIgSXusyiJW3AaUnDk2YpYwdG9uiKUd27oH9ZEcocjKtMwpqMIRmPIEU3uZTpUVnMzHwuKChEoDEgwHJTzUaM3HcEvB4vItGIAEEmtZAPsri4WHBSbW2tWBcJDN1uDwrz81HIDOtICHNnfYZ/TXsV+w0dgJJ8N1y2NGwW1jlX2dekGSINkIBLuseNFOKJFGLRBCKxGELRMCIkYjdBq93hkqSeRCqFIDPC6xvQpWdvNEbiGDB4mGSEb9q8Bd2798DatWvRq1cvyeRmLCXjI0ll1LVrVwGTtLwyc1yoiQSkqyQf/hcKhbB23Trss89wVUM9zaSdOixavFhc6iVFxWaMaBIFhcWwWR2YOWcB/jVrLvIGDMGn1VtQ58pDwOZAzEJ6eRUDS2Cu+DkZEqB4wFnCMp00xGWftlrQJRqQyjtZuqHvNLDco9fnbmhca0kPrRHH7IYmdr6yUwKdEuiUQKcE9joJEGbVwYJRF1yJene+orijZVK2HVouCSRNzkVa8liLmoTm6SScSUO4J7sX5WNM/z7o6vPAm0wg3wa4SflDvkom9SSZ/ZxUZOmEOaz37XBIIgstditWLJf/6Aon7yOduAL/LKziowAov0NLXqM/AJuNtbYdEoOZTyAXDiMeCeCtf0xFuc+DqhIf+vaogo31wvkkkwCdSTKJDMiEuLLjcUOSeKIsAWkY8j67EJe7hACd/JUs3+j2FaJbn34IxVMYsd8YbKmtQzSWkJKQ1Rur0X9Afxl7ksMHAn7k+/JQVVklpSTZVlbZ0VWMpJxtitbKFKqrq4V+qLCwSIUbpC1YsWIFNm6qxrBhw6SWeTxG0nVD7nHYHFix5mu8NO0d9Bs7Dv9esQZfWxyopVvc5pCSj8IiY9ILqQQsk8MylULaYIylAp5isewElnvdmt1JDdbAMhdgtpRB25lVu5ME3vmYTgl0SqBTAt85CTRPztQ7SgOAqqNPQLywRMVRSlylSQFmAkwmfagEnaRkbrNCTpnHhWE9uqFXaSG8tF4mY0A8CocFcHtdYpnkO2nB09VvCFIZt8nPaOEjONyyZQtWrlwh9bSZYc3MVIkQpGXT7hQqH1r7wpEIYtGYtJHf5X9OWgENAzZLEisXf4WatavQrawIB+w7FKUFXqkxTv5nXslUEgnJ9k7BYIxlPIFIOIZIJIpEirGbCvDa7KzHbZXM8EAoBn8khrGHHoY1Gzbh8GOOQ9rmQPXmzXA63ajbUisAmNZJWilZ4WbN2tVCwC4WS3kes+nNmuo6m571xA1DgCXv1dV34tEYFn61CMl0SoClkUjASBjys7CgAA67CzVb6vDC1FfQa/i+qHN48ebchagrKEGdw4WYw4Ok3WFWLlSVeZgBLPyjzBDn+MkYW4Qg/S3SDXkdzQoOZ6f+XhxjubP8ta09Z2c9f1frmbbauTW4zK07vOsK8e3qPnc+v1MCnRLolECnBL49Cai9JJvYAfgBdD3qe4gXFMOQBB0iO1LXmFngdIOnkrAl4vBZLehWXIgeZcXoUVqMYrcDDlok6e6OR5GMx2GzWaXajFR8SacFQCn6InUR7NDySRDHOMJAIIDVq1YK8OnatYsAMVamEaBnd8HpJF8jSy6yjndE/s57CCzFAoo0jEQU6XgEs6d/Cp8dOHLcGJT5PGDxQ0nisaSFZ1Koh4ykuLiFDD0UVtZDSaAmaTrZNi0CPKNGCo3BGEYfNA6bG/zo3rcfho7YF3WNAQTDEXi8eVizcjUqysvh8/mEFikYDohrfMCAASguLlHk8brykO6/yQVKsPj1119j6OAh4oZnkhFlwdAAAux+/fohESfJu0r0KfAVwG5zoL6+ES+98goKK7ugz4gxePa9/2BRJIFgUSmiRWUIszqf+Q6hlRGLpbI6C1knL5vNdIU3r7zT1BP6HQCWMuV2YH1914FlU4tltrc7IrMdEHfnVzsl0CmBTgl0SmCvkoBU0pHknOy+EQDQ44jxiPkKYXO5JTNbW7kYUGmj6zsegzuZwMAuVejfpQIlXhfcSMFlgfBOskyjweo28bjUv7aS0saUTHNgqcElgWVeXj4S8RhWrVoJf2Mj+vTpoyx8quAcPO48BSBZztgwxM1MkErXMr9vtTIZhi7kpFT0CdVsxrzPp+OYgw9A17JCOCxJuOxMOlKuZwLLeMJQFEKRKFJJQzLEiT1cbrqtnQI8o0ZSSNBHjh4LfySOGn8Ap5xxJhJM/CEwtjulPatXrkL/fv2kjYTrtfW1WLlyJfbdd194vSxfkr0ye7YJNCPhMNauXoORI0cKsOTzNm7ciK+++kqslcyIN+LKDc62k6rIApvEZb72xhtCQTTmoMPw/qx5eHH657D26oeGojLUW+wwHLRaEtkrIK/iNxljqcYfViuEIL2JKzwXg6nW7sXAUp2fstf2AqX/FWDZWaVkr9LkO6mxe4vdfSd1t/MxnRLolMC3JAECy95HjMeQcYdg6cpV8DcG0L9Xb8laXr1xPZCIIy+RwImHH4ZeJcVYt2wxfB4nfB4XnHbW7VbZ17FoRIAlk24EWKZJ7aNAUQYpZlzBadisNsmY5n0bN64XUEWQtv/+B2DO3Dmw2uzo17evVLBZuXol6mrrEAwEpVwkQaXT5cpIiDW6LUYcdiOOQM1GNFSvw/4jh8LncsDloAVWJcsQWDILnMk7pCBSQNsq1kqnyyMxnwSOgUgUg4YNR8RIY+mqtWK17DNgoCT8ePN8kiDD7PW6LVvQt29f07tswapVq7CheiP2228/STwSCqAWwCVBnt/fiDWrVuOAA8ZK/Chlt3DhQqmLfsghh4j1lG2WrHbDMGNSUwgFw3jrrbfg9ubjoEMOx7raRjz0wstAt15YY3ejweND2OVGwubI0FlK8o5psZSyj1a0kBW+9YTby4FlLrjsBJZbDy9hRS602F4ZfUuaqvM1O10CncByp4u084GdEvjWJJBbVq+ll2p36a5sUEsFMJjQErVY0Ovwo/DM62/ijWlv4sknnsSLTz2NTz/5GA8+PgWIx9DV68XNN9yApXNnY9Hc2ehaVQ4HCcHp8k6n4G9sEBDErGhaHCUD2sqEm5BYFaUUY1xxKPI+JtTwHlr1VBLLBmzcsAFHHnkUjjnmGDzzzDMoKi7GeeedJ/c/8cTfxBUeiUSELiffly/fJxgzM1WQTsRhS8RgTUSR50hj3YolGNS3J0qLCiSTPRFTZR3pAk8K6FUJRbQ2OtxuGEZSaIjyfIXo2rs3tjT48dWylZK4c8LJJ6OmtgGlpeUoLCqWGuFbttTIc8srypRFEMCypctRU7MFYw7YX2qEZ8c1d89Oy/2MLd1cvQkjR+4rROukIPrii1nynP33319+8rGMUeVzSGVECyur/fzrvffFujrukEMRTVnx9NTXsCGRRqSqB1bEk6hzeRF10qZMi66JH6SCEhmUrELyWRluwJuTL83JCv9OAsuds6T0ALe3UHdFlZmWnrnz3rPnQ4ud19eOz4UdfWfz+bKjz+t4y1u+c0fmUFtt70i/OnLPtvZvW565Lfduazvaun93vbelNrWmv/akNqp2N9VHrbev43rr2+jj7pZvSwAzmy2syiR29GpNXrl/b1MnSF5HChFY0feww3DHQ1OQjCfx7BNPYuKll2LNqmWoqCrDHbfchFt//WsM6tULiUgUTqsFn378EU1gOOjAsZK0MnPGdBxwwAECIrO0PpAM54EDBwo9UENDo3BTrl69Gv/5z39wwgknSCzhZ599JlRCxx57LKKRiAC+p55+RgjHzz33HIldpEWPVWgIMA886EAMGjxI4hMXL14qFj+fLx9vvPoqNq5eBYsRxfHjj8DqZYsw94vPUFyQj8ryMgHArNwjVD+k/DFYvBICLFmu0u50obS8UiyBq9evx4bNWxCMGTjkiCNRUl6BuvoGDBs2XCycoXAIdXW18Oa55d0EawTOC+YtFN7J/cceIHLhpambFPZkvKOyHjJxh8k/BJYEzaFQEDNmzERRUZG4x3np7HGCaFo/aQEOBkP497//LRbRQw45FIkk8Mlns/DeZ7PQ75Aj8N+NNVgFJ0LeAqEgSpoUUZxZyXgCViYZWYDKcCPe+l8GlturcLb3ex1Z2B0FsB151rbesyv7pduys/v3bbR5W+W4u+/XMtlW2eyM+7f1GbtDVru7jTv7/Tv7ec3HZEcOJdsOvJXVhZts21fLwHJXy+LbnK/N+9IW4NNAoyWAmQUhO7f1rbZHYE5aqu30PXAs7rjvAdRuqkFRXj5iQT/cThuqKkvxxGOP4rqrJqKqrAwvT52KspISVFaU46v587HffqPQr19fAZAEPx999BHOO+/nePa553HOOediyZIlqK+vl3KMjBv85JNPxCL5j3/8Q34fPHiwWCEJvl5//XWh3jnuuOPw7LPPCX/lOeecLZ89//xzOPnkk/DPd9+RcodnnX0Wpk17E7FYAqNG7YfBgwdh1uefY9ZnM2BLGRh/5CEoyHNJUtG61SuxcvkyeN1uJA3DBHeKT9Pj8gjHpK+oCE63B43+INZXb0JDICiArGvPPth3zP5YtXo1SkrL0a9vP7EiBkNBBIMBAZZer0eI1IPBIObOnidrghZLDSzVaKoQNqtZDpNWSMaVRiNRjBwxErF4TFz9X3zxBfr3HyCxprq0JmNICdh5EVhSlgTmBN5jx46VMIOVq9fhuVdeR9/9xsLvK8FbK9bBn1+MsMONuGT5S8SlSTdkEx5LWizfmtRpsdy5q62Vp+2owmv/5K5f3PGTaUc6vqPt7sg7duye3DhavdB27IntfXv3ysTMvqTrYRusEHKmlQ27Y/OjI/duy8bX0fe2J/ud3Y82LS/bIK+OtHt77unIOGzPc3fVd3a8vR21RHb0vl3V0z3ruc0P7KqiTXatZzKIOzCnt2cMt9IFAFjL5tKrJ+PKiZPx2aef4vBDDsGsWV+gqrIc3bpUYv7cuRh/zDGIR6N4/bXXUODLR0V5KUpLSxBo9KPfgP4Cktj2999/H5dddhkeffRxnH/+BKxetVoscwRD++yzDz788EP88Ic/xNKlS9CtWzeh+mGcJYHWunXrBGDRgvfE356Q5BUNLJ944gmceuopmD79U4wYOUKq3cyZMwdHH30MAoEgunXrjmVLlmDGxx/BCgNHH3kInDbAkjIkeScRjyISCiFFHkcpe6iztVVt9MZgQJ7JeuHMCLfaHWKlHDR4mGSQz1+wEPsfcIBketO1zAQagjy6/u0Om4DJ2i21ktFNvsmRo/ZV4QA5059AlnTltJzShb9k6WLEE3GMGDFCLJbr12/A4sWLJcaUoFGApcnBSZ8750o6mcSmTZsxfeYM9OzZEyOHjxCg62/w4+8vv4a8si7odeChePrz2VgNJxqc+YiwghAbQtolziurRYBlFS2Wk1TlnaZ5LjnNTrd2BNqz1tUe0RoOmGbBb2sDbOvkua0bsAoS1qBBn/I7Bh600HItXNt6uu2oEurofds+kDpONKd+6bY/RL6xI23clu/u2L1bA8tteV5HRdPeM6mMtgog78Cmpd+vv998Q+xo+5rf115723vujn6/vee31t7c/ncUqLf3rh3ty45+v732tf15RxMutwaWu7fd7fRqG9ZG7pM6Oidy72tpbe6ofmurTbn7iN4/GGPJjenmP/8ZBx88DgvmzpVEHF9BgcQIul1O5Hm9kixDd++8uXMFWAaDfnFRDxs6TNzCBEaky5k3by7Gjx+PT6fPxKGHHob1X38tsYTkjiSQXLZkqSS2LFgwH8OHD0cspjguSZA+eMhgbKyuFnf5rP/OEgqfQw89RD6fO3eOWDjXr1+PYfsMlTazdvimTZvQt28/oenZsrkGa+kKRxJHH3UoigrykGCZxngURiIGckSyghDbyWeSfigSIYVRFAazw5n9bndIdrivsBAFhUUoKSkTXknO4rEHHSTAkG500hTpuEdaIvm8DRs2YNGiRejdu5eAbT4rQ04uhJK0LXLvT4u8Fny1QJKHCCzp6l+2bLlYd2mFFIql7IBJfyURKpkUGXw5e7YA9b69+8jfkokk/v3BR1i8fDUOO/XH+KSmAW8tXonavFKxWsKqSNmRMGAh4LVZUBVqzBCk7xXAUp/CthV87ZiiA9555x0xnyvzcNMrd0HPnDlTBvD73/9+m6/cWQpQPUdUhmR3Pf744+ImIIfX9lIs3X///ZgwYYKc9nbWNWXKFPzsZz+TU9jWV/uWh7bl1YwuqZkC3xFZ78h3W5OdfuZ///tfyVbkKXtbLk3r0dL4ttTebe3DmjVr8Omnn+KnP/1pm3P9448/FgXILMPtufiezz//HKeffnqHraitvefhhx/GhRde2ORQty1tak9GbYHf9r7bXjuYAfriiy9K+/Wm3N53OvrO3Pta+3d772rpc27oL7/8Mi6++OLMYay9NrX3uWgxU5/pjFr17tYPyR155vb0b2d/59tsJ9/15Zdfim75wQ9+8K3sQy3tieZkxi233Qqvx41wMIhwKChxkow9JN+kotJRl8qsjksWt8NpR6+ezB5XiTCBoF/2ObqzHU63JJnQzc3PWdqQF1263AN1nCETUvh83sNShtyX+X2CS37Gfws5kmSek1Q8iWgsimgsJp8zc1rFLRJ4JQW2kbfy+OOPhS/fCyMeE/c3E2PIG0kQyXcx+YbgLugPKn1kYRKPTfY+XSmnpLQUAX8ICxYuQL/+/TFs2D5Sq1zV+o5LX2wSCmKRZy1bthQbNmwUt3yPnj1Mi2WWx1ITxvP9oUgIc+bMhs1hF6Dd2ODH4kWLRE507Qvgz1lV/A4z3w0jjqVLl2LNmrUYM2YMykpLhU6IlthFi5bgzbffwWEnnY66gnI8/9lcrLTnw+8gN6dJ0E7Z22xySKiK+DFt4kUYnufccwnSp0+fjptuuglvvPGGGWSalAHgIHXkamtT6Mj3eQ83P9bX/Mtf/tLmV379619j9uzZePPNNzv66O22kmWVlbLYcWJ7PHmSBVdZWbWVQiYAuOaaa3DyySdL21qSC//GSUqlRCqG9hSifkZbG6LQRLhcsrAZPLz11T6w1N/Zuj0dtW6oJ+yszbU9ubQ0+PwO58+sWbPw7LPP4je/+Y0ESjM2qLWr+Xv4uy5hJqdWAKeccgqOOOIIXHXVVU36ePbZZ4u8eVDIvdpr+7vvviuAgfQWbV2XX365yPOBBx7Y6jb+Xb+ntUPgq6++it/+9reyXrRi3J4DI+OPaIHInYsdXXzN14BuM0H/j9BQsS8AACAASURBVH70IyxbtiyzOeU+c3va2bxN+l10USkLS2wrC7CeszfccAOoB/WlkzIotxtvvBFHH310R7u8U+5jvNa4ceNkE6Q7kpYR/mxuwW5rXtO6I8kNpruWpM2Md1OHd67rHfNAcH4SaPDQsS3zP/dergOCgwcffHC75dbeeuODm1sY1WZviDxzPWAdaQS/e/PNN0us3HvvvZf5Smv6vqW53JE2t6bjmq+TP/7xDxL/Fw6FBIRpwKeTRnJd9NRtTFzhmqYVkuCPLu1IJIyEERdQyJKITGLhPbo2uJKh1jkqREhAnMMheoFri1Y//r2wsBD5+fnSDhKuO2zMJicXJSvmxBFLKNJw9TljCNVz6erl/cd//1jkeT0CYDmHBUzG4/JvXizfyGQbAjJ+R8VDqn2VAJXP7969OxYvXiJtOvTQQ1FZWSltoKVTxT+qyjZ8bWNjIxYsWCDzQXFQlkoGvGRhS4lMlQXPw5gAy3AIn07/FKWlpRgxYiRqamrkXXRvE8Ow4SJzE2BS5mw/f/I9tNDut99o+PLzpA+0WpIm6m9/ewJjjjgGef0GY9rcxfh8SwABAktZphY1X016pbJoEFOvuRxDfO49F1hOmzYN3CR5SqYi+slPfiLs83/4wx86ss52yj3cZFgM/vbbb2/zeQQLjIV47bXXdsp7O/YQBSy5eJjNxQDksrLyrb5KAMOAZsaXtHVx0nHCsxzUzrhUuzwyfozv2PrqOLBU320eU6kmtnyyne6m7elnS+9q7/3MWqQceCL8/e9/L8r/gw8+2KaNb/LkSTI+L7zwd/ke44EoVyqN3E2CvGVsD90a23JxM/rFL34hp9e2ZDpx4kRRgvfdd9+2PD5zLwPqNbDcrgeYX1IHKvLENY0py31ma+PSEnCnDKlcmVHKZID2rvbGXH+/tfsILDkfuIG0BCL4PRIb0zXHzYm68Mwzz5TMV/Z51KhRsol8mxcPAwSWtBpxQ6VH58QTT9ymJhx44IEyz9gfyvxf//oX+Lf8/Fzy5+0L6WFDmNzB+Tl06NDt1g1cQ5T5kCFDtvsZ2ySUnJu5z9HidO2117b5iJbm1a233ioxibnAcnvbsaPfe+65ZwVY0iLIcab1TmrwmEkjOulEAV9loaSFkWuaIJB/pxWR4IdWN1r+SBnERByCP0VmrmqQ64M328w1PGPmDJx+2ukCQmmNpJvZw4SafF+m9KOQe5thguK2ThlIpVVIm7KoWiTjm5fTYceAAf0kBpQlFjWXpjoIJAQcCigkwIIlAzxVu1KyXtxetwDkpYuXSnsHDRks2d9JQxGt6/MULZb8vKHRj1WrVsPtcqFXr57w5tEbmT126d2QuTv8Pq25nPsFhYWSqFOzeTO21Naia7eu8l4BlqLY1ciyrwSFXMerV68RqiFWKXJqa7IA5wQ+/WQ6Cssr0WXAEMz/egMW1TYgbGGyjuYVTcLOMbVYkW/EcPFxR6FPkW/PBZa0VNKNSsV6991345FHHhEqAVoRJ0+eLMJh/MHTTz+NiooKXHTRRTL5ONn4Oa10f/3rX2WSkLuKf6fFiIN8xhlnCEhtvgnxd7r6aHk86KCD8MILL8gp44477pBbuelOnTpVBpJKXj9Db5TcNHmxBNNTTz0lg0bLElnzeVERkwaBGwKDjqlQTzrpJAEZtGIRDPB+bebPVR6cBGw/+0xOKgYec8ESwJF6Yd68eSAY53XBBRfIO9jnu+66C0ceeaRsRHwe4ykYuExZ0Q3HRSwT1mLJWCwJWuim+9WvfiWnR33R6karBS1lzz33nJwuKXd9sb8cK8r45z//uZyWFOAtE5lRdvz+6NGj8aMfnSHtW7t2nSiMww47TKwz//d//wdagGl5oMXg6quvljYyyPqdd942A7DPkaDnqVNflnafdtpp0jdWKPj73/+OX/7yl03G9k9/+hPOOecc2cR4D8efY/Lkk09KcPP3vvc9HH744RkLAuccx48y5+Gid+/e8h4eavhsfsYxpjub4EBf//znP6UPfLa2rNMtxfElKDzrrLPwu9/9TsZeA0v2le/nd2ih5zu0ZYoglJapv/3tb3jooQdlrC+88CKRyWOPPSYb38EHH9ykr6+88orIgjJhKAJpJuh2ZXYl7yUw0RcVEeXFceSBgqBRA0v2ne+l65pzVPeT93AsCSz5k1YSjh1P4PwOn8c5SqoQfq/5Bsg1wj7S4vn222+jf//+spZyPRFc+zNmzJB5wn7wPQTnPLjRSsY1Smse5zCzRzkXOUc473UoB9/L9cZ7Cb7PPffczFzm8zi/6TpkvzjGvBjsz7ASHhQ5Nzlmzz//vATWc6z1Os4V+AMPPIijjjoKCxcuEKs0gdfxxx+fsSjQC0CZ+P1+6QutDxxfyp4Agn/viHWKcrruuusyrnPdBvaP827QoEFy+Ka+Y7u5xhmao4E872fmLIEz6VqoW/V7uam/9NJLcljhxk19oceN408dS/lSP7FvXN/8j3LioVtvoJQd1xd1J+WVe+BhzBfnCu/hnOTnTMrgemAITo8e3aVLb775lqwhzikeHmh959rkRcsK5zeBBceMG2jzi/3lu3784x8LWGE7ab3k37Rxgt+59957ZT1w/vC5PEzwnbyo92nd0i5lrh3OJe4/lFvzgzLfwz2AgJmy4u9c67Socw3x3Rx7HvC1TPhOzi2uO+ph9onrn9+nJYv3X3nlldIeziv2S2U1n9PkQEF9Si8A5wfpcthWeh94se/UcbResS/cA5pf3DM4DzgPabHnmuVa1heBHdcX1x/nkw4L4x7J51NOnIOjR4+RPUlfjHFk/5gEw2c+/fRT4l1ZtXKVrL3rrr9O5D5j+nSZc088+aTs45dccknmGdxPqMPYNsrC5ytAQ0OduWdZpK/cN3mI0GuY85s6jgd5Xtxz+G/9XM5zrvv9Ro3CGVz3NL1ZKKsQnnzyCcEb5L5Uc8Ei85n7zvhjjsazzz6DiqpK2fPsNu3Oz0A8s925JQzbOyC1ZCzhY5pb7fV9Ld2/rQYaLd7c7zXlxMx6DlSlHYJG2lPJ8Bk1k7OaZzjwqfSlBTbXoltp8Z4LLDnhuYgJTLiobrvttgyA5CLhpkSAMGnSJAEHjA/jwpJMKYtFNja6iriB011DxUiFSUXJv9Hd1dyKx0V9/vnni4LghsAFyknEdxOUcPLSTcKTEDd2LmpuFLnAksqZ72a7uGBvueUWcS8SnHBhUbFSqVJ5UOERXLK93GS4gKlQcq1B2uTOtlNh8XMCGyoSKhTtcubGwgXMNmllyU2W4IPAim3nZs1AaC4yAlwuOi5ayWozgSVlRUXOjZ9WhdyLSoqbN5ULwSU3TG7+VMRsBwEKNw1u1hw/nvy5qAly2X7eQ+DMTY/3UOlSmfF57D9lyb6xLQSlVIS8h8Dzppv+hEmTJopSoCLjs//xj1dx8823YPny5dJMgj4NsHMBDd37lAXfTcVBORMAUNFzI+aYUFFSwREwsj20xBBUs61sIzcx/s7NlcCeII9t4/OoEB999FEZX84XzkPOF4IZbmAEiGw3gRHnChUi5yDBN+MN2ReetDkf+ZMHC4IZKm2OB99/zz33yFhdf/310g9uhGxvc8sGNx7OO7ab85Dy5xjR8s55xTnOucB5ynHmnGFsLvtPGRFYcpz4XW56lBNd+ZwP3JjZRw0sGY/JTYvAhuuO65KhDwQfnCscY8o696IM2EbKkJ9z82E/eHDkuF9xxRVidSEw4LxiO9gXDTYof44b5wTBKMEeNzxagbnRcWOh/DhPuRb4Lq4TblKMhebFsBDKlT/5bK5NAgd+zrbQckIwTgDG9cYTP9cqD3bNwTJ533jvsGFD0bVrVzlYcbzYN8qS7eM6omw5z7jmyK9H/bOjwFIDNepJWqnYTo4j5xrHnGuReoHrlIdtfkYQw9+pSwhYKHOuTY4p9SXHgWPMeUVdyfbzc65t6mFaWKVCSF2drGuuMz6Lbn3qJG7IPMxy7tOCxov3cL0QFPJAwLl76qmnyrhxTdGrwvbywMHvEHBSdlznPHjxIEVAwL9feuklsifQcs+1Tj2Re1F3c04SvLCtrGLCtUwwSPlzbnFsqFvYB/aNoI56h3sIx4T7ih5LzkHKjKCe8uI91Df6QM5380DF8SVQ5XzlvJs/f56sH2YZ8zA/depL0h6CIx6cmJ1MOc+bN1/WP63TlA+BOtvMeUuAxPnJsaBe4XtZIYV7E+XG/rMf3JMoX+pctp/rkaCc/+ZBjAcrGlk4f3mIzb243thHzknKiCE0bAd1DC/2h/qNz+Jn1ENsG/c3yox95jqhbuGa57plf2mQ4bykbqHMOUfYfupFgm724aWXXpRMbz573MEHS/t7dO8ua5HrlXsXvXBsG+XHA2t9fS2KiorlwP3SS1NFJ/F+vo9z5LPPZuLEE38oc+TFF/8uz1+06Cv06NFT3kswe/bZZ+HJJ5+S7xBHcFyGDh0i85K65c9//jPuvPNOTJhwgeiV4447VvYE6kvqK+og6hSZ29oEmGHraFobuzmQ37bfO/qs1r15ev01f++2hfUwKlWqcgrA1P9u/kwGENRs2ozKsrKtgGUGxu7urHANLKkkuGlxsXMC81RHYMfNgAuUp2NePE1SmVBRUGg6to8Kk4uQ92oXFzdZKlBuIhqAcDPlxs5n6MXHCc2FS2DJRUNFwb/xYuwiFxEta7nAklYBLiJaVnkRPPDESmVOa8/8+fNlofH64x//KAuepyK2mYHxtNgRGOZeVBRczFws+qJM+CxuHNxgNXjl51yQVOBU7vw3lTNBAC2s3Iz06Y4LhcqdYIXv56Kj/GiJYL+aXwRSBKlsH+XG93PBcUPnQqMC5njx0hsPASwVN8EVFywvfo/AgguaypFARH+PCoWWKP6dQJPXLbfcjLPO+mlmE6Gi4wInjQIVBuVJ5UTwx80j15XJdlKBcMPnHOLFDZfjp+MEKRsNHrjhURnTksKLcuRpne/j5sHxojLjxc2HAIcWK7aJc4Rzh7LkuzhfCCwpM21ZoBxosaTC5lzj2PPiZk0ATPBIYMQ5zvlIoMtncxPi+LMdvAgCKDduurkXQQzlx4MPDy1UlNyceHH+8XncOAiYuJEQEPPSmz4taRxL3st+8+LGx7lCMEZ5cIy4mRJAUfFSLmwvn8cNg4CD649t5uaTe3EdXnrppQK+OTa8n+PG+cs5wIMPLYecMxpsc6Pi4ZEy5f28uKa4rnNd4RpYUSfwkMF5zTYRpNPao8Nq+De+j+PDDZlrlaCJIJ86gWPBzYpeD64JXgTI/D4tJ7mHloMPPkR0xP33q9AAggFaUAgQCLY4V7QFnc+g/Pju7QGW1A1cY1q/UY+xfRpcEfxRV1CXUQYEF3oD4U8CI64TXpwn1IG0+BCYUMa8uHlzrDnXOH7aUszPCPS4tiizXGDJwxU3Yr2+OSf4TI6Ztr7rdhCoUoY8wFOOGliyXVoH6XXPv1HHst8ENPvvP0YOOrxoVeJBpvn8p97iPCWA154qrllefAbHlWCCz+YaoFeGF+cA1xsPELlrl+uMn3HO8qL8CfS4F+mL8qZ1kv3lXOZ8KyjwyToiyOFFtyf3tMMPP0IOs8xK5jyh+5T66P/Zuw8w2YribeDNJUrOWUBFBEFAcpIskpQsSTIKggkQlSQIKqBEQckIigryJ2dBJEo2kAQl56DkHC7f9+ul7j137uzu7Ozs7sxu9/Pss7sz53RXv1Vd9XZ1n9MSEMYz34z46rMxhRSKKSby0b4xoC4EFJbGqkIuvlUf+fyuyfd5GWe2d9xxx423t9u9kVVXB5JJd/w238Cf8l2KyQubQIIRS0TReFas6mnDpAZmbFK80DZCyj7YEmIplhn/JpmSHNp3BCJ5l11mmTzuXccX84dR2Ie9mGIfX/nEE0+Oyd7SnUmlMSpxg0SbOEqmIIKRPGEbkjrk4vf5SdvY2LbJg8IG+ENjSRLAdTE+XMsG6Tgv43+4V/jRRx75cK/xBHkSZl/m4JZactlbtnRgpHv6mWczF+uiomNLWxPLIEYM1ACOJQRBzkAzIzHjZUQUL+D5W+aHA+aI/a8ejp/hde3x6ArsAo7/4zOGbRYeeywRv9hMjxRwYoyxdincwDYIycVgtYdYutbAN+tUBF2ze9kjbXLIyKDAWi0GP/kNtni1EQfPERnoHFVkztznMwPSwA5iGacSWHZyvYAskMJEv+Ai+HKQ8fBC7aZ8BIWD0Afyxj4xWKsfVvojYxazeAFKvQiN+8lJNk6XE0AgBY8g00gLYoVkcBb2s5Dt5JNPyhiQnaOSffn859dIG220ce6jwY/gcRzjGPSHxFJwQVr0yeTA35Ht85ss8GJX6jNxQdg5Ud/ZX4awcSzIvMLpC87IJLlcp6+KoIbo1BJLWRkTFcSI00Jw9Q8mCKTf2oUpggY3jpBO9Y0dKd0RS2OA3XOYyAXZ2KciiOoH+9M/mETAQjAET7qHDz2ZNJCNPmBOJnUIIPTKtskfDyHQAdIsUyGzV+9tCsapCZUgEAWOsEe46MIYUExYjBF2ahJivCO+bI8sbLVKLGFiXCBvgpNlNPi5XpAMMin7ExMhdhAYyFjCix6RMhMMAVKgEvBNUGqLV6Agj7vs0kU8kBB603asAgiCCgIigyOQImaNZizJz4cgG7H1hK8glyDtezYjmMocsU+ZQ8QkfBm7Q15k9JDnmCAjJuqCQey5MkHig9gwPOIBMbZjslJLLPXNBAkJoRe2IQtpTNc+bImEy5IhlnTHN7sWyYpzngNjk1wTX/0m23nnnZuJgr8vvLBrghJkIMh+lVgK8JZ1+XXjHjngb8iF4LpWZlthW+zNRJEO3YuIIhcynq6DKbuufXNGEEtbEOgePlNMMXm2NxNfZfrpp8urBeuss262i512+loeV/bnIbrqNwGpEktES5tIntL1mpx/Zr/PhsJvxDgQp0yyrbTFHtzYa8p3wJmM1UL/xkqQQH/LxvLDJhh8uXEAX74JGVQHP8CGY4WJXzKBFhvcb3zFFoau7Un75HdTBrGkC3GHL6ATxdimF3owsacnmEXpIpYvpJtu+msec2zfsrFJKF/mx2SfjcKW/RqHYRuxYshujJ3wvepn2ybt2qY3Y8e44M9kyulCwT1MfNh5tSCvfDo6wV/N5GSeEVhqieXYnGvXX0N+VnhPGUtLNGZrFB+Ok9ExKk8ZVgeczhh4yFvX4e4TZMdrEDKuMDoZFk4hb6T9sDBewcS1lpIMWMYnEBrciCmnVyWWjFvGzwAUvP0tUBlcgqZBhHiSw6C0zMioycEpyHDWEkuzcobNAcXMn8Pk5Mhl8HPmZgoKh8nwq8SSg5ahUUd+h9j/3zPI2XICse9LhoeciEGQkerYQAzJC8twBLIynBDnq55Y/oqMEoKIYCFHZtFIpMGJBCALHJE9dlViyVG4r+vhhA+yg5p22mly2/pIjxzOmmuula688qo8wxZwZWQsh1RLZCzNQuNBg9hHpr8KfMmCjNGt2biMYhTBj8NDLPVdFlBBQtWrPsSSsw8dwBC2gpMsu+wem5Cx9Bl8tc+BKZFVQ2joh4NzP1unt3rEEpmn/2oGrUoszawRrXjgTXvsSJbBhAIRsZTFFtg2ByoLQTdsVzYhTrFgYzARyN2nf7Hn1/iKQl4Eg0Pn4GsfaNO2ZSy6ij1+QSwtf8osq7frzN6uIrAZI7XEkl0hGQpbFoRhQkZ+wPigS/jEHjTkXUE4jQ/jFRZIPrJLlwJ5jA/k2TUmkuyD/VaXkWqJpSyYNuwP1j8BnR3HZIttC8wmso0SS/KSv0osBWiTRBmmwEA/+TZB25hBEqrv2NUv44bNutakif3wHbFCkV+xMmpUnpTwGcYMIqjIRrEpNlrNWCIcke3jU40RQV2AbpRYmswh3dWJQpVYGuNIlSP4+JItttgyr67ApFrIahzKWBo3yDRSrl/5DOeJJ84ZQVlC18brnhA7ts72kDv3GqeK/sGZDbAR/qv64FQQSzgas/73MJKxNNdcc+c6pptu2g+3fayZ8bVnPM6W9mQyn2YcVImliTQ/LzbFGDcOjOmwUf4jcBOnTBCNZUSHLcYEAq7IVu1kj19Rv7HARv2NiPPpxhPyxQbC5mFoXBtX4pqY4D6TTathZIaNjF8QSzGzHrGkI77JPbWJCnFTHDT2qll3dofseZhR/ETk4GkMiEXIKRuFhXhj/MY52fRAR+qUveWrTVT4IhNMfXAt7uFvWGrLZCxWLsgkW81WShkfgY4gljIXCAbDNeA4CEGaUzbwZa1kqcJgImgwRE4VIVAEPgOSc1Y4X8s21f1SZpmxnB5L4ZZakAhpflkHwdI9iiBrZsuxGQScqeU08nDIkQ1DmpQqsTQLNpA4eYGUw+6JWHIUZviWDwz4IIaMnUOGT3UpHMGTtbHcRX7yIclm4WaIApICI0tRsS+Vs+IUkWmBNpadwnyCWHLwimUzQZ9MCGvoy3cReOjKBMAsMWbLnDOnE0vhtRnLcYll14NFjzzycH46Dk6CmIEvY2nGDwOyI+z1smT6zZHEuyORBxma2AKAWLpf/zgY+72qBBkmHiKQqWBHVWKJQNA3mTisaKManKpL4RwpZ2USYXLCkdu31bV8NnWe9Won9ilF5rYnYlkd3rXEEkmMB4LYBJtB7tiGACKjqsgw+J5OBRnEF/mKIoMpoAfJkBkTcIwxgUO9xlQsfcMTJjHxi3qMWVkS7Qh0bEJA1ZY+C5omGUHQkQRjHWYmDwJH11OQb+RxbdzGw27wEwzoGzEmM73BkOx+u8+YjS0F5GJfApMlv1gKR0jUJ6goApVgKRBVibzAz37juiCW7E2gQ8AtqSuyYTI9iAkSXSWW7CCy3fUCFt/FpyBYCtxMbExUI4MOP30XKNm38R1Y0VX1TQR8iOv5FkRcprrrPbgpEzOY07VAGvvJ3M8nslX6pSP1q8O1oRvjkJz0GLqJPnWXsYylcBOfyLIhgPynfuurrSvGjGJCZB9gYBv1VzOW8SBkZPnhYSwjPoglnUUGuB6xNJGlX5k19sNOxAHEPF7fpt1aYskmp5lm6qzjKrGk/8hYyrohaDJuJh+wjDjH/9AJnPlicSUeqOFHEVYrYvwenGMp3Pile/owxsSEWKrmo/niGFeBF78iruijglSJFXwzH+hzmXz2YozQOyx232OPPJ5OP+20HD+MJ7HZi8rpyEvG45VnYpy/Y4+lTCP7RSxlJuNNFtUVMBMnsTYyg17J4xU+XmKO1M05xxx5HJkUKuGfnI0tLj/55BM5RtCvsUX32tW/KlE1aRATYRD7wY888qh04YUX5PFy3XVdGcu77+7KWHY+sWz2YZ96Xmn8z7pbCo8rhzxjKQAJfozXLIkBCniCF2fD4O2FQfoMGiSBYzObYOgMRtATBAQgZEgWQzE75DSCJEanzUoNKjNVgc41ZvSCihmaTAw5yCbAcGLkESxk3jgAAZcs8VoZpIpTQLzUZfDEUrhlVE4qiKWgKGNZDehk0z+ECeHgAAU9Dsf1sSTIYQiYSKug7UeGDckks34ZJCuvvEomGoImh0SW2BcYJAY54HA4xqojgj8sZDpihhnEkpwCY2TJyKg+DkpwQfrhLUDGk+Nmj9pAwmKvob7qZzX7Z9b81FNPZh3AS99kDwRxe5Tg6n+DvppNCr3KZJMdaVCQRxOAIJZw4HwsAZJHoOZMzPotW3PenDaSghRHIKcDNhEPn7gHthyo9jh3tuQz9sdm/U1v7EKhI9sH3IuIIQSCJtvTn3iqXlCVEfAjG4QwIrG177H0nYIkC+IyeIitYqlN4GEj7FUAk7ERLF2DjMVSM2IRTw9zuIKn2T+sZVr0SwC1VOxekxW4IAD0oq90X13yJoOxYwKCSJBf8JJVgZfCFsgY2X2BkUw+M7lCgIIssWEyyqzSHXngbPwb6yYAslqCGlski/Eg+yw4GhPkNCYFYd/DVRbIZ/QPM/jIfghAQSDDttgmfxSEm/yIC8LOhmEqQ2sC57f2kDN9gr9gr239QM5jf2Gty/a9CVAQS98b7+xPveyETowjdhMrAkGC2RVSwGfFxEYwjQegTOb4FoEX4USyBX846h+yp//qg081Y6le41vdyKkJOBvhx6oPuZBZG7YTkRn+cBHATdT5UhOa2CoRD20an3TPbhFJn7NFf8cEMPAKYskfxHsRxRFjwbWwp5vapXC48qXIH/s1tuFpUm4s8mcwJlv4yWjT2OD74G6yZvLivYP85DzzfCwTsllmmTlnQ1df/fM5oaA/hx56SI5tsnmWqRFpOtZP/sYkkS/mG5A2RErMQKLgzEbZi1gTb+TgOxB7dmU88sf8u/HF9+pftfCpsV1HnbC26oOc6ZcxFA+xudeYMya/s9tuXQ9C/u53uTp9sk3K3lHj3gM27JP++VBxpPbhHRMW+EbGMsYEvekPeflu+jsw4/5ceuGFrvci77rLLjlZw47YqYkc23/wwYeyX3nuuWfH+BP2bPIOK/KzQXtPTcrc47vIfiOuSLLTbsh17bXX5LHtISvFWFUPHXde6dv7n5vpX9sTS4bFecVGW5000A3EWLYx0COzwPHHskvMuN0jCMX+w1h68z2yGRnNKoCIBQfH+JAmTsG1CAtnxjkwNDMl3zFyJFZQi6fMEUWZLM6KQ4tZnoHKecXrKiwpxUMaHDZnbHkh9mTVKpbTj8C87LLL5PYnnHCiPOPVNucjQAj+yByZOQWOZ/PNN8vVaQ+5sYTgc8TGdQYfMhEYqdMgjCyGew0m8mvLPWQWnGScIpPK8eonx4iscQyucy/Hru/IEEzi/FKOmiOPbQj0474qSeS4LCfvs8/eaYopujLR9Oce/VZHZN9qcYOpvqiPjUQWPPbU6hNdhP70JYgdR48cKLHfMd51xq7yy3snnjjbpay1vXwCsYCgfrYU9SMcnK622HVgSh72RP90QoeCJvzC/r33Dbl86aWX80SG7dMdDPQrsm5m5oh5Zj7/EAAAIABJREFU7FOlPz9kJkcEQW2rA1GVvUFI/Y8g0BdyJsDIrOoPx6vAMur0vzqN0/wS3g9faSPwu6f2CVTf6z+7JadJClJZO8FD8BBjQTHed6gdwVJGLvZYxpPzMGO7gmTs94x3bbIztsj+6Cm/0y2lTE4s08tqxRYJeqcLthe6MQkKQlbv9TYwowOYkEv/tIMw6afPEO8YE9qPI+BgGXau3dpsUtWOtcMPVV+nROeCMb8o2CHYYQsxhrQf+kReEHCrBbVvfEBmZJCQKnqLJXTZIfiyC35FEA98/M1XsRV+BUlARExWyMv+q0vh6qQfPoK9uE4d6o7TWIxxxFTGToYJAYusIt/nB/lhB/Qfq1SBVZVYxh5xpMOEg30gW2Sg03hhtuvowhhBEKv+Qb1iAn9A/+qod0gH/wkXdauHXyRbZGxNjI1l/lrxEAq74MtMXqr7No1J2MUrcmwvMfmEGb8QNu43nOnH5NYkUizSh7ADhNKkzMSv3uuGYGksGq+Io8m2TGj4d7/5ARlS+ojMqXvYcWTZtcvGw4b5OHUvs0zXQ2SnnHJy9t/ipHEMC2PS39me8kslU45ls84+9l3KEkc+8xum4kRMlsL2TQCRb4VM/GbYhTEYqz/0wp/pp4wzvxNYmhTw1caGMTDmnc4fnuAz40wz5XbVx+/Hfuvq6kVt3Gmv/1tDKnt7RGgssYwtheM+RDTkGcuqUtpZeUMnW5w4UP/pswgoBnDXK45qX2Tc+FNjQ9fHnocmuTg0WRUZwL6+FLxe7c301T0yLbJCMqEcoG0bnFjtdoJmnU1PRzo2W2cn3deMXvrav0baqF7TyPWNyNCqehppq52vMRFHDG0hkN0yhqpL4z3hFEQYweLzat9G0Kqx3jx+tUuQfVuSjC0lVcLXvCxj76w+vNNMffV0YkVJ1i/2ds877yfT9ttvlwl0tzrMD9F+GJN6CE3NjpXu7mu2vmawGtp7+mZv3cnahsSy/x3rzQh6+74RxbaijkbaGehrzMAsU8o0WXrtTxmIYNofeeJes3EZDZlKAaneMngz7TRjA2ax3iJgmU/2QWZbNixmxM3I0S73NINHyF7v3v7U1y6YFDlaj4Bsr60FliCtBNk2YKLWiA3FwzkyffEUdeslHD41BqbIvAyfrQOtLLapyYArMpe9HYvcyrZLXUOHwBAshfefWDYCV7NBq9n7GpFpsK8ZTn0ZbOz6015vuPf2fX/aLvcWBDodgWbGRzP3dDpOnS5/ZF+r/WhVUqDTsel0+Yctsex0xTQqf6c41HaVcyDlUnd16Wp4Oc3BmSA2Og7KdQWB2uz4QI7t4Yb2QK6oVH3gcMOt9Kc+AiOWWFZnS8Mr4Hdv6vWWsofa+da2P9TyDIaj6KmPneCEu+QPpBrfozsY2JY2hjcCvfmH3r4f3uiU3hUE2gOBYUcsewvaQSI7IYAPlYm0q3PuTa7+6DTq7q2NodJJ+7VbMpbtp5PhL1EZn63XccG09ZiO9BqHHbGsKrReVnI4E4j+EKvuBkKrnE493PtSd1+u7e+gHsy2amUdyrb7hlvfiWX1NJVmVwk6B5++oVmuLggUBAoCwwWBYUss40iyegFsOAanVvep1fUZMPWW4ofLQBoJ/RjXJvpOLFuF0UDuB2uVjKWegkCnIjAQvr9TsShyN4dARxBLR1N5s74XU3vhsFNpvBy6t+L9Z15i68368eLduMepK/Em/uoRap08qJzr64XIXtNR76Xvfc1Kejekl+16UXLgXYtPNStcr/4qsXcChRdhe8GuF9p7GW8cAxb31sPfCQpegux4r0YzXc3q0QuSnXzhJb49vai6N9tr5nt9ZLNeUu7lyO1YvDSYnJdccvGHL9HveY9l6MH7BL2g3EkXTlfpi37iWi/UN5arRxK2I0ZFpqFFoC+2NbSSltYLAsMTgSEgln0DMs5JdfKDoOZN/44pqz3Crl6tTrdAKJ1KUEssnT7gWCZkNU7h6Jtk417dl2XogXJ8TgHwHkXvgauelNNMv2R81eUIN+9hjKP26tXVKLlELL283Dm3To9xsoN3PTqhqKfi6E0klzxOTegOv9rPY+m1ETIa93r3nRMgnHLR3clHzeDZyD1snN6cHgGfvpS+2J96e8Iw2q2HG505JcOxck4GarScfPLJ+YQVp744bq6vWUf2aJLjVCMTwjgZqtH2e+pzX+oo1xYECgIFgYJAzwi0NbF01JNzux1Dtc022+SzRh3RhAw6xi6Ow9NFRy8JVnHEks8cfeY638lcCqbIJKLijOIHH3xwDLGsDaIILCLjyLDqMVvqRdwQEEd71d6nLSS29ogx9znfWHY0jgwM1TgKD3GKIwOrKiOv9hshOfqORJNN5o3sjhKrkghB2XFX2qolF85LlRGO4wPh6Rgw9fiJAhd1xPGLgUHtaRDwdUas/qpLJtXZvEEsnczgHse/RfFCd8dlVY/Nc/qG48CQUoTPkWEye/qifzKLVRJJPv873s8xbLCrN3mo9t/xbe5hJ4gl4hSYa49c6qsSdvIjWo4ac40X0deWIFBII7lgUZtNZk9eThz6cg6183VNquLMe9e4n0xx7jIZ2UZ1HMAKpk4hijOaXV8lcj6XKa4eixZy+w6m3dmbPiuOxJMdd4Rf/A27sO3AFm5ecu08X8TyuuuuG3McnHrYnLESmLAZ95JfP/Qxzgumb3bNhrRtjMLHmHNP1UbVTaf04nPHvnlp9mBnoUsAKggUBAoCIw2BtiWWAoXj+Zy4EIRFsHF2sHNKkRPncAsuzrt1frbg6YxPfwtUcaauwINsrbXWWunvf/97zsIhc4K9wCXwRUFqLPueeuqpOYg519nZoYitLMkBBxyQTw9ABJEfS3xOiRCQt9xyy5yREWBl+ZxrLUgLlk5jsYyHCDgl5phjjsn9cv6tOpydqn/HHntsXnqW3VOfDI12ZWscj9VTJjIylkjzrbfemonQ73//+4wJUqIPthUogrNzkp07i/CRD/GVhSI7nGEmKK+++ur5jFhERx2WMwNrxL9KbPQJBnSCBCL2lr7p6r777svHtEVGLu5DEuhiiy22yGcAy045AlGb+lt9kt+57XfddVc+45WeESRnhDs7V3G2sDOTEQqZMbI4czjOGa43wOnUPQjY0ksvnc4///wx54EjRLZh6Ds9ON1H24q2Zc5dz1a0cfjhh4+3l9RZwO5zDeLlLGXnzCsnnnhiPpFC/23xkBmGjwmCEyvYK10hZbJ+tgPAhP0795hMtgo4McOExv9041hJ48cYYAPrrrtuzjR++ctfzri6bu211842qt8I4Oabb55uvPHGXA9dOE+6tph4mPAZn86lZqds87LLLst2TxfOVUcGneahDvKSh74QS3phn5b8ET7tI9KWyvXT0aNs3Tg3xhB2EwQTCzZKt47s0w84wMW4dYa1c8fZi3OoTUTpjU6dO05XzvwupSBQECgIFAQGDoG2JZa6LBsiyAi8O++8cyYPAi7SITAjA4K5a/wv84EEOL7Q+cyRsZS5QCovv/zyXA8iiSz6HvmJDJBgKSPjfkFNXUgVQiBjdv311yd7M+0TVN8hhxySg5igLNBde+21+RxU/wuo7kciEChBXdBDBnyHNCCZgvIPfvCDvMwv0AvCiCiyKmgL2MgRwrTnnnvmYNnd0i5iKauDoMhI2qcXGV7B3vGCSE6QPQRURlIWFVG2JI2EHHbYYWMCu3rgEdghaTJqZHcdwnLRRRdlC4WfAI9M68fNN9+cr0FekFGZYsTQ/Qg0UqvAi/58Rtfkgy0yYj+d+hAV9S+++OJZzo033jgTBns1fYfYO0YRnrKICAqMfXbSSSelHXfcse4oQtztqUT6TTjYEpuCIznURQfInT4gQ7KHCj0cf/zxuW52ZGKgL8h46Ii+bd3QF/pzv6wiMo1AywyaBCFkF1xwQT52k40il7By9jjiq27kUz9XXHHFnI077rjjMtFkE+xOHYgfW3X2L937nF2EjZpYIHAmDUFqTZTgiuSxRRMxdbMf11YLYmxShrzaTgI/JHSRRRbJOqMjkxiTFse52feLzCLc6jVGfMZ+yPqjH/0oE04kkZ3DGZFkk8aAsUJm4w4eMpz8Aj1feumledz5G0ayvtrWV/1hb474VD9cy5FyAxdISs0FgYJAQSAQaCtiWW/flwC13nrrZYImCCEKMh4CL6ImOMkqClgyGbJzspjqQhxlXwQcZNJyKNImsyLw+LtKLAMU2UMkUvAVLJEDQR3xE6AsfSKLgh7CJXgLsgKhLBGiY/leYJOtm3feeccEPxlBAVIf3IeYbbbZZjnbgmAIuHPPPXd+wEG7gj/i4z79qWYHa80YgUA4BH64yKwhK7I9sXSM7CGRsqZwiyyavp577rmZSCFUsBLALTUilshVLJ/DDLHYd9998zWycUiSLBhiCV8/sn2WufVLW/CuRywt9yNBQfTVRT71yRzXI5aIugkB0gbzJ554ImeaZfxuv/32rN8rrrgiZ39ltOijtrAROiBXnJELO7IgfrGsixCZ0NC77CA7Qxwjkx52S14ZtdotEoge0gRj7cCZfanHxEUWDbFmN/Qs04ewWraFm3tln/XB54oss8ytfsv2Iaz6Xs0ouo7d0wk9wRdpu+eee3IdyCcM2ajlbIRVJp19mFixNX3uiViGDAiyrDd7M96QaLZrRYA9I+wIuIxlZFQRPVl5NgtXJBDJRWqNb8WYk8WGMfJKV7KQPmeTMGRrxhB7Q7yPOOKIjGkQUpNMOO+22275uygDtde5hJeCQEGgIDCSEWgrYllPEbJEAlZkbm666aacsRSEEE2BV4BHyPwW3AVoy3UCqf+REH8jTZbgFNk62Y/apXCZKmRKQUo8HRz7/hA8ZE+wjXYthyJayITrZVGqASuCGoIb+x2RB+37TrA744wzMsEjv4ygAEwuy8mWQpFamRyBVLCv3csYuCGWCJGMGjJn6Q/pQ2LIqD5ET2bO8q1rXCuD9sUvfjGTIqROWwg0DJFj2xEEd+QGEUFUeyqyf0gtLAV+hEVWE46WM2szlupTL9wRptpSj1jKTCGAMEcg9Rshg5F+IDPaRFi6I5baQcjsqYynsBFLOCIo9uTJXqqT7ulVhhAuyFE8SBTyklPGG2aRsUSaTDrYIBzpFRmz5Iys2nZgciLzhoCyY9lWpMy2A9skEGbZyHjwhcwmNXBlS7J9W2+9df6slljqA/tB9vxtK4Jl4aqNqheRJH88FON37FGt6oPdw8j9+kVf9BrE0nhly0groofQmqgEsTQJ8L2MM0JoXBhDflsFsAQOHyRSQQQRUKVexhJmMAhiyc4tg2vP2DXBYMsmILXEciQ7/tL3gkBBoCAwUAi0PbGU3bFMXC9jKbuBHMksySpFQSwFLd/5LagKfIIlEiV4C1LIQ23GUtZHtiyCfTUzgiwhGQip7B1Cg/jZmyYrucwyy2QSh5zJdLoGIUHmEBzZHCX2bkb20NI6QqIt3yFGgqslVZlGS7mItKXFyKzVMwhLy3AIIh2ki7yCtowZogMfwR7Zdq0+kZ+8tgjIRB544IGZ4MRSuGtiORZhRJxklhT73PRZQbhkihBI2TITAlsWXIsI2ZdXSyzJFw++IIgKOejLEn49Yqkf9F4llgiFvZyWzy09N0IsTU5sB5AZR5bUSxZ2wT7UDzeFbAgrsqwEwe+JWLIDy8n0Rn9IIhKLWMIMJpbzLUEH+UNmTTBk4fXDsrC24iEhBJFdqcN2CZjKOiKh9TKW5EWG1WMcxAM4Jh0+Y7dIPeJrsqPI+rOP2gJzeHzwQddS+N1331OXWBqvdMGO2YJMKLJpfMT+XHZGZwqSHQ+8wRwBtZ0i9igbsyY8kbGMpfB6xFK77AfJtdphLLP/QiwHKoyUegsCBYGCwFgEhpxY9rYcVUssqxlLwQpxQYIQI1k3WRJZCkQBsZQJkWHxzkR77izr+hzpkCUbSyw/yAHPfqz11ls/LbnkkpkIWGZUZPYi4yajJWDJhMkgqgP5Jav9ZIKkwGjvmyVB5DDIncBueVfG0MMsCIWAJysr6yJ7gyzIaCKJ6pQVQrDUJWAinJYKa9/lSS73yOgimR6skaVVH4KCqNiriVjoZxBLbSLgvkd+kSE4Ij2IFMKBWAYpsqyINMKTzLJMUSxTwteP7J6+yr4J8nBAMuLhHfLGHlUkQ1bOVgbk5ZxzzslYkoNslnOreyyDWMr0IbKWhBFBfadXmUAyy2wi5vYBkttWCqX61DLyjFAhSvYC2odKhwg0MmPyQG8+15fuiCU56VTGMoinfa0yxeyJjdh3i9hbEpaVIyv8YXL22WdneWVeEXHY0DWdBhm3TUMmUR3wgq8susmN/bHImAxlvH4ICUW+ZA7hCVfbL9Qj04n0IroyejJ7dG1ZXL36y+6iL37LWCLAo0d3ZbbZJuxnnXW2tOGGG6Tzzut6kAlm9kWS34TJhI0OEUtbRtiPMRWZSzZkbCPAZJGtRR7JHETbZNDE0DW1xJJ+1WFbBQzYP31YajcBNEZtN6FfY4CvIEcpBYGCQEGgINBaBAaAWNaeyNG/EzqQA9k6y2H2odk/h/DJKgrSigBoySxeMC1jZX+awCe4IBOCtKyFZT8ZGoEe8XHtNNNMjWrkn9EfjE5f3fFr6ayz/pimnHKqvJzsCWnZUQES0RGgkFWZSATNUiqyIbghOcgscoCgKQKqbGf1aVwZLIRCxsx+MIEewUHABHYEA3lFGmIPmSxW7O0LQlA1B+RRnTJu5BTUtYkcynYJ9LKhrpMt85n9dkiaPZ+Cr8wQ2ZFi5AoZkx1DNJAVfbfM6H7BGXmtLeqRhbXsK8i7B3H0cAgckAWTAXLoDx0g9UiMdtRNV4iWYvkWMUIaEBHbGTw0gjRZFvY/YohwkU178dQzYmcCgNTJzgXhqspMF+yJDhF9kw71qR+RN3khJwJGB2wIwUI2q3sQbTGQHUNqqg9YsVvL1LGfUXv2dmpT1hHR0zYbs28YWY9MHl2wKVjQg0I2GUqYmDBZ2mbvPjepskeSnhV2zv4sC7NL97ExdmL5XNbS34iqh7703d+Wxv3N9qp98cCUcYZQrrvuOlkn9CfbaJyaUPmZccaZsg3RswmMfrF19kJG5BeJtW3CUja5yGKMyUrqi4mHiYNMsTbgxaaMCWQTETZpktU0Tk2KEFf4wwsZR0JlQBFqD/+RAwn3YxWhlIJAQaAZBPoX15tpsdzTOQi0PbFsBZS9vyj7g7y0N8GYQ0T8ET+NSVDNvPaWhVVjd9f09OJo98gOIY6W0QX52tJI27Xt17bZXR091R0P7zSGVv+v6k4W2UlkC5mRBZYZRt7ghiDGMnBIEESz3pP23X3n88Cs+iqken/31NPaPkSdfisxieg/Wl1bFBDIeqU7LBFMBL3efWPv6ZqQVcsHH7Dvrtcx1bPP6FtfbLfWvqL97sad7Rcmegh3vKrJVgEEtpSCQEGgvwgUYtlfBIfz/SOCWPauwPGDY1+IZU/kZNyA+0HDRxJ2J7PlTpktGai+BObu6muUiPaO4eBeUSu3/203kO2N/Z4kir2tMotIBrLT3euaGiWB9TDrVBz1uVH7rUfGTcgQy3ExnSCNHv1Bn4llqyxIf2Sn47VQ6o2ny1vVRqmnIDAyECgEcmToubW97ChiObDBu0ou+5atbEYlfQ3mQQCaIUXNyNfqewZWd2Ol1Y7lffthY79ltD3YWdVOxbBKIHvL5HYRy67s6ril5zPEGyXxfcWwOq68bcD2C3spYxtEp46fvuJQri8I9B+B6kpE8+O5/3KUGjoNgQEglp0GwZgwWlnS6yKW9bJi7RaYBouwdapWh4qQD7esZiP676stDuT1zUzcGuljuaYgMDIQCFLp98AnWkYGpiOnlyOGWPYexLoG0tjrygytHYdB73psR6mHv0xDrZehbn/4a7j0cGQhUIjlyNJ3a3s7Yohla2FrbW2NBsVGr2utdANTWzv0pVUy9JTZbqSN7h5AGRjkO7vWVqwiNKKTzkapSF8QaAUCZSm8FSiOxDqGJbHshMDRCTJ2NyB6WmbsT7/abfm4P33pFGfSSB8buaZT+lvkLAgUBPqCQHl4py9olWu7EBiWxLIotyBQECgIFAQKAgWBgkBBYPARKMRy8DEvLRYECgIFgYJAQaAgUBAYlggUYjks1Vo6VRAoCBQECgIFgf4iUJbC+4vgSLy/EMuRqPXS54JAQaAgUBAoCPSKQCGWvUJULhgPgUIsi1EUBAYEgXGPOex6F1wpwx+BEoiHv45HUg+LPY8kbbeqr4VYtgrJUk9BYBwEBvckpwJ+uyBQAnG7aKLI0QoEij23AsWRVkcLiGWt4dVmagLSyNgUQx1pRjYy+1uI5cjUe+l1QWA4IVDi9XDS5mD1pRDLwUK6pe2UF9e2FM4BqawshQ8IrKXSgkBBYBARKMRyEMEeNk21gFi2BxYj5yXO1UyYIyhTmmCCUQ0rIV5uXr2ht/PP2xvb7jLmZU9jw0ZRLiwIFAT6iEAhXH0ErFw+ghAYNsRy5Oisi1h+kEanCRJCiUA1TqJqiWVvpLL9cS3Esv11VCQsCAw3BAqxHG4aLf1pHQKFWPaCZWTrHnvssTT77LOniSaaqNs73nvvvXTzzTenaaedNi200ELjXKeem266KSFyyy67bA+tdjksmUhlfOI3bsayEMtCLFvnDkpNBYGCQEGgIFAQ6B8CHU8s//vf/6ajjz46HXTQQf1C4p///Gf65je/OaaOCSecMJO6tdZaK80222xpq622Sj/72c/Snnvu2W07ZJlpppnSZz/72fS3v/1tnOtGjx6d1NlFGrt7wCml3XffLd1+++3pjDN+l+aaa646bX2Ysfzggw+XwHvOVtYuYzezFB4yt2d2sxDLfhl+ubkgUBAoCBQECgItRKBjieWvfvWr9L3vfS+9/vrrOYv4xhtvpIknnrhpaP7yl7+kVVddNY0aNSohgfF7m222SSeccELabLPN0s9//vM077zzjiGHVaLlnhdeeCHNMsssabHFFku33XbbeLKQ8/333++WWL744otpjjnmSG+++Wb6+te/nvSxWmREJ5oIOe0iU++9936aaKKJc31VWeJ/v6uEtjtwXKPoc2+lvfdb9iZ9+b4gUBAoCBQECgIFgS4Euk9ydX3f+Da7KqIdQyyrhAbBmnrqqdOnP/3p9Pzzz6dnnnkmvfbaa/0illdffXVabbXV0o477phOOumkcaxOG9dee23ORH7iE5/I3z3xxBN52Xu66abL9ykylojl4osvnm699db82b///e905513pqWXXjrNM888mehF1rCWpB111FFpt912S5NNNlmu96mnnupS/YcZzjfeeD1dffWf82drrLFGmnTSycYoXsb1oYceytnVZZZZZhz5yWIpf7755ksLL7zwmPr+97//peuuuy5NMskkaZVVVklTTDHFmPtuvPHGjKv6lltuuTIKCwIFgYLAsEdg+O1BH/YqKx3sFwIjnFh2h93yyy+fs4Myl63IWG677bbp17/+9TjN3XDDDelzn/tcOv7449NOO+2U9tprr3TIIYeMucby94MPPpjeeuutTCyXXHLJdMstt6RTTz017bDDDuOJ3t1S+AILLJBeffXVfM+BBx6U/vSnP6XVV+8irchhLWF85JFH0txzz51WXnnlTHyjLLHEEmMypu4hS5QvfWm9dMEF56ezzvpjzsJWZyx33XVX3huKgP7nP//JhPOdd95J888/fybH/cG3X7Zfbi4IFAQKAkOKQHl92JDCXxrvKAQ6JmPZE7G0n/GVV17pF/GJjKUlZXsh/bz99tvp3XffzQ/drLjiinlJHPGcZppp0iKLLJIQTvd94QtfyGTT/ssZZ5wxIXbI3JRTTplkV2U81TPDDDPkbtQSS/8jpgjcpptumg477PD8oJD9nZdeekm+HuF76KEH03PPPZsJ7Mwzz5qzibKmyCW5Tj755CyHJfurrroqZym33377tP/++6cDDjggZ0OPOuronEXdcsstEyL55ptv5Cwq4mwJf7/99svk+Nvf/naSQf3xj3+crrjiitx3GeJSCgIFgYLAyEOgEMuRp/PS42YRGBbE8o477shL4bVPbPdlP2AQy49//ON52VpB4M4+++xxiKVl6q233jrNOeecmdghZdrfcMMNc4Zy+umny8Ty4osvSTPPPHNabrllk2VlexXsYSRTvYzlV7/6tUwMkdhlllk6LbHEkun+++9Ljz/+eJbF0njXQ0F35P8feujhvK/yF7/4RSaACCa54fDcc89l+TbeeON00UUXJZnQj3zkI5l8P/DAAznzahl8n332yQ8IrbDCCpmQxpPsnmp/+eWXM5H0QBNyKnsZcrfnQzzNDoFyX0GgIFAQKAgUBJpBoLvXTo3s11F1PLG0/y+IZe1SbTPE0tPfv/nNb8ZYmIdtkDbkCyFDJHfZZZf8yiCELR70WXTRRdOWW26RnwrvIpYXp5lnniWtssrKOaupTDjhRPl6P0HOQsY55pgzPfXU02nSSSfJBFSG87333k1HHHFEzkZOP/30uV7L/tGmOnfdddf8kI8nyWUcq6RPJtVy+kYbbZSmmmqqLIPvZUV9Z3/lYYcdli677LKcWY2lfuT0xBNPTKeddlrOampbljMyrs0Mv3JPQaAgUBAoCBQEhhcChVjW0+ewJJb2SNp/aPm30exaPBUuG3n66aePg1XssTzuuONyFlAm0lI4kidLipBtt9126bXXXs3fLbnkEunmm29Jk08+eX6K29Peo0d/kCaZZNJcb23GsitbunomjpbcfW8ZXr0LLbRg8mCOp9E9TCPrqE+W42edddZMYD/1qU+lb33rW/m1S4cffnju93nnnZfuvffevKS9xx57ZAKpzlNOOSUT45VWWinLKiPriXoP7iy44II5A7r33ntnsoqoWt5375VXXplWX3314eUTSm8KAgWBgkBBoCDQNAKFWA5LYmn51x72iuVHAAAgAElEQVRLr+iJd08GmUTCIlPXm93EUvgWW2yRzjjjjHEIqcweIvbLX/4yk7Ldd989Lz+r29K4pedzzjkn71OcZZaZ0xJLeCr8tkz0vvOd3dK0006d3nnn3by0jmDWPhXu4Zvrrrs+74tcddVVxoi65JJLpdtvvy1nCz3xveaaa+an4WU0X3rppZxxlEnVruV2S/NPP/103qsJE+2oGwFGIj3gBCME9eCDD87v/vSUOLm0oQ/rr79+XkaHnaVxD+3IVCK3luMbJeq94V2+LwgUBAoCBYGCQGcjUIjlsCSWyJj3R1ruRbgQn7vvvjt/JvvXaHn22WfzknV1j2UQQA/fyNh5wjpeNyTDaQl+1KgJMrlbaqml01tvvZ0uuOC8vHT8+c+vkZs+99xz8l5JeyZfeunl/B5LT2NXl+llF99++5203nrrpckmm3QMefv73/+es44yh5bdtXfNNdfke2UPLb8rls3POuus/HoibW+yySY5o6kgk+pHOBFhxNHDOXDSJ20gm5b247VCSKX6YIhUbrDBBvl3dQm+UVzLdQWBgkBBoCBQEBhZCIxswtnxS+GMtbq03GxGrbv9mL0/sBJHME6QJsjvEu3uJBjfdf+yUa+qdH9Vjp72iMY+zWb6Gy9Ed2/tS95rP6s6g96xGFmuo/S2IFAQKAgUBAoC4yNQj1hW3yzQ3IvHOwXpjieWrXyhbV8e9qmn4K6MXpDLrlNsRo9+/0PyFobU9bv68E71/54Mp6uvccpOfw1zrOE32u9Gr+sU4y9yFgQKAgWB5hAY2U/9NofZSL4r7MVvsbu/8bu9sex4YjnU8I5LtrqI39hSz3jqG1SjpO2DD+KJ8v4a5rjEsjdy26h8Q62P0n5BoCBQEBh4BAqxHHiMh1MLI+s9qIVYttx2eyOWLW+wwyvszUGPrAHZ4cos4hcECgIdjUBv/rivnWt1fX1tv1w/FAgUYjkUqJc2Kwj05niqWeDhv4RQTKMgUBAoCAwdAr35475K1ur6+tp+uX4oECjEcihQL20WYllsoCBQECgIDHsECrEc9iqu08FCLEei1tuqz705npG16bmtVFOEKQgUBAoC/UKgN//er8rLzW2KQCGWbaqYIlYVgbJvdeTZQ9lbO/J0Xno8+AgMNPEb6PoHH7HObrE3v9oafRVi2dlWMoKkb43BjyDAOryrvTnADu9eEb8g0BYIDLRfHej62wLEDhKitxXA1uirEMsOMokiakGgIFAQKAgUBFqHQGuIRPfyDHT9rUNi5NQ08CuAhViOHGsqPS0IFAQKAgWBgkAFgYEmfgNdf1FmcwgMrF4KsazRSru9CLzd5GnOiIfmroLd0ODen1YHWmf9rb+/98OmFXX0B+O4t13kaEVfBruOno4AbuaY3cGWf2x7A0swhq5fpeWhRKAQy6FEv7Q95Ag0ev55uwThdpFjyBXXDwEa1Xm1iYHAfSDq7AcsA3JrtY+1/R0J/R8QUFtaaSGWLYWzVJYRGERiWQy42NzQIdBThoFUnZVl6BnH6GsjgbuRa4ZOawPX8mD3e/hkuAZOJ51Q82DbzcBjUuLywGM88loYJGI58JtFB0N1w8+pNIZap/W7L/I2k71qDLXBv6pkhPqHeV/spn8tNX93J8jYfO86585G9NDINUPf40Ish14Hw0+CQSCWvT3ePvSgdoYDGHqchqMEw4lYNqufkk1rHLlmfUUrSX+zMjTey3JlQaAgUBBoHoFBIpbVWZHzntur1C4dtqPjJlPINRTLtn1ZXm0v7daXJghlfNsbpu1oE7U9azVJHj16dBo1atSgqXM4Y9wdsWy1zrpT1mDrsp4crSTXg2aUpaGCQEGgzwi0gFj2lkr3fXsTyzfffDNdf/316TOf+UyabbbZxgPx5ptvTm+//XZaaaWV+gxwf2944YUX0vLLL5/+9a9/9beqltwPB/L8+te/znh1UvnpT3+a7rrrrvSHP/whi10ll90RS9e8+OKL6eKLL05bb711W3X3+9//fppjjjnSt771rZbKxdY222yz9M9//rOl9XZX2e67757ef//9dPTRRw/IE9O/+c1v0nrrrZemmWaaPvXnG9/4Rpp++unTj370o5bvwX3yySfTyiuvnP72t7+lqaaaqk9ynXbaaWn99ddP0047ba/3sd/33nsvffrTn05XXnllmmeeeXq9ZyRdcOONNybj6IYbbhhJ3e6hr73F8wJTZyPQ28ETrdH/IBHLqiraL2P50EMPpU984hNptdVWS1ddddUY0hFkw2/O/5VXXhl0m/rvf/+bPvrRjybkN8hQb9m1gRAyMh7vvPNOlueyyy5Liy222EA01ac6BYU111wzrbLKKuPcVy/75VqBXIANUlmbBa5HNhGtrbbaKt1+++1DooPuMj3bb799Jgo//OEPxyHKzdhHtY077rgjfeELX0hsbzAKwo5YnnHGGS0ncOyWnf7ud79LCy64YK82Ur1giy22yMTy2GOPbTkMjz76aPrUpz6VnnvuuTT11FOPV39VH/F3jMElllgiIcvIYiPl3XffTVNMMUW6++6703zzzdfILS29ptZ+TYR23nnnuvI/8MADaf/998/6GowM9tVXX5222Wab9Pjjj/fY5+qKjb9l8n/84x9nHW6yySYtxWtoK2sNsRjaPpTWu0egY4hl5ysxiKUMAIdfdfQycwcccEB69dVX0//+979xAh+SNckkk4wBgOP3M9FEEyXOfMIJJ0yjRgWR7vote6DENX4HEYjswsQTTzymzueffz7NNddc4xBLdbsm7lMnR1e7bFmvvqjYPb6vtlVPkwK+PsV1MpbkqSWWZNK+PocTDjn9Jqu+1mJQ2+ZY3LqWYNUF50knnTSTj5Al2vjsZz+bdtlll7TDDjt0u2wbcuy9997ptttuy8SyJxwCT22RW5+iju6s3T1xbcjtM7hVcfB/rb70S3+q+Iytq8sRvPPOu9nWqkuniOUnP/nJtNdee2WMqrYYctbqz+dVebpstAvrkEumco011khsr1oPmeotjVdtup4+wy6qdVUxFdjJ+dvf/jZjWGubYccxVgKDwLe2/VpCor+BrXb8Xc/+4z7fuWbzzTdPM844YzrmmGPGdAvOZPfTnS0bI+y1HjEKO3nmmWfyZPbZZ58dk0klm1IdQ9FGyOx3T/WHfquYa3PyyScfj1jWjrXatqr2XJWtkTEbGMZvdcHDD0L8q1/9Kmdsa+3ppptuSquuumqexFd9U+0Yqfq22vFUOxar8oYthO9ELI2jRx55pOKzx/qeqvyBbdihRITVm4HIaHfnZ8rnBYFOQKAFGctO6GbPMpolL7PMMunzn/98dvZmopEdmHLKKXPGYo899sjEUrE0zhlx8JyMpalll102XXLJJWnPPffMwf7vf/97Dva/+90ZOROa0gSZAFjum2WWWdKXvvSldPzxxydL3bIJp59+ejrwwAPHEJGTTz45Z+EEdxnCt956K9e34oor5iXok046KT344INprbXWyoFIPQjw17/+9SzjX/7yl5wV4EgFOcu/Cy+8cJZ52223zUs/nLNsjmVepTYQ/uAHPxgT7PUvAj9iefnllyekjnwbbLBBsrTH+ZMBNjKs0003XV6yu/XWW/N1+gdrpPTll1/OWcCjjjoqt/3EE0+kjTbaKGP8xhtvpEMOOSQvPQepJPO1116b6/nZz36W+4n8WMqaeeaZ87UcfLW89NJL6Ytf/GK67777sizzzjtvxiOIJUJz3XXXZV3L5Jxzzjl5UiEDKlMFl29+85vpy1/+cs7gIQNRAiu2sOWWW2aM9emwww7LhERmVNuyZDKd//nPf7IdLLnkkun3v/99OvTQQ9N2222XNtxww2RiY+IiSP3f//1ftgW2ApMJJxyVLr300rTDDjvmSU8EW4Fxxx13zMRE3Zbr6eXPf/5zzq77HiE6+OCDs2wym+eee27Ggf3pj7bYNjm+9rWv5f9nmmmmLIe+B7Ekq+uMBf2+8MILM150o69snV2tvvrq2S4RXJ+p1+dwkaViT8pHPvKR/N2pp56a7rzzzvSTn/wk64B9/fWvf802c/bZZ+etJ7BgU5NNNlnW3SmnnJI/f+qpp3J/2fgVV1yR/5fp+t73vjeODSAG7MNWF2N71llnTd/5zndy28YMGzzuuOPyPXTwuc99LusZTnBceumlM47sObLW6mTj7Fk/3cPG5pxzzrTTTjule++9N7dXW2SWjX9kVb3nn39+bovN7bvvvrn/dAXn8847L80999z5GtiR5f7778+EWH/+9Kc/pUUWWWSciS6c2aLtHsYinWqzNmOp3/RvfOgXm7X1QdZuoYUWyj7FmGVTsNcu3+Z6/TP+6Eu21bWvv/56eu2117Ju/G9MsosVVlghIYruY0P8hC0J//jHP7I9GmdHHHHEGL9Df8ag9vQNhmzFVomzzjork1Ck88QTT8w2tsACC6SPf/zj6Zprrsl9UDe/Cgc/X/3qV5PtLwr9bLzxxtkeYchO2avxQlY2b8zyPfph7CK3kg21qxj6Dj8Y0dXaa6+dZSqlIFAQ6EKgEMuUMtmxvMQJInNBIMxiP/axj2ViwKFxVpyMvVocICIqGOyzzz6ZHCBMiALSJnAceugh2YGpXx1LLrlUJgcCEOeMPHDIHDOHLlgsuuiimXAefvjhmTBw3gKo69Zdd90cSLSj2F+H8HK8AvRSSy2VAywZOVxBSX/Ux4H/+9//zgH1oIMOSg8//HB2stpVhwBdLTIKAi5MkBlBgCMWuMmP7HD+iC4nKyjom4DBISPcsiQcNxn8hpcAoz2YaJvDh/Hiiy+eNt1000w+BEYkGHHRF8H2j3/8Y15yQmoECLoQdMiw2267ZbJcW5AX/bS9QQBFosmHWP7iF79IZ555Zibg6kf4BBOBmJzqR8QQLTLKrgi0teQ7bAE2AqG+CqSCI5syQRC0TR5MCGafffa8jIm4kludlv0QAXghdAgo/NjUPPPMnb7yla+k6aefIctcnQAInOyKvQm6cHHfBRdckPfkwvTpp5/O9ip4wov+9YnO1CcwwsE2ASRphhlmyPpBfi2FI65syVhwH1ImkCMHbIo+6FZAZgu77rprJo3s2LUyyWSRpaJPtmQiRF/a1+fQ3X777Zdt2EQNQSC7+xAVv9kjEopws3P2j3jCBw7GHHKoT1GQCESObkz4EDS4s0Pja/7558+yI67IhWsRbJ+xLTaBWCKVsEUg2Ab71DZbMY4RYrpWn+9DhuoEhA+xzcA1xrcMuokUQgMzfWAXJknGvckbGzThIj/7hZdrYG5iVy30jwiR0USPDoxT97E/4woGJqrGsUkTDBA0emaD9pgbL2zQ1gT9NtHWRzpn0/yVMcMvIW7kRaZNoti+JXekMsasSYKJIOLKBumSX4R3lJjIa2O55ZbL+MPOxJM9sAE68h19I9smimS3qoScGw8m4OyZDzfW/DaRonf1ILfGvzr4KxNDOoSnCQuZ1eM+tmPs1BJLsumHia0+8H2lFAQKAmMRKMTyQ2LJCSNvnBHSKIPJUSM/snVIj4DBIXKmgk8sDyETlg8REDP82IuHyC299FKZPCB/9913f3b0HJVsEIenTQ6TYxVkBASZSI7YNbILZOK8BS8OPIrAIsDJdsjGkAfxFFhOOOGEPPOOpWTEB8nioGUyLrroohw4OUgE0+9qESRk9ARDdbheZogjlvVBbskvuKhT0NU+kkAe2OlXkAm/BTeEC7kjp3vJqh6BSEZSgcU666yTszb0UF0C9r17BTBOX9BEZhCYKunj/GWd6EJfEK/YY4nAh+5gQj9IjnYQL4HG/jrBXqHbIJZVjLRHVnahHm0gRoiPH3147LHHxixRsyWBUtDWB/eSg50I1vTix9K+ILf66qslZAveZP7MZxYeJ0Olz0ifiY2CrCMO6iWH9tiRNhAIpBlBhAtdukbRNzJpK/rLptlebHFA5PTpnnvuycQM/gI10oGAIBxIYyw1k0GQ1zcTDXbEnpEiOCHNMnJwYGcCOdIlwyoTGwRaPeRwPYwFfWMmiGXoQJ3qCiIReiIPshzEEvFCWP1WN5s07vx2v7EQWwpMCBBN2dogbGwXMf75z3+eyQr71U9Y06HxXztJI4sHgZBeZFShBwSzKgt8ETxk3eQAETQ5hEd1v6v+IH98Viwx6wM8TXQRR3jwObFUq38mn+6V8URmY5nXpNFEAuFjTzExhLtJZPxvTNEf0quviD0iGDZCxyZGdGISqD/8gr4ag/waW0YG+ScTkdpivLJ99St8BBIctsrv0KX+83l8sRUFOHz729/OPhLR1JdYIne9bKZ7XMdOyWqCBDc+C8lU9EW/+HcTs8jShz3C1SSVb0MsEV06L6UgUBAYi0Ahlh8GZNkkDuPEE0/ImZHbb79jzD5IWQPBgqMVnAUVDlhgUjgqS80CHydjHx8HhkQhloLwZpttnj9zXS2xjKwNp8ipCYayPIIk0oN4+dzfAlE8RcpxCrQImeBm+ViGAdEQDDnlIJscodm4Wb7gxiGrz9IVAhp70MI0BCefCUgxYxc8ZdfIgiALwIhtLLHrn0yGTAxSxSkHseSw9bMesSQbRy/QRlEPoqMepLeaNeDcyY5Ycv6CdpDAuF8wRKDoBA7uj6ycjAWSI8Olf4g7uZArWNQSS8ET0dJmBBj1kYO+BTJ4CdpIAdLjxxIZYqkvCvyOPPLInPmFlQyha+BJxzKP9IJYIhYC5SWXdGUwH3vs8TH1RB9riaVJCSJANtlFuMrk+B8Zgpc2yEl/+h9yIYvqUxAQZJO9sx/yIhOICxLteyRJkc2T3X7hhRdz8D7yyCMypr/85S9zdtE4Ya+IsTq0re+yV2RVEEtZXHrSVkyIjK/YtiGrzZZkw4ynal/JqH/1iGU1Y2n5HgZB5uDCJmOfY+zvjD2OJpNImNUFeNKTMRF4yn7J/isIsaVxpLfeXlRZRxO5eNAqHt7RtoLc6RcMfEZuxJIdGOPV/a71iKX6TCqQrdg/yC8heFYBImNJfj4A8YqJmP6aIJgcBLE0tpEuOvLbGAxiSRaTGGOPTce+RePB6oj/kT06UrcxoD2TA3bub9fVI5Z8J9sLYonI6m/4J78RagSarHDXVpBCJBS5heV3v/vdPOYto7Mj2ITPJqskQWwNCmIZe0CNU1scqsRSG7AtxLJQqIJAzwgUYlkhlq+88nJ6/fXXcjA56qij0ymnnJqzKGavnDtiIUMhuyXA1RYOrbuM5b777pcJp0xRLbFEMAQeAY/DQ4Y4bYFYm2b5HK3lH+RT24IpRy2YKIgRYsZBkoPMNqbXFmRVkBHskVEzbo7csma1yDAImpb2q0XQEGxkDiybIRsCfm3hsGszlpw0OSNTFRlL/Ysl5Np6yNgTsZSxrBLLCKqcvyAmKxFPr9v/iiQilpaCZUkjSycIyQrJwtUjljASrKLEgz30hQTEwxxIJP3RZXfEUv30ZzIDY7pXBDKZ0tgnS0/LLbds1s8+++w7HsaIIMIlQ6zom76SzdK+rRP1lulqiaXJBZLpWvjJZpERoZA1Znfx1CwbpivEUkYqCOzrr7+R5V9nnbVzRhNZ972Mn4LksL1aYmksCPrqM2lxH7JqqVKWXNvsnFxWBPQPwVE3Mu/+3ohlZCw9wVsllpGxNAlAYLRhQhLL2AgLG4qMpT11xlvYWChEJg5ZkuFUV/XhsLgGJvBEoMkMT3UZ38aecY3sK66xVC87LGPZG7F0j7rhASPjqnbMsiWrHUHUqhO1uJbs7IkuqsTSZML/fJD7EUvjy7itV4+JbhBL4wOx5E+CWPobsWQvteWWW27JEykEXdEnY7Jrn/rYol1EMYglXcqMIpv0Q0Z+3AQdUbeCUiXnUZOtMCY2ZFQn/6ZffCg5Y49lkPBaYmk1y97u2i0y43WsfFAQGEEIFGJZIZZvvPF6mmCClB8euOCCi3KAlWWQseTcZXA4FlkgWYzYCyVoyAYijYIzMqpUl8IfeODBHEg4foRM1lOWgAOVmRCsLQMJZDJV9ldx9AJdPLzDeXL8CIXMB1k43dhziLDJJHCGsitm5LJInKaZu+yHbKbsUSwLIY6WmWKTe9i+LBSSbJk79rJxurJp/o+nwjlWmaB4clZAkSFAJASz6lK4gK3/tUvhiI1lfT9IO1IqA4kcc9gIqt/VDAtdIAkIkT7AzHVKXGePn71TlsIEQv1EvgV+pM/1MBJwLL/JGsW+uepSOOIvsGkzSjXQIFt0CwNEFblXpzYQiFhajYwl0uZ+/8vI0kns89V/RJluPYhhifLee+9JCyww/qtl2CTiLJBrw35AcugDEqF+kxDBFgauk0VEtDyMYZuBd8wij9tss23ORCIOdAwjAdl3sAhiiQQbF8gH20Lq7GlT9EXGkfyCOqJkghTjBxlEHJGN2owl29JXkyH7K40FOCJr2pNZhBPb0jbirq7eiCX59En/uyOW9GryYtybXCAVSJQMnqylB26sBCDG+gprenY9csSu6NpniHTsv67GESRRZt+eZXLwH34QSyskyCRdGu/2wyJzSFF3xJJdy9xVCz9AbgQdxggP0o70wo9NsA/j15hByuDDbuyDpAO2wicZv2RzbTyhHcSSX2JDCJhlehMb18CDXbEjfoC+1WOihaQhfuwCrsa3B6Bqt+DwmSZc9MBfeCjH9hF+yCTGxN7kzeSLrAh4vO6H/9OufpuQasu44jP5Cv6MvPqhbf5FBt8kE85WTawo2U/K9vlbbVmF8B2/CbfIWOov30wG+PKZxlQ7vIZtBHGY0tU2RKAQy5RyABPs77//vkwsOcDVV/98QgYVjoWzQQA5bORIIJEl8L9N+wKuoGhTPueqmKGvu+46H+6LnCDvK0KA3MOxWS6Mhw2QILN4hIKjthwoeCCJsk8cpIKwCEyChKDKkcmkcYLatkdPsS9QxoqM8VQ44iR4CFyIq7bUXS+zqW6BJwinfVHIpEynNpEXgVL2yF4jwV99SC9y5HPBhNyRzbMEpy0ZT9eqB9FBRgQxxATGvkPWBQjEVBCLpVd9E0Bch+Db36fP8Lc8Vs0ckAH5QSoEKbgigQKvLCPSI4MqALmfHSBB8HEfUqMIlMhVZKkjS0NOOpQJjaV2xMfSuEAjeCISQSwFJ8HNEmBkrWSM6VSQhAcSRI8KcrfjjjvkvWkTTTT2FVThRzxko27BVl8RDe1FMelgV2xDH2VnBEKBm3117VvrIuwy6jJnbEX21kRJvxV2xBYtQ7rGki/cEHPB1Xds2pgIkiloIzWIC2yRc3ZB1yYW9IAoKPYCksHyoyKLS2cCuQdMkH8ERX/JbVwhg4gz7CJjya7Yob5G0Xd2iCDD2MTCNfGydJMissUey1iyZVsyWfCNp9YRfb4g+krX+osgqlMxYUP4kanagniwFXZja426TEK1ATskx/YN/aQ7ZJQN0IfxHLat34igvlSzp7EEDTcywl09Jmp0jjDrL9tH7tgV7Ew6TYitkJgo0q0xi9zGGKF7hAqW5KJ7Nsd/xDKy8cVPyux6etxvejOx5Xvo1Fg2gTA2TCgRutpiwsBvIZf8ja01yCWZ9MMEnr5MxtmOsaogg8YY7GHlO5N3GPnOCkU8pEQX9Esmk3Q2I0OuXjgZG+7jyxF2xdYH+mV/xrc3SmibTHTnOhMQE6ParPZ4nSwfFASGMQKFWFaU++67nlrtetei1wO9//7oMaSoeRuITNuo/ABFLF1b+uJYBcZ67x/UXjssr1RlqJUnnuTsCZvae6qZx+J8e7YqBGW++T6ZyQh7bBTn6vJkFeN67yL84IPRH9pZ18MvVX3FEn+1jkZ1HrLW6rh26bQVNhDEstkx0x1egzH+qpOUqn67+7x5PzQ0d/bFZ7iWfVXfEVq793toelFaLQgUBPqCQCGW46E1lgj2Bcjur+16wbXZ/7TTTpdnzZaQZHQsTdbbwB51DUZga7SP3QXfRu8v1zWOgEyN7KVMz7PPdr1TsZZY9mQbfSMlPZ+0UW9iUCWDfWurcQz6cmU7jZO+yD0Sru3NfkYCBqWPBYGRhkAhljUal8FRJphgVDcZw74eedV1/ejRXU8RW6axdG1JqbtMZTsRyxK0B98lWP631cFWAyRuXCLXdRpQbxnMxqXuqz3X1lx7f3/ra1zycmVBoCBQECgItB8ChVhWdNJFouKD7pYe+xo4u67/4IOuV1V0/a2d9jszvZ55dpKs7Te8BkKisRn1/uuGbVYz9M3YZCGWA6HlkVpn/216pCJX+l0QaB8ECrEccF2MTywHvMnSwDBGoK8Tm56g6CKWXaWVWdBhDH/pWkGgIFAQKAj0iEAhlgNuIK0kAgMubGlgiBDoLVMz9vtW2pO6urZ+pDSqhcvrQwRiabYgUBAoCBQEhhyBQizHZGxCF80sB/aWFYqMUO/67o1g9F5DuaJTEehN910PysQ2ilbYaSGWnWorRe6CQEGgINCuCBRi2WbEst0MpTey027ydpo8fce31RnLshTeaTZT5C0IFAQKAu2MQCGW7aydIltBYMARaCVRHXBhSwMtR6Dd9N+dPI1+3m79abnCSoUFgbZHoBDLtldREbAgUBAoCAwUAu1GxBolkIFHeSvBQFlGqbcg0CwChVg2i1y5ryBQECgIFARajEBfiWWLmy/VFQQKAv1GoBDLfkNYKigIFAQKAgWB1iBQiGVrcCy1FASGDoFCLIcO+9JyQaAgUBDoJwJBxGqrafStAe22FN5POMrtBYF+IVA7nmrHUW/f96vxYXNzIZbDRpWlIwWBgsDIQ6AQy5Gn89LjgUEgxlJPb8qoXlMOlehOD8OYWJaZxcAMvlJrQaAgMHwQKBnL4aPL0pO+I1DLE6r/d0cca6/pe6vD/Y5hTizLO/qGuwGX/hUECgL9QaAQy/6gV+7tdAS6y/hHv7rbUlLGTU+aHxbEsv5LprtOKekqQ5Oy7jopJaUJJuh5v1PfX5I9cIO5nWQZuF6WmgsCBYGCQDMIFMLXhOoAACAASURBVELRDGrlnpGFQEcQy57ITvfkrW9L4QNBqNT5/vvvpxdffDHNNNNMg2JZ//rXv9Krr76aFl544TTZZJM13Ga1/6+88kqaZJJJ0qSTTtorKW64gXJhQaAgUBDoaATKEmhHq68IP2gIdASxrKIRBOh///tf2m677dLNN9+cZp555nTooYemtddeu2kidOedd6Y999wzTTzxxLk5v7/1rW+lVVZZJY0ePTrXWz/z2HMqfdlll8syvvnmmw0TvYsvvjgdffTRabPNNks77LBDn4xhmWWWSbfcckt6+OGH0zzzzJPvrZLGRgi0fs4yyyzpscceywSzlIJAQaAgMDIQ4M/rrTAVUjky9F962QoEOo5Y6rSM2myzzZbJ2pJLLpn+8Y9/pHfeeSddc801aaWVVmoKl2uvvTatvPLKaaKJJsqk8r333kvvvvtumnvuudMjjzySyeWoUaPq1P1B+uCDLuI5bpkgE7pzzz0vHXTQQVnGRssJJ5yQdt555/TDH/4wHXDAAX0iy8stt1y66aabssxkb6asv/76adFFF81t1xLTRv5vps1yT0GgIFAQGHoE6i11F1I59HopEnQSAh1JLH/xi1+kb3/72+mYY45J3/jGN5Js4yKLLJK23377dMoppzSF/3XXXZdJ6TbbbJNOO+20XIeM36OPPppef/31NPnkk+fPkLZ///vf6XOf+1z6+Mc/nvdxjh79fiadiO2TTz6ZVltttTTrrLOl998fna6++upcR2QeEVB1/Oc//0nrrLNOmmGGGcaT97jjjku77LJL2nfffTO5/OMf/5gzh+utt176wx/+kBZccMG0xBJLjCG7b731VjrrrLPSqquumjbffPN044035jbnnHPOLJeMqf/XWmutNPXUU6c33ngjnX766ekjH/lI2nbbbXP7v/rVr3IbO+64Yzr55JPTFFNMkes688wzM0HeaKON0iWXXJKzw8svv/wYwmmp/8ILL8z1Ivlnn312+sIXvpA++tGPNqWHclNBoCAwmAiUPYPjo93IK5wKboNppe3XVtF/TzrpCGJZu3wrk+gHEZJhjGzj97///XTIIYc0ZYNBLKvkFLG0HCxbqUw55ZSZZEbpuvbknEFFpF555dUkcemZHUQSQdt0000z2XrttdcyOa2t40c/+lEmj9USxHKfffZJ++23X5pjjjnSCy+8kAleFH09+OCD07PPPpuzt1EmnHDCvK/zwQcfzPs655133vTcc8+N+f7II49M3/nOd9JOO+2UTjzxxPTXv/4147fXXntlEkleuGrTcrp+PfPMMzmDG2WrrbZKv/nNb9Lzzz+fiWZtufTSS9Oaa67Zp0xrU0orNxUECgL9RKAEyPoA1r6v0FWxKlUymP00umFwexk3HU8se+oAoodAWQpHNnt7AjvqqpI0nyGWlsJl+BArdSFoV155ZVp99dXTvffem6644oq07rrrpk9+8pNp6aWXTrfeemt66qmn0nnnnZd23XXXnLn74he/mBZaaKFMBH2HqJ177rmZWJ566qk5E3n++efn7KN6HnjggfTEE09kIhellljKPL799ts564g4TjvttGn66adP//3vf9Oyyy6bM5I33HBDziQigurzg5jKTJ5zzjlZblnW+++/PxNN9ckyypi+9NJLmfQiyIqHfpBVxFJWVl133HFHJqlzzTVXxkdmVrb4l7/8ZUJWZZC33nrrdMYZZ+TMpuxoo7oYBl6mdKEgMEQINJJdGyLR2rLZvhCCeuRyTAQZsreNtCWsRaiCQAWBjshY1tOYLKIs2mKLLZbuu+++dP3116ellloqE6/eSi2prBJLD79YAla+973v5SwhUmjf5e9///t02GGHZXKGyGofMUQitS0buckmmyR7FL/0pS/lOvyP2KkDSZNhdC8Ca0kaeZ1qqqnGkbuWWM4+++yZzD399NO5ToRtmmmmyYTQ34iguvy9wgor5KVwmVYPHvltv6bvLMsjyIgi4mjbgKVvxXaCz3zmM+MRS1nbl19+OZNaRNTT5jKYyKnl+HvuuSfL4Qny2BsaxDJk7U0f5fuCQEGgWQQKsewbcn3JNlaJZXetDM2r7PrW53J1QWBwEehYYgmmeAI6MoA+a+QJ6J6IpaybLJ9y+OGHZ3Jp/yLCuuGGG6Ytt9wy7b///ukrX/lKzlhackYYEUwP6SCRsqj2O/75z38eQywRP8vGXgVUr/2q2usthSO2VWJpf2QXmRyVSd1bb72Zq1h++RXy8vajjz6SM7CPP/54zqJG9tBv9c8444zJcjqiTB59tsQdRBWZfeihh/IDQDKZHgZCZhFLciCW9lQi9UizInspi1kyloM7iMdtrW+v2RpKSUvbBYGhQaARctkdqay9txDLodFhabWdEWh7Ylm7vzL+t9R6+eWXp+OPPz7vZ/S5LKbMngdcEKG99967W+xryZ2Mp4d3EEaZPE+cy0J6UOe2227L+yVl5GQr55tvvpytszyMfP32t7/NGVME1BK1em6//fZMuBBRn6vvJz/5STrwwAPz64DUvcEGG+QHef72t78lRC5KX4jlggsulLOQjz3W9bDOAgt8Osv47LPP5AeRYIToeRWTpXkyI5rIoTb1xefIcOwllQFthFh68EffbQGw1P7d7343k3Ht2WNZ/yn6dh4Ow0G2QiyHgxZLHwYagd6WxOtlgmvJZpDKng/AGOielPoLAu2GQNsTy3qAWdL15LWCvAQhiiyeB3osMcu0WWZupMQDQDJ2VdJpf6V9lp74trSMOMoeWtJWLAV7p+aKK66Y93raK+nVQq4lpyXxiy66KGcXFcvliutkExFZ5Kxajj322PTNb34zv1fTwz3q1TcPyyhklEG1FH/ddV2EeMopp/jwNUnv56zoww8/lMmsvaAIrsyjJXD7OhFR99hXihjfddddec+nfZJHHXVUrnvWWWcds/fTUrflb0vhiKhsJWJqmX3++efP15MRJrArD+80YnHlmoJAQaCzEKhHNgup7NJhmdB2li0PrLQdSSw9tCKLiEAqCBayhWSuscYa6e677877/uw3bLTYJymTGHs01YcseZ9jFETMq3/s6/Qj0+e9kR6mkdm0BxP5swSNqMme2ruIcCHC6vS3B1wsnXstD+JZuy/UfkZZR/sbP/GJT+SntvUVeUXc/vSnP+X/g1wjl2ee+Yfc38UWWzw/dLPyyitlMooQypg6kUeWdOONN857MpFeBDnqkNkkH5muuuqqvLzuYR+ZWCTdg0Gut3/Tg01kgbd6PZRkmV9bRxxxRH6YSFvl4Z1Gra9cVxAoCBQEOhkBxLKaBS6Eu5O12V/ZO5JY9tTpRs/n7q6ORk6m6S/oQ3F/9KuV/ZMBlZm1FUHW2DK/+j1xXkq7IFAyCe2iiSJHPQS6e/gorh0ogtLbUnjRVt8QKMSyb3gN76uHHbEcSnXV7tscyIxdLYHuK2Hs6/X1cJU5tmRvT6WlfllND/B43VIp7YJAcfjtookiRyGWw9cGal/NNFATguGL4HDq2TAmlgOTqWkFIetPtnQg229WLkvl5IqtCcNpgHR+Xwqx7Hwdlh4UBDoBgUaetu+EfhQZ+4vAMCeWZc9Hfw2k0fu7P0u90RrKdQODwMBMsAZG1lJrQaAg0NkIlC0Gna2/1khfiGVrcBzxtchaNvJy+hEPVAGgIDCoCJRAP6hwj/jGir2NeBNIKQ1zYllVcdnzMZAGXzKWA4luqbsg0CwCJdA3i1y5r68IlKXwviI2XK8fxsRyuKqs1f2qDTy9LZ3W/34o9n62GolSX0Fg+CEwXIhld0+Pl4RBe9hseXinPfTQHlIUYtkeehhCKeoRy572phYHMoTKKk0XBPqIQCGWfQSsXN4UAuUhwaZgG6Y3FWLZ8YrtLuPY7Ey+EQdRljw63mxKB0YIAsOFWI4QdXVsNxuJGx3buSJ4HxEoxLKPgLXf5QNBLKu97I6gloDVfrZQJCoI1CJQxmmxicFAoLctVIMhQ2mjXRAoxLJdNNG0HK0mlk0LUm4sCBQE2g6BQizbTiVFoILAMEegEMuOV3Ahlh2vwtKBgsCAIVCI5YBBWyouCBQE6iIwgMSyu9T4SHN0A0P8Bvsp7MFur4zXgkBBoCBQECgIFAQ6D4FCLFPKxxEO3LneA0MsO8/Uhl7i/uq5v/cPPQJFgoJA7wj0xc77cm3vLZcrBgKBoqOBQLXU2RMCLSCWfc1A9vX6osCCQOMItMqJqqdaBm7i0XjfypUFgYJAQaAgUBBodwQKsWx3DbWJfM0QtmbuaZPu5ix2IZbtoo2RI0fY3XCYyHTi+G9G5mbuGQqLDjk7Rd6hwKi02RoEWkAs+ypI+2YsDbgYdOHYyyCsr9/2OcJxYOwpArx+soX46au1l+sLAkOBQK3fCt82atSoLE6rxm91fFT72Ul+syrrYMpdr63BaL9KMENnw2EiMxTjrLRZH4ERTywbcbDNDPZWZR5efvnltOuuu6YzzjhjHA02I1Ozg6Da1ttvv52++c1vph/84Afp4x//eLNVtuy+Dz7oIn4pjfu+zXr4/OEPf0gPP/xw2nvvvXttP/Tn97vvvpsee+yx9MlPfrLX+8oFjSHQjP3+/e9/T+ecc0768Y9/nBtppo7GpGvNVe0g33vvvZcefPDB9KlPfSqTyU022SSdfvrpacoppxyvk1Wfdf/99+d7eisHHHBAmm+++dLmm28+gPvUe5Oi876vFx8Gy17o/6233ko77bRT24+hztNskRgCI55YAuHRRx9NCy+8cNpiiy3ScccdN55lzDbbbGnyySfPDrq3Wfn4S6hj5oRNWdx///vfNOecc2ZH0EypnZ02k4mtOjxykOeqq65Kiy66aLfBaUyvM+nrX6mXUYjP/vrXG9Pcc8+d5phjzm4aGZvR/N73vpf+9re/Zdm7K/Wcu3tWXnnl9Morr/SvI0Nwd0/BqjWBrLkznJuZeF100UUJkbn99tvbhsTUyww+99xz6e67706rrbZaQxqv1tFdBrChiupkIm+++ea0+uqrp9deey1XYfw///zzacYZZ8z/17OBhx56KC2wwALpmWeeSdNNN12PTa+44orJD7I/VJm/RrGpd92ZZ56Z/vSnP6Wf/OQniZ+v+stGsnh/+ctf0u9+97u09dZbZxwaLVX7/9a3vpWmmGKKjOGEE07YaBVNX6e9V199Nf36179OJh7arO1rrS7rNdYIPgceeGCOryeccEKaaKKJeo0XtRc00kbTQJQbBwyBQixTylks2bdpppkmvfTSS+M43Ntuuy197nOfSx/5yEfSiy++OGbvXeMG37+l2p6IZV+IQVzbSIa2am21DkbGspZY1pKEZkhDTxauPnJXnW608dnPLpp22223tM0223Yz+x6L//e///1MLK+88so+EUttvfDCC2mGGWYYc19fsB+w0dtAxT3pu6+2UL+56lFuccXYDHK9AGXs+NxPLM020JV08cUXp/333z/dcccd3ZKiRuoZ6GsQ4C233HJQJiLd2WF1vFv1QBBjDAWx7MmG+breSCUcV1hhhTzpqhLLThkb5EeyjjnmmPSf//wnzTvvvH3O4CFn22+/fSZp2267bcOmVfWRsseI/iOPPDIodq3Pr7/+ejrllFPqystOlL6Mze46vuCCC6Z77713TNzsJNtoWJnlwvEQKMQypZyJXHzxxdMiiyySttpqq7TjjjuOAcrMXSbz8MMPz6TTwOB0LQVfffXVadVVV01mZbPOOmv685//nH71q19lInr88cfnJaJjjz0mzTXXXHmp9oorrkh77bVXHrA//OEP05577pn+8Y9/ZNIqw8E5y8Ysv/zy+e+PfvSjqZZYuuff//53uuCCC3IWc889v5vrnW++T+VZtz4oTzzxRG7jhhtuSF/4whdypmf66afPM9OTTz45/fKXv8x/c4rf+MY36hKmyy+/PNfJCX3ta19LO++8c0Is55hjjjEZSzPeQw89NP32t7/NS8Xklv195513six77LFHzgJPOumk6aijjkpPPfVUrhOOlqQ32mij3LZ6fW65eqGFFko//elPc9bEMvTHPvaxdNhhh6WDDz44TTXVVFkXSy+9dFpiiSXSnXf+MwfArbbaOl8TRf1kO/jgn6bf/OY3aYkllkxTTz11nj3DS/n973+fg4pMpIwDWc2qd9hhhyzDhRdemNZcc830pS99KW233XZJ9qcasOGHcO6zzz4ZD05UH9x711135S0Da6+9dm7fvV/+8pfzD+w5d+TjF7/4RXbwbMJn2mZDf/zjH5NsiDbYxqabbppMctiK4nO2JChx3FE/nVviuv7669Maa6yR+zfxxBPn66+99tr0ox/9KNuUdrTn8w022CB9/vOfTzfddFP+2XjjjTPWMXk66KCD0mmnnZb1uc4666Rrrrkm61s588w/pEMPPSRjq12ZiWuvvS4deeSR6a677k6nnnpqvu66667LePzzn//MQVw93/3ud7N8M800U/r5z3+eFltssdwmGX72s5/lfq+yyioZU9dUiSXbR2q0qS/+17fzzz8/2yeZl1tuuVzfSiutlL7yla9kfT7wwAN5fNN1bZGBJ7cxxjY33HDD9H//93/ZrtgSvNiJwi522WWXrLv77rsvjw91GiPklO0z7mX/lCOOOCJjaBzsvvvueelYcR9bpj/+Y7311sv2HUEdDieeeGIeC2yAXehH1c7ZMzsyzvkd4+Xoo4/O4/HOO+9MX/3qV9Mtt9wyHrHkx9iQdtksnc8///zpySefzHWRqbpkzvbffPPN7PsuueSSbF+2J8iIxvYEePEHrv3Od76TcVfoET4nnXRSxuvrX/96/l6hO5M+/eJP2dLMM8+cZeMX+FdbIPhYY42tIj9+s1UZR7aC2Pm+ik3YMDtD/vgT91i9YHOwNv7ZDJzXWmutPD75If7+i1/8Yvadk002WVp22WWz72c/9E5mtmI8mXTSfeBQa1vIvLFpUks/9G5bgjFFdpNm/l48eP/997P/M0FhQ7ZC8UH8MJuXADFWfA8DfXN/d6QNhiZkMFxttVXTG2+8kSaeeJLcB/fQCZ8DU31j5z6nC7bKbo3bbbbZJo+L2qwqueAIM/6ZX/v2t7+dxwjbMnb0zaQegT733HOzffKdbJof4HeNv3nmmSdvwQj7Mm7qZVTHG7zlg7ZCYMQTSwOI80csLYtwdhyfwrEgLZynZY5YCjWzRTYNIIOaM0DgDHQOgGNFKAS6xx57NDv1Z555Ni+12CtpABmgHKlByZH4TgDjgAUTZEGA/d///pedHucrwArcguMkk0ySr51jjtnTfvvtlwfw7rvvkZ5++unsmA1OjpbzUt/jjz+eHbCfzTbbLJNiDke/OARBtFr++te/5r4IZJwFZ0y+9ddfP8saS+ECBKIAB6RY4I0AZPuAfgqiSBxiydlw1IIWB4YAczbwtFwHO6SIs4G3QKYejhgxoSNOUD9ffPGFHNS0iSDPOONM4/SBvEceeUQm4W+88WYmUMioQMy5IST+FjQ4aIFGXQLmv/71rxwkllpqqYy9ZU2OsLYgPBw/+c8+++zcR30SLLRlouKHk2Zj9C1o+A7unDa70Vdt3XPPPVnf0047bda9yQAnjaicddZZ42TMkV12h+QJCoIi4qlOWWW60mf9Uq8Ji2W72WeffYzzR8zI8uyzz2YSiEjQO8evT/ojWCOTEZSRHPbGRlZeeaVs05/4xCdyEDJJ0/99990v24PJieI3WejTxIh90j/SI7AhY8YdOdQvyAuegrd2fS/YsB0Em8xIkP4ogr5xaSwYN+zSSsQss8ySVyMsNWqHDvVPkDMBqhZ2Dnckja7YAHtAlgQ3Y0QdyIa2kUQkxDhClLUrgArgSBG/gBjABV7GgPbZEp/w2c9+NtcFJ5MvetGGDDwSRh8wcq/26dfYQxarRXvGJ/+gb+yWvdCZcUY2tsTPCOCRsUTU6B/5Y4vGlb3EJn90YEkfJtWCeMgYk80kjX9BNBF5voXNIPd8gL7os7FFB7DlJyzDsk22S4/sGB6uJTdyzeb5LQTXffSuXWOWv4aViTviaM8gsuRaev3MZz4zztIuW9JP8vCNxge9skf1Ik3GKJLITpFOMrMdts1nXXrppfl/JFLfYGfcGVv6zWeQzcSxtsCdrtm9+MKWjUcZSvakn8YtHA455JA8Ebr11ltzgoI+4HzeeedlORBu+BkbbMJY0G9y1xLL+J/fNKlEJJ966snc1y9/edOcYNAH/UV4+bkll1wyXysuIMAmOPBStCNm8bnVwjerC7FmO/wtoskn6Rt74yNNXC677LJMJukOhiacJmjGEQzIwCaMeXqBZ/i9xlcJ24pjjUhhhoBYth/OiJqBikgKrAKKfXt77bV3/pvhb7bZpjkocDAciCDI0A0AwUNAFSD23XffHFAUAYCTcB9nb1AJxgYcR89JIBrq0I4BZWDZOM+JcOwcmfoFOyRNO2Q04BGyH/5wv7TzzjulSSaZNDusVVddLQdg13LEnI+lMEFX0OZIkAVkWbD1W7DhjKuFI0TW/CgCn/oRUnJzRAgQAsNhkkU9Mh9mmZyP+vXN55wrx8GhxkMwHIug4H/ZPoQEYXYtoiLwkNtnsRwOOxk4fRIkFlvssznjuv32O4wjfyzZI8YIuMKB6i/Z6c/MP5YIBXLYy2oIEoIQR6nQJ2JYj1jKKqofYdJPfdYPAUE9HC3iqsCYc1133XXH1Eu3cIGTYCYrwN5gwpb8DwNBX33VJTSBiINGYhSERHvhiDlrZFegQEq0L5DCly5lgtgdXSMXkcWjc8HLvYgF4qJthR2zAT9IET2xJ+X6669Lm2zy5UwOZGfYH1sks8CH/LB3bX76058esxzOxtlU4CvgkokMyJHAZSJh7CExMJMFCdKqbdcZa/TARlzje2TdWIYfgqW4Dh7qqha6Q+KWWWaZ/DHckTX60gd9IgcSBnckSbBVBGR6YDcCKx+hXwqyg3CaILFdE0tk3cTUBFQWKh4oQ6hgJFAbW9rUf4VeEQ82XC2Ir7ZN8BS48x8COmJJ/iBE/EZMWAT1mDBbYUCc2K6/EUv+gv6DoLjPRIp+/eb/ZIWNDXZBXhlffaIDfSQDvOgAsQlSAgOTR8QBQTeR1qaCrCKiJpl8AH2QiRzGhRUA9dAPQhvZX5/xoTCqFm2wZWPVBASO9OA+hIdt8AcmO2yPHeqf9mJSwt/wVzBB+uhboSeTI7/pvF5hk3w2Miwm0K/JJFng4DsZT22zY3gigyZ3xjOCZxKEfJto8ifkUPhdegm/UNv+e++9m6+57LLLc3sKcmsST2axBv4mLMYUDOFNj/oukcEvKfSKjOtvtfArEheIIJ8MX/WZ5PDrxjv9wdy4NIZMDuCpr/BkU+yHDfqOj4JL+PrYPlPIZV0Ta+GH3Z2Y2LcmCrH8cCncwDXgzVoffviR7IhGjZowG7wHRARbGTIZEQ7PoIjBLNskIBnslhwQTMWgNZg5qnhq0qzcfRFMDXABTXDgnA1uJMM92vZb0EU+LBNwwIo6kLQNNlg/vfXWm9khfP/7P0jzz79AJiTIHecYhYwyKogARysrKDjqL2dRWwQCRIvTUcjE0XD06pWxRFrhxvGRW9Efs3hBk8yxOdz9ghSZyaAIthwXRymL07VloKvE8orsqu+rjlNwtCTVtSRUn1gKBJwwZ60dRfClG8RS4BNUkC79QOIRD5kYjpS+glTXI5YRbDl79QgeCLBrBQM/HDGCGRgi3YJFPNRhIsNJ0ykZZNgERfWZ8cv8cNICnuVJTjt0z8EinTJnQSwFcvZiEhBLXDIuCAQi57tYVnK/TJBAJzuHpApmCpngyyZdp2/64G9EC6lk7+QyHmK5k20gBQJHlViq06QqiKUgjkSQ0Q8c6Ip8iL4M07HHHjvGDtiOrA2iiMzqA1JClij6ATd1IPj+pxvEMuyMPhQkmQ5kQ6vFODTxY9P6KiBrix2TU3A0AUWWjR1ESVZJEYxlJo0txJLtRJbQ2EM6BFg4GgPulTlic8gpQqlU97+xJ36C3rXPFvieesSSHtSvCPD8QRDLyFiqo0os2T6SYRIGM9s32JkxGw/vVDOWxhJiF5MobdlfCQMEDxFwPbmVyICZxPAnfJ+suQJHfZa5ZIfV8W3M8wWyXXyo7LPxSRf0apWBDoNYup6+IpPM/1Szdwi3yQS71JY21R2rDUEs9U2SwaSDvSF78Kd/fi2IZUyW9SOyoVViWW9JWnvGBKzJzX5NGMjN7rSlTaTZShO/6Ht18Zfa5B9c53p6cq/4YvKAiNXbE/nKKy9/OBl4No8t9ZmAmrSxQbZJD2IDG9CGrDQ/xa+TJ2wcbmypllgal/ylcQwjfsmklR2wI+Ndv/1vnPPNsaXHmIrxzZexk7BjYxTRds1gPNQ0jjMYsf9U98zHg7d9fwC3BcSyNQx3KPUoC2jWxXk89tjjOWjccMONeUnm6aefTGeddXb62te+ml5++aWccRLwDWYDwmCOYC3g1BJLAUeQFnQMWksaCqcfyxpmaBwEp8mJICNmsoiqweo6WQgDWtCTVVM4hamnnio98sjDeWl3jz32TM8//1w6+eRT8hKJTBOHw5lE1tAg9TdiFcvdHHFk50IPnCznEsE4CI2gY+aNnCF2HIcAEo4tiKSlKUGmSixjP2CVWNoTxuHBOmbh8VAJbMkrGHdPLBf7MGPZlVkNOWEjcAjiHDknLCsEF7Lrr6Aho6kdJAORl0FFLC3pIVuKQF5dCq8GDvXSW2R8kWB6Riw5YcEiiKXZu8yzutShHcTH0ngEacRExtL37qNz2MKp2r8glshdZLsQS2TGtUEsZahNImQAZejUH7pyDdtFLAUDpEYRWBA0NqUdWSw6D2KJVCKXyAH5BH4FsUQeI2OJxMsyKoKP/bT1MpbxcAnZ3QN35AixE/DcB091kM015NHessvaR5lyZgOBiQyiACcrJLMkE4IAhC3D3V6zrozlWKcZxDL2cO6BkwAAIABJREFUKbNLdcrKRYmMCdwtY8aTwN0RS/fBHlkJPcfeY8uxZEKSYr+hIM92jXHjBzk2KTAmTHa7y1gGsaRT9hjE0v3ssF7GUl9kU8mnGAdwRgK0SY9VYuk7JN14h7ciW494IBL8gQkne4rxGoTApNi2hSqxZG8IiTETfkKdiKJ2+CVjWObdhIW86kHi6mUsZWb5I/dVC1uOccoObKfhb9kP2zVekBnEhv0gM8gQYoUA6UOVWEb/4RXEki1U9+ZX29c3/p5P5MclEJB4GVTEvJqxFB/YO98LH+0iWwillSHEOIilNkxW+bjuMpZvvvlG1stDDz2cx4GCWLIxxDK2LsWeabiq0yoErH0exJKPhrExHz6QXYpvMGF3/JtxagybpMfDO5Gx1A/Xmmgimu73Y0yIc9oMYgl/MQFupQwWArUPYzZHLltILAk0/vsEBwuO/rSDWEbG0oErHKM9cmZrAjHyYY8OkidraXAgG8gfJyyTYIDWPrVqgMSGb2TGjFpg5ZAMLIOU4+BstIOQcNgGpCwUx27Qmr3LEgi8lgrUxaGr5/7770vzzffJPNCnmmrqdPfd9+Q2yGagc7T+txzF8fmJ/2GmXwY2x1gtrpMtECgQHIGerIgQeRAGdXMEshXhVDkrJCWWvsOh1MtY/r/2rgPOjeJ6f6qn683nbrCxTTPddPiHUEIHEzokBDuUAKGEhGpKEkLAlAQINdiYDoGEHgIYQu/VYKopNriX8/U7df3zzWru9nSSdlda6STd7O93LrezM2++92bmmzdvZuSAz7rw3/RScVBhXeTMXcZYpiKWJA4sW9ZDP2vnYC7LkJs4WBfGRHH5kV4MdvKUlf8mmWY8UaLHMpFYSpwk6eXAJUkA8+WyEHXHAV3vsdQTS3auLI8TFZJY5kVcuVRNYsmHHToHPxJD5isf2akTZ+pALunSU00bkUdmUaeszxtvvCEGfg7srAuXZOnFob2R1MhYUOk148DBfEgsuZzF9PQ28aENs6PnoMjBj/omWSeuXBpmfUhA6AWiHBxA+ZD0Ur8kkfqlcL6TscwkP9Q7ZSbhoc7o6SGxIKZsM5y4celMxjMHAtoSm9PpEPWhvvk3SYJGPHcaQCxZ5z322D0psSSRlTF6JDPUCz23LIPlUibaHPMnqUgklvyGctJjz7bLhwM7PVC0bbYhev5JEOnVJLHkYM6JJx8STH7HCQ4HZ3qmmB8f2jn1R6+4fnJD+VJ5LEks2c+Q2Mhd4fT+0QtKQkc9Uz56Lznhoe5IhEic5VK4tDv+nrJzlYPebWJDvGmvtFsZMsCJN/Fi2SQPJK4kR/SeS5LC37GutGG2A3p0acesF0kt8yJBJKlj/0iyQ48p7V1u7KAs9FrLpfBUxJITWU7eafOccPA79uG0Q8pAOyaRYj4kT8SYEyfaKvVD+2efyckMvZ5suzI8h/ZKPbH/kfLTjuVSObHjxIxEmXWnLklcKSsJLb8j/nw4fhAL/nBSw3GFcrBdMx3lZP9PWegVp4OARJh9D4ki7YL/lhN3TW8xMTH6yU/2wR//+AfhDKG9sQwSdPZJjHlk++RYRmyIA5fCEz2WxIZ9mvSksi1I4is98ez3qD+2MXqWiQMngvw3+3mOkyT2tHeudJBI047YD5M000bZ19DWZEhE4jF/2Yz16lsjBNKf8mH0tXxvA7HUjLfvkQy30DyZqeVhh0XCxI6UjYXeSJILLhfwYcfNxsQOg8SFAyjj0diA6JHi4MuBgDM1eiW49MiHM0x6RjgoknSTHHz44Qeik3G7vWIJlF5Qdlwks5SD/ybB4IDMjo//Z+PnYMBOlwMAOzuSGXbUjK/ccsstRFk777yLiKWhjBy4uPRCGUluSFzZkXHgYGPnTFwG8pNAynPtKLf0GHK3KpeGSB7ZKXPAYOdIjy69ofRYkXCyXux02WlxQGF+JITs5Pg3f8d37MzZ+cmD1dm5cYZLAshBiB0PyyJxYcdKcsFORy6Fy8GUHTHrxL9JhthBsnOXy6cyHQdlEgAOotQrByfWjcSSs3wObowT5aBLryYHP3bY7EDpeeNSJR/KTB2zzMSHMUIkMIwp4oybOiPp4sBDzwN1LAch2hj1IpfCGQjPsogD8yYu7LhJpigvO1jpWZU7u0Vri8XEexJAGc7A38sd37RPpuEEhRMKeW4nbZqDtNQnvWKsJ71I7OSl55Exq7Q3Tqg4iLJe1CUJOO2EdZVHNrFOtD0Z+8WBhsSOfxN7EgPaI9+zHZDI0D6oCw5kcmmWMvG93B3KgZLvqB8O5tJjyTqS/PGhzMSXdsL2SZJLHRIbklUSacYakiTJ2D9+xyU9EkJJ5qROObCRxOvjjTlBY/msM3VEndHeafskI5JYcrDmUjzzZnrKzQGe7Ud6tThQs160Ww6atAXiTxuSkwmSNhJL2jQxZF9A+yEWJBXSy6i3Q9osB2YSfD6cFNNeSaZIhmmHxFbGJ8sYSbZlfkOvIPVKWYkt2wvrzfomHqTO9s7+gziTeNF2KT8nl3z4HXVFAscyaSecuLAPIw7SY0ncSJZIwCkn+yliRvugrZGEk1iyn2UfQQJL+dmPUJfsz2TMMDHkQ0xpc1KW3kFuxQohA+XiwzqRnFIGrtrwb9o29UlboQ5pm0zHvod6YD/GOhMTuazLvDhGUK+Um3Vh/dkfyA1M0sPN0BY6Cyg/H7ZbuUmU8nMSx4f5EDNOOqSnjsRQbp4jRjJ8ivhL4k2PH+N7aZckovJhvdjeqDPqORgMCN1st932YrJDe+ekmnbG8Y16Yl9Owkcs2YdIjz3xZXviJED2QfybKxgsW46XzJ9ODeltlqeOsO+hfHLCTBnZr3FSRJnpiaWd84d58f+0X9qGevKFQEERSzHcxWtefMRSqkx6xWRnYHTOHwc1djZsAKnTarhEo1p80/ffLxaNqaurJ+5N7BQDB8vkgEwiyQEk8WEHkTzOhEtfH4tOubGRhx73Le2xE5NLOuwk9YcvkyiyTBKqxEePAwchDtLsZJLFDslvSahYhoxnlHgYYZhYNjElAU3EQC974jec0XIw1MeU6tNwoOUAKJek9TLxHTvTZEHhZs9zo0dCHotktflLHenJjNQ14+lIUuTmGL2dJpPXTNkcuEikqc9kj17HejsgThx0GRtGbwK9iFJOEgM5CHCQkJvX+D31SVIgvTLJ7EE/SFEm1o0kh2SHZC/xSWULHBhJyvQ3JKVuN+nRokz8YZulfiVRNoMx03BgpO5IIJgP9cw66QfJxPaUiL3UMSdBJN70QHPA5+TS6pNYlsSFRInlyHarzzdRV/o8SBwSd9XLb0koScRYdz5mdSDzJFHlBItLtnLiQd3qbwJKh10qbDhxJylMvFGIv2Mfwr5QTuBot+l0JUa8+ASP/2b/R4JJwkvixAlCsof50qZJ3ogLH/brlI11lXqgTpgnJ9gkatQFJ3ns5+UGQbZJTtDko5+opyp70qSJ8RhYbZyQfRwdGTIERP+t7ANkXaVN6leQ5O841pCI01b1fRV1R0eIHnf2Q3Tk8HesN7FgH8H6Mx9Zt8Qx2ardq/RWEcjswovEUmzyWFoVvrDS6wc2NpJkxpxswGUtzA7wHPDoteFMljNyGUvHJUr56OOM5KBmjFRisG3/QFt2HDIvyio7ebOET59OYiDz0ONE2eVsU3a6egKQiJMcuPl7/btkHRbz098QoZF0TU9anXitoxYjlqi7ZKRFk4+6M0ZXpkg2OCbajeyoZZ3SEfF0JXMAYWwTvXAc8BKvztSTnlT5mEmj7/ylLSfaOZca6Ymnd40DHWWSO2jpmaFniSSTD73GXBJlbJhZMmGkgdT603QvveSZYm2mfJlGP6iabfdSD8xD2qfsY4zyoEeJP1wCpdeJHmpOPvUDt2xrUn+yzcnfm7FF/TdMn/h/vZ1ImdkeZay2LDtZOzbTn3IpltiQSNK7zmVZElN5moKRjrJ5b2RfVvNm+6DOjHRrJV/ZpxETEks6H7gak/gQR65yJHNA6O0wsc/V2wodREwrHSF6W03XxqJRuXlIs5++kKS+/ORZm7I8mUYrLyocEzLG0q7+wwrOKq19CChimeRaM6NBKtNZFJdi2HnSk0HPDpfPkg0y1vJPTywT62JUt0TTSpbeTB5m0lgx43T5WSWJVspNNqhm8r2Vb+gh5pITlw4Tz+RLJBLp8jU7edDnkUgsaZ/yyjt5nAyXxmU6kkyGXNCjx0kSlxz1kwMr9ZYExeo3TJ/Ou5ZJfomY2CmbFXm4VMvNWfTeMsSBS/LJZJPypWrvuWqP6fqqVHaQjKAz3IghIAwJYj2ZxspO4GSTPCs4F0NaesFlzKe85MGK3Ea60sYi7dYdrU/tm3kbEWV+p6Xpm/BrshnfPCdJL8Mk2LfIMIJku9yt1FelHTwEFLHME/bJBmyjos0NBumJpVEZ6v3gI5AJ+TdjG2bSmKl9qnxS/Z7ehmReETNlGQ1gZvIotDRW9WCU3uh9odQ/GbFMpV/peS4U2bOVI5c6MkuirciQSlfWnByZoZZYRj7KzExS9ZVZBBSxNItUhumsNG5tpqgt8Zl/Cm2TlHnJVUpzCFi3CXP5mk1lpXwrac2Wny5dvsuzQ2aVh0JAIZAcAdWeS8MyFLEsDT0O6VqUSmdkVA+j96VhBKk2AVqZbJUGEom1KGX9l3LdsrXG4sAm1ZJ3+qXwTFZrssVTfZ97BBSxzD3GqgSFQMYIFPqgYr982RNL+2XKWH3qwwwRKCYdFpOsGarDxGdGxJJZGE8OFZYmoC6CJIpYFoGSlIgKgVwioDrzXKKbXd5KN9nhp762ioDZ0CrjTTl9JSc751r31nL4l9U6qfT5RkARy3wjXsLlqUGwhJWrqpYVAqptZAWf+liHQG5tKf/EUim39BBQxLL0dDrEa5T9UuoQB1BVXyGgEFAIWETAnqVwi4Wq5AWKgCKWBaoYJVamCNhzc0Cmpavv+iOQW++KQtsqAkofVhFT6c0hYEQsjeMrzZWjUhUDAopYFoOWlIz6haD4v1N1VPJcT/3VotrBveopRgSsxHIVY/3yL7Mil/nHXJWoEBhKCChiOZS0XRJ1NSIailiWhJpFJczGe5VOjQulJop8FoomlBwKgeJDQBHL4tPZEJfYDLFMBpHyWGZiOEYEI917+Y5/y8f48P9EMplK3+k81ulqquwgEzuQ3xjZQzZ5q28LAQGzkzkVy14I2ipUGRSxLFTNKLlSIGCWWOqXwpmVIhS5MCk90UhGOqyRymReylRSK2KZrT4zuUs+2zLV94WOgCKWha6hYpBPEcti0NKQlDHTYHAj4tnre4n/QxFOK+bV1dWFWbNmobu7G9tvvz2OPPJItLS0oKqqCh6PZ8B1pJJYrlmzBsOGDYPT6bRSnEqbQwRILC+77DJ0dnZiwoQJOPnkk4VeqceKiooclqyyVggoBEoZAUUsS1m7RV03RSwLUX1TpkzBjTfeiB122AG77LILbrvtNjzyyCM47LDDsOOOO2LVqlUIBAIYN24cIpEIgsGgIJ6//OUvcdddd2HUqFGFWK0hIVOiR/m8887Ddttth3333RdHHXUUTjjhBCxYsAATJ07EcccdB04GOJEYP3680GUoFMLKlSsxcuRI+Hy+IYGZqqRCQCFgHQFFLK1jpr5QCAxZBCZNmiQIyIwZMwS5oAdy5513xl577YWddtoJf/nLX1BfX4+tt94a++yzD4444ghBVJYsWSLIJ0lpr89Y3Lgh/6c8x7kxqtQTtN/97nfw+wOYOXOm0CV/9txzTzQ1NeG0007DueeeK3RHTzN1fuihh+LHP/4xPvjgAyxcuHCAdzoz+Qs9Vs/sCkhmtVdfDRUEhpYdKWI5VOxa1VMhYBMCJBzvvfee8G599NFHuPvuu3HMMcegp6cHy5Ytw8cff4yHH34Y1113nfj7pptuEqTywQcfhNfrTZBiaHW4NqnAQjbpPf9/+tPlePPNN/Hf//4Xr7/+Ol566SVMnTpVeKKvvPJKTJ48WZBNejf/8Y9/4M477xT65GRim222sSBHqqSKWNoAosqi4BEYWv3cIBBLs8HBBW8pSkBbETBa+laeLVvhzjCzTTbZBJ9//rnwVs2dOxeM0+PyKGMtr7jiCuG1JDE55ZRT8Ne//hXz5s0TcXz0XCYnlkaCDK0O2QgN6+9j0JbAB8a2combnkeS/W+++Ubos6GhAVtttZUgj9dff71YBt9jjz0EsST5vOaaa3DLLbeI+Nptt93WujhZf5Fvexis8uzq7/Itf9YKVhmUAAKDSCxp8Org6hKwIZuqoIilTUDmNBsugc+fP18Qi3vuuQfvvPMOnn76aSxdulTE43FpnJ7M5cuXY/bs2XjllVdw1VVX4dhjjxVLrDfccINF+dTAaBEw0x7hOXPmiMnAQQcdhPvuuw8PPPCAIJpPPvmk0BeJJScS1dXVYimck4YzzjhDxMq2t7dnJ1bGX+fbHvJZXqLThSBlGyKST/kzVqr6sMQQGARiSQT1DSjbhlNsGlENvdg0Vhry2md33JzDn5qaml5o5MYQ7jDmDnH9RhF5rE04HIbb7bYJTvvqY5NARZkNdUOd6XUp9SU3XzH2khOEt956C2eeeabYMW58HmlRwpFE6FzbWS7IZDrsc12fUtG7qkc2CAwSsdSTS0Uss1Gg+lYhYA6B7AcUq4dj6w9It5+IZF8fc7iVViqrOhQ9dSyGDz/8UHiq6bkcWk+u7SzfoWG5rs/Qsg5V2+QI5IFYDhVDHir1zHVTUjjmGuF8558Jmelb1RhqE89MtWMUSpIcR6u6sZo+09oo/VtFLjP9Wy1FpVcImEFAEUszKBmmyfes01CgIk6giGUxKs9+wqHswJod5I5YyEPu7fc6p6uh0n+h6N+aHCq1QgAYRGJZKh2HrEdifZSnxZ4GVip2Yg8ahZiL/aSyEGtZmjIVru5Uuy9Ni0usldKzNT0XB16KWFrTapLUyYKvmUwRy6yhFRkUR0Oyp66lk0vhEpbSwbi0a6LafWnrV9ZO6dmanosDrzwQy1SwFQdA1pRuJvVQrbcZbJKlUXhlilxxfaf0nJ2+FH7Z4TdYX+crjKpQ7aNQ5cq3PZjFwWy6fMvfvzxFLPOOf3EYRt5hSVmgwqtwdJFeksWLF4tzEPfee+8MRFZ6zgA03SfZ4ZfoYebRQjxmiFdzqieXCChiqaE71Ff4zLZfs+lyabPGeQ8isTQWrjRTFIdhDB72RvgYvR88yYuzZPsGNl7z+Nxzz+Hiiy8uTiiU1L3nj/LwexJL3qhUWM9gt//BLt+sNpScZpHKLp1R/5moh1R6Masvs+myq1W2XytimS2Clr8vDsOwXC3bPjDCx+i9bYIMkYyIpx7TzD0H7777Lp5//nlcdNFFQwS70qum9Fzydp3y8nIcddRRBVbJwW7/g12+WXUoOc0ilV062X/KfjOx/0wknrK0VOmM+t/i0KsiltlZlfo65wgUR0PKOQw5K8A+YkmPJe8Gzy2xVPaQM1PQZUxiyRt2cu+xNOvRyUetzZRRqPZXqHIZYVqscst66YljKlJo5NVkXmZxMJvOCPfcvlfEMrf4qtyzRqA4GlLW1Ry0DMx0euaEU8TSHE7FkCr/xDIRFSPPzWChWKj9UaHKZaSnYpU7kVims1czfawZgmqFgBrhntv3iljmFl+VuyECRksFhd7xFJvHxVAhGSfIjFha1a/V9Oark+qIpMI8OikVDqnak8TBHGEjsaysrMQRRxxhHsCMUiYuJTITczJmVJz6qMQRMOqPc9d/JAfWaHzTf2WWXBa+ChWxLHwdlbiEyQYW/eCS747AKtypOrKhN0DmnljmpuOVxPGFF17Afffdh7KyMlx55ZVoaGhAa2sr6urqkhpFOsL5xhtvYJdddrFqTBbSGxHLZAMaCZs50pZ/Yinbizn5LAClkg4pBAqVWEq7NhrPjN4XhzIVsTTUU2ko2rCag5YgN2Rh0KojYmX4kyqYe/Aky3XJuSWW0k4ktvYSkJ6eHqy33npYsmSJ2IB03nnn4e2338Z+++2HN998E9FoFF1dXWKntMfjQTAYRCQSEb+nZ08+/N3TTz+NadOmiR3Wg/PosdJLoIildX1Y8ThZz119YTcCRsTS7vJUfskQUMTS0C4UsTSEKKsEpYavIpbWNu+Y1X/iAG8vsVyzZg023HBDQSJHjx4Nv9+Pm2++Gddeey2eeeYZ/O1vf8OCBQsQCATAMx732msvOJ1OtLW14dJLL8VJJ50kWgHJJNPttttuaGlpyaplZPdxdoQo/x7LQp2IZYdjdjpUX1tHQBFL65jZ/0UREsvcDjD2Q6xyLC4EjJYYjQiNWQ+sWUJVPOhl5rEc3Prpl7Nff/11PPDAA/j73/+OX/ziF7jttttw4IEH4qqrrsKvf/1r3H///XjqqaeEt/KRRx7Bs88+i1AohIMPPliQTf0zbNgwkKw6HEb2klj/wrCL/BJLiYFVrAbXdlTpYiqVAIPSoQaI2XZsd7rCsEpFLAtDD0qKgkHALmJp1MGa7VAKBhhDQYqRWMpK8Zik1atX4+c//7n4VX19Pb7++mscc8wxwiNJL+xll10mlsMnTJiAX/3qV2LJvKOjQyyXv//++72Hi/N7Esu1a9caYtY/gdlJicVsM0ief2Jp1F4yqIT6JA8IyBUaFmU+1CIPgg1yEWb7d6vpJM6DXD2D4jMglmaBKOyKK+kUAskRyJZYDl1ci5lYMsaS5zZeeOGFwvtIUjh//nw0Njbitddew+GHHy5+6M188cUXxcHhm2yyCRYtWoSjjz4a559/vuaniMWEl5KHizNP80+qGNLB6W/zRyzNI6RSFiICiljmTyuFM/E0qrMilkYIqfdDDAFFLDNVeLESS27AIRnkD4niqFGjxCadxF3fK1euxMiRIwU8u+66K/7zn/+IjTwkkfLJ/GgiRSwztTv13WAioJbC84v+4Ew0rdZREUtDxIpDkYbVKJkEudaHVWKZa3mKR3HFSiwzQfiUU07BjTfeKIilfU8yj8TgbEZQHkv7tKpyGsoIWN38VRpEXRFLQ5tXxMEQorwmyLU+MiWWBGFox4kNJWKZO5M3IpK5tn+tZopY5k7DKuehhIA+VEDWO90JCEOWWObbKPLTkea7Vqo8swgYDbRm8zGbzjyx1JY9mS+/KdTjUszWO/t0ilhmj6FxDvnpDxWxNNaESqEQMEYgGbHUOyFK0xmRgcfSGEp7U+SnI7VXZpWbfQgULrFkbJ7Tqb9RYWjvihwKxDLzGEq7WkR++kNFLO3Sl8pnaCOQaik80XtZWigVAbEsLcBVbawikJ+B1KpUTK8RS2fCWW6lOQM1g0+pE8vckMpc23dm+Q89Ymk1Fs5MizCTxuzE2Ww6M2XamSYz+7JTgtLKSy2Fl5Y+VW0KFIHC7bj6E43ClTNfii11YpkbHHNtN5nlr4hlvjxKZgmj2XS5sdLUuWZmX/mWsnjKU8SyeHSlJFUIKARyjoAilplAXJgD89AjlpnoTn2jEFAIJENALYUru1AIKARsQaAUiaXeK12cS+GZqVYRy8xwU18pBBQCgCKWBWcFZj0YZtMVXAVLXKDcLGXkJld7VVGKxNI+hPq3V6PWa/TePrmS56SIZa4RLvX8i6HHskMHRi11sGJ37ahb5nkoYpk5djn60shQZbFm0+VITJVtCgSoF/7Ye/xQMXTThUwsr732WixfvnwQrVbTYCwGccOP1Gd3VxduvvlmuN3ufrINdutWxHIQTaUkipb9ICtTyqdl6HvmxI2bqUilVHDpbvRUxLLgGrHZIcVsuoKrYIkLlK6jKYSq585u7CGWVuUzl3769OmYPXt2fBe/nXpIVX7y33M5XQy1DgdcLhcOPfRQPPTQQzbf4GO9fonSFj6xTIFvvOpGQ7Y5q7GOo/pC7/jQo2ykkWJGziqBLPQxIntdKGKZPYY252C2yzObzmbxVHYGCBS6XnInXyESSxkXefzxx2Pu3LmCzNn7WCOW+rIp22GHHaaIZUYKyZxYlv6wnhGgNn9UDGssdlY5FblMRahz1w/bWatM8ypBYlnaCstU0eq7YkMgWzs2932mtCjZd7khloklmatXorbpsbzjjjtsIJaZlZ8ojyS8hxxyCB5++GF4vF7Nk5nSTO0p12wrSPRYDiw9v/IMwC8eTOBIiVh64pkea7MoqXT2IzC4dmV/fYZmjopYDk29q1oXPALZdrDmvlfE0qohmMPVKFczxHIwz0m98847UVVVhSOOOEJUpRSIpfJUGlllIbxXWioELWQrgyKW2SKovlcIlAQC/alDJvQpNx5Le8AtdI+lN+6xlLWNGXrk7MElVS6JxDK3pZnJPROL7MtX0RUzGBdCGmqKP3ZtfszObgoBkWKUQRHLYtSaklkhYDsCiliag9SegSrRY6mIpRH62eGe3ddGsqn39iEgiSVztGM3udK8fboxn5MiluaxUikVAikRsPPwbCt5WUlrr/r6Ouzm5mY0NjbinXfewYsvvogLL7wQLS0tqKysRCJhsleGdLn1H1CMPJbmccx0oOr/3dq1azFs2DBMmzYNjz76qIj9/PrrrzF58uTeSpmXyT5UFy9ejPHjx+Oee+5BRUUFDj/8cHz77beYOHGDeCH52t3bh1e/Q+pzLoXet5kM13zV3z6dFldOilgWl76SS6uIZSloUdVhSCCgnYGYuqr697knJX0DP5dNzzvvPFx33XVYuHAhXn/9dUFK/v3vfw+iXqwRS/OC2kMsjz76aEQiEQSDQcyYMQPHHHMMvvrqK6y33nrmRclBylmzZoljmU466SQ0NDTgxhtvxJFHHolLLrk455Suf3XSb76RzcB+O9cTm0SA7fCg5UBpJZWlWgovBXUqYlkKWuxXh8QOOdOBsOSAyVGFEj0cxenRyNZKNtpoI+Fx40DPw75XrlwpvJiF8pC8kQBn/yQPGZD5mtU+vbxjx46F3+8Xn5LI3X777dmLl2WbQlc4AAAgAElEQVQO1N+4ceOwbJl2mHxNTbXwPjudzixztva5/YRRK9+4tcYQi0XFOaMDH0UsrWkxk9R2R8Nm27NlUoeh/I2G94qVq9HU1IS+qyD6Y+KIyRN9iwaroW5Iiljm11STz7C5vHnVVVcJDxSJFgdmNqV0A2aqd2m/iVfWLKHp9fQkgGS11UiZ+DeXcZctW4ZXXnlF1G+LLbYQP+FwOL+qSFEa5XvzzTex00479RGLWCwFeejLJDnuSYilDnxHipVUcdtOvEz59wcffIAvv/wSbo8Hh/70p72Hpsu0uSJXyWCSZfLdkiVL8MYbbyIajeJHu/0IY8aMSXMMkr0qTlVnZxy/VAvVqew6UTrxvS6x/Ce9x4sWLcJJJ52IE088MU07NdvS7MVl6ORmtSdKh4zdy+pDRwuZ17RgiaUiRtaUaoSX0XtrpanUSYcqzRsSv67vF7/4BfbZZx9xVItdMYZ6LfYSlKTHwGjycVcxz/jL9TAo5WLdt9lmG3w8fz6+WrgQkydP6gdUruVI9EWx9noOMX36DMylxzIuiF17TjWs+x6jesrd3hRk/sfzMXXbbcGzLB/557+S4hWNk1GjfDNvl5r0Ei/+u62tDRMmTBBYLfx6IRobGnstKZHAZS/XwPL7c784uvG2JeupUQbNxvXp9e+T/b4Pp4QJQiyGUCiEV199VYR0MIwjudcyc6RL88tMiWCm31lBURFLK2jZk1YRS3twHPRcjIij0ftBr0CRC6DhG43GhFfy1ltvRW1trYiZy3Rg6vXaRKMabQlHgGgMiMX/L64FdGgBlxxXnS6AS5VOJ5gCzr7hXnrQMpUlUTmCPAsmEgWiESDCvzUMXv3nP/HUk0/imnvv0eTjLTdCPk22fgQsXbCoBYvoXVBhOVzCpIAsiJiJf2v/v/ikk3D57DkAASE+lMmhySV+snzSDpNSJgoSCWkyCX0Ce2+1Je5/4AE0TZmiSSDk0fQZczggiSU9dvY/8YGXskg9UqcA7rxqFrq6unD6n/4YtzXKxB9ixwUuzf6yl0oSS01t1KfT4YzbGHGi7UeBCPUZn71JIMTKdNzOZBuIezZlMHJq+VJrjJ5k3i3/4IMP2g95yeWYKUHM9DsrALIM0SOyYaW9fsBKriptOgSKlljmwyCV6SgErCEgyeDuu++OZ599VngqMyVzXIIURIKDaSQMfPcdXrjrHix8922sW7YULWtWw+Pxon7UaIyYvCF2PeSnmHTooRop8bgRdfURJavEcmDrGujZcYgl7hgQCOLz++/H+8/Nw6pvvsGaJUsQ6OnG8HHj0DBhPDbZZVf8ePrxwMhRgNsliGaiJ3EgytbbN8lXjPxCELcoEAph7cuv4rXHHsPSTz/B6u9/wJqVq9A4fDia1l8P6222GXY/6ijU77IL4PEAbrc1ZZtILeL0RDqHRohIjkiSVi7HG3ffg89eex1rF3+PpYsXoaFpGGpHjsB6m22OHQ44AOMPPKhXLoGGIHBxApbguTMhStIkwl5JcGlf/LurC+/MnYtPXnwRaxctxqolS8V3TWNGYuSkSdh89z2w/bHHAoybpZ0JzLKnlXG2KPKS/iXarLBbYhYMYvnz8/D6Y49hxRdfYO3SJQh0d6O8shpN49fH+K23xJ5HH43yqdvF7d8jyDjJbyYeezlRYUzunDlzRBiLeoyJhHVbsN7OretBEUvrmGX7hSKW2SKovlcI9CLAAam9vR2XX345rrnmmgHxdOaginvYQiFBkDrfexezzjgTgUWLMMHrxXC3C9VuF9zxA4S7IlG0xIAV4QhWOF3Y/qeH4Gd/+D3Q2CC8SzHdvdiCApjweqUklvRqcaAPBIHmtbjr4oux4NlnMTIcxhiSXJcLZYjBGYshAGBdNIK1cGBxMIDqjTfGBTf8Db4tNgdcbo1k0ls44Onn0zQHGVMJAh4BQkF8fP/9uOvyP6O6tQ3jK8pRD6DK6YTH6UQoGkVXLIZ1sRi+6+6Gv7ERMy69FFOOPioulzvu7c2eMAliSYJDz2k4gtAXX2DWmWeh84tPMcbhwGivD9UAvC4nIrEoumMxNIfD+D4QRHtVFfY94UTsfcYZQE2VmCxoXtXsN48IX7f0AIaCwPLluPncc/DNS69gnMeN0W4PahwOlMVJYxBRtEYiWB0DFgf8GLn9djj/b38DJmwAeLxxz282eOl1HvfkhsKAP4jXb70VT91yC8pbWzC+vBwNTgeqXE5hY1E40RYJY50jhkXd3QiNGIXT/nQ51j/oQMDr0SYx0vNp3pJESrZlXrO5/vrrY8cdd7T49VBLnmGbTXKXk/3IyalKfIJny0TIfilLK8eCJZalBXPx1iYfM8riRadP8j5P0vLly3Hvvffiggsu0FXMHI6al5JemgiwZjUe/e1v8fkjj2LbmnqMjgGVwQDKY1HEwiG4hUfSgRAHWI8HHXCgzePFlz1+fFtZjhOuuQYbHHW05vVy6O5wSUosTcgnlm41T+Bns+fggUsuwZRYFJM9HtRGIqiIROCJxgRhoZc2Ao1cBjxutLncWBIDPuzqwna/+AWm3XCDRpTcLtCnJ1fte4cnsSM3/bKV5h2OQ0zCSyL+1ULMmj4dns8WYJvqGjSFI6jhDvVoBK5YVJCRGMklHa0uF7rdHqx1u/FhWwt6xo/HRY88CvAMSY8LUYcD8cXY3rhZEyj1M2ZB4OjZ7enB4+eci4/uugtTq6sx1gHUhEKo4KanSET46YTH1ekC94d3ezxY5/ZgQWcX1g1vwkm33owRe+2pTRS43BuvuHUqp9kBPcZO2lgwgNeuvRbPXP5nTK2swvpOF2pDYfgiYXi4HB0/2ioUjSDicsHvcqPV7cLiSBALgkFsd/IpOOiKK4TnMsafXv+stilKxhtbauHEKxKG/8OPcMPxM1C7fDmmlPvQFImgPBxGGfVO2YVsToSdDvQ4iJkbzU4X3m9pQcUuu+C0uXOB9cZqxDdDMjFv3jyxKW3PPfe0VIXsE1u1tOxLzC6HXj9zPBvrlpld+UZfFxueRvUpjvcleNxQcQBf+FJmOhMt/JrZK6FZYilnzSlKFwQpCKxYjjN32gHbhsPYwulCU5cfNcEQyiJhuEnudNuORZfudCLocCLg9qDZV45FFT7MW7UKPzn/Qux98cWAm8uW2hK0fmdyIjGWA3DSXbn0BgaDuOGoo7DuuXnYo7ER63d3ob6nB2WCVNI7F/enxeMCo4gh5HQgQEJSVoZVlVV4PxDEouFNuPadt4GqKs1zKZd4+w1L6T1zvcfBxD2Va19+BTP3O0DItWk4gJF+P6pCYZSR7Ar6ymVfiOVy/ibEH6cLHSQkvjJ8U1aG51pacenDD2PUvvtociV4CC0NT3IZt6cbM7fbDmPWrMFUODA2GER1ICDIm5vkrXd5W9uGEnWSLDnR6fGg2evDD5UV+M+6NZjxl79gy1+eALjpiXOK8EzrMZfxyQFjY4NBXHXAAQi+9x72qKzC2O4e1AXDgryRdFIr8qE9kGhHHA74PW60et1YXlmBN4Mh9EzeEBe/+F+gzKcRX92Svfa9SZLRO3EJ4pN77sVtp5+OAxuHYWIgiGH+HlQGg8L2hbWI+GLtETGotDGnEz1uN9ZUVOATtwuvd3Xh2hdegG/LLQFvWUYxtIpYmu0llVfQLFJDKZ0ilgO0nTiEWBpSSsx2FLk0VqgZYin8V6ln9HzN5b/mZpw9eSJ2qyjHxqEghvX0oDwCQdxERJvczCMHVv7O6UCEnMHpht/lFGRpaXk5nu/swubTZ2DaX64FysoEqRKxenGPl2mr5kDu9+P2o45Cz2uv4UfeMozs6EBVOISyaAROblqSG3r6hnxRHsPmSZaCTpcY+FeWleFTrxcfuly45vPPeEiiZKMJMCfzeOkIhTwqKBhEy0sv4+IDDsShDY2CiFT6O1EVjQrMKFsitRHDoPCqAmGXU3gv28rL8UN5BZ5etRrnPfMfNO6+e5rlemOLEOECoSAumDoV2zQ3Y/NoFA09flRHInBHwsJ7SlKpP5pIkwuIMrTW5ULQ5cU6jxvLK8rxn9Wrccj112PbU07VPIQ6PZqQps9aggERYnH5nntizOdfYJv/bTYbEQigKhBAGbc39E4Q9O1eI+MaiXOKyUKH14Pm8gp8FIviq3HjcNnrb2jkkhMYvTfZLLmkXYdD+PSee3H/SSfhgJEjMa6rC/X+gLAxkkpt4pJcLpJeytbtcmFdmQfflfvwVFsHbnzjDYCbospYO2vP4BFLa3IOfmpFLAdfB4UngSKWilgaWKVpClJ41p1zifRkh+Fq6ZbCJblM4sXhhpNAEOdstTV2bm3BlqEAhvd0oyIY1I5T6Ufc+g+ufVV0CM9SGDG0lJfj+5paPLFqFU79178w7oADRMwZvTvyoGtTWo3H4r1366147rzzsF9dHcZ3dKKmu1sM8lzG7iNHiQfRSK+S3J7hQGdZGZaV+/CJrxxLNt0U5/37KW1ZXMSCJuKSjBJKjhT3vi1diuPHT8ARI0Ziy+4eDOvuhisaEp4t6UFNZQIkccKDy+VnlwutXh++ranB31csxwNLlwEjhsd3tZv0usmCSMS7u3HN/vuj8euF2CUQwOiOTpSFucQs9/L0J5V6GcUEgI/DgR6nC52+MiyqrsadK1fihtffgG/bbbUQB+al2/2f3tTjsbs93Xjm0t/j87l3Yl+nC+M6O+ELad7AVLXsO99STkpiwqvKicKSqiq87HKhfv/9ccyttwFer26iYMrCNLGDQWDhQpyw+eaYPmIENujoQGMohDKGOCR5RNV5AoKYaMVPRmA4K0m524WV5eX4tLoaT61txu1rVgOVVfETFMzrUhFLs51noS+Fm62HSmcnAopYWkYzcWA331lZLqogPrAwQBSlvJnWr783l56a5MSSoBh4fgNBfDF7Np6aORMHej1iwOegygFffzC0nrolszrhn+Og73SizePBt7U1uKt5He749hugqQmxsjLDner9JOXAvnYtjh89GqeOGIlJnZ3Cu+WNcDGZhDcVydXRXd3B1mG3Ftu4uLISD7e144wH7seoaQfHY0HNbUwR3Iw7mcMh/H7X/8M2S5ZhC78fjdwpHArC1Y/sGtItwUvo8aJXdVVVJT6srMTS9dbHb56bh6ivHE6GEqSJTe0LHYjjEYmg/cUXccM+++CA+nqM83OZOSS8gfRUykd/ILneny2sJU56ufc+7HJhtc+HzyqrMK+zC9f/8D1QWztgeTetFYvjjiLAZ5/ht1tshcOHDcOknm7U9fjhEvGUxnrUnypO+SIOJ1rKyrC0ugb/Wr0Kl731DtxTt+6dwKQ6X7KfRmS5HR04d8ON8GOvB5u0tmJEdzd8XO5P8ND316bWAmJyZhM/ZYqTpy6PB2vKffjA7UHXXnvhBMZcuj2I8qICExvYmG/+iGWxjycGfVtBjAlKiHwjoIilZcSLvSOwWuFMiZfVcuxKb1Veq+mlnP2/S08sU5HLuOetoxMz6uowY/QYbNzaisaebrGjOJMpi4jVo+fS6cDy6mq8XO7DBscfjx9f8nug3JdyZ7j+0HVKK3x5gQBuPvRQ1C1YgF3buzCms0NshOFGnkQyNFB7Az2YwrfhcGixcLV1eCEYwNVffgE0NMTl6qtx2ltnQkGEPngfF/5oNxxXVY2JnV0oi5CImyFI/SXt9RACaPV68X1NNR5Z04w/vPMu3FuTKKU657J/WWKzCmM+AwEcWV2NM0eMwEbt7agKBkQcaqobeZJZPUmnhrD2dHi8WFFZiZcCQfzf9ddhsxkzBnhT01qx2KwTxJ923x3bLl6Mzbu60OgPiJjKfjGLaaMiB+qTcb1tZWX4vKoK/3Q6cQt1WVEuCJxmQwbnXNJTH4tiyRNP4NHjp2MPrxfjujtRQ099r2K0TUcD2wJ/ox0zJU4XimPF/4ccgN/txne1tbhlTTNmM+xi4kREPV5FLO3qZnvzUcTSdkhLIENFLEtAiaoKegQyJYrZoWiOWOqHSI6IjC0L49Wrr8aSv16PHaNRDOvqQHU4bEBEtEE18em9CjBO4Jp9PnxbX4tHVq/BtctXxs8gTE9XRa7yqJxly3Hqeuvh5yNGYMOOTjTyXusodzJbeRIIiYMxel4sr6zEvJ5u/Oq5Z1G2087iuB+BjoFHKRaJwhHw4+of/Qgbr1mDrVrWYVRXl/C8GV2nmEpqUWcHNE8vvYPVVXhx+Ahc+fZb2uYPHpFk5gkGsebZZ3HLscfiCI8H4zs74RG70vvLpvdWDtShdvUnmZJG+jRvaqfHja/r6nBbRwfuXrFCELiYy62LO0yuFZEDl5q/+RanTNkUJ9bUYqOe7vjSvDERTy2rtqEn6HJhcU017u7oxFUffgBMmoRImXaGazJi2Y+GhLmRyI8zNt0UP+3xYwrDLEJ+y0RcYij1yJjjmBNYWVODt2pq0bbFljj54YcR8/kM7UvmlT+PpRnDKvQ0ilwWuobyLZ8ilvlGXJWXYwSKiFjSw+XvwWmTJuHYSAybdLSLuMoyQew06picLiQnloIT6r7p8tLTVYEXAgEc8sA/MOqAAzUPXBpmKL4Xu3QjWPqvR/DCKadgVwcworsHlQHGfBqTkf4K7k8sSTj8JHBlHnxaU4P/jhmDK15/Pb57t28/cqLHsvf/xGzFSpw+biyOHzUSG7S2ot7vt+QRTGaA2vKuA0G3G19XV+O65nW4e+kPwIiR2m5sM09PD2496CCM/OorbN/WhhGdndqO9Lhi9LDrJwH91RFf4u0NrNX2tdMDvaimBrd3tOO6Dz4ANtkEMY/XHLH0+/H6FVfi6zlzsHtXF8Z20fMcPzPSTL10afQxl5oHGmKS8HpNDSr33x8H3/g3RLxayIVGLvs//ShIIIToNwtx6uab4/S6BkzsaI8Tcc3+9YTR9GSGtwLFifza8jJ8WVePO1esxNwVy4ERI/qdn5rOK66IpUXDyMu5lFZlUukHCwFFLAcL+YIvd3AIWvawDI7c5jyWsnbxYZKepLZWnDh8BM5qbMTEtjaxa9ilW9rLBg+eI8k4uPc8XpSffDJ+8qfLtSVUo00fYpduGH/Zbz9s/emn2KxLW57kkq68vtGKXBrZ1epMh6S2VOnEV7W1uK61DfevXg1U1wzYxDNg4I8fS9P12mu4e//9sHe5DyO7e1ARCJgmlnKFNZl3kzuyGdf4Q00NnnB78Ms770TDT/YCfD4dXU+0r/j/uQy/YgVOHjsWP2tqwqadHcLDK0llL0mKq97M0rj0wGklOLCsugov1VRjs9NOw9Tf/k7biW3wiKOZujpxweQNsbvTiS3a28TGMEf/k6uMskn5nniu8vnwRWMj/sNjfr7/Aajm0e+pn14Ee3rw1f334dkLZ+LgUBjrdXSICU32F2xqZbd7PfihogJPtbZh5tdfARtsoB2LZLREn9cYy4yhVx8qBAoWAUUsC1Y1gy3Y4BC07Gs9OHKbJ5Y630tPD/D9Yly0zVTMKPNhfFubWIbuv9s6c0S48aPD7cYXtbV4sqEBV83/WOzC5tmXaT1AwpMawEljx+BkjxsbtbXCF46IsxfNEKLkEvd5LgWBczmFZ/DaljbctXgRMHq0tokn/iQ9YFtcQRjBy1dcgY6bbsQ23d2oDwbhMwwd6JMokVgmeoUp27KqKrxaU4emww/HPlddGT+uJjHGMOH/JJZffIGLN9sMR/Kcz65O1AYCA/Y3pSO2yXCTG3lI6FdWVuD9hjq0bb01fv7QPwFfuRGthCCW69bh1GHD8bMRTSLus5FEXF6hnLl5iS8pX7PXi8UNDZizYiX+zklCU5NhrgJ3fw/mnXsuWh5/Aru0tGJMV1fSEA/DzFIk6Ha70VxRjtcA7H7HHIw+5JD4jTwuw3AO5bHMFHX1nUKAi0qr0NTUlHKFyxHTR3cPKcRSeCYMu6RiA2lwiFjuULKrPolLvgaxiWl3haeoLYnHB+/hr9MOwU8DARGT1/9ooexQ4rEwvDHli+pq3NDWhvvXrgFqqhF1agNrshqJo7q567rbjyNranBhQz02/t9VlW4Sy7TiDNzckSo5yVvU5cC3VVW4Hw789rHHUb/zLtpVfP2W1BIkjMekPvTr0zHsiaeweUc7qgJ++OKhA6mIGX9vhRBzaffdxmFo3mwznPivfyLq8xlv+ojGEP3oI/xlu21xYG0NxnR3ozqY/LicTLW6qtyHBQ31+GbsWJz64stARUUCXok5M54iKq7gPK1pJI4f3oRJ7e1o8PNeJHseEst1PHqorhYPrGnGNd99B6w/vu/c1BTFSGJ53e57YMPlK7DN2maM7NaIZeowAWsycwPPurIyLKipwZI99sBJd98lQkE0j2X69jx4xNJav2MNEZVaIZAfBBSxTIpzujgy09E++dFg1qXYRcSyFsSmDOyqj7UO3thjmaR6fj+i77+Lvx12GKZ1+zFBeGz63y6SDSgklgGnG19WV+OalmY8RG9SY0NaYhnlLcz0WHb14KjaWsxsaMCGYonePmIpDgJ3OrC4thYPudw46Z57MXyPPUwTy3tPOAkTX3oFG65dg8qgvzcm1S5iyR3Y7zUOw+L118dZzz2LaLmv94rHlPqIxBD+4H3cuMtOOKCqCqO6ulGV4hzGTHW6urwcnzU2YOGoUTjl5VfME8u1a/Hr4SNxfFOTiGO0k1jS8dle5sWSmho8sGYtZn31FTB5QzFrSR0jHH/3v1t1rtl5V2zZ0oLNV6/GyO5uWz2Wfp5PWubDgtoafDBlM1z4zH80YhnfWJROD4pYZmql6juFgPJYWuzISo1UChoTbwelWLf8NfGMiGXAj9j8+bj6gANweDCEDTq7es+GZCxissUC80up3PDBg6xd+KK6Brd0dePuVauAygrEXAZL4fE7ro+oqcEFjSSWrSj7340t4vafFHMuK1akEUsnvqurwy0dHfjTK6+ietup4laZvkdnj2JdXDBuIBzBY2f/FlUPPYwtReyndpyP/q7qzLQuN80AK6qr8E5jI1q32gq//MeDiJX5Uvq3esmT8FjOx9XbTcXBtbUYKzyWwQGimNffwFqsrqzEx/X1+Hr0aPz65ZeBcuOlcOGxXLNWnEM6ffhwTKTHMuAXRJn2lY08Wu/hQIuvDIurq3HfmjW4bvH3wHrrGd7mKHDr6cHsQw7BiC++wLbrtN39dj48xH2d14sF/5sgBY8+GtOuvlqLL+ad6wbP4BFLI8msTXiNclPvFQK5QEB5LFPuck0VU5ULNQxmnlYowWDKWdhlZ0QseTf4smX4zeQNcVp1Dca3tsAd4yIddZKcwZknAg6E3G60k1jW1eGtSZNx3gsvaDfdiHuw0zzcvOP34+wpU3B4Zyc27WhHeSgED69v1FO/+OHngmBY2JQiztl0OfFNfT1mrVmLe0l4G+riu68Tl7/jkx9JLCNRfDp7Dr68+BLsEAqioacb5Vy6772hKN1qQ6o6E3F+5xRXKi6prMQL1dXY8swzsP3ZvzFNLPHDDzhnwngcM6wJEzraUR8YuORsBadEaVdUVeFdnvm5249xyO1/j28qMmoXMaClFWc2DccRPFuzZR0ae3r6nfvIHKyECuhLJLFsLvfhq+oa3Ll6Fe5obeu7qlOXUD9JkjceOQIBvHPlLCy8/Xbs1tEhzkm1a+MOixYHpVdU4AW/H7984Xm4dtzJ9G1KhU0s9b5g5RAwagHqff4RUMQy/5iXSImKkPYbYDOMsURXJ45qHIYLmoZhcmsrfJEoXOLGEe0xT0QGHuzi93qx1leGt51OrD9zJrb/zW80r6BDG77Frmvpi9N/zvJDIdx38q8w5r//xcYtLagJ9KCct8fEPV1WjVh/HmKIsZ8eN76qrcPfg0HMYVxebXXck6T3VOo3Y8vd11HgkwW4cuq2OLihHqM62lAT0m4CSnaftLGcfeXJg+UX19bgbn8AM595BlU77IBomVdHeJJPOMX5mh0d+N3YcTiophabtK5DU8Afv9/dWIp++hYO2v7lULYl1TX4T0U59rvySkw49ljtCsUUj2yd1LHT78fvt56K7bq7sXXzWoyKX8lpXipBPaVF9vtM7Aovr8D82lq8X1mJSz74EKiOX6GYpgDudXIGAvjhySfxz9PPwLRgEOu1t4GnmYrjrlKUZ0XmNq8XS2vr8PCa1biMG8TGjYtPqozJWGETS4mCcT2s4KXSKgTsQkARS7uQHHL5KGKZNbHkkvP/doFftvvu2HXxImza2oY6HusTogcuc2IpNuA4HGjnEmVFOR5pbsHF77wF77bbaaQy7mkUh5EnqFE7A5BLzmGE3nkXt+2zD/by+TC6qxPV9LCSEOg8lZmYvVii9JXhQ58PXYccgmNuukmLrxSEN81gKRy5UaCtDb9saMD0MWMxsXkNhgeDcJKMCUJm1WPZVx4Jb7fXjS8rq3B9czP+0dwsvG8xd7KDyAcAJ+57/8cvT0T0lZexc0c7RnV2iPABc1cm6vSdQCx5via9zwurqnBDSwvmfv+9tou+X+hAf03oUXD4/Vj39DO49+STcUAohPXi51hakSsZ0aN3l1c7Lq2qwkv/Oy911wtnYqOTT47vou+TJzGko9djyc1Na9fihLFjcVp9Aya3t6E8GhFXmWZLLEl415RX4LPaOvxrzWrcsm4dUFXZ7xzLdLZb+MRSkcpM+h71TX4QyCGxVMQjPyo0KkXpwQghO95z8FyxYgXuueceXHDBBeayjB9EvmrePNx9yCHYr7oa4zo7UBtIt5tYG1CSxWD2kgnBFx3gZo+P62rxQiiEa7/5RjsrksQtxZgkCYB4zcG9sxPH8qrJUSOxeRvPP+zprZfR0mmyjRvyqsIWjxff19bgoTVrcdXH8xHbeCM4eNSQEbGUpfd045GzzkLXc8/h/9raMbqjA24SXuHpskos+1TFpVPey/1ReTkC0w7GsTfdrB3P5EgWk9q/XYkwUBKl7xfjlI02xGkNDdigrU3sWHeJqybN75pPNB7u7GRtfHcAABuMSURBVOfVibwR6Nn6elzDG27KygxjBXslDAaANc2YPnYMzuBmrI4O+LgZS+cZN2ewwvLklEfE8FK2ryorcGNrK+5ethRoGo6Yx2Pi7Iz4dabhMGb9ZB9M/fprTOnoQJ2/R1w1mc0j7zJfUlWF56uqMP4Xx2GfP/4RMd6iFH+MaFnhEstskFHfKgTyg0AeiKW+M8pPpVQpegT6+S4UNDYj0HvHdiZL4ZSFjKSnB6cOb8IBNTXYqrMDw7u6xc0o9MKJJP38eKkJikjOMyIdTgRcbnxfVYlHgwH8+r770Ljf/gM8SYZQ9PRgwZzZeOGyP+KAGDC6tU3swCZRGrjw3p+vasS3fwnC8+ZwYFVVJd6rrMTKSZNwxrzntBhGkSH/SD/kCyy423rVShw/bj2cJo7Q6RA7sL0R3rBt/Y51sZmIsYI+HxbV1+Pu5ctx6w8/AGNGi6XT5AdqJ5mw8YrCcBB/OfBATPn8M2za3iHOjKwQRCk9sUyGF8ulbK3eMiyqqMTjLc34w9tvwb3NNlo8qsH1l722Ez+mad7Fl6B97lxsH42ioaMDFSKEwOrT5xPu9rixlsvgPh+a99wdJ9x1p/CixpzyrvB0efMopDi5/OxznL/llji8cRgmdHWK2FRxY1EGcwR+wmsmOz1efFtXh6tWrsCjLevEoe28AlMRS6v6VukVAtYRyCGxlMIoj5l1tdj9hSKXdiOamJ/cvHPffffh/PPPt1ZcMIDoJ5/grB12wC8bGzChvR2V4ag44sfsI+gUCVIshm63B+vKy/FlTQ1erqvDLN55zdtj+i2dGrVLbTmcROn4ESNxtNeLLXoCYtAvD1OugaN+Mi+l/B3lC7qc6PR48F1tLW5atQr3fPmFuA0l6nHrjvMxQSyjESASxRMzZ2LlnDuwi9MpPL28HSgdgUuUT8Z9yjuvlzKG0enA9r85Gzufcw5i8TuvzeqglygtWYJfTZiAn40aiY1b29DQ0wPjfcj9JxDES4v5dGJFVTXeqKjCmg0n4+xnntbCBrgBywSx7JU9EgXWNeO44cNx3KhR2KKtDU09Pb2hA3oS1/9+8P6EmBiKCGCHE2toY3W1uG/5ctzBo6zquQFLu9lG6iF5RKqkvHGN+AO4/Zhj4H77bezW040xnZ1wRqPgaav0Qsv74xOX1BP1KfzVDgday8qwpLIKL/r9OOyOOVh/2sHapCoeW5xMn4m3PCmPpWmrH+IJjfrRoQmPIpZDRu+qAeRS1RntCpcCiSsUQ5j3hz9g4Q03YLfycozq8aM6EBDLlUaxcJqnkt5AJ3pcLkEqF1fX4OFlS3DbokXx419IPPWkzcge4t4kkrivv8YZm26Gw4cPxwY9fkGUeMSPi54wE4/wVDp5pmAZlpX78FJXJ3abNQvbn/ZrQZB49JC8ZVJ6OSWZGEDgJWUhZj1+nLPxRtg+EsXUUBDD2tvFDUGeKE/jjBmSOblkSrLbUlGB+S4XXuM94fPnA5VV4lgmAa2JOvYliYlYy09n345HLrgQ+/vKsX786CFvNJLUE9efyEEjlHCICUKbz4eFFZW4v7lZeFJRX9snlwViKTbLhILoeOVVzNz7Jzhu+Ais39GBymBAW65nBcSSff9Hf4yT9OwGXC60ezz4obIKT3S047Q778TYww4ThFfmoJG+xC1Ieiy1lMIbHA4JXZ46YTx+WubFxrT9rm5UhjUbM7J/GWIRdLrQU+bF0jIf3ufkavJk/G7ec0BFuVaOBbxILN1uN/bg+arqUQikRMCoHx2a0OWQWCovWWGZlGoAudRHVsSSbIo/gQBuOeZotL/0Evbx+gQhqQz44RWeS43eROOupd5l8jjr4cDJ5b9VvnJ8U1mJB1csw42vvIK6bbcFyn2mNy0k0grx/2AQi594ElcceSR+NmYMJnR0oLG7O77EK7/QBBHH9pDDymV8B8SyfLvXJ5bmn+psw6bHHYdj/nod4PVpS808sNoae9Pw4ianQBBnTJmCnQJ+bB2LYmRHB6qD2t3hQgb+0bsZpv+5jdo5n26IY3zKyvAugBs/XaDdde3Srr7sX7vUFtTP48Xjj0JhPPOnP+Htv1yPfRsaMKG1DfX+brjFonvfMu+A8zedDnCBmrfGrKyoxKdV1Xhm7VrMpneXVyX6ysXyuGW8CAKJYyiM926fjQfOPAOHjhmDDdrbhC5JxvUETnrAtWOYNOuj5MSMIQPf1lTjmTVrsedFF2GvCy/UjvGht1J4GC0eGsQJCsMbVqzAcZMmYf+mJkzt8mO0vwdl4ZBhLKhGeJ1o40HtVVV4LxrF503Dcd1772o758vKes+ENUsulccyl72lyrvUEcgDsbQ6YpQ65INVP0Usc4380qVL8cADD+C8887LrCgSyFAQ//zNb/DF7DnYvXEYRoZDwnNZHonBScISjWhnPMfPXIy4XAg4HYIgrfNV4PMY8Mn/yMlFTzyO6qnbaHcjx69wzEQojZvRoxrBinnzcMPRR2M7rxebutyopecyrMU2MiaUu8nJKUhKGFXIu8pJkNq5NOlw4eV1zdj5/HOw/x9+L86MjHm8lrxIA+QX67LaJqOr99wTns8+xS61NRjW4xekl15VdyQsvHGOmBavSGIubyTq9nrF4d5vtrahfautMPPxx4GaKsTKKwQ5sjo1Fku18WBJEYkYCOKFy/6M//71r9ijuhrjI2FUBP3whYMoiwGuOPkVcsViiDgd8Dtd6PJ6hafywx4/Fg5rwqz/PA2MXx9RrxdOEvF4Mdb0KWMaGYQbxrLHH8ffTjwBu3g8mIQYasNhlAdD8NJDSJLpcAiZ6PkNOxygnQXLytDmdOEHjwfPtbRg2iWX4Ee0dXGEFY2ybwk8cWnZUNZ4HCjWNuP3e+2F8T8sxTblPtQG/agMhcQB/SS/wsY4fRG6dIh44h5ixo1X5RV4tb0V5TvthDMefwKorIzHyJrzOutlVsTSUGMqgUIgJQI5JJYKdYVAMSOQuCxoPEHirvA77rgDF198saWKS0IiCBxj4SIRfPvkU7j+7LMxsq0NU2vrMDYcQlWPH55IWBv4eV2jwwluoOB9yN86HXivtRUbT5uG0265VSz/CQ+S8AYab4pJL3Dc20Xiu2YNbvjVr/D98//FdnV12CAWRUMwBF+YB6hrMaEiZtHjxTqPByt8PnzQ1oaWpuG49I45aNhxe22DB48scnK3dXyXuzxXc4ArzsSEiHIFQ3j+2mvw6DVXY/PyCmzqLUNDd5c447KMcrEKYknegU6vRxxF82l3N75CDAecfgb2O+8CwMed1vHjmHTyGGte89Vqjy415QpHsOrV13DVaaeiYvlybFdbhbGRMOqDIZQFQyKOUAtjgPA4t5RX4qtQCB/29GDX6cfjqMsv165ulFcRGrgqpYcxMcZRSChIGRUUFYQ8uvBrXH7Siej4eD52qK3F+tEYGoJBcRi+MyZ16UQ3Jwc+H5a53Xi7pQWejTfBhbf/Hb7NN9c8ldKza8GNqker9zQCThLEGaphPHHJJXh+9u3YssKHiQ4HRgbCqOYGLcoVI90F/G5tk85qbxk+CQaxyOXCL/7wB0ydMUPb3GQppjiOT7wOilha6sJUYoVAPwQUsVQGoRBIioDYCqAjC8b0IhwO49RTT8Xs2bMtYypKiw/8vcf9dPfgrb//HS/OnYvot99grMcLXuInNja43OjhpSqxKJrLvGjYYXucetUseDbZBBGXW5BJ8aOrg2UvUrJaxAf+1rfewZ1/+D2a330Hox0O1Dmdwtvl9bjRE4mgLRLFsnAE5Ztuiv1OPQ1b/uxYsYGIZx/2BlTG4/AS6FhCqemJZT/cSOTa2vDA+efjm+eeQ3nzOoxwO+GLRuF2eRCMRBBwxLAyGETP8BHYeN99cPQVlwN19YDTHb9DXdssYoLOppVTykXPH8klwxw+e+SfeOLaaxD65muMdrpRz13KkQgcLie6IxGsCYfRUVWHsf/3fzjh+uuA0SPFUUdRt0sc0G5sgX20MhmxHKBOLo2HQ1gybx4euvxytHw0H+t7vaiORuGl55keS5cLLZEIVsaAqilTcNgFF2D8/vsL0sYJhIvEMoMnkVj2LlFrwAlcuPP/jt/9Fj+89ipqWzvQ5HSiDFG4CWksiq5YDKvCEYRGjMTmhx2OQy66SMSgRhhPGt8B3rf0bU6jkuTecsst2GuvvbDRRhtlUDv1iUJgaCOQB2JprkEPbTWo2hceAtaJJeuw22674bHHHkN9fb3lZV5tUIt7lcQyrzbwi4F23Tp0f/ctPpv/CVrWNsPpcmGjzTbDuEkTgYkbxJcjIbyAMbdLXNkjSE0GFCmZLvq1YpJL4VlljKMf0W+/xaIvvsTrL7+ETz//DMdNPx4bTtkcvvHjgfoGEa9Ij5vYqCNZZPz6b7Mxb0b2wWVbESNImUhKiN2y5Wj+9ht8sWAB7r33Phz7s59h0y03R9PEicCYsZq3jR4wj0c7qzJ+h7RGwGWJxnQuKV66s5bEgfPSG0fZOtrh/+YbLFzwKZYtWQoPN6xsNgVjJ28IjJ+g6VJ4AjWvLpd95UmaqXtTawv3IsSBggtdErMo0N2N6KLv8PVnn2Lxt98KYjlu/HhMmjIFZRMna0vLlC3uoaQHmJ5zOx9xgxHzFDG08bvWKd8PS7B84df4csEnCPT0oKqmGptvvQ3qJk8Cho/Q8KKNuVxiCV+7CKDvBiMrWgyFQmLTzmuvvWZn1VReCoEhg4AilkNG1aqi1hCwvhTO/D/66CPceeeduO6663q9OYnHpKSSQyNZ/amDFkYYhYvxa3LXrjxwmwNp7+YdmSu9Vox37DvopY+8WRle+0uZntCQOAEfvvM2nn/heZwvQgHkDpO+MolDbz7Cm5r86V0aTXLDT7rd4vrcRN7xTVEfffABttt+e3z26WfYaJON+3lM+75JlMbeCfGA3CTx7GV4kun1lyPxO2NiaU7Hya07PpkSL3UpekMpzOVtrZ1ZTC10qnPfxmcAfbho/0o8zTSdrSXa1A033ICGhgYcd9xxFoVTyRUCCgEikAdiqYDOLwL2Doj5lb00SnviiSdErOUll1yCKVOmwOfz9e5KTVfDdN4fMeRz80J8zOf4ymVIuUNY41Cap03cD83NF1EtFo2/k4Nn747dOLFJJBhGGuijq1rK3jIjUXzw/vuY9/zzuOgSLcZUysR/6z2A2mpnLC6nLDEea2kyTq+PrCdKJOvaRy2mTTsETz31FPbff3/8++l/IxqNxDfAaKECGiZaPlI2GUpgdlKgx83UN/p72gVA5u8M0hOhdK3djByJ4RG9BEx4/foIpv5sygEE3sR9R1JO6d+0anfCIy0nI7pKD8yn/4RqIAYJE7dYTLQjv9+PhQsXYs6cORgzZow4i9aW0BGjBqXeKwRKEAFFLEtOqYpYFoJKA4EAbrrpJjz66KNYvXq15WXxxDpIwqMtb8eZSNKKavofSLf628XA9+ZQS/UdB2EuIXZ1dYkwAEk6SZb1nli9o06Tc+BAb0aSgRuS4kSVy+0k4Fw+djrR1tYurtqUZ0WOHj0KVVVViDC2kUu58VhUvVza97n1zknCoycv+vMszZafqrWb/l6/ZK/b5BWLaRj0XR2aHA8jO+qtZ1ypicTStJwGVt9nM47eyU5yOxqIGGXg5G/atGk466yz0NjYaMYEVRqFgEIgBQKKWJacaShiWXIqTVIh+7VsLcdkqT/++GNwN+25555rmwqsSTWw2J///Od48MEH42TTgf322w9PP/10FvJlJ1Hi19l7xbKTxxIQaYvKjRx6j6NZEmqpTiqxQkAhYDsCiljaDulgZ6hfHMqt12Wwa1oI5ScSg3REIXsS0Vdj+4dxazkmS/3ee+8JYnkRd+fa9FiTqn+hXNo8++yzxWYq7ta/7bbbcOihhwriu+uu/wenvO7HkqzZSGTXViopcJ7b+iAQS0uqUYkVAgqBgkBAEcuCUIPdQuR5wLFb/BLOz4hc9t10kn5SYJRPagizI0bpVPPuu+/iecZYXnTRoMWnMRZPO2aJm8MjvRuoZsyYIeJeZRxrqtg7y7fGZLnrvp82GHeasAQ/0AqSRScmt5VkNpI77VtrtLmQQ+g0jp/YBpfRQfLW6qFSKwT6I5ALyy4+jBWxLD6dmZBYEUsTIOU1iVkiaJZYGgmfvDz77UJfTi48lkb17PXdxQllqm49GbHsv7Sa6YCQ6Xea5HoizP8n0kZjYmltVSKZtGZt06wuzKTLDrXcTZsGAwszeKk0xYJAriy7WOqvyVmExHKwFGfc5edX9alwsIs82IWzXfkYoWtUTuJ7o/RG5RXbe7vsInm9OSC/z13hNi+F24Xy9OnTMXfuXNvPXbQu31CzO+sIqS+KEQFl18WotVzJrIilKWTZaJINzNa8BaaKMp3IiFhmK5tdHYVd+RgBY1SOIpYagtnaRWo9DKbH0sg6SCy5FC6OaIp7N42+yc17IzvNTakqV4VA7hDI7aQ1d3KrnHOFQBESy1xBkSpfSSoTB4TEY18KzaOZb5xUeYWNQO4JjT7GstCw0BPLwZUt93oY3PoVW+lKH9lpTJHK7PArza8VsTTUa6K3MtHroz/JTd9J5c4zZCiySqAQGIBA7gdQEssXXngBM2fONHUgfL6UxFjK448/XiyFZ3q3tX2y5l4P9sk6FHJS+shOywq/7PArza8LmFjmeqnXikLNeCP1BJSkstCJpVl8C73jMFsPK/pOltYIh3zJkW09cvc9l8L/+Mc/ioOmuSO7UB6Px4P77rtPkF5FLBO1YqZvy0aTuc4/G9nUt9kjYNQvZl+CyqH4EFDE0jadFVsHapYIFXrHYbYe2SraCId8yZFtPXL3fXt7O+i1NHOVYO6kSJ5zRUUFdt5555zfqGNcLyM7Ms7B3hS5nhDnOn970VC5WUVALYVbRWwopC9gYpkKfrs75kRCKMstdI9jrvBJxNduvPPVrMzKbXe6fNVPlVOcCJi1t3zVLtfEL9f55wsnu8spNDvIpn6KXGaOXmk6JBSxFLu9+ZNIJIudWNLUrdYhGcnWG77V/DJvbtl/aaazM5NGSlJKA0H26KocMkWg0OxIyqPvA+1s58W2kpOpXq18Z6XfsZLvYKYtNLseTCyslJ0Mt+JvM0VILK0ozUzaUm7kychlKqPVDzDyu2TeBjsHHTP6ySZNOt0mDqhG9VIdZzaaUN8W8gQlGbmU8hq1C6XZ/ggYkQKr/U6x4Kv6R3s0lcy5ox/HjezLHimyzUURyyyvZMtWAbn73sjFnjhwpPNW6tMW20BjFYdUGlEdZ+5sdSjlXKh2lDixlINZsbX3wbQlM97fUiSWpeicGSw7Suwfkv0/V6sL9tW5CIlloXfMpTTTz8XsKN/6s6s8I4KqP3ZK30ATB2a75LGvE1A55ROBQtZ/slULRSzNWYcZUpnotdZ7osyVUnipFKnMr06KA29FLG2zCipcP2ioDjk5tPkeWO0qTxFL25rKkM7ILnvMFYi5mEzmStZCytcKsaTchW4HZrEtlXqYre9gpysOvAuYWJodyHOlaKsKzBWxTOzoE+ubKYG1Wj+7cB6scu2Sv9DzUfgWtoaGmn6GElFNRi5LaQUrWcsaavZsd++SiJ8Rnkbv7ZYvs/wUsUyJm1UF5qoD1RPWZKQyE2KZK1mNjLA43PhGtSjs91bttrBrU3rSDTX95GrCXaiWkcoRkEk/Xah11Mul+vTstKSIZXb4qa8zRCBTYmnk8bXL82m2Womz+cSYRLs6XqOB2+i92foUarpSr1+h4m5WrlLVT7r+Rv/OrnZuFm+r6UpVP0Y4GI0X6fSmyKURuqnfl6a9FbDHMnNVldaXqWbARkssZjuKfBi2nlSmktuuAceoPkbvi916Sr1+Sj+Fh0A6YpE4MS70626HavsxO16ksr6hilu2rbE0ccsBsbTq2s1WMer7wkQgkRCnIpeFPtAUJrpDXSpeG+lw2DUZGepoZlN/I2+VJJb8W7Z1vd4Ge2Ad7PKzwV59qxAoTAQUsSxMvZSAVMk8rYnkMtlAUwJVV1VQCAwZBIyIWSKxdCYgY/R9roEc7PJzXT+Vv0Ig/wjkgFjmvxKqxGJBIBnZVF4ne7VXegOl8k7aayG5zS3ZipX+d8V+rmuu21eu88+t9lXuCgEioIilsgOFQEkhoAamklJn0VVGEcvsVKbab3b4qa8LAQFFLAtBC0oGhUAJI5DocWxpaUFbWxtGjBiB8vJyw5qn81iGw2G43W7DPFSCwUJAv3knWTx1oREpI3mM3meLc67zz1Y+9b1CwBgBRSyNMVIpFAIKAZsQeOedd3DOOedg2rRpuO666/Dqq69i4cKFqKurw0477WSplPfffx+XX345Hn/8cUvfqcT5RCAx/KXQl8KNiJ3R+2yxzXX+2cqnvlcIGCOQB2KpGoqxGlQKhcDQQOC0007DkUceiR//+Mf49NNP4ff7cfrpp4u/n3/+eVx66aUg+bzggguw1157YebMmfj444+x4447CiIqvZcvvfQS5s6di+7ubjzyyCMDwFNxmcViT2p86K8phUduLDdZfD9LUjH+ucBbEctcoKryVAgoBJIisHLlShxzzDHgEvbYsWMxZ84c3HXXXWhsbMR3332Hnp4ekHz+9Kc/xezZszFjxgy8+OKL+N3vfofp06dj55137s137dq1OOGEE/Dkk08qtIsWAUWkFLHMh/EqYpkPlGUZeSCW+ayOKkshoBAoZASuvvpqnHfeecJDef311wvv5IEHHijiLUkyo9Eoxo0bJwjmiSeeiJtvvhn3338/7rnnHhFLefTRR8Pp1I6sWbVqFU455RQ89thjhVxlJZtCQCGgEBhSCChiOaTUrSqrEBhcBPbdd18RX/mTn/wEDz74IOh13HbbbYW30ufzobm5WXgmuSQ+a9YsHHTQQXj44YfE0jiXwjfccMPe5asVK1YI8vn000/3VkotgQ+uflXpCgGFgEIgB8RSuZyVWSkEFALJESDx+/Of/4y3334bBx98sCCG3CFO7yU9mXPn3olPPvkEZ511Jqqrq3HMMUdj6tRtsPvuu+PQQw+Nx1hqHkt6PV999TXsvffeCm6FQI4QyPVSvRovc6Q4g2xzrdfBqVX2pZrFJX26PBBLCqCu7cte4SoHhUDpIaD3MHIZXC5zs6aLFy/GxRdfhPvuuxdAso7MgVgM6mrH0jOLAqqR2YE2U5ETiaUaLzNF0tp3udarNWkKJ7VZXPJOLPUQ6RuN2n2VG+Mxawi5KV3lqhDIFAEzy9aBgB9lZV5RBNPz6bsjXE1YM8VefWcWgXz2r2q8NKsVlc4uBIzs2+i4sORy5MBjmViQkeB2ATRU81H4DlXNF3u9zRDLPk9lMmLJ3ymPZbHbQWHLn8/+VRHLwraFUpTOyL4LlliWojJUnRQCCgGFgEJAIZAtAmopPFsE1fd2ImBENGVZ2S2F/z8s61z1o4I4lQAAAABJRU5ErkJggg==))"
      ],
      "metadata": {
        "id": "4DwqY15pAOy6"
      }
    },
    {
      "cell_type": "markdown",
      "source": [
        "**1. Field Access**\n",
        "\n",
        "straightly accessing element berdasarkan index\n",
        "\n",
        "**2. Basic Indexing**\n",
        "\n",
        "Accessing element using range (start, stop, step)\n",
        "\n",
        "**3. Advance Indexing**\n",
        "\n",
        "- Integer indexing\n",
        "- Boolean indexing\n"
      ],
      "metadata": {
        "id": "fEKzWdskGRXK"
      }
    },
    {
      "cell_type": "markdown",
      "source": [
        "Field Access and Basic Indexing"
      ],
      "metadata": {
        "id": "wHwiZO49BFyI"
      }
    },
    {
      "cell_type": "code",
      "source": [
        "x = np.arange(10)\n",
        "print(x)\n",
        "y = x[5]\n",
        "print(y)"
      ],
      "metadata": {
        "colab": {
          "base_uri": "https://localhost:8080/"
        },
        "id": "XsX8QtSRBJnC",
        "outputId": "45422747-8809-4072-ce5e-e2b359f41a0b"
      },
      "execution_count": 73,
      "outputs": [
        {
          "output_type": "stream",
          "name": "stdout",
          "text": [
            "[0 1 2 3 4 5 6 7 8 9]\n",
            "5\n"
          ]
        }
      ]
    },
    {
      "cell_type": "code",
      "source": [
        "x = np.arange(10)\n",
        "print(x)\n",
        "x_sliced = slice(2,7,2) #[start, stop, step]\n",
        "print(x[x_sliced])"
      ],
      "metadata": {
        "colab": {
          "base_uri": "https://localhost:8080/"
        },
        "id": "GbrVVG9R_oo_",
        "outputId": "2b8d9f2c-4542-4cf2-bec7-cd1cfcb340f3"
      },
      "execution_count": 74,
      "outputs": [
        {
          "output_type": "stream",
          "name": "stdout",
          "text": [
            "[0 1 2 3 4 5 6 7 8 9]\n",
            "[2 4 6]\n"
          ]
        }
      ]
    },
    {
      "cell_type": "code",
      "source": [
        "a  = np.arange(10)\n",
        "b = a[2:7:1]\n",
        "b"
      ],
      "metadata": {
        "colab": {
          "base_uri": "https://localhost:8080/"
        },
        "id": "yeFbkJLKHP5x",
        "outputId": "f026717b-6d25-41d2-fd90-608bd3fe91b5"
      },
      "execution_count": 75,
      "outputs": [
        {
          "output_type": "execute_result",
          "data": {
            "text/plain": [
              "array([2, 3, 4, 5, 6])"
            ]
          },
          "metadata": {},
          "execution_count": 75
        }
      ]
    },
    {
      "cell_type": "code",
      "source": [
        "a  = np.arange(10)\n",
        "b = a[2:]\n",
        "b"
      ],
      "metadata": {
        "colab": {
          "base_uri": "https://localhost:8080/"
        },
        "id": "r3GW_14eHeeB",
        "outputId": "83fb60b0-6e98-4026-c70c-528c4544e9ce"
      },
      "execution_count": 76,
      "outputs": [
        {
          "output_type": "execute_result",
          "data": {
            "text/plain": [
              "array([2, 3, 4, 5, 6, 7, 8, 9])"
            ]
          },
          "metadata": {},
          "execution_count": 76
        }
      ]
    },
    {
      "cell_type": "markdown",
      "source": [
        "2d Array Indexing"
      ],
      "metadata": {
        "id": "DaChyghZHtZk"
      }
    },
    {
      "cell_type": "code",
      "source": [
        "a  = np.array([[1,2],[3,4],[5,6]])\n",
        "print(a)\n",
        "\n",
        "print(\"\\nslice array dr index x[1:] : \")\n",
        "print(a[1:])"
      ],
      "metadata": {
        "colab": {
          "base_uri": "https://localhost:8080/"
        },
        "id": "0tAaqqvAHwPV",
        "outputId": "1cf8a831-9e85-426c-e0ca-10bbab2c86f9"
      },
      "execution_count": 77,
      "outputs": [
        {
          "output_type": "stream",
          "name": "stdout",
          "text": [
            "[[1 2]\n",
            " [3 4]\n",
            " [5 6]]\n",
            "\n",
            "slice array dr index x[1:] : \n",
            "[[3 4]\n",
            " [5 6]]\n"
          ]
        }
      ]
    },
    {
      "cell_type": "markdown",
      "source": [
        "##**Elipsys slicing method**"
      ],
      "metadata": {
        "id": "qNmbJsz4IXb5"
      }
    },
    {
      "cell_type": "code",
      "source": [
        "a = np.array([[1,2,3],[4,5,6],[7,8,9]])\n",
        "print(a)\n",
        "\n",
        "print(\"\\nitems from first column : \")\n",
        "print(a[...,0])\n",
        "print('\\n')\n",
        "\n",
        "print(\"\\nitems from second column : \")\n",
        "print(a[...,1])\n",
        "print('\\n')\n",
        "\n",
        "print(\"\\nitems from third column : \")\n",
        "print(a[...,2])\n",
        "print('\\n')\n",
        "\n",
        "\n",
        "print(\"\\nitems from third column, second row : \")\n",
        "print(a[1,2])\n",
        "print('\\n')\n"
      ],
      "metadata": {
        "colab": {
          "base_uri": "https://localhost:8080/"
        },
        "id": "vFc2UuwRIeYW",
        "outputId": "f1a6c95a-c859-4249-f5b7-0ddf0500ee3e"
      },
      "execution_count": 78,
      "outputs": [
        {
          "output_type": "stream",
          "name": "stdout",
          "text": [
            "[[1 2 3]\n",
            " [4 5 6]\n",
            " [7 8 9]]\n",
            "\n",
            "items from first column : \n",
            "[1 4 7]\n",
            "\n",
            "\n",
            "\n",
            "items from second column : \n",
            "[2 5 8]\n",
            "\n",
            "\n",
            "\n",
            "items from third column : \n",
            "[3 6 9]\n",
            "\n",
            "\n",
            "\n",
            "items from third column, second row : \n",
            "6\n",
            "\n",
            "\n"
          ]
        }
      ]
    },
    {
      "cell_type": "markdown",
      "source": [
        "#**Task #3**"
      ],
      "metadata": {
        "id": "mXCjdjuaJuVR"
      }
    },
    {
      "cell_type": "markdown",
      "source": [
        " create 2d array, shape = (3,4)\n",
        "\n",
        " indexing for taking item from second row to last row\n",
        "\n",
        " indexing for taking item from 1st and 2nd column"
      ],
      "metadata": {
        "id": "suz4zbSQJxT5"
      }
    },
    {
      "cell_type": "code",
      "source": [
        "x = np.array([[1,2,3,4],[5,6,7,8],[9,10,11,12]])\n",
        "print(x)\n",
        "\n",
        "print(\"\\nitems from second row to last row : \" )\n",
        "print(x[1:])\n",
        "\n",
        "print(\"\\nitems from 1st and 2nd column : \")\n",
        "print(x[...,0:2])"
      ],
      "metadata": {
        "colab": {
          "base_uri": "https://localhost:8080/"
        },
        "id": "uClB_Cc2KAQ1",
        "outputId": "bfe36c3b-f955-4308-8bc0-8ab1a5932723"
      },
      "execution_count": 79,
      "outputs": [
        {
          "output_type": "stream",
          "name": "stdout",
          "text": [
            "[[ 1  2  3  4]\n",
            " [ 5  6  7  8]\n",
            " [ 9 10 11 12]]\n",
            "\n",
            "items from second row to last row : \n",
            "[[ 5  6  7  8]\n",
            " [ 9 10 11 12]]\n",
            "\n",
            "items from 1st and 2nd column : \n",
            "[[ 1  2]\n",
            " [ 5  6]\n",
            " [ 9 10]]\n"
          ]
        }
      ]
    },
    {
      "cell_type": "markdown",
      "source": [
        "##**Advance Indexing**"
      ],
      "metadata": {
        "id": "vU1dSq5aMQbl"
      }
    },
    {
      "cell_type": "markdown",
      "source": [
        "**Integer Indexing**"
      ],
      "metadata": {
        "id": "cE5lb0BXMb_h"
      }
    },
    {
      "cell_type": "code",
      "source": [
        "x = np.array([[1,2],\n",
        "              [2,3],\n",
        "              [4,5]])\n",
        "print(x)\n",
        "\n",
        "print(\"\\ntaking the element of [0,0] , [1,1] , [2,0] : \")\n",
        "y = x[[0,1,2],[0,1,0]]\n",
        "print(y)"
      ],
      "metadata": {
        "colab": {
          "base_uri": "https://localhost:8080/"
        },
        "id": "y_6H6G6FMeu3",
        "outputId": "3e59fcdb-4906-44cf-cc8e-ff494aab2dc6"
      },
      "execution_count": 80,
      "outputs": [
        {
          "output_type": "stream",
          "name": "stdout",
          "text": [
            "[[1 2]\n",
            " [2 3]\n",
            " [4 5]]\n",
            "\n",
            "taking the element of [0,0] , [1,1] , [2,0] : \n",
            "[1 3 4]\n"
          ]
        }
      ]
    },
    {
      "cell_type": "code",
      "source": [
        "#1st example\n",
        "x = np.array([[1,2,3],\n",
        "              [4,5,6],\n",
        "              [7,8,9]])\n",
        "print(x)\n",
        "\n",
        "print(\"\\ninteger indexing : \")\n",
        "row = np.array([[0,0],[2,2]]) #we r taking the first and last row\n",
        "cols = np.array([[0,2],[0,2]]) #from the first and last row, we r taking the\n",
        "                                #first (0) and third (2) columns\n",
        "y = x[row,cols]\n",
        "print(y)"
      ],
      "metadata": {
        "colab": {
          "base_uri": "https://localhost:8080/"
        },
        "id": "10slvoyiNJNS",
        "outputId": "3c0f5a59-c939-461e-b9d6-2fa97bb9bf18"
      },
      "execution_count": 81,
      "outputs": [
        {
          "output_type": "stream",
          "name": "stdout",
          "text": [
            "[[1 2 3]\n",
            " [4 5 6]\n",
            " [7 8 9]]\n",
            "\n",
            "integer indexing : \n",
            "[[1 3]\n",
            " [7 9]]\n"
          ]
        }
      ]
    },
    {
      "cell_type": "code",
      "source": [
        "#2nd exammple\n",
        "\n",
        "x = np.array([[0,1,2],\n",
        "              [3,4,5],\n",
        "              [6,7,8]])\n",
        "print(x)\n",
        "\n",
        "print(\"\\ninteger indexing : \")\n",
        "#using slicing\n",
        "y = x[1:3,1:3] # read it as take the first unt\n",
        "\n",
        "#using advance indexing\n",
        "y = x[1:3,[1,2]]\n",
        "print(y)"
      ],
      "metadata": {
        "colab": {
          "base_uri": "https://localhost:8080/"
        },
        "id": "u95rWYNgP3ww",
        "outputId": "589f3d09-1bd3-4b2d-a822-1694b134172b"
      },
      "execution_count": 82,
      "outputs": [
        {
          "output_type": "stream",
          "name": "stdout",
          "text": [
            "[[0 1 2]\n",
            " [3 4 5]\n",
            " [6 7 8]]\n",
            "\n",
            "integer indexing : \n",
            "[[4 5]\n",
            " [7 8]]\n"
          ]
        }
      ]
    },
    {
      "cell_type": "markdown",
      "source": [
        "##**Boolean indexing**"
      ],
      "metadata": {
        "id": "pMZuB8nISd2v"
      }
    },
    {
      "cell_type": "code",
      "source": [
        "x = np.array([[0,1,2],\n",
        "              [3,4,5],\n",
        "              [6,7,8]])\n",
        "print(x)\n",
        "\n",
        "print('\\ngreater than 5 element : ')\n",
        "print(x[x>5])"
      ],
      "metadata": {
        "colab": {
          "base_uri": "https://localhost:8080/"
        },
        "id": "Bs1mJexGSggK",
        "outputId": "792c4581-fe8e-4e1a-dfb7-b42739f66d24"
      },
      "execution_count": 83,
      "outputs": [
        {
          "output_type": "stream",
          "name": "stdout",
          "text": [
            "[[0 1 2]\n",
            " [3 4 5]\n",
            " [6 7 8]]\n",
            "\n",
            "greater than 5 element : \n",
            "[6 7 8]\n"
          ]
        }
      ]
    },
    {
      "cell_type": "code",
      "source": [
        "x = np.array([np.nan, 1, 2, np.nan, 3, 4, 5])\n",
        "print(x)\n",
        "\n",
        "print(\"\\nnan value : \")\n",
        "print(x[np.isnan(x)])\n",
        "\n",
        "print(\"\\nnon nan value : \")\n",
        "print(x[~np.isnan(x)])"
      ],
      "metadata": {
        "colab": {
          "base_uri": "https://localhost:8080/"
        },
        "id": "vQKJl-i3PrQg",
        "outputId": "13dd32c7-b137-4bdd-9f5a-74148bd31d5f"
      },
      "execution_count": 84,
      "outputs": [
        {
          "output_type": "stream",
          "name": "stdout",
          "text": [
            "[nan  1.  2. nan  3.  4.  5.]\n",
            "\n",
            "nan value : \n",
            "[nan nan]\n",
            "\n",
            "non nan value : \n",
            "[1. 2. 3. 4. 5.]\n"
          ]
        }
      ]
    },
    {
      "cell_type": "markdown",
      "source": [
        "#**Task #4**"
      ],
      "metadata": {
        "id": "z3TYTP9tTeLY"
      }
    },
    {
      "cell_type": "markdown",
      "source": [
        "1. create 2d array, shape(3,4) and the value is complex num, nan and integer\n",
        "\n",
        "2. take the item using boolean for each datatype"
      ],
      "metadata": {
        "id": "AS29B6mMTkno"
      }
    },
    {
      "cell_type": "code",
      "source": [
        "x = np.array([[1, 2, 3, 2+6j],[np.nan, np.nan, 4, 6],[5+6j, np.nan, 2, 4]])\n",
        "print(x)\n",
        "\n",
        "print(\"\\ncomplex value :\")\n",
        "print(x[np.iscomplex(x)])\n",
        "\n",
        "print(\"\\nnan value : \")\n",
        "print(x[np.isnan(x)])\n",
        "\n",
        "print(\"\\ninteger value : \")\n",
        "print(x[~np.isnan(x) & ~np.iscomplex(x)])"
      ],
      "metadata": {
        "colab": {
          "base_uri": "https://localhost:8080/"
        },
        "id": "dgS_4QQJTwe6",
        "outputId": "0ce98b39-9761-4b6b-a6b0-3c5ba84a8f35"
      },
      "execution_count": 85,
      "outputs": [
        {
          "output_type": "stream",
          "name": "stdout",
          "text": [
            "[[ 1.+0.j  2.+0.j  3.+0.j  2.+6.j]\n",
            " [nan+0.j nan+0.j  4.+0.j  6.+0.j]\n",
            " [ 5.+6.j nan+0.j  2.+0.j  4.+0.j]]\n",
            "\n",
            "complex value :\n",
            "[2.+6.j 5.+6.j]\n",
            "\n",
            "nan value : \n",
            "[nan+0.j nan+0.j nan+0.j]\n",
            "\n",
            "integer value : \n",
            "[1.+0.j 2.+0.j 3.+0.j 4.+0.j 6.+0.j 2.+0.j 4.+0.j]\n"
          ]
        }
      ]
    },
    {
      "cell_type": "markdown",
      "source": [
        "#**Array Manipulation**"
      ],
      "metadata": {
        "id": "YkNZhftDXzGC"
      }
    },
    {
      "cell_type": "markdown",
      "source": [
        "**1. Reshaping**\n",
        "\n",
        "- reshape (changing array shape depends on the value of element\n",
        "\n",
        "- flatten (reshaping array into 1 dimension array)\n",
        "\n",
        "-ravel (return array yang berdekatan)\n",
        "\n",
        "**2. Transpose Operation**\n",
        "\n",
        "![image.png](data:image/png;base64,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)\n",
        "\n",
        "**3. Joining Array**\n",
        "- Concatenate\n",
        "- Stack\n",
        "- Hstack (horizontal stack) depending on column\n",
        "- Vstack (vertical stack) depending on row\n",
        "\n",
        "**4. Split array**\n",
        "- Split\n",
        "- Hsplit\n",
        "- Vsplit"
      ],
      "metadata": {
        "id": "xdK29KjbYcsu"
      }
    },
    {
      "cell_type": "markdown",
      "source": [
        "##**Array Reshaping**"
      ],
      "metadata": {
        "id": "nrZ4CRjNa81d"
      }
    },
    {
      "cell_type": "code",
      "source": [
        "n = np.arange(10)\n",
        "print(\"original array : \")\n",
        "print(n)\n",
        "\n",
        "m = n.reshape(5,2)\n",
        "print(\"\\nreshaped array : \")\n",
        "print(m)"
      ],
      "metadata": {
        "colab": {
          "base_uri": "https://localhost:8080/"
        },
        "id": "c1LCe4JrbAjK",
        "outputId": "f6828d11-9d7f-4cf3-a90b-a30accc26009"
      },
      "execution_count": 86,
      "outputs": [
        {
          "output_type": "stream",
          "name": "stdout",
          "text": [
            "original array : \n",
            "[0 1 2 3 4 5 6 7 8 9]\n",
            "\n",
            "reshaped array : \n",
            "[[0 1]\n",
            " [2 3]\n",
            " [4 5]\n",
            " [6 7]\n",
            " [8 9]]\n"
          ]
        }
      ]
    },
    {
      "cell_type": "markdown",
      "source": [
        "##**Array Flatten**"
      ],
      "metadata": {
        "id": "7WJWHsODblg5"
      }
    },
    {
      "cell_type": "markdown",
      "source": [
        " **Flatten array based on row :**"
      ],
      "metadata": {
        "id": "sbcsg-S5cRNn"
      }
    },
    {
      "cell_type": "code",
      "source": [
        "x = np.array([[0,1,2],\n",
        "              [3,4,5]])\n",
        "print(\"original array : \")\n",
        "print(x)\n",
        "\n",
        "y = x.flatten()\n",
        "print(\"\\nflatten array : \")\n",
        "print(y)"
      ],
      "metadata": {
        "colab": {
          "base_uri": "https://localhost:8080/"
        },
        "id": "coy8wL1ibtKu",
        "outputId": "7ba53dc0-84ac-4e1d-afd4-9f2cf6ed4531"
      },
      "execution_count": 87,
      "outputs": [
        {
          "output_type": "stream",
          "name": "stdout",
          "text": [
            "original array : \n",
            "[[0 1 2]\n",
            " [3 4 5]]\n",
            "\n",
            "flatten array : \n",
            "[0 1 2 3 4 5]\n"
          ]
        }
      ]
    },
    {
      "cell_type": "markdown",
      "source": [
        "**Flatten array based on column**"
      ],
      "metadata": {
        "id": "oUrp-mq1cYVD"
      }
    },
    {
      "cell_type": "code",
      "source": [
        "x = np.array([[0,1,2],\n",
        "              [3,4,5]])\n",
        "print(\"original array : \")\n",
        "print(x)\n",
        "\n",
        "y = x.flatten(order = 'F')\n",
        "print(\"\\nflatten array : \")\n",
        "print(y)"
      ],
      "metadata": {
        "colab": {
          "base_uri": "https://localhost:8080/"
        },
        "id": "fhCytiOWca17",
        "outputId": "05b1141b-b090-4dcd-8715-059cbf38873a"
      },
      "execution_count": 88,
      "outputs": [
        {
          "output_type": "stream",
          "name": "stdout",
          "text": [
            "original array : \n",
            "[[0 1 2]\n",
            " [3 4 5]]\n",
            "\n",
            "flatten array : \n",
            "[0 3 1 4 2 5]\n"
          ]
        }
      ]
    },
    {
      "cell_type": "markdown",
      "source": [
        "##**Array Ravel**\n",
        "\n",
        "The difference between ravel and flatten =\n",
        "\n",
        "flatten = copying the value, and created the new array\n",
        "\n",
        "ravel = used when we just want to check the flatten array"
      ],
      "metadata": {
        "id": "WuhblSOUbqxY"
      }
    },
    {
      "cell_type": "code",
      "source": [
        "x = np.array([[0,1,2],\n",
        "              [3,4,5]])\n",
        "print(\"original array : \")\n",
        "print(x)\n",
        "\n",
        "y = x.ravel(order = 'F')\n",
        "print(\"\\nravel array : \")\n",
        "print(y)"
      ],
      "metadata": {
        "colab": {
          "base_uri": "https://localhost:8080/"
        },
        "id": "uMycwLafdElg",
        "outputId": "961c832f-d818-45a2-f8c5-f6ab08bdf4bf"
      },
      "execution_count": 89,
      "outputs": [
        {
          "output_type": "stream",
          "name": "stdout",
          "text": [
            "original array : \n",
            "[[0 1 2]\n",
            " [3 4 5]]\n",
            "\n",
            "ravel array : \n",
            "[0 3 1 4 2 5]\n"
          ]
        }
      ]
    },
    {
      "cell_type": "markdown",
      "source": [],
      "metadata": {
        "id": "cHFGzSE3dR8S"
      }
    },
    {
      "cell_type": "markdown",
      "source": [
        "##**Array Transpose**"
      ],
      "metadata": {
        "id": "7wjAnKWYdO-t"
      }
    },
    {
      "cell_type": "code",
      "source": [
        "x = np.array([[0,1,2],\n",
        "              [3,4,5],\n",
        "              [6,7,8]])\n",
        "print(\"original array : \")\n",
        "print(x)\n",
        "\n",
        "y = np.transpose(x)\n",
        "print(\"\\ntransposed array : \")\n",
        "print(y)"
      ],
      "metadata": {
        "colab": {
          "base_uri": "https://localhost:8080/"
        },
        "id": "AnyqxjGBdRih",
        "outputId": "e58ea145-6daf-4fb8-b6d7-0bcf2077c2ec"
      },
      "execution_count": 90,
      "outputs": [
        {
          "output_type": "stream",
          "name": "stdout",
          "text": [
            "original array : \n",
            "[[0 1 2]\n",
            " [3 4 5]\n",
            " [6 7 8]]\n",
            "\n",
            "transposed array : \n",
            "[[0 3 6]\n",
            " [1 4 7]\n",
            " [2 5 8]]\n"
          ]
        }
      ]
    },
    {
      "cell_type": "markdown",
      "source": [
        "##**Joining Array**"
      ],
      "metadata": {
        "id": "kL3X8uacdrOw"
      }
    },
    {
      "cell_type": "markdown",
      "source": [
        "###**Concatenate**"
      ],
      "metadata": {
        "id": "PcqDUo9beU2q"
      }
    },
    {
      "cell_type": "code",
      "source": [
        "a = np.array([[1,2],[3,4]])\n",
        "b = np.array([[5,6],[7,8]])\n",
        "\n",
        "print(\"first array : \")\n",
        "print(a)\n",
        "\n",
        "print(\"\\nsecond array : \")\n",
        "print(b)\n",
        "\n",
        "print(\"\\njoined array (0): \")\n",
        "print(np.concatenate((a,b)))\n",
        "\n",
        "print(\"\\njoined array (1): \")\n",
        "print(np.concatenate((a,b), axis = 1))\n",
        "\n"
      ],
      "metadata": {
        "id": "1QRGNajoZmZc",
        "colab": {
          "base_uri": "https://localhost:8080/"
        },
        "outputId": "83765a79-0896-45fc-8ffc-c5933de7af2e"
      },
      "execution_count": 91,
      "outputs": [
        {
          "output_type": "stream",
          "name": "stdout",
          "text": [
            "first array : \n",
            "[[1 2]\n",
            " [3 4]]\n",
            "\n",
            "second array : \n",
            "[[5 6]\n",
            " [7 8]]\n",
            "\n",
            "joined array (0): \n",
            "[[1 2]\n",
            " [3 4]\n",
            " [5 6]\n",
            " [7 8]]\n",
            "\n",
            "joined array (1): \n",
            "[[1 2 5 6]\n",
            " [3 4 7 8]]\n"
          ]
        }
      ]
    },
    {
      "cell_type": "markdown",
      "source": [
        "###**Stack**"
      ],
      "metadata": {
        "id": "sABA290Wg12S"
      }
    },
    {
      "cell_type": "code",
      "source": [
        "a = np.array([[1,2],[3,4]])\n",
        "b = np.array([[5,6],[7,8]])\n",
        "\n",
        "print(\"first array : \")\n",
        "print(a)\n",
        "\n",
        "print(\"\\nsecond array : \")\n",
        "print(b)\n",
        "\n",
        "print(\"\\nstacked array (0): \")\n",
        "print(np.stack((a,b),0))\n",
        "\n",
        "print(\"\\nstacked array (1): \")\n",
        "print(np.concatenate((a,b), 1))"
      ],
      "metadata": {
        "colab": {
          "base_uri": "https://localhost:8080/"
        },
        "id": "QpCkmVgUg3cj",
        "outputId": "72953449-08ad-4ba0-ea2f-209790617e10"
      },
      "execution_count": 92,
      "outputs": [
        {
          "output_type": "stream",
          "name": "stdout",
          "text": [
            "first array : \n",
            "[[1 2]\n",
            " [3 4]]\n",
            "\n",
            "second array : \n",
            "[[5 6]\n",
            " [7 8]]\n",
            "\n",
            "stacked array (0): \n",
            "[[[1 2]\n",
            "  [3 4]]\n",
            "\n",
            " [[5 6]\n",
            "  [7 8]]]\n",
            "\n",
            "stacked array (1): \n",
            "[[1 2 5 6]\n",
            " [3 4 7 8]]\n"
          ]
        }
      ]
    },
    {
      "cell_type": "markdown",
      "source": [
        "####**HStack**"
      ],
      "metadata": {
        "id": "PWJ5ceVEhhCB"
      }
    },
    {
      "cell_type": "code",
      "source": [
        "a = np.array([[1,2],[3,4]])\n",
        "b = np.array([[5,6],[7,8]])\n",
        "\n",
        "print(\"first array : \")\n",
        "print(a)\n",
        "\n",
        "print(\"\\nsecond array : \")\n",
        "print(b)\n",
        "\n",
        "print(\"\\nstacked array (0): \")\n",
        "print(np.hstack((a,b)))"
      ],
      "metadata": {
        "colab": {
          "base_uri": "https://localhost:8080/"
        },
        "id": "waOXdV2mhkBL",
        "outputId": "7ba76643-f91f-4c21-d5c0-09b42c74db76"
      },
      "execution_count": 93,
      "outputs": [
        {
          "output_type": "stream",
          "name": "stdout",
          "text": [
            "first array : \n",
            "[[1 2]\n",
            " [3 4]]\n",
            "\n",
            "second array : \n",
            "[[5 6]\n",
            " [7 8]]\n",
            "\n",
            "stacked array (0): \n",
            "[[1 2 5 6]\n",
            " [3 4 7 8]]\n"
          ]
        }
      ]
    },
    {
      "cell_type": "markdown",
      "source": [
        "####**Vstack**"
      ],
      "metadata": {
        "id": "wms5Zs_Chxkr"
      }
    },
    {
      "cell_type": "code",
      "source": [
        "a = np.array([[1,2],[3,4]])\n",
        "b = np.array([[5,6],[7,8]])\n",
        "\n",
        "print(\"first array : \")\n",
        "print(a)\n",
        "\n",
        "print(\"\\nsecond array : \")\n",
        "print(b)\n",
        "\n",
        "print(\"\\nstacked array (0): \")\n",
        "print(np.vstack((a,b)))"
      ],
      "metadata": {
        "colab": {
          "base_uri": "https://localhost:8080/"
        },
        "id": "i_3F3eIlhw4w",
        "outputId": "1eed7900-abad-49dc-eb39-792de5e7e848"
      },
      "execution_count": 94,
      "outputs": [
        {
          "output_type": "stream",
          "name": "stdout",
          "text": [
            "first array : \n",
            "[[1 2]\n",
            " [3 4]]\n",
            "\n",
            "second array : \n",
            "[[5 6]\n",
            " [7 8]]\n",
            "\n",
            "stacked array (0): \n",
            "[[1 2]\n",
            " [3 4]\n",
            " [5 6]\n",
            " [7 8]]\n"
          ]
        }
      ]
    },
    {
      "cell_type": "markdown",
      "source": [
        "##**Splitting Array**"
      ],
      "metadata": {
        "id": "aGmQEkpzh4yn"
      }
    },
    {
      "cell_type": "markdown",
      "source": [
        "##**Split**"
      ],
      "metadata": {
        "id": "2enkQQYeiKr2"
      }
    },
    {
      "cell_type": "code",
      "source": [
        "a = np.arange(9)\n",
        "b = np.split(a,3)\n",
        "\n",
        "print(\"Original array : \")\n",
        "print(a)\n",
        "\n",
        "print(\"\\nsplitted array : \")\n",
        "print(b)"
      ],
      "metadata": {
        "colab": {
          "base_uri": "https://localhost:8080/"
        },
        "id": "hoeztZKhiMUM",
        "outputId": "74ef3e22-03c1-4e73-c57f-7f9416909083"
      },
      "execution_count": 95,
      "outputs": [
        {
          "output_type": "stream",
          "name": "stdout",
          "text": [
            "Original array : \n",
            "[0 1 2 3 4 5 6 7 8]\n",
            "\n",
            "splitted array : \n",
            "[array([0, 1, 2]), array([3, 4, 5]), array([6, 7, 8])]\n"
          ]
        }
      ]
    },
    {
      "cell_type": "markdown",
      "source": [
        "####**Hsplit**"
      ],
      "metadata": {
        "id": "WPPu6eftinT8"
      }
    },
    {
      "cell_type": "code",
      "source": [
        "a = np.arange(16).reshape(4,4)\n",
        "b = np.hsplit(a,2)\n",
        "\n",
        "print(\"Original array : \")\n",
        "print(a)\n",
        "\n",
        "print(\"\\nsplitted array : \")\n",
        "print(b)"
      ],
      "metadata": {
        "colab": {
          "base_uri": "https://localhost:8080/"
        },
        "id": "yVXv9Vzkipf0",
        "outputId": "3f3288d8-b474-4935-d2d8-f4c46e24b59d"
      },
      "execution_count": 96,
      "outputs": [
        {
          "output_type": "stream",
          "name": "stdout",
          "text": [
            "Original array : \n",
            "[[ 0  1  2  3]\n",
            " [ 4  5  6  7]\n",
            " [ 8  9 10 11]\n",
            " [12 13 14 15]]\n",
            "\n",
            "splitted array : \n",
            "[array([[ 0,  1],\n",
            "       [ 4,  5],\n",
            "       [ 8,  9],\n",
            "       [12, 13]]), array([[ 2,  3],\n",
            "       [ 6,  7],\n",
            "       [10, 11],\n",
            "       [14, 15]])]\n"
          ]
        }
      ]
    },
    {
      "cell_type": "markdown",
      "source": [
        "####**Vsplit**"
      ],
      "metadata": {
        "id": "p16KAn91jW49"
      }
    },
    {
      "cell_type": "code",
      "source": [
        "a = np.arange(16).reshape(4,4)\n",
        "b = np.vsplit(a,2)\n",
        "\n",
        "print(\"Original array : \")\n",
        "print(a)\n",
        "\n",
        "print(\"\\nsplitted array : \")\n",
        "print(b)"
      ],
      "metadata": {
        "colab": {
          "base_uri": "https://localhost:8080/"
        },
        "id": "jP6anTMujYz0",
        "outputId": "54f36150-5823-48a3-f5a8-5b643ae305ca"
      },
      "execution_count": 97,
      "outputs": [
        {
          "output_type": "stream",
          "name": "stdout",
          "text": [
            "Original array : \n",
            "[[ 0  1  2  3]\n",
            " [ 4  5  6  7]\n",
            " [ 8  9 10 11]\n",
            " [12 13 14 15]]\n",
            "\n",
            "splitted array : \n",
            "[array([[0, 1, 2, 3],\n",
            "       [4, 5, 6, 7]]), array([[ 8,  9, 10, 11],\n",
            "       [12, 13, 14, 15]])]\n"
          ]
        }
      ]
    },
    {
      "cell_type": "markdown",
      "source": [
        "#**Array Broadcasting**"
      ],
      "metadata": {
        "id": "2KE6RXRFlWBX"
      }
    },
    {
      "cell_type": "markdown",
      "source": [
        "![image.png](data:image/png;base64,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)"
      ],
      "metadata": {
        "id": "fGDcYf87mEv7"
      }
    },
    {
      "cell_type": "code",
      "source": [
        "a = np.array([1, 2, 3, 4])\n",
        "b = np.array([5, 6, 7, 8])\n",
        "c = a + b\n",
        "print(c)"
      ],
      "metadata": {
        "colab": {
          "base_uri": "https://localhost:8080/"
        },
        "id": "rag7U2dCmGlG",
        "outputId": "a72d9515-4918-48ff-b98d-b105392a9b58"
      },
      "execution_count": 98,
      "outputs": [
        {
          "output_type": "stream",
          "name": "stdout",
          "text": [
            "[ 6  8 10 12]\n"
          ]
        }
      ]
    },
    {
      "cell_type": "code",
      "source": [
        "a = np.array([[1, 2, 3, 4],\n",
        "              [5, 6, 7, 8],\n",
        "              [9, 10, 11, 12],\n",
        "              [13, 14, 15, 16]\n",
        "              ])\n",
        "b = np.array([1, 2, 3, 4])\n",
        "c = a + b\n",
        "\n",
        "print(\"first array : \")\n",
        "print(a)\n",
        "\n",
        "print(\"\\nsecond array : \")\n",
        "print(b)\n",
        "\n",
        "print(\"\\nfirst array + second array = \")\n",
        "print(c)"
      ],
      "metadata": {
        "colab": {
          "base_uri": "https://localhost:8080/"
        },
        "id": "FF-JifBqmX0t",
        "outputId": "6cf2178e-d861-4d98-80ef-742cd86c3512"
      },
      "execution_count": 99,
      "outputs": [
        {
          "output_type": "stream",
          "name": "stdout",
          "text": [
            "first array : \n",
            "[[ 1  2  3  4]\n",
            " [ 5  6  7  8]\n",
            " [ 9 10 11 12]\n",
            " [13 14 15 16]]\n",
            "\n",
            "second array : \n",
            "[1 2 3 4]\n",
            "\n",
            "first array + second array = \n",
            "[[ 2  4  6  8]\n",
            " [ 6  8 10 12]\n",
            " [10 12 14 16]\n",
            " [14 16 18 20]]\n"
          ]
        }
      ]
    },
    {
      "cell_type": "markdown",
      "source": [
        "#**Task #5**"
      ],
      "metadata": {
        "id": "dcqz-LyvnYLD"
      }
    },
    {
      "cell_type": "code",
      "source": [
        "a = np.array([[1, 2, 3, 4],\n",
        "              [5, 6, 7, 8],\n",
        "              [9, 10, 11, 12]\n",
        "              ])\n",
        "b = np.array([1, 2, 3, 4])\n",
        "c = a * b\n",
        "d = a - b\n",
        "\n",
        "print(\"first array : \")\n",
        "print(a)\n",
        "\n",
        "print(\"\\nsecond array : \")\n",
        "print(b)\n",
        "\n",
        "print(\"\\nfirst array * second array = \")\n",
        "print(c)\n",
        "\n",
        "print(\"\\nfirst array - second array = \")\n",
        "print(d)"
      ],
      "metadata": {
        "colab": {
          "base_uri": "https://localhost:8080/"
        },
        "id": "MPWlWJVglYlB",
        "outputId": "80182121-53a5-4832-98b1-76b6bcc10bc3"
      },
      "execution_count": 100,
      "outputs": [
        {
          "output_type": "stream",
          "name": "stdout",
          "text": [
            "first array : \n",
            "[[ 1  2  3  4]\n",
            " [ 5  6  7  8]\n",
            " [ 9 10 11 12]]\n",
            "\n",
            "second array : \n",
            "[1 2 3 4]\n",
            "\n",
            "first array * second array = \n",
            "[[ 1  4  9 16]\n",
            " [ 5 12 21 32]\n",
            " [ 9 20 33 48]]\n",
            "\n",
            "first array - second array = \n",
            "[[0 0 0 0]\n",
            " [4 4 4 4]\n",
            " [8 8 8 8]]\n"
          ]
        }
      ]
    },
    {
      "cell_type": "markdown",
      "source": [
        "#**Array Iteration**"
      ],
      "metadata": {
        "id": "yP5vFbpAnyMK"
      }
    },
    {
      "cell_type": "code",
      "source": [
        "a = np.arange(2,22,2)\n",
        "b = a.reshape(2,5)\n",
        "\n",
        "print(\"orginal array : \")\n",
        "print(b)\n",
        "\n",
        "print(\"\\nmodified array : \")\n",
        "for x in np.nditer(b):\n",
        "  print(x, end = \" \")"
      ],
      "metadata": {
        "id": "1VjZy70lZNz2",
        "colab": {
          "base_uri": "https://localhost:8080/"
        },
        "outputId": "81bdd408-01b6-4f28-c189-6a3c085a4eac"
      },
      "execution_count": 101,
      "outputs": [
        {
          "output_type": "stream",
          "name": "stdout",
          "text": [
            "orginal array : \n",
            "[[ 2  4  6  8 10]\n",
            " [12 14 16 18 20]]\n",
            "\n",
            "modified array : \n",
            "2 4 6 8 10 12 14 16 18 20 "
          ]
        }
      ]
    },
    {
      "cell_type": "markdown",
      "source": [
        "##**Iteration Order**"
      ],
      "metadata": {
        "id": "ggZoLXVFsbIW"
      }
    },
    {
      "cell_type": "code",
      "source": [
        "a = np.arange(2,22,2)\n",
        "b = a.reshape(2,5)\n",
        "c = b.T\n",
        "\n",
        "print(\"orginal array : \")\n",
        "print(b)\n",
        "\n",
        "print(\"\\ntransposed array : \")\n",
        "print(c)\n",
        "\n",
        "print(\"\\nc style ordered : \")\n",
        "c = b.copy(order = 'C')\n",
        "print(c)\n",
        "for x in np.nditer(c):\n",
        "  print(x, end = \" \")\n",
        "print(\"\\n\")\n",
        "\n",
        "print(\"\\nf style ordered : \")\n",
        "c = b.copy(order = 'F')\n",
        "print(c)\n",
        "for x in np.nditer(c):\n",
        "  print(x, end = \" \")"
      ],
      "metadata": {
        "colab": {
          "base_uri": "https://localhost:8080/"
        },
        "id": "I5Z3vJc5sagg",
        "outputId": "49e3254f-67d2-4443-edfd-23bcf7385b91"
      },
      "execution_count": 102,
      "outputs": [
        {
          "output_type": "stream",
          "name": "stdout",
          "text": [
            "orginal array : \n",
            "[[ 2  4  6  8 10]\n",
            " [12 14 16 18 20]]\n",
            "\n",
            "transposed array : \n",
            "[[ 2 12]\n",
            " [ 4 14]\n",
            " [ 6 16]\n",
            " [ 8 18]\n",
            " [10 20]]\n",
            "\n",
            "c style ordered : \n",
            "[[ 2  4  6  8 10]\n",
            " [12 14 16 18 20]]\n",
            "2 4 6 8 10 12 14 16 18 20 \n",
            "\n",
            "\n",
            "f style ordered : \n",
            "[[ 2  4  6  8 10]\n",
            " [12 14 16 18 20]]\n",
            "2 12 4 14 6 16 8 18 10 20 "
          ]
        }
      ]
    },
    {
      "cell_type": "markdown",
      "source": [
        "##**Array elements modification**"
      ],
      "metadata": {
        "id": "U8iP_E6Gv8z0"
      }
    },
    {
      "cell_type": "code",
      "source": [
        "a = np.arange(2,22,2)\n",
        "b = a.reshape(2,5)\n",
        "print(\"original array : \")\n",
        "print(b)\n",
        "print('\\n')\n",
        "\n",
        "for x in np.nditer(b, op_flags = ['readwrite']):\n",
        "  x[...] = 2*x\n",
        "\n",
        "print(\"modified array : \")\n",
        "print(b)"
      ],
      "metadata": {
        "colab": {
          "base_uri": "https://localhost:8080/"
        },
        "id": "z-UxvKOqwKct",
        "outputId": "d970bc28-d557-42b2-b694-54eafe4c826b"
      },
      "execution_count": 103,
      "outputs": [
        {
          "output_type": "stream",
          "name": "stdout",
          "text": [
            "original array : \n",
            "[[ 2  4  6  8 10]\n",
            " [12 14 16 18 20]]\n",
            "\n",
            "\n",
            "modified array : \n",
            "[[ 4  8 12 16 20]\n",
            " [24 28 32 36 40]]\n"
          ]
        }
      ]
    },
    {
      "cell_type": "markdown",
      "source": [
        "##**External Loop**\n",
        "\n"
      ],
      "metadata": {
        "id": "NZWUnSaFxGJD"
      }
    },
    {
      "cell_type": "code",
      "source": [
        "a = np.arange(2,60,5)\n",
        "b = a.reshape(3,4)\n",
        "\n",
        "print(\"original array : \")\n",
        "print(b)\n",
        "\n",
        "print(\"\\nmodified array : \")\n",
        "for x in np.nditer(a, flags = ['external_loop'], order = 'F'):\n",
        "  print(x, end=\" \")\n",
        "\n",
        "\n",
        "print(\"\\nmodified array : \")\n",
        "for x in np.nditer(a, flags = ['external_loop'], order = 'C'):\n",
        "  print(x, end=\" \")"
      ],
      "metadata": {
        "colab": {
          "base_uri": "https://localhost:8080/"
        },
        "id": "eHlYd-rpyyIZ",
        "outputId": "3f9bfad2-e5f7-4d5a-97e0-daac7bde70d9"
      },
      "execution_count": 111,
      "outputs": [
        {
          "output_type": "stream",
          "name": "stdout",
          "text": [
            "original array : \n",
            "[[ 2  7 12 17]\n",
            " [22 27 32 37]\n",
            " [42 47 52 57]]\n",
            "\n",
            "modified array : \n",
            "[ 2  7 12 17 22 27 32 37 42 47 52 57] \n",
            "modified array : \n",
            "[ 2  7 12 17 22 27 32 37 42 47 52 57] "
          ]
        }
      ]
    },
    {
      "cell_type": "code",
      "source": [],
      "metadata": {
        "id": "BQ_VnRbf6SqQ"
      },
      "execution_count": null,
      "outputs": []
    }
  ]
}